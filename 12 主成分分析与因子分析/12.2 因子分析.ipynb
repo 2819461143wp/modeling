{
 "cells": [
  {
   "cell_type": "markdown",
   "metadata": {},
   "source": [
    "---\n",
    "### 12.2.1 因子分析的数学理论\n",
    "#### 1. 因子分析模型\n",
    "将原始变量分解为若干个因子的线性组合\n",
    "$$x_i=\\mu_i+a_{i1}f_1+a_{i2}f_2+\\cdots+a_{ip}f_p+\\varepsilon_1$$\n",
    "#### 2. 因子旋转\n",
    "使因子载荷矩阵的结构简化\n",
    "#### 3. 因子得分\n",
    "由原始变量的数据计算每个因子的得分"
   ]
  },
  {
   "cell_type": "code",
   "execution_count": 1,
   "metadata": {},
   "outputs": [
    {
     "data": {
      "text/plain": [
       "array([0.51547005, 0.8       , 1.        ])"
      ]
     },
     "execution_count": 1,
     "metadata": {},
     "output_type": "execute_result"
    }
   ],
   "source": [
    "import numpy as np\n",
    "\n",
    "R = np.array([[1, 1/5, -1/5], [1/5, 1, -2/5], [-1/5, -2/5, 1]])\n",
    "val, vec = np.linalg.eig(R)\n",
    "ind = np.argsort(-val)\n",
    "vec = (vec.T)[ind].T\n",
    "val = val[ind]\n",
    "A0 = vec*np.sqrt(val)\n",
    "np.cumsum(val/(sum(val)))"
   ]
  },
  {
   "cell_type": "code",
   "execution_count": 2,
   "metadata": {},
   "outputs": [
    {
     "data": {
      "text/plain": [
       "(array([1.54641016, 0.85358984]), array([1. , 0.7, 0.7]))"
      ]
     },
     "execution_count": 2,
     "metadata": {},
     "output_type": "execute_result"
    }
   ],
   "source": [
    "m = 2   # 选择因子数为 2\n",
    "A = A0[:, :2]\n",
    "Ac = np.sum(A**2, axis=0)   # 求贡献\n",
    "Ar = np.sum(A**2, axis=1)   # 求共同度\n",
    "Ac, Ar"
   ]
  },
  {
   "cell_type": "markdown",
   "metadata": {},
   "source": [
    "### 12.2.2 因子分析的应用"
   ]
  },
  {
   "cell_type": "code",
   "execution_count": 3,
   "metadata": {},
   "outputs": [
    {
     "data": {
      "text/plain": [
       "array([[1.        , 0.76868484, 0.68193448, 0.71187315, 0.84264892,\n",
       "        0.72092259],\n",
       "       [0.76868484, 1.        , 0.71243838, 0.68790154, 0.66910603,\n",
       "        0.6414101 ],\n",
       "       [0.68193448, 0.71243838, 1.        , 0.5557287 , 0.61561746,\n",
       "        0.74972839],\n",
       "       [0.71187315, 0.68790154, 0.5557287 , 1.        , 0.51866661,\n",
       "        0.58407218],\n",
       "       [0.84264892, 0.66910603, 0.61561746, 0.51866661, 1.        ,\n",
       "        0.59610918],\n",
       "       [0.72092259, 0.6414101 , 0.74972839, 0.58407218, 0.59610918,\n",
       "        1.        ]])"
      ]
     },
     "execution_count": 3,
     "metadata": {},
     "output_type": "execute_result"
    }
   ],
   "source": [
    "from factor_analyzer import FactorAnalyzer as FA\n",
    "from scipy.stats import zscore\n",
    "\n",
    "data = np.loadtxt('../../12第12章  主成分分析与因子分析/data12_5_1.txt')\n",
    "B = zscore(data, ddof=1)\n",
    "R = np.corrcoef(B.T)\n",
    "R"
   ]
  },
  {
   "cell_type": "code",
   "execution_count": 4,
   "metadata": {},
   "outputs": [
    {
     "data": {
      "text/plain": [
       "array([0.72711268, 0.81204139, 0.89526749, 0.94785951, 0.982305  ,\n",
       "       1.        ])"
      ]
     },
     "execution_count": 4,
     "metadata": {},
     "output_type": "execute_result"
    }
   ],
   "source": [
    "val, vec = np.linalg.eig(R)\n",
    "val = sorted(val, reverse=True)\n",
    "r = val/(sum(val))\n",
    "np.cumsum(r)"
   ]
  },
  {
   "cell_type": "code",
   "execution_count": 5,
   "metadata": {},
   "outputs": [
    {
     "data": {
      "text/plain": [
       "array([1.99144025, 1.67999651, 1.37520757])"
      ]
     },
     "execution_count": 5,
     "metadata": {},
     "output_type": "execute_result"
    }
   ],
   "source": [
    "m = 3   # 公共因子个数\n",
    "fa = FA(n_factors=m, rotation='varimax')    # 方差最大\n",
    "fa.fit(B)\n",
    "A = fa.loadings_\n",
    "contri = np.sum(A**2, axis=0)\n",
    "contri  # 各因子的贡献"
   ]
  },
  {
   "cell_type": "code",
   "execution_count": 6,
   "metadata": {},
   "outputs": [
    {
     "data": {
      "text/plain": [
       "array([0.02208709, 0.30829785, 0.00237122, 0.00410953, 0.25144177,\n",
       "       0.36504823])"
      ]
     },
     "execution_count": 6,
     "metadata": {},
     "output_type": "execute_result"
    }
   ],
   "source": [
    "s2 = 1 - np.sum(A**2, axis=1)\n",
    "s2  # 特殊方差"
   ]
  },
  {
   "cell_type": "code",
   "execution_count": 7,
   "metadata": {},
   "outputs": [
    {
     "data": {
      "text/plain": [
       "array([ 0.78776279,  0.5124789 ,  0.57804384,  0.22459248,  0.58197416,\n",
       "        0.52503398,  0.40057203,  0.24481888,  0.22316675, -0.13035823,\n",
       "       -0.084063  , -0.34414324, -0.31843212, -0.5535271 , -0.51002544,\n",
       "       -0.72442783, -1.41346685])"
      ]
     },
     "execution_count": 7,
     "metadata": {},
     "output_type": "execute_result"
    }
   ],
   "source": [
    "ss = np.linalg.inv(np.diag(s2))\n",
    "f_coef = ss @ A @ np.linalg.inv(A.T @ ss @ A)    # 因子得分函数系数\n",
    "f = B @ f_coef\n",
    "grade = f @ contri / sum(contri)\n",
    "grade   # 得分"
   ]
  },
  {
   "cell_type": "code",
   "execution_count": 8,
   "metadata": {},
   "outputs": [
    {
     "data": {
      "text/plain": [
       "array([ 1.,  5.,  3.,  8.,  2.,  4.,  6.,  7.,  9., 11., 10., 13., 12.,\n",
       "       15., 14., 16., 17.])"
      ]
     },
     "execution_count": 8,
     "metadata": {},
     "output_type": "execute_result"
    }
   ],
   "source": [
    "ind0 = np.argsort(-grade)  #从大到小的排名地址\n",
    "ind = np.zeros(17)\n",
    "ind[ind0]=np.arange(1,18)\n",
    "ind"
   ]
  }
 ],
 "metadata": {
  "kernelspec": {
   "display_name": "Python 3.9.12 ('mamo')",
   "language": "python",
   "name": "python3"
  },
  "language_info": {
   "codemirror_mode": {
    "name": "ipython",
    "version": 3
   },
   "file_extension": ".py",
   "mimetype": "text/x-python",
   "name": "python",
   "nbconvert_exporter": "python",
   "pygments_lexer": "ipython3",
   "version": "3.9.12"
  },
  "orig_nbformat": 4,
  "vscode": {
   "interpreter": {
    "hash": "bc4866e053c759d6a7b6c75a6ee7f30413af3cb1408278924a32b7c27fdde7d0"
   }
  }
 },
 "nbformat": 4,
 "nbformat_minor": 2
}
