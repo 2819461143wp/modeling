{
 "cells": [
  {
   "cell_type": "markdown",
   "metadata": {},
   "source": [
    "---\n",
    "### 12.1.2 主成分分析的应用\n",
    "#### 1. skleran.decomposition 模块的 PCA 函数\n",
    "```python\n",
    "sklearn.decomposition.PCA(n_components=None)\n",
    "```"
   ]
  },
  {
   "cell_type": "code",
   "execution_count": 1,
   "metadata": {},
   "outputs": [
    {
     "name": "stdout",
     "output_type": "stream",
     "text": [
      "特征值：\n",
      "[6.27943341e+00 1.30599080e+00 2.74277611e-01 9.97624700e-02\n",
      " 2.31016993e-02 1.22233669e-02 4.69357480e-03 5.17066158e-04]\n",
      "各成分贡献率：\n",
      "[7.84929176e-01 1.63248850e-01 3.42847014e-02 1.24703088e-02\n",
      " 2.88771241e-03 1.52792086e-03 5.86696851e-04 6.46332697e-05]\n"
     ]
    }
   ],
   "source": [
    "import numpy as np\n",
    "from scipy.stats import zscore\n",
    "from sklearn.decomposition import PCA\n",
    "\n",
    "data = np.loadtxt('../../12第12章  主成分分析与因子分析/data12_1.txt')\n",
    "B = zscore(data, ddof=1)\n",
    "md = PCA().fit(B)\n",
    "print(\"特征值：\\n\", md.explained_variance_, sep='')\n",
    "print(\"各成分贡献率：\\n\", md.explained_variance_ratio_, sep='')"
   ]
  },
  {
   "cell_type": "code",
   "execution_count": 2,
   "metadata": {},
   "outputs": [
    {
     "name": "stdout",
     "output_type": "stream",
     "text": [
      "各主成分系数\n",
      " [[ 0.39186166  0.38439344  0.3059243   0.39231584  0.38537825  0.38961322\n",
      "   0.38389911  0.05908768]\n",
      " [ 0.0210478  -0.02214509 -0.47783697  0.08905605  0.19878256  0.1043221\n",
      "   0.11376475 -0.83634169]\n",
      " [-0.14762176 -0.39254883 -0.57745685  0.20021017  0.15914777  0.1347164\n",
      "   0.4303164   0.47108809]\n",
      " [-0.47832186 -0.48941314  0.44488132  0.27708115 -0.02393188  0.46564673\n",
      "  -0.07989617 -0.18222681]\n",
      " [-0.09762149 -0.27604773  0.34873203 -0.35508891  0.52307577 -0.45643408\n",
      "   0.4158212  -0.10824944]\n",
      " [-0.70552867  0.53549607 -0.049896    0.32914209  0.14716623 -0.28505603\n",
      "   0.02367193  0.03426265]\n",
      " [-0.08102349  0.10492282  0.11905975 -0.07206231 -0.68369188 -0.02060535\n",
      "   0.68706375 -0.15212634]\n",
      " [ 0.28557308 -0.29011082  0.09180137  0.6940343  -0.15286467 -0.55886444\n",
      "  -0.05098258 -0.07665729]]\n"
     ]
    }
   ],
   "source": [
    "xs1 = md.components_\n",
    "print(\"各主成分系数\\n\", xs1)"
   ]
  },
  {
   "cell_type": "markdown",
   "metadata": {},
   "source": [
    "#### 2. 主成分回归分析"
   ]
  },
  {
   "cell_type": "code",
   "execution_count": 3,
   "metadata": {},
   "outputs": [
    {
     "name": "stdout",
     "output_type": "stream",
     "text": [
      "特征值： [2.23570403e+00 1.57606607e+00 1.86606149e-01 1.62374573e-03]\n",
      "各主成分贡献率： [5.58926009e-01 3.94016518e-01 4.66515373e-02 4.05936433e-04]\n",
      "累积贡献率： [0.55892601 0.95294253 0.99959406 1.        ]\n"
     ]
    }
   ],
   "source": [
    "data = np.loadtxt('../../12第12章  主成分分析与因子分析/data12_2.txt')\n",
    "x = data[:, :-1]\n",
    "y = data[:, -1]\n",
    "B = zscore(data, ddof=1)\n",
    "x_std = B[:, :-1]\n",
    "md = PCA().fit(x_std)\n",
    "print(\"特征值：\", md.explained_variance_)\n",
    "print(\"各主成分贡献率：\", md.explained_variance_ratio_)\n",
    "print(\"累积贡献率：\", np.cumsum(md.explained_variance_ratio_))"
   ]
  },
  {
   "cell_type": "code",
   "execution_count": 4,
   "metadata": {},
   "outputs": [
    {
     "name": "stdout",
     "output_type": "stream",
     "text": [
      "                            OLS Regression Results                            \n",
      "==============================================================================\n",
      "Dep. Variable:                      y   R-squared:                       0.982\n",
      "Model:                            OLS   Adj. R-squared:                  0.976\n",
      "Method:                 Least Squares   F-statistic:                     164.9\n",
      "Date:                Sun, 28 Aug 2022   Prob (F-statistic):           3.50e-08\n",
      "Time:                        16:01:27   Log-Likelihood:                -27.008\n",
      "No. Observations:                  13   AIC:                             62.02\n",
      "Df Residuals:                       9   BIC:                             64.28\n",
      "Df Model:                           3                                         \n",
      "Covariance Type:            nonrobust                                         \n",
      "==============================================================================\n",
      "                 coef    std err          t      P>|t|      [0.025      0.975]\n",
      "------------------------------------------------------------------------------\n",
      "Intercept     95.4231      0.644    148.167      0.000      93.966      96.880\n",
      "x[0]          -9.8831      0.448    -22.045      0.000     -10.897      -8.869\n",
      "x[1]           0.1250      0.534      0.234      0.820      -1.083       1.333\n",
      "x[2]           4.5548      1.552      2.935      0.017       1.045       8.065\n",
      "==============================================================================\n",
      "Omnibus:                        0.246   Durbin-Watson:                   1.943\n",
      "Prob(Omnibus):                  0.884   Jarque-Bera (JB):                0.416\n",
      "Skew:                           0.162   Prob(JB):                        0.812\n",
      "Kurtosis:                       2.186   Cond. No.                         3.46\n",
      "==============================================================================\n",
      "\n",
      "Notes:\n",
      "[1] Standard Errors assume that the covariance matrix of the errors is correctly specified.\n",
      "\n",
      "残差方差： 5.391957541653069\n"
     ]
    },
    {
     "name": "stderr",
     "output_type": "stream",
     "text": [
      "/home/zl/anaconda3/envs/mamo/lib/python3.9/site-packages/scipy/stats/_stats_py.py:1769: UserWarning: kurtosistest only valid for n>=20 ... continuing anyway, n=13\n",
      "  warnings.warn(\"kurtosistest only valid for n>=20 ... continuing \"\n"
     ]
    }
   ],
   "source": [
    "import statsmodels.formula.api as smf\n",
    "\n",
    "n = 3   # 主成分个数\n",
    "coef = md.components_[:n]\n",
    "z = x_std @ (coef.T)\n",
    "dic = {'x': z, 'y': y}\n",
    "mod = smf.ols('y~x', dic).fit()\n",
    "print(mod.summary())\n",
    "print(\"\\n残差方差：\", mod.mse_resid)"
   ]
  },
  {
   "cell_type": "code",
   "execution_count": 5,
   "metadata": {},
   "outputs": [
    {
     "name": "stdout",
     "output_type": "stream",
     "text": [
      "                            OLS Regression Results                            \n",
      "==============================================================================\n",
      "Dep. Variable:                      y   R-squared:                       0.982\n",
      "Model:                            OLS   Adj. R-squared:                  0.974\n",
      "Method:                 Least Squares   F-statistic:                     111.5\n",
      "Date:                Sun, 28 Aug 2022   Prob (F-statistic):           4.76e-07\n",
      "Time:                        16:01:27   Log-Likelihood:                -26.918\n",
      "No. Observations:                  13   AIC:                             63.84\n",
      "Df Residuals:                       8   BIC:                             66.66\n",
      "Df Model:                           4                                         \n",
      "Covariance Type:            nonrobust                                         \n",
      "==============================================================================\n",
      "                 coef    std err          t      P>|t|      [0.025      0.975]\n",
      "------------------------------------------------------------------------------\n",
      "Intercept     62.4054     70.071      0.891      0.399     -99.179     223.989\n",
      "x[0]           1.5511      0.745      2.083      0.071      -0.166       3.269\n",
      "x[1]           0.5102      0.724      0.705      0.501      -1.159       2.179\n",
      "x[2]           0.1019      0.755      0.135      0.896      -1.638       1.842\n",
      "x[3]          -0.1441      0.709     -0.203      0.844      -1.779       1.491\n",
      "==============================================================================\n",
      "Omnibus:                        0.165   Durbin-Watson:                   2.053\n",
      "Prob(Omnibus):                  0.921   Jarque-Bera (JB):                0.320\n",
      "Skew:                           0.201   Prob(JB):                        0.852\n",
      "Kurtosis:                       2.345   Cond. No.                     6.06e+03\n",
      "==============================================================================\n",
      "\n",
      "Notes:\n",
      "[1] Standard Errors assume that the covariance matrix of the errors is correctly specified.\n",
      "[2] The condition number is large, 6.06e+03. This might indicate that there are\n",
      "strong multicollinearity or other numerical problems.\n",
      "\n",
      "残差方差： 5.9829549188123785\n"
     ]
    },
    {
     "name": "stderr",
     "output_type": "stream",
     "text": [
      "/home/zl/anaconda3/envs/mamo/lib/python3.9/site-packages/scipy/stats/_stats_py.py:1769: UserWarning: kurtosistest only valid for n>=20 ... continuing anyway, n=13\n",
      "  warnings.warn(\"kurtosistest only valid for n>=20 ... continuing \"\n"
     ]
    }
   ],
   "source": [
    "dic_ori = {'x': x, 'y': y}\n",
    "mod_ori = smf.ols('y~x', dic_ori).fit()\n",
    "print(mod_ori.summary())\n",
    "print(\"\\n残差方差：\", mod_ori.mse_resid)"
   ]
  },
  {
   "cell_type": "markdown",
   "metadata": {},
   "source": [
    "利用原始数据得到的回归模型所有系数都无法通过显著性检验"
   ]
  },
  {
   "cell_type": "markdown",
   "metadata": {},
   "source": [
    "#### 3. 基于核主成分分析的高校科技创新能力评价\n",
    "PCA 只能去除变量之间的线性相关信息，而忽略了它们之间的非线性相关问题。核主成分分析 (KPCA) 方法不仅适合处理非线性相关问题，而且能提供更多的特征信息"
   ]
  },
  {
   "cell_type": "code",
   "execution_count": 6,
   "metadata": {},
   "outputs": [
    {
     "name": "stdout",
     "output_type": "stream",
     "text": [
      "PCA特征值：\n",
      " [7.50963582e+00 2.27720858e+00 1.47105704e+00 8.50786152e-01\n",
      " 6.50545056e-01 5.06438457e-01 3.38461134e-01 2.41850500e-01\n",
      " 7.58718928e-02 5.63367008e-02 1.62614416e-02 4.86075319e-03\n",
      " 5.75813307e-04 1.10664593e-04]\n",
      "\n",
      "累积贡献率：\n",
      " [0.53640256 0.69906031 0.80413582 0.86490626 0.91137376 0.94754794\n",
      " 0.97172373 0.98899877 0.99441819 0.99844224 0.99960377 0.99995097\n",
      " 0.9999921  1.        ]\n",
      "\n",
      "主成分评价得分：\n",
      " [ 0.29285016  1.01659708 -1.22657941 -0.93647745 -1.64930206  0.03800517\n",
      "  0.31471543  3.28572061 -1.12046447 -0.12595321  0.06706603  3.02572877\n",
      " -1.50884546 -1.21366531 -0.25939588]\n",
      "\n",
      "主成分评价排名:\n",
      " [ 5.  3. 13. 10. 15.  7.  4.  1. 11.  8.  6.  2. 14. 12.  9.]\n"
     ]
    }
   ],
   "source": [
    "import pandas as pd\n",
    "data = pd.read_excel('../../12第12章  主成分分析与因子分析/data12_3.xlsx', header=None).values\n",
    "B = zscore(data, ddof=1, axis=0)\n",
    "n = len(B)\n",
    "\n",
    "md1 = PCA().fit(B)\n",
    "print(\"PCA特征值：\\n\", md1.explained_variance_)\n",
    "r1 = md1.explained_variance_ratio_\n",
    "print(\"\\n累积贡献率：\\n\", np.cumsum(r1))\n",
    "n1 = 4      # 主成分个数\n",
    "coef1 = md1.components_[:n1]\n",
    "score1 = B @ coef1.T    # 计算每个主成分的得分（共4个）\n",
    "grade1 = score1 @ r1[:n1]   # 计算总得分（乘以贡献率）\n",
    "print(\"\\n主成分评价得分：\\n\", grade1)\n",
    "ind1 = np.argsort(-grade1)\n",
    "ind11 = np.zeros(15)\n",
    "ind11[ind1] = np.arange(1, 16)\n",
    "print(\"\\n主成分评价排名:\\n\", ind11)"
   ]
  },
  {
   "cell_type": "code",
   "execution_count": 7,
   "metadata": {},
   "outputs": [
    {
     "name": "stdout",
     "output_type": "stream",
     "text": [
      "KPCA特征值：\n",
      " [8.59350160e+04 5.18397183e+04 3.49538554e+03 2.68967243e+03\n",
      " 2.07508131e+03 1.66682709e+03 1.40496329e+03 7.51371594e+02\n",
      " 5.98056083e+02 3.82459237e+02 3.57692083e+02 2.30948199e+02\n",
      " 1.12394486e+02 6.32737809e+01]\n",
      "\n",
      "累积贡献率：\n",
      " [0.56684298 0.90878717 0.93184337 0.94958494 0.96327255 0.97426725\n",
      " 0.98353464 0.98849082 0.99243571 0.99495848 0.99731788 0.99884126\n",
      " 0.99958263 1.        ]\n"
     ]
    }
   ],
   "source": [
    "from sklearn.decomposition import KernelPCA\n",
    "\n",
    "md2 = KernelPCA(kernel='poly', gamma=1, degree=3)\n",
    "md2.fit_transform(B)\n",
    "print(\"KPCA特征值：\\n\", md2.eigenvalues_)\n",
    "r2 = (md2.eigenvalues_)/sum(md2.eigenvalues_)\n",
    "print(\"\\n累积贡献率：\\n\", np.cumsum(r2))\n",
    "n2 = 2      # 主成分个数"
   ]
  },
  {
   "cell_type": "code",
   "execution_count": 8,
   "metadata": {},
   "outputs": [
    {
     "name": "stdout",
     "output_type": "stream",
     "text": [
      "核主成分评价得分：\n",
      " [-15.36545542  -9.01617549 -20.17554842 -17.75344706 -29.45292287\n",
      " -15.82920031 -14.80003324 132.0678934  -19.96494244 -16.1127206\n",
      " -15.80928431 107.2055594  -26.07868277 -22.29994938 -16.61509049]\n",
      "\n",
      "核主成分评价排名:\n",
      " [ 5.  3. 12. 10. 15.  7.  4.  1. 11.  8.  6.  2. 14. 13.  9.]\n"
     ]
    }
   ],
   "source": [
    "kpca = KernelPCA(kernel='poly', gamma=1, degree=3, n_components=n2)\n",
    "data_reduced = kpca.fit_transform(B)\n",
    "grade2 = data_reduced @ r2[:n2]\n",
    "print(\"核主成分评价得分：\\n\", grade2)\n",
    "ind2 = np.argsort(-grade2)\n",
    "ind22 = np.zeros(15)\n",
    "ind22[ind2] = np.arange(1, 16)\n",
    "ind22\n",
    "print(\"\\n核主成分评价排名:\\n\", ind22)"
   ]
  }
 ],
 "metadata": {
  "kernelspec": {
   "display_name": "Python 3.9.12 ('mamo')",
   "language": "python",
   "name": "python3"
  },
  "language_info": {
   "codemirror_mode": {
    "name": "ipython",
    "version": 3
   },
   "file_extension": ".py",
   "mimetype": "text/x-python",
   "name": "python",
   "nbconvert_exporter": "python",
   "pygments_lexer": "ipython3",
   "version": "3.9.12"
  },
  "orig_nbformat": 4,
  "vscode": {
   "interpreter": {
    "hash": "bc4866e053c759d6a7b6c75a6ee7f30413af3cb1408278924a32b7c27fdde7d0"
   }
  }
 },
 "nbformat": 4,
 "nbformat_minor": 2
}
