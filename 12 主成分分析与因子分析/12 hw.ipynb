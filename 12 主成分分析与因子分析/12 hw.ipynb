{
 "cells": [
  {
   "cell_type": "code",
   "execution_count": 1,
   "metadata": {},
   "outputs": [],
   "source": [
    "import numpy as np\n",
    "import pandas as pd\n",
    "from sklearn.decomposition import PCA, KernelPCA\n",
    "from factor_analyzer import FactorAnalyzer as FA\n",
    "from scipy.stats import zscore"
   ]
  },
  {
   "cell_type": "markdown",
   "metadata": {},
   "source": [
    "### 1\n",
    "主成分分析与评价"
   ]
  },
  {
   "cell_type": "code",
   "execution_count": 2,
   "metadata": {},
   "outputs": [
    {
     "data": {
      "text/plain": [
       "array([0.62686568, 0.86053559, 0.93057171, 0.97573365, 1.        ])"
      ]
     },
     "execution_count": 2,
     "metadata": {},
     "output_type": "execute_result"
    }
   ],
   "source": [
    "data = np.loadtxt('../../../hw/12第12章  主成分分析与因子分析习题解答/ti12_1.txt')\n",
    "B = zscore(data, ddof=1)\n",
    "pca = PCA()\n",
    "mod = pca.fit(B)\n",
    "r = mod.explained_variance_ratio_\n",
    "np.cumsum(r)"
   ]
  },
  {
   "cell_type": "code",
   "execution_count": 3,
   "metadata": {},
   "outputs": [
    {
     "data": {
      "text/plain": [
       "array([ 0.05309933, -0.52915571, -0.77886716,  0.84556334, -0.26619943,\n",
       "       -0.97149317,  0.22579077,  1.11230384,  1.97684214,  2.44641809,\n",
       "        0.86037738, -0.25340965, -0.74049026, -1.14761366, -1.68480033,\n",
       "       -1.20146483,  0.05309933])"
      ]
     },
     "execution_count": 3,
     "metadata": {},
     "output_type": "execute_result"
    }
   ],
   "source": [
    "n = 3\n",
    "coef = mod.components_[:n]\n",
    "coef *= np.sign(np.sum(coef, axis=1, keepdims=True)) # 如果系数和为负，乘以-1\n",
    "score = B @ coef.T\n",
    "grade = score @ r[:n]\n",
    "grade"
   ]
  },
  {
   "cell_type": "code",
   "execution_count": 4,
   "metadata": {},
   "outputs": [
    {
     "name": "stdout",
     "output_type": "stream",
     "text": [
      "排名（降序）：\n",
      " [1993 1992 1991 1994 1987 1990 1984 2000 1995 1988 1985 1996 1986 1989\n",
      " 1997 1999 1998]\n",
      "综合得分:\n",
      " [ 2.44641809  1.97684214  1.11230384  0.86037738  0.84556334  0.22579077\n",
      "  0.05309933  0.05309933 -0.25340965 -0.26619943 -0.52915571 -0.74049026\n",
      " -0.77886716 -0.97149317 -1.14761366 -1.20146483 -1.68480033]\n"
     ]
    }
   ],
   "source": [
    "ind0 = np.argsort(-grade)\n",
    "ind = np.zeros(len(B))\n",
    "years = np.arange(1984, 2001, 1)\n",
    "print(\"排名（降序）：\\n\", years[ind0])\n",
    "print(\"综合得分:\\n\", grade[ind0])"
   ]
  },
  {
   "cell_type": "markdown",
   "metadata": {},
   "source": [
    "### 2\n",
    "因子分析"
   ]
  },
  {
   "cell_type": "code",
   "execution_count": 5,
   "metadata": {},
   "outputs": [
    {
     "data": {
      "text/plain": [
       "array([[ 1.        ,  0.5802601 ,  0.20112939,  0.90899732,  0.28347091,\n",
       "         0.28655993, -0.53320991],\n",
       "       [ 0.5802601 ,  1.        ,  0.36379285,  0.83724599,  0.16590375,\n",
       "         0.26118597, -0.60846451],\n",
       "       [ 0.20112939,  0.36379285,  1.        ,  0.43610864, -0.70422563,\n",
       "        -0.68058392, -0.64917776],\n",
       "       [ 0.90899732,  0.83724599,  0.43610864,  1.        ,  0.16328141,\n",
       "         0.20309076, -0.67758384],\n",
       "       [ 0.28347091,  0.16590375, -0.70422563,  0.16328141,  1.        ,\n",
       "         0.99020289,  0.42733222],\n",
       "       [ 0.28655993,  0.26118597, -0.68058392,  0.20309076,  0.99020289,\n",
       "         1.        ,  0.35731589],\n",
       "       [-0.53320991, -0.60846451, -0.64917776, -0.67758384,  0.42733222,\n",
       "         0.35731589,  1.        ]])"
      ]
     },
     "execution_count": 5,
     "metadata": {},
     "output_type": "execute_result"
    }
   ],
   "source": [
    "data = np.loadtxt('../../../hw/12第12章  主成分分析与因子分析习题解答/ti12_2.txt')\n",
    "B = zscore(data, ddof=1)\n",
    "R = np.corrcoef(B.T)\n",
    "R"
   ]
  },
  {
   "cell_type": "code",
   "execution_count": 6,
   "metadata": {},
   "outputs": [
    {
     "data": {
      "text/plain": [
       "array([0.4850261 , 0.88592947, 0.94828494, 0.98774827, 0.99934739,\n",
       "       0.99994191, 1.        ])"
      ]
     },
     "execution_count": 6,
     "metadata": {},
     "output_type": "execute_result"
    }
   ],
   "source": [
    "val, vec = np.linalg.eig(R)\n",
    "val = sorted(val, reverse=True)\n",
    "r = val/(sum(val))\n",
    "np.cumsum(r)"
   ]
  },
  {
   "cell_type": "code",
   "execution_count": 7,
   "metadata": {},
   "outputs": [
    {
     "data": {
      "text/plain": [
       "array([ 0.19076859,  0.37667535, -0.35358321, -0.13866695,  0.19682045,\n",
       "       -0.22868613, -0.39642859,  0.04778718,  1.55296643,  0.50967623,\n",
       "        0.27371387, -0.29843039, -0.68826349, -0.52068849, -1.1644085 ,\n",
       "       -0.01466569,  1.01061495, -0.09148634, -0.09023066, -0.32386837,\n",
       "        1.15812059, -0.08846748, -0.61576942, -0.26039497, -0.04310496])"
      ]
     },
     "execution_count": 7,
     "metadata": {},
     "output_type": "execute_result"
    }
   ],
   "source": [
    "m = 3   # 公共因子个数\n",
    "fa = FA(n_factors=m, rotation='varimax')\n",
    "fa.fit(B)\n",
    "A = fa.loadings_\n",
    "contri = np.sum(A**2, axis=0)\n",
    "s2 = 1 - np.sum(A**2, axis=1)\n",
    "ss = np.linalg.inv(np.diag(s2))\n",
    "f_coef = ss @ A @ np.linalg.inv(A.T @ ss @ A)\n",
    "f = B @ f_coef\n",
    "grade = f @ contri /sum(contri)\n",
    "grade"
   ]
  },
  {
   "cell_type": "code",
   "execution_count": 8,
   "metadata": {},
   "outputs": [
    {
     "name": "stdout",
     "output_type": "stream",
     "text": [
      "载荷矩阵：\n",
      " [[ 0.12704161  0.96349115  0.22670675]\n",
      " [ 0.05715043  0.37716444  0.92260775]\n",
      " [-0.77098315  0.24061058  0.3452092 ]\n",
      " [-0.00755515  0.80875272  0.58666852]\n",
      " [ 0.98733632  0.15267363  0.05326818]\n",
      " [ 0.97852018  0.13118621  0.1654518 ]\n",
      " [ 0.51133562 -0.49801412 -0.4730146 ]]\n",
      "\n",
      "各因子方差贡献：\n",
      " [2.80767671 2.07107975 1.61990498]\n",
      "\n",
      "共同度：\n",
      " [0.99585072 0.99672425 0.77147786 0.998318   1.00097974 1.00208587\n",
      " 0.733225  ]\n"
     ]
    }
   ],
   "source": [
    "print(\"载荷矩阵：\\n\", A)\n",
    "print(\"\\n各因子方差贡献：\\n\", contri)\n",
    "print(\"\\n共同度：\\n\", 1 - s2)"
   ]
  },
  {
   "cell_type": "markdown",
   "metadata": {},
   "source": [
    "> 每个变量的共同度反映了所提取的公共因子能够解释该变量信息的比例，如果因子分析结果中大部分变量的共同度都大于0.8，说明分析效果较好"
   ]
  },
  {
   "cell_type": "markdown",
   "metadata": {},
   "source": [
    "### 3\n",
    "主成分分析"
   ]
  },
  {
   "cell_type": "code",
   "execution_count": 9,
   "metadata": {},
   "outputs": [
    {
     "data": {
      "text/plain": [
       "array([0.46939101, 0.74398301, 0.89584448, 0.94614446, 0.97274476,\n",
       "       0.98998962, 0.99817184, 1.        ])"
      ]
     },
     "execution_count": 9,
     "metadata": {},
     "output_type": "execute_result"
    }
   ],
   "source": [
    "data = np.loadtxt('../../../hw/12第12章  主成分分析与因子分析习题解答/ti12_3_1.txt')\n",
    "B = zscore(data, ddof=1)\n",
    "pca = PCA()\n",
    "mod = pca.fit(B)\n",
    "r = mod.explained_variance_ratio_\n",
    "np.cumsum(r)"
   ]
  },
  {
   "cell_type": "code",
   "execution_count": 10,
   "metadata": {},
   "outputs": [
    {
     "data": {
      "text/plain": [
       "array([-0.1504081 , -0.56838213,  1.10427214, -0.43927042, -0.60466286,\n",
       "        1.03080334, -0.46199319,  0.28595591,  1.11567973,  2.04065059,\n",
       "        0.75294856, -0.04706279, -0.16237692, -0.65916227,  2.04073356,\n",
       "        0.93524943,  0.45239473,  0.14957267,  1.74360665, -0.39223195,\n",
       "       -1.26610257,  0.92068544, -0.97554577, -0.46975159, -1.54257411,\n",
       "       -0.5698577 , -0.84565399, -1.37037436, -1.37168796, -0.67545406])"
      ]
     },
     "execution_count": 10,
     "metadata": {},
     "output_type": "execute_result"
    }
   ],
   "source": [
    "n = 4\n",
    "coef = mod.components_[:n]\n",
    "coef *= np.sign(np.sum(coef, axis=1, keepdims=True))\n",
    "score = B @ coef.T\n",
    "grade = score @ r[:n]\n",
    "grade"
   ]
  },
  {
   "cell_type": "code",
   "execution_count": 11,
   "metadata": {},
   "outputs": [
    {
     "name": "stdout",
     "output_type": "stream",
     "text": [
      "山东 江苏 广东 上海 河北 辽宁 河南 四川 浙江 湖北 黑龙江 湖南 安徽 北京 福建 广西 山西 吉林 云南 天津 陕西 内蒙古 江西 新疆 甘肃 贵州 海南 青海 宁夏 西藏 "
     ]
    }
   ],
   "source": [
    "ind0 = np.argsort(-grade)\n",
    "prov = np.array([\"北京\", \"天津\", \"河北\", \"山西\", \"内蒙古\", \"辽宁\", \"吉林\", \"黑龙江\", \"上海\", \"江苏\", \"浙江\", \"安徽\", \"福建\", \"江西\", \"山东\", \"河南\", \"湖北\", \"湖南\", \"广东\", \"广西\", \"海南\", \"四川\", \"贵州\", \"云南\", \"西藏\", \"陕西\", \"甘肃\", \"青海\", \"宁夏\", \"新疆\"])\n",
    "for p in prov[ind0]:\n",
    "    print(p, end=\" \")"
   ]
  },
  {
   "cell_type": "markdown",
   "metadata": {},
   "source": [
    "### 4 \n",
    "因子分析与评价"
   ]
  },
  {
   "cell_type": "code",
   "execution_count": 12,
   "metadata": {},
   "outputs": [
    {
     "data": {
      "text/plain": [
       "array([[ 1.  ,  0.81,  0.83, -0.38, -0.56, -0.51],\n",
       "       [ 0.81,  1.  ,  0.82, -0.27, -0.45, -0.36],\n",
       "       [ 0.83,  0.82,  1.  , -0.24, -0.44, -0.46],\n",
       "       [-0.38, -0.27, -0.24,  1.  ,  0.69,  0.57],\n",
       "       [-0.56, -0.45, -0.44,  0.69,  1.  ,  0.65],\n",
       "       [-0.51, -0.36, -0.46,  0.57,  0.65,  1.  ]])"
      ]
     },
     "execution_count": 12,
     "metadata": {},
     "output_type": "execute_result"
    }
   ],
   "source": [
    "df = pd.read_excel('../../../hw/12第12章  主成分分析与因子分析习题解答/ti12_4_1.xlsx')\n",
    "data = df.values[:, 1:].astype('float')\n",
    "B = zscore(data, ddof=1)\n",
    "R = np.corrcoef(B.T)\n",
    "np.round(R, 2)"
   ]
  },
  {
   "cell_type": "markdown",
   "metadata": {},
   "source": [
    "可以看到闭卷的三门课之间的成绩成正相关，且相关系数很高；开卷的三门课之间的成绩成正相关，相关系数不高；开卷、闭卷的课之间的相关系数均为负"
   ]
  },
  {
   "cell_type": "code",
   "execution_count": 13,
   "metadata": {},
   "outputs": [
    {
     "data": {
      "text/plain": [
       "array([0.61832405, 0.82839696, 0.90114253, 0.94711688, 0.97550519,\n",
       "       1.        ])"
      ]
     },
     "execution_count": 13,
     "metadata": {},
     "output_type": "execute_result"
    }
   ],
   "source": [
    "val, vec = np.linalg.eig(R)\n",
    "val = sorted(val, reverse=True)\n",
    "r = val/(sum(val))\n",
    "np.cumsum(r)"
   ]
  },
  {
   "cell_type": "code",
   "execution_count": 14,
   "metadata": {},
   "outputs": [
    {
     "name": "stdout",
     "output_type": "stream",
     "text": [
      "载荷矩阵：\n",
      " [[ 0.84453022 -0.32649795 -0.15135094]\n",
      " [ 0.8834547  -0.20278927 -0.00672174]\n",
      " [ 0.89350449 -0.13386709 -0.24556635]\n",
      " [-0.12126105  0.80525762  0.11234098]\n",
      " [-0.32759964  0.78666948  0.1634326 ]\n",
      " [-0.26415317  0.58898843  0.59466382]]\n",
      "\n",
      "各因子贡献度：\n",
      " [2.48387643 1.77984087 0.47621089]\n",
      "\n",
      "共同度：\n",
      " [0.84273932 0.82166087 0.8765735  0.67576457 0.7528806  0.77030932]\n"
     ]
    }
   ],
   "source": [
    "m = 3\n",
    "fa = FA(n_factors=m, rotation='varimax')\n",
    "fa.fit(B)\n",
    "A = fa.loadings_\n",
    "print(\"载荷矩阵：\\n\", A)\n",
    "contri = np.sum(A**2, axis=0)\n",
    "print(\"\\n各因子贡献度：\\n\", contri)\n",
    "s2 = 1 - np.sum(A**2, axis=1)\n",
    "print(\"\\n共同度：\\n\", 1 - s2)"
   ]
  },
  {
   "cell_type": "code",
   "execution_count": 15,
   "metadata": {},
   "outputs": [
    {
     "data": {
      "text/plain": [
       "array([-0.32755526, -1.49151888, -0.21631381,  0.63374855, -0.79244691,\n",
       "        0.00271972, -1.70981861, -0.91467899,  0.18146311,  0.78446084,\n",
       "       -0.69973975, -1.40105681,  0.78763321,  1.17671925,  0.07583399,\n",
       "        1.01918037, -0.91203811, -0.35310635, -0.09134061, -0.56960409,\n",
       "       -0.58458983,  0.9510259 ,  0.84780835,  0.2396821 ,  1.26657927,\n",
       "       -0.5955927 , -0.02310906, -0.30073174, -0.00427919,  0.28501644,\n",
       "       -0.71025842,  0.64689571, -0.27457057,  0.55052144, -0.20277523,\n",
       "       -0.72622442, -0.02948154,  0.16427909, -0.90833189,  0.3041562 ,\n",
       "        0.39578951,  0.21788109,  0.57723226,  0.92634681,  1.01104304,\n",
       "        0.63197874,  0.62131023, -0.41284643, -0.18032689,  0.31452606,\n",
       "       -0.69771203,  0.51621689])"
      ]
     },
     "execution_count": 15,
     "metadata": {},
     "output_type": "execute_result"
    }
   ],
   "source": [
    "ss = np.linalg.inv(np.diag(s2))\n",
    "f_coef = ss @ A @ np.linalg.inv(A.T @ ss @ A)    # 因子得分函数系数\n",
    "f = B @ f_coef\n",
    "grade = f @ contri / sum(contri)\n",
    "grade   # 得分"
   ]
  },
  {
   "cell_type": "code",
   "execution_count": 16,
   "metadata": {},
   "outputs": [
    {
     "data": {
      "text/plain": [
       "array([[ 0.34945642, -0.124056  ,  0.27795668],\n",
       "       [ 0.43975791, -0.15517625,  0.85416047],\n",
       "       [ 0.46126287,  0.58563581, -0.88327087],\n",
       "       [ 0.09038478,  0.63386651, -0.50718967],\n",
       "       [ 0.05568818,  0.71018141, -0.52059954],\n",
       "       [ 0.25201122, -0.1064174 ,  1.6361681 ]])"
      ]
     },
     "execution_count": 16,
     "metadata": {},
     "output_type": "execute_result"
    }
   ],
   "source": [
    "f_coef  # 因子得分系数"
   ]
  },
  {
   "cell_type": "code",
   "execution_count": 17,
   "metadata": {},
   "outputs": [
    {
     "name": "stdout",
     "output_type": "stream",
     "text": [
      "['A25' 'A14' 'A16' 'A45' 'A22' 'A44' 'A23' 'A13' 'A10' 'A32' 'A4' 'A46'\n",
      " 'A47' 'A43' 'A34' 'A52' 'A41' 'A50' 'A40' 'A30' 'A24' 'A42' 'A9' 'A38'\n",
      " 'A15' 'A6' 'A29' 'A27' 'A37' 'A19' 'A49' 'A35' 'A3' 'A33' 'A28' 'A1'\n",
      " 'A18' 'A48' 'A20' 'A21' 'A26' 'A51' 'A11' 'A31' 'A36' 'A5' 'A39' 'A17'\n",
      " 'A8' 'A12' 'A2' 'A7']\n"
     ]
    }
   ],
   "source": [
    "ind0 = np.argsort(-grade)\n",
    "ind = df['学生序号']\n",
    "print(ind[ind0].values)"
   ]
  },
  {
   "cell_type": "code",
   "execution_count": 18,
   "metadata": {},
   "outputs": [
    {
     "name": "stdout",
     "output_type": "stream",
     "text": [
      "['A25', 'A14', 'A45', 'A16', 'A13', 'A22', 'A44', 'A46', 'A10', 'A34', 'A23', 'A32', 'A52', 'A47', 'A43', 'A41', 'A50', 'A4', 'A30', 'A24', 'A40', 'A42', 'A38', 'A19', 'A15', 'A6', 'A29', 'A9', 'A37', 'A3', 'A27', 'A33', 'A18', 'A49', 'A1', 'A35', 'A28', 'A21', 'A48', 'A26', 'A31', 'A20', 'A5', 'A11', 'A51', 'A36', 'A8', 'A39', 'A17', 'A12', 'A2', 'A7']\n"
     ]
    }
   ],
   "source": [
    "df = pd.read_excel('../../../hw/12第12章  主成分分析与因子分析习题解答/ti12_4_1.xlsx')\n",
    "df['sum'] = df.iloc[:, 1:].sum(axis=1)\n",
    "sort_by_sum = df.sort_values(by=['sum'], ascending=False)['学生序号']\n",
    "print(list(sort_by_sum))"
   ]
  },
  {
   "cell_type": "markdown",
   "metadata": {},
   "source": [
    "### 5\n",
    "基于相关系数矩阵的主成分分析"
   ]
  },
  {
   "cell_type": "code",
   "execution_count": 19,
   "metadata": {},
   "outputs": [
    {
     "data": {
      "text/plain": [
       "array([0.55849505, 0.81116123, 0.87559465, 0.93463347, 0.97589645,\n",
       "       1.        ])"
      ]
     },
     "execution_count": 19,
     "metadata": {},
     "output_type": "execute_result"
    }
   ],
   "source": [
    "R = np.array([[1, 0.80, 0.37, 0.78, 0.26, 0.38],\n",
    "              [0.80, 1, 0.32, 0.65, 0.18, 0.33],\n",
    "              [0.37, 0.32, 1, 0.36, 0.71, 0.62],\n",
    "              [0.78, 0.65, 0.36, 1, 0.18, 0.39],\n",
    "              [0.26, 0.18, 0.71, 0.18, 1, 0.69],\n",
    "              [0.38, 0.33, 0.62, 0.39, 0.69, 1]])\n",
    "val, vec = np.linalg.eig(R)\n",
    "ind = np.argsort(-val)\n",
    "val = val[ind]\n",
    "vec = ((vec.T)[ind]).T\n",
    "r = val / sum(val)\n",
    "np.cumsum(r)"
   ]
  },
  {
   "cell_type": "markdown",
   "metadata": {},
   "source": [
    "`F = vec @ y.T`"
   ]
  }
 ],
 "metadata": {
  "kernelspec": {
   "display_name": "Python 3.9.12 ('mamo')",
   "language": "python",
   "name": "python3"
  },
  "language_info": {
   "codemirror_mode": {
    "name": "ipython",
    "version": 3
   },
   "file_extension": ".py",
   "mimetype": "text/x-python",
   "name": "python",
   "nbconvert_exporter": "python",
   "pygments_lexer": "ipython3",
   "version": "3.9.12"
  },
  "orig_nbformat": 4,
  "vscode": {
   "interpreter": {
    "hash": "bc4866e053c759d6a7b6c75a6ee7f30413af3cb1408278924a32b7c27fdde7d0"
   }
  }
 },
 "nbformat": 4,
 "nbformat_minor": 2
}
