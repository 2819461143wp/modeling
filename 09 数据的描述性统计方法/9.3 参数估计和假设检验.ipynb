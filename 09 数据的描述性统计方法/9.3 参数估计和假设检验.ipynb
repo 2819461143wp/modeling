{
 "cells": [
  {
   "cell_type": "markdown",
   "metadata": {},
   "source": [
    "---\n",
    "### 9.3.1 参数估计\n",
    "假设总体的概率分布类型已知，但其中含有未知参数，由样本估计参数的的值\n",
    "\n",
    "样本均值的标准误差 (SEM)：${\\rm SEM}=\\dfrac{s}{\\sqrt n}$"
   ]
  },
  {
   "cell_type": "code",
   "execution_count": 1,
   "metadata": {},
   "outputs": [
    {
     "data": {
      "text/plain": [
       "[500.44510746243924, 507.05489253756076]"
      ]
     },
     "execution_count": 1,
     "metadata": {},
     "output_type": "execute_result"
    }
   ],
   "source": [
    "import numpy as np\n",
    "from scipy.stats import t, sem\n",
    "\n",
    "d = np.loadtxt('../../09第9章  数据的描述性统计方法/data9_11.txt').flatten()\n",
    "n = len(d)\n",
    "mu = np.mean(d)\n",
    "sig = np.std(d, ddof=1)\n",
    "SEM = sem(d)\n",
    "a = 0.05    # 显著性水平 = 1 - 置信水平\n",
    "ta = t.ppf(1-a/2, n-1)\n",
    "L = [mu - SEM*ta, mu + SEM*ta]\n",
    "L   # 总体均值 mu 的一个置信水平为 1-a 的置信区间"
   ]
  },
  {
   "cell_type": "markdown",
   "metadata": {},
   "source": [
    "### 9.3.2 参数假设检验\n",
    "总体的分布函数形式已知，但其中含有未知参数，为了推断总体的某些性质，提出某些关于总体参数的假设，然后根据样本对所提出的假设作出判断，是接受还是拒绝"
   ]
  },
  {
   "cell_type": "markdown",
   "metadata": {},
   "source": [
    "#### 1. 单个总体均值的假设检验\n",
    "1）正态总体标准差 $\\sigma$ 已知的 $Z$ 检验法\n",
    "\n",
    "检验假设\n",
    "$$H_0:\\mu=26, \\quad H_1:\\mu\\neq 26$$"
   ]
  },
  {
   "cell_type": "code",
   "execution_count": 2,
   "metadata": {},
   "outputs": [
    {
     "name": "stdout",
     "output_type": "stream",
     "text": [
      "Z统计量值： -0.04065785563073785\n",
      "p值： 0.5847910057871308\n",
      "分位数： 1.959963984540054\n"
     ]
    }
   ],
   "source": [
    "from statsmodels.stats.weightstats import ztest\n",
    "from scipy.stats import norm\n",
    "\n",
    "alpha, sigma = 0.05, 4.2\n",
    "data = np.array([26.01, 26.00, 25.98, 25.86, 26.32, 25.58, 25.32, 25.89, 26.32, 26.18])\n",
    "std_d = 26\n",
    "tstat, pvalue = ztest(data, value=std_d)\n",
    "\n",
    "mu = data.mean()\n",
    "sig = data.std(ddof=1)\n",
    "z = tstat*sig/sigma\n",
    "za = norm.ppf(1-alpha/2, 0, 1)  # 标准正态分布\n",
    "print('Z统计量值：', z); print('p值：', pvalue); print('分位数：', za)"
   ]
  },
  {
   "cell_type": "markdown",
   "metadata": {},
   "source": [
    "**结果的两种解释**\n",
    "\n",
    "利用检验统计量的解释：因为 $|z|<z_{\\alpha/2}$，未落入拒绝域，故在显著性水平 $\\alpha=0.05$ 下接受零假设 $H_0$，即认为总体均值 $\\mu=26$，纽扣总体的直径符合标准\n",
    "\n",
    "$p$ 值解释：p-value 是一种概率，表示在原假设为真的前提下，出现该样本或比该样本更极端的结果的概率之和。如果 $p$ 值很小，说明在原假设下极端观测结果的发生概率很小。而它又出现了，根据小概率原理，就有理由拒绝原假设；$p$ 值越小，拒绝原假设的理由越充分。$p$ 值小于 $0.05$ 被认为是确定实验数据可靠性的金标准。这里 $p$ 值约为 $0.5848$，远大于选定的显著水平 $0.05$，所以有 $95\\%$ 的把握接受 $H_0$ 而不会犯错"
   ]
  },
  {
   "cell_type": "markdown",
   "metadata": {},
   "source": [
    "2）正态总体标准差 $\\sigma$ 未知的 $t$ 检验法\n",
    "\n",
    "检验假设\n",
    "$$H_0:\\mu\\leq225,\\quad H_1:\\mu>225$$"
   ]
  },
  {
   "cell_type": "code",
   "execution_count": 3,
   "metadata": {},
   "outputs": [
    {
     "name": "stdout",
     "output_type": "stream",
     "text": [
      "t统计量值： 0.6685176967463559\n",
      "p值： 0.2569800715875837\n",
      "分位数： 1.7530503556925547\n"
     ]
    }
   ],
   "source": [
    "from scipy.stats import ttest_1samp\n",
    "\n",
    "data = np.loadtxt('../../09第9章  数据的描述性统计方法/data9_13.txt').flatten()\n",
    "mu = data.mean()\n",
    "sig = data.std(ddof=1)\n",
    "n = len(data)\n",
    "ta = t.ppf(0.95, n - 1)\n",
    "ts, p = ttest_1samp(data, 225, alternative='greater')   # 备选假设 1 大于 value 值 225\n",
    "print('t统计量值：', ts); print('p值：', p); print('分位数：', ta)"
   ]
  },
  {
   "cell_type": "markdown",
   "metadata": {},
   "source": [
    "接受 $H_0$"
   ]
  },
  {
   "cell_type": "markdown",
   "metadata": {},
   "source": [
    "#### 2. 两个正态总体均值差的 $t$ 检验\n",
    "检验假设\n",
    "$$H_0:\\mu_1-\\mu_2\\leq0,\\quad H_1:\\mu_1-\\mu_2>0$$"
   ]
  },
  {
   "cell_type": "code",
   "execution_count": 4,
   "metadata": {},
   "outputs": [
    {
     "name": "stdout",
     "output_type": "stream",
     "text": [
      "检验统计量为： -0.5464000062893251\n",
      "p值为: 0.0012755021070520822\n",
      "自由度： 19.0\n"
     ]
    }
   ],
   "source": [
    "import pandas as pd\n",
    "from scipy.stats import t\n",
    "from statsmodels.stats.weightstats import ttest_ind\n",
    "\n",
    "df = pd.read_csv('../../09第9章  数据的描述性统计方法/data9_14.txt', sep='  ', header=None, engine='python')\n",
    "data_a, data_b = df.values\n",
    "data_b = data_b[~np.isnan(data_b)]\n",
    "ts, p, df = ttest_ind(data_a, data_b, alternative='larger')\n",
    "print('检验统计量为：', tstat); print('p值为:', p); print('自由度：', df)"
   ]
  },
  {
   "cell_type": "markdown",
   "metadata": {},
   "source": [
    "### 9.3.3 非参数假设检验\n",
    "在实际建模中，我们对样本数据服从什么分布往往是完全未知的，这就需要进行非参数假设检验\n",
    "#### 1. 分布拟合的卡方检验\n",
    "1）检验假设\n",
    "\n",
    "$H_0:X {\\text的分布律为}$\n",
    "$$P\\{X=k\\}=\\dfrac{\\lambda^k{\\rm e}^{-\\lambda}}{k!}\\tag{\\text 泊松分布}$$"
   ]
  },
  {
   "cell_type": "code",
   "execution_count": 5,
   "metadata": {},
   "outputs": [
    {
     "data": {
      "text/plain": [
       "(array([36, 40, 19,  5]),\n",
       " array([36.78794412, 36.78794412, 18.39397206,  8.03013971]))"
      ]
     },
     "execution_count": 5,
     "metadata": {},
     "output_type": "execute_result"
    }
   ],
   "source": [
    "from scipy.stats import poisson, chisquare, chi2\n",
    "\n",
    "n1 = np.array([36, 40, 19, 2, 0, 2, 1])\n",
    "f = np.arange(7)\n",
    "n = n1.sum()\n",
    "_lambda = n1 @ f / n\n",
    "p0 = poisson.pmf(range(3), _lambda)\n",
    "p = np.hstack([p0, 1-sum(p0)])\n",
    "exp_freq = n*p\n",
    "obs_freq = np.hstack([n1[:3], sum(n1[3:])])\n",
    "obs_freq, exp_freq"
   ]
  },
  {
   "cell_type": "code",
   "execution_count": 6,
   "metadata": {},
   "outputs": [
    {
     "name": "stdout",
     "output_type": "stream",
     "text": [
      "chis1 = 1.4607074196299568\n",
      "chis2 = 1.460707419629955\n",
      "chisa = 5.991464547107979\n"
     ]
    }
   ],
   "source": [
    "chis1 = chisquare(obs_freq, exp_freq, ddof=1).statistic     # 两种方法计算统计量\n",
    "chis2 = sum(obs_freq**2 / (exp_freq)) - n                   # ~\n",
    "\n",
    "k = len(obs_freq)\n",
    "r = 1\n",
    "chisa = chi2.ppf(0.95, k-r-1)\n",
    "print(f'{chis1 = }\\n{chis2 = }')\n",
    "print(f'{chisa = }')"
   ]
  },
  {
   "cell_type": "markdown",
   "metadata": {},
   "source": [
    "$\\chi^2 < \\chi_{0.05}^2(k-r-1)$，接受 $H_0$，即认为样本来自泊松分布的总体"
   ]
  },
  {
   "cell_type": "markdown",
   "metadata": {},
   "source": [
    "2）检验假设\n",
    "\n",
    "$H_0:灯泡寿命服从指数分布$\n",
    "$$f(t)=\\begin{cases}0.005{\\rm e}^{-0.005t},\\quad &t\\geq0\\\\0,\\quad &t<0 \\end{cases}$$"
   ]
  },
  {
   "cell_type": "code",
   "execution_count": 7,
   "metadata": {},
   "outputs": [
    {
     "data": {
      "text/plain": [
       "(array([121,  78,  43,  58]),\n",
       " array([118.04080209,  71.59536556,  43.42478431,  66.93904804]))"
      ]
     },
     "execution_count": 7,
     "metadata": {},
     "output_type": "execute_result"
    }
   ],
   "source": [
    "import scipy.stats as ss\n",
    "t = np.array([100, 200, 300, np.inf])\n",
    "p0 = ss.expon.cdf(t, scale=200)     # theta = 1/0.005 = 200\n",
    "p = np.hstack([p0[0], np.diff(p0)])\n",
    "\n",
    "obs_freq = np.array([121, 78, 43, 58])\n",
    "n = sum(obs_freq)\n",
    "exp_freq = p*n\n",
    "obs_freq, exp_freq"
   ]
  },
  {
   "cell_type": "code",
   "execution_count": 8,
   "metadata": {},
   "outputs": [
    {
     "name": "stdout",
     "output_type": "stream",
     "text": [
      "chis  = 1.8449946436260816\n",
      "chisa = 7.814727903251179\n"
     ]
    }
   ],
   "source": [
    "chis, p = ss.chisquare(obs_freq, exp_freq)\n",
    "k = len(obs_freq)\n",
    "r = 0\n",
    "chisa = ss.chi2.ppf(0.95, k-r-1)\n",
    "print(f'{chis  = }')\n",
    "print(f'{chisa = }')"
   ]
  },
  {
   "cell_type": "markdown",
   "metadata": {},
   "source": [
    "$\\chi^2 < \\chi_{0.05}^2(k-r-1)$，故在显著性水平 $\\alpha=0.05$ 下，接受 $H_0$，即认为这批灯泡寿命服从指数分布"
   ]
  },
  {
   "cell_type": "markdown",
   "metadata": {},
   "source": [
    "#### 2. 柯尔莫哥洛夫 (Kolmogorov-Smirnov) 检验\n",
    "直接针对原假设 $H_0:F(x)=F_0(x)$ 检验分布函数的正确性，这里的分布函数 $F(x)$ 必须是连续型分布\n",
    "\n",
    "检验假设 $H_0:X \\thicksim N\\left(\\mu, \\sigma^2\\right)$"
   ]
  },
  {
   "cell_type": "code",
   "execution_count": 9,
   "metadata": {},
   "outputs": [
    {
     "name": "stdout",
     "output_type": "stream",
     "text": [
      "统计量： 0.08509761671300922\n",
      "p值： 0.5484251821065218\n"
     ]
    }
   ],
   "source": [
    "df = pd.read_csv('../../09第9章  数据的描述性统计方法/data9_17.txt', sep='  ', header=None, engine='python')\n",
    "data = df.values.flatten()\n",
    "data = data[~np.isnan(data)]\n",
    "mu = data.mean()\n",
    "sig = data.std(ddof=1)\n",
    "st, p = ss.kstest(data, 'norm', (mu, sig))\n",
    "print(\"统计量：\", st)\n",
    "print(\"p值：\", p)"
   ]
  },
  {
   "cell_type": "markdown",
   "metadata": {},
   "source": [
    "$D_n=0.0851<1.36/\\sqrt{n}$，故接受 $H_0$"
   ]
  }
 ],
 "metadata": {
  "kernelspec": {
   "display_name": "Python 3.9.12 ('mamo')",
   "language": "python",
   "name": "python3"
  },
  "language_info": {
   "codemirror_mode": {
    "name": "ipython",
    "version": 3
   },
   "file_extension": ".py",
   "mimetype": "text/x-python",
   "name": "python",
   "nbconvert_exporter": "python",
   "pygments_lexer": "ipython3",
   "version": "3.9.12"
  },
  "orig_nbformat": 4,
  "vscode": {
   "interpreter": {
    "hash": "bc4866e053c759d6a7b6c75a6ee7f30413af3cb1408278924a32b7c27fdde7d0"
   }
  }
 },
 "nbformat": 4,
 "nbformat_minor": 2
}
