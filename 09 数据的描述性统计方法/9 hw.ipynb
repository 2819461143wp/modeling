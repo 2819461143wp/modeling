{
 "cells": [
  {
   "cell_type": "code",
   "execution_count": 1,
   "metadata": {},
   "outputs": [],
   "source": [
    "import numpy as np\n",
    "import pandas as pd\n",
    "import scipy.stats as ss\n",
    "import statsmodels.api as sm\n",
    "import matplotlib.pyplot as plt\n",
    "plt.rcParams['font.sans-serif']=['Times New Roman + SimSun + WFM Sans SC']\n",
    "plt.rcParams['mathtext.fontset']='stix'\n",
    "# Times New Roman + SimSun + WFM Sans SC\n",
    "# simsum宋体, times new roman -*, simhei黑体, kaiti楷体, \n",
    "# dengxian等线, fangsong仿宋, Microsoft Yahei微软雅黑\n",
    "plt.rcParams['axes.unicode_minus']=False   \n",
    "plt.rcParams['figure.dpi'] = 200\n",
    "# plt.rcParams['figure.figsize'] = [4, 3]\n",
    "# plt.rcParams['font.size'] = 12\n",
    "plt.rcParams['xtick.direction']='in'\n",
    "plt.rcParams['ytick.direction']='in'"
   ]
  },
  {
   "cell_type": "markdown",
   "metadata": {},
   "source": [
    "### 1\n",
    "平均值的置信区间"
   ]
  },
  {
   "cell_type": "code",
   "execution_count": 2,
   "metadata": {},
   "outputs": [
    {
     "data": {
      "text/plain": [
       "[1064.89955998421, 1255.10044001579]"
      ]
     },
     "execution_count": 2,
     "metadata": {},
     "output_type": "execute_result"
    }
   ],
   "source": [
    "data = np.array([1050, 1100, 1120, 1250, 1280])\n",
    "n = len(data)\n",
    "mu = np.mean(data)\n",
    "sig = np.std(data, ddof=1)\n",
    "SEM = ss.sem(data)\n",
    "a = 0.10\n",
    "ta = ss.t.ppf(1 - a/2, n-1)\n",
    "L = [mu - SEM*ta, mu + SEM*ta]\n",
    "L"
   ]
  },
  {
   "cell_type": "markdown",
   "metadata": {},
   "source": [
    "### 2\n",
    "非参数假设检验"
   ]
  },
  {
   "cell_type": "code",
   "execution_count": 3,
   "metadata": {},
   "outputs": [
    {
     "name": "stdout",
     "output_type": "stream",
     "text": [
      "统计量： 0.07971577846007427\n",
      "p值： 0.8833503491306954\n"
     ]
    }
   ],
   "source": [
    "data = np.loadtxt('../../../hw/09第9章  数据的描述性统计方法习题解答/ti9_2.txt').flatten()\n",
    "mu = data.mean()\n",
    "sig = data.std(ddof=1)\n",
    "st, p = ss.kstest(data, 'norm', (mu, sig))\n",
    "print(\"统计量：\", st)\n",
    "print(\"p值：\", p)"
   ]
  },
  {
   "cell_type": "markdown",
   "metadata": {},
   "source": [
    "$D_n=0.0797<1.36/\\sqrt{n}=0.1923$，故接受原假设，即滚珠直径服从正态分布 $N(15.0780, 0.4325^2)$"
   ]
  },
  {
   "cell_type": "markdown",
   "metadata": {},
   "source": [
    "### 3\n",
    "单因素方差分析"
   ]
  },
  {
   "cell_type": "code",
   "execution_count": 4,
   "metadata": {},
   "outputs": [
    {
     "data": {
      "image/png": "[encoded data removed]",
      "text/plain": [
       "<Figure size 1200x800 with 1 Axes>"
      ]
     },
     "metadata": {
      "needs_background": "light"
     },
     "output_type": "display_data"
    }
   ],
   "source": [
    "df = pd.read_excel('../../../hw/09第9章  数据的描述性统计方法习题解答/ti9_3.xlsx', header=None)\n",
    "fig = plt.figure()\n",
    "ax = fig.add_subplot(111)\n",
    "labels = ['Lab'+str(i) for i in range(1, 8)]\n",
    "ax.boxplot(df, sym='xr', labels=labels)\n",
    "fig.show()"
   ]
  },
  {
   "cell_type": "code",
   "execution_count": 5,
   "metadata": {},
   "outputs": [
    {
     "data": {
      "text/html": [
       "<div>\n",
       "<style scoped>\n",
       "    .dataframe tbody tr th:only-of-type {\n",
       "        vertical-align: middle;\n",
       "    }\n",
       "\n",
       "    .dataframe tbody tr th {\n",
       "        vertical-align: top;\n",
       "    }\n",
       "\n",
       "    .dataframe thead th {\n",
       "        text-align: right;\n",
       "    }\n",
       "</style>\n",
       "<table border=\"1\" class=\"dataframe\">\n",
       "  <thead>\n",
       "    <tr style=\"text-align: right;\">\n",
       "      <th></th>\n",
       "      <th>df</th>\n",
       "      <th>sum_sq</th>\n",
       "      <th>mean_sq</th>\n",
       "      <th>F</th>\n",
       "      <th>PR(&gt;F)</th>\n",
       "    </tr>\n",
       "  </thead>\n",
       "  <tbody>\n",
       "    <tr>\n",
       "      <th>C(x)</th>\n",
       "      <td>6.0</td>\n",
       "      <td>0.124737</td>\n",
       "      <td>0.020790</td>\n",
       "      <td>5.660069</td>\n",
       "      <td>0.000095</td>\n",
       "    </tr>\n",
       "    <tr>\n",
       "      <th>Residual</th>\n",
       "      <td>63.0</td>\n",
       "      <td>0.231400</td>\n",
       "      <td>0.003673</td>\n",
       "      <td>NaN</td>\n",
       "      <td>NaN</td>\n",
       "    </tr>\n",
       "  </tbody>\n",
       "</table>\n",
       "</div>"
      ],
      "text/plain": [
       "            df    sum_sq   mean_sq         F    PR(>F)\n",
       "C(x)       6.0  0.124737  0.020790  5.660069  0.000095\n",
       "Residual  63.0  0.231400  0.003673       NaN       NaN"
      ]
     },
     "execution_count": 5,
     "metadata": {},
     "output_type": "execute_result"
    }
   ],
   "source": [
    "y = df.values\n",
    "x = np.tile(np.arange(1, 8), (10, 1))\n",
    "model_dic = {'x': x.flatten(), 'y': y.flatten()}\n",
    "model = sm.formula.ols('y~C(x)', model_dic).fit()\n",
    "anovat = sm.stats.anova_lm(model)\n",
    "anovat"
   ]
  },
  {
   "cell_type": "markdown",
   "metadata": {},
   "source": [
    "${\\rm PR}=0.000095<0.05$，拒绝 $H_0$，即认为各实验室测量的扑尔敏的有效含量的均值有显著差异"
   ]
  },
  {
   "cell_type": "markdown",
   "metadata": {},
   "source": [
    "### 4\n",
    "双因素方差分析（交互）"
   ]
  },
  {
   "cell_type": "code",
   "execution_count": 6,
   "metadata": {},
   "outputs": [
    {
     "data": {
      "text/html": [
       "<div>\n",
       "<style scoped>\n",
       "    .dataframe tbody tr th:only-of-type {\n",
       "        vertical-align: middle;\n",
       "    }\n",
       "\n",
       "    .dataframe tbody tr th {\n",
       "        vertical-align: top;\n",
       "    }\n",
       "\n",
       "    .dataframe thead th {\n",
       "        text-align: right;\n",
       "    }\n",
       "</style>\n",
       "<table border=\"1\" class=\"dataframe\">\n",
       "  <thead>\n",
       "    <tr style=\"text-align: right;\">\n",
       "      <th></th>\n",
       "      <th>df</th>\n",
       "      <th>sum_sq</th>\n",
       "      <th>mean_sq</th>\n",
       "      <th>F</th>\n",
       "      <th>PR(&gt;F)</th>\n",
       "    </tr>\n",
       "  </thead>\n",
       "  <tbody>\n",
       "    <tr>\n",
       "      <th>C(x1)</th>\n",
       "      <td>2.0</td>\n",
       "      <td>13.166667</td>\n",
       "      <td>6.583333</td>\n",
       "      <td>5.266667</td>\n",
       "      <td>1.269617e-02</td>\n",
       "    </tr>\n",
       "    <tr>\n",
       "      <th>C(x2)</th>\n",
       "      <td>3.0</td>\n",
       "      <td>125.000000</td>\n",
       "      <td>41.666667</td>\n",
       "      <td>33.333333</td>\n",
       "      <td>1.009190e-08</td>\n",
       "    </tr>\n",
       "    <tr>\n",
       "      <th>C(x1):C(x2)</th>\n",
       "      <td>6.0</td>\n",
       "      <td>68.833333</td>\n",
       "      <td>11.472222</td>\n",
       "      <td>9.177778</td>\n",
       "      <td>2.887221e-05</td>\n",
       "    </tr>\n",
       "    <tr>\n",
       "      <th>Residual</th>\n",
       "      <td>24.0</td>\n",
       "      <td>30.000000</td>\n",
       "      <td>1.250000</td>\n",
       "      <td>NaN</td>\n",
       "      <td>NaN</td>\n",
       "    </tr>\n",
       "  </tbody>\n",
       "</table>\n",
       "</div>"
      ],
      "text/plain": [
       "               df      sum_sq    mean_sq          F        PR(>F)\n",
       "C(x1)         2.0   13.166667   6.583333   5.266667  1.269617e-02\n",
       "C(x2)         3.0  125.000000  41.666667  33.333333  1.009190e-08\n",
       "C(x1):C(x2)   6.0   68.833333  11.472222   9.177778  2.887221e-05\n",
       "Residual     24.0   30.000000   1.250000        NaN           NaN"
      ]
     },
     "execution_count": 6,
     "metadata": {},
     "output_type": "execute_result"
    }
   ],
   "source": [
    "data = np.loadtxt('../../../hw/09第9章  数据的描述性统计方法习题解答/ti9_4.txt')\n",
    "x1 = np.tile(np.arange(1, 4), (12, 1)).T\n",
    "x2 = np.tile(np.array([1,1,1,2,2,2,3,3,3,4,4,4]), (3, 1))\n",
    "model_dic = {'x1': x1.flatten(), 'x2': x2.flatten(), 'y': data.flatten()}\n",
    "model = sm.formula.ols('y~C(x1)*C(x2)', model_dic).fit()\n",
    "sm.stats.anova_lm(model)"
   ]
  },
  {
   "cell_type": "markdown",
   "metadata": {},
   "source": [
    "因为 $p$ 值均小于 $0.05$，故可拒绝均值相等假设，即认为不同品种（因素 $A$）、不同化肥（因素 $B$）对小麦产量有显著影响，交互作用也是显著的"
   ]
  },
  {
   "cell_type": "markdown",
   "metadata": {},
   "source": [
    "### 5\n",
    "三因素方差分析"
   ]
  },
  {
   "cell_type": "code",
   "execution_count": 7,
   "metadata": {},
   "outputs": [
    {
     "data": {
      "text/html": [
       "<div>\n",
       "<style scoped>\n",
       "    .dataframe tbody tr th:only-of-type {\n",
       "        vertical-align: middle;\n",
       "    }\n",
       "\n",
       "    .dataframe tbody tr th {\n",
       "        vertical-align: top;\n",
       "    }\n",
       "\n",
       "    .dataframe thead th {\n",
       "        text-align: right;\n",
       "    }\n",
       "</style>\n",
       "<table border=\"1\" class=\"dataframe\">\n",
       "  <thead>\n",
       "    <tr style=\"text-align: right;\">\n",
       "      <th></th>\n",
       "      <th>df</th>\n",
       "      <th>sum_sq</th>\n",
       "      <th>mean_sq</th>\n",
       "      <th>F</th>\n",
       "      <th>PR(&gt;F)</th>\n",
       "    </tr>\n",
       "  </thead>\n",
       "  <tbody>\n",
       "    <tr>\n",
       "      <th>C(x1)</th>\n",
       "      <td>2.0</td>\n",
       "      <td>38195.791667</td>\n",
       "      <td>19097.895833</td>\n",
       "      <td>42.654788</td>\n",
       "      <td>6.194437e-11</td>\n",
       "    </tr>\n",
       "    <tr>\n",
       "      <th>C(x2)</th>\n",
       "      <td>1.0</td>\n",
       "      <td>18565.333333</td>\n",
       "      <td>18565.333333</td>\n",
       "      <td>41.465319</td>\n",
       "      <td>8.387889e-08</td>\n",
       "    </tr>\n",
       "    <tr>\n",
       "      <th>C(x3)</th>\n",
       "      <td>1.0</td>\n",
       "      <td>10034.083333</td>\n",
       "      <td>10034.083333</td>\n",
       "      <td>22.410935</td>\n",
       "      <td>2.406774e-05</td>\n",
       "    </tr>\n",
       "    <tr>\n",
       "      <th>Residual</th>\n",
       "      <td>43.0</td>\n",
       "      <td>19252.458333</td>\n",
       "      <td>447.731589</td>\n",
       "      <td>NaN</td>\n",
       "      <td>NaN</td>\n",
       "    </tr>\n",
       "  </tbody>\n",
       "</table>\n",
       "</div>"
      ],
      "text/plain": [
       "            df        sum_sq       mean_sq          F        PR(>F)\n",
       "C(x1)      2.0  38195.791667  19097.895833  42.654788  6.194437e-11\n",
       "C(x2)      1.0  18565.333333  18565.333333  41.465319  8.387889e-08\n",
       "C(x3)      1.0  10034.083333  10034.083333  22.410935  2.406774e-05\n",
       "Residual  43.0  19252.458333    447.731589        NaN           NaN"
      ]
     },
     "execution_count": 7,
     "metadata": {},
     "output_type": "execute_result"
    }
   ],
   "source": [
    "data = np.loadtxt('../../../hw/09第9章  数据的描述性统计方法习题解答/ti9_5.txt')\n",
    "x1 = np.vstack([np.ones((4, 4)), np.ones((4, 4))*2, np.ones((4, 4))*3])\n",
    "x2 = np.tile(np.array([[1, 1, 2, 2]]).T, (3, 4))\n",
    "x3 = np.tile(np.array([[1, 2]]).T, (6, 4))\n",
    "model_dic = {\n",
    "    'x1': x1.flatten(),\n",
    "    'x2': x2.flatten(),\n",
    "    'x3': x3.flatten(),\n",
    "    'y': data.flatten()\n",
    "}\n",
    "model = sm.formula.ols('y~C(x1)+C(x2)+C(x3)', model_dic).fit()\n",
    "sm.stats.anova_lm(model)"
   ]
  },
  {
   "cell_type": "markdown",
   "metadata": {},
   "source": [
    "因为 $p$ 值均小于 $0.05$，故可拒绝均值相等假设，即认为不同地理位置、不同广告、不同装潢下的销售量均有显著差异"
   ]
  },
  {
   "cell_type": "markdown",
   "metadata": {},
   "source": [
    "### 6\n",
    "#### 自动化车床管理\n",
    "> 1999年国赛A题"
   ]
  },
  {
   "cell_type": "code",
   "execution_count": 8,
   "metadata": {},
   "outputs": [
    {
     "data": {
      "image/png": "[encoded data removed]",
      "text/plain": [
       "<Figure size 1200x800 with 1 Axes>"
      ]
     },
     "metadata": {
      "needs_background": "light"
     },
     "output_type": "display_data"
    }
   ],
   "source": [
    "data = np.loadtxt('../../../hw/09第9章  数据的描述性统计方法习题解答/ti9_6.txt').flatten()\n",
    "plt.hist(data, 15)\n",
    "plt.show()"
   ]
  },
  {
   "cell_type": "markdown",
   "metadata": {},
   "source": [
    "1）"
   ]
  },
  {
   "cell_type": "code",
   "execution_count": 9,
   "metadata": {},
   "outputs": [
    {
     "data": {
      "text/plain": [
       "(600.0, 196.6291695121309)"
      ]
     },
     "execution_count": 9,
     "metadata": {},
     "output_type": "execute_result"
    }
   ],
   "source": [
    "mu = data.mean()\n",
    "sig = data.std(ddof=1)\n",
    "mu, sig"
   ]
  },
  {
   "cell_type": "code",
   "execution_count": 10,
   "metadata": {},
   "outputs": [
    {
     "data": {
      "image/png": "[encoded data removed]",
      "text/plain": [
       "<Figure size 1200x800 with 1 Axes>"
      ]
     },
     "metadata": {
      "needs_background": "light"
     },
     "output_type": "display_data"
    }
   ],
   "source": [
    "n = len(data)\n",
    "m = 8\n",
    "x1 = data.min()\n",
    "x2 = data.max()\n",
    "x = np.linspace(300, 900, m)\n",
    "qt = np.hstack([x1, x, x2]) # 分点\n",
    "h = plt.hist(data, qt)\n",
    "f = h[0]"
   ]
  },
  {
   "cell_type": "code",
   "execution_count": 11,
   "metadata": {},
   "outputs": [
    {
     "data": {
      "text/plain": [
       "(array([ 7.,  5., 10., 19., 20., 14., 11.,  8.,  6.]),\n",
       " array([ 6.35404751,  7.43609974, 11.86938294, 15.71351359, 17.25391244,\n",
       "        15.71351359, 11.86938294,  7.43609974,  6.35404751]))"
      ]
     },
     "execution_count": 11,
     "metadata": {},
     "output_type": "execute_result"
    }
   ],
   "source": [
    "p0 = ss.norm.cdf(x, mu, sig)\n",
    "p = np.hstack([p0[0], np.diff(p0), 1-p0[-1]])      # 各区间概率\n",
    "obs_freq = f\n",
    "exp_freq = p*n\n",
    "obs_freq, exp_freq"
   ]
  },
  {
   "cell_type": "code",
   "execution_count": 12,
   "metadata": {},
   "outputs": [
    {
     "name": "stdout",
     "output_type": "stream",
     "text": [
      "chis  = 2.5956174045925717\n",
      "p = 0.8576168235726485\n",
      "chisa = 12.591587243743977\n"
     ]
    }
   ],
   "source": [
    "chis, p = ss.chisquare(obs_freq, exp_freq, ddof=2)\n",
    "k = len(obs_freq)\n",
    "r = 2\n",
    "chisa = ss.chi2.ppf(0.95, k-r-1)\n",
    "print(f'{chis  = }\\n{p = }\\n{chisa = }')"
   ]
  },
  {
   "cell_type": "markdown",
   "metadata": {},
   "source": [
    "$\\chi^2 < \\chi_{0.05}^2(k-r-1)$，故在显著性水平 $\\alpha=0.05$ 下，接受 $H_0$，即认为服从正态分布 $N(600, 196.63^2)$，故下面可直接用此分布进行计算"
   ]
  },
  {
   "cell_type": "markdown",
   "metadata": {},
   "source": [
    "2）"
   ]
  },
  {
   "cell_type": "code",
   "execution_count": 13,
   "metadata": {},
   "outputs": [],
   "source": [
    "from scipy.integrate import quad\n",
    "f = 200     # 故障时产出零件的损失费用 ￥/件\n",
    "t = 10      # 进行检查的费用 ￥/次\n",
    "d = 3000    # 发现故障进行调节以恢复正常的费用 ￥/次\n",
    "k = 1000    # 未发现故障时更换一把新刀具的费用 ￥/次\n",
    "G = lambda x: ss.norm.cdf(x, mu, sig)\n",
    "n = np.arange(15, 41)\n",
    "s = np.arange(10, 31)\n",
    "TEL = []"
   ]
  },
  {
   "cell_type": "code",
   "execution_count": 14,
   "metadata": {},
   "outputs": [
    {
     "name": "stdout",
     "output_type": "stream",
     "text": [
      "检查间隔： 31.0\n",
      "更换周期： 341.0\n",
      "最小费用为： 4.402746462138195\n"
     ]
    }
   ],
   "source": [
    "for i in n:         # 检查间隔\n",
    "    for j in s:\n",
    "        m = i*j     # 更换周期\n",
    "        I = quad(G, 0, m-i)[0]\n",
    "        EC=(((j-1)*t+k)*(1-G(m))+t/i*(m-i)*G(m-i)+\n",
    "        (d+(i+1)*f/2)*(G(m-i)-G(0))-t/i*I)\n",
    "        ER=m-m*G(m)+(m-i)*G(m-i)-I\n",
    "        TEL.append([i, m, EC/ER])\n",
    "TEL=np.array(TEL); ind=np.argmin(TEL[:,2])  #求最小值的地址\n",
    "n0=TEL[ind,0]; m0=TEL[ind,1]\n",
    "print('检查间隔：', n0); print('更换周期：', m0)\n",
    "print('最小费用为：', TEL[ind,2])"
   ]
  }
 ],
 "metadata": {
  "kernelspec": {
   "display_name": "Python 3.9.12 ('mamo')",
   "language": "python",
   "name": "python3"
  },
  "language_info": {
   "codemirror_mode": {
    "name": "ipython",
    "version": 3
   },
   "file_extension": ".py",
   "mimetype": "text/x-python",
   "name": "python",
   "nbconvert_exporter": "python",
   "pygments_lexer": "ipython3",
   "version": "3.9.12"
  },
  "orig_nbformat": 4,
  "vscode": {
   "interpreter": {
    "hash": "bc4866e053c759d6a7b6c75a6ee7f30413af3cb1408278924a32b7c27fdde7d0"
   }
  }
 },
 "nbformat": 4,
 "nbformat_minor": 2
}
