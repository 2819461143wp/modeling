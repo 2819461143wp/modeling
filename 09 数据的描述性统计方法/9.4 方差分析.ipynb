{
 "cells": [
  {
   "cell_type": "markdown",
   "metadata": {
    "pycharm": {
     "name": "#%% md\n"
    }
   },
   "source": [
    "---\n",
    "### 9.4.1 单因素方差分析方法\n",
    "#### 1. 模型\n",
    "$$\n",
    "\\begin{cases}\n",
    "X_{ij}=\\mu+\\alpha_i+\\varepsilon_{ij},\\\\\n",
    "\\sum\\limits_{i=1}^r n_i\\alpha_i=0,\\\\\n",
    "\\varepsilon_{ij}\\sim N(0,\\sigma^2),\\quad i=1,\\cdots,r,\\ j=1,\\cdots,n_i\\\n",
    "\\end{cases}\n",
    "$$\n",
    "原假设为\n",
    "$$\n",
    "H_0:\\alpha_1=\\alpha_2=\\cdots=\\alpha_r=0\n",
    "$$\n",
    "#### 2. 统计分析\n",
    "$$\n",
    "F=\\dfrac{S_A/(r-1)}{S_E/(n-r)}\\sim F(r-1, n-r)\n",
    "$$\n",
    "检验规则为\n",
    "$$\n",
    "F<F_\\alpha(r-1, n-r){\\text 时接受}H_0{\\text ，即认为因素{\\mathit A}对试验结果没有显著影响，否则拒绝H_0}\n",
    "$$\n",
    "#### 3. 方差分析表\n",
    "|     方差来源     | 离差平方和 | 自由度 |    均方     |              $F$ 值              | 概率 |\n",
    "| :--------------: | :--------: | :----: | :---------: | :------------------------------: | :--: |\n",
    "| 因素 $A$（组间） |   $S_A$    | $r-1$  | $S_A/(r-1)$ | $F=\\dfrac{S_A/(r-1)}{S_E/(n-r)}$ | $p$  |\n",
    "|   误差（组内）   |   $S_E$    | $n-r$  | $S_E/(n-r)$ |                                  |      |\n",
    "|       总和       |   $S_T$    | $n-1$  |             |                                  |      |\n",
    "\n",
    "#### 4. Statsmodels 实现\n",
    "1）"
   ]
  },
  {
   "cell_type": "code",
   "execution_count": 1,
   "metadata": {
    "pycharm": {
     "name": "#%%\n"
    }
   },
   "outputs": [
    {
     "data": {
      "text/html": [
       "<div>\n",
       "<style scoped>\n",
       "    .dataframe tbody tr th:only-of-type {\n",
       "        vertical-align: middle;\n",
       "    }\n",
       "\n",
       "    .dataframe tbody tr th {\n",
       "        vertical-align: top;\n",
       "    }\n",
       "\n",
       "    .dataframe thead th {\n",
       "        text-align: right;\n",
       "    }\n",
       "</style>\n",
       "<table border=\"1\" class=\"dataframe\">\n",
       "  <thead>\n",
       "    <tr style=\"text-align: right;\">\n",
       "      <th></th>\n",
       "      <th>df</th>\n",
       "      <th>sum_sq</th>\n",
       "      <th>mean_sq</th>\n",
       "      <th>F</th>\n",
       "      <th>PR(&gt;F)</th>\n",
       "    </tr>\n",
       "  </thead>\n",
       "  <tbody>\n",
       "    <tr>\n",
       "      <th>C(x)</th>\n",
       "      <td>3.0</td>\n",
       "      <td>60153.333333</td>\n",
       "      <td>20051.111111</td>\n",
       "      <td>3.727742</td>\n",
       "      <td>0.042004</td>\n",
       "    </tr>\n",
       "    <tr>\n",
       "      <th>Residual</th>\n",
       "      <td>12.0</td>\n",
       "      <td>64546.666667</td>\n",
       "      <td>5378.888889</td>\n",
       "      <td>NaN</td>\n",
       "      <td>NaN</td>\n",
       "    </tr>\n",
       "  </tbody>\n",
       "</table>\n",
       "</div>"
      ],
      "text/plain": [
       "            df        sum_sq       mean_sq         F    PR(>F)\n",
       "C(x)       3.0  60153.333333  20051.111111  3.727742  0.042004\n",
       "Residual  12.0  64546.666667   5378.888889       NaN       NaN"
      ]
     },
     "execution_count": 1,
     "metadata": {},
     "output_type": "execute_result"
    }
   ],
   "source": [
    "import numpy as np\n",
    "import pandas as pd\n",
    "import statsmodels.api as sm\n",
    "\n",
    "df = pd.read_excel('../../09第9章  数据的描述性统计方法/data9_18.xlsx', header=None)\n",
    "data = df.values.T\n",
    "y = data[~np.isnan(data)]\n",
    "x = np.hstack([np.ones(5), np.full(4, 2), np.full(4, 3), np.full(3, 4)])\n",
    "\n",
    "model_dic = {'x':x, 'y':y}\n",
    "model = sm.formula.ols('y~C(x)', model_dic).fit()\n",
    "anovat = sm.stats.anova_lm(model)\n",
    "anovat"
   ]
  },
  {
   "cell_type": "markdown",
   "metadata": {
    "pycharm": {
     "name": "#%% md\n"
    }
   },
   "source": [
    "${\\rm PR}=0.042004<0.05$，拒绝 $H_0$，即认为这几种工艺制成的灯泡寿命有显著差异"
   ]
  },
  {
   "cell_type": "markdown",
   "metadata": {
    "pycharm": {
     "name": "#%% md\n"
    }
   },
   "source": [
    "2）均衡数据"
   ]
  },
  {
   "cell_type": "code",
   "execution_count": 2,
   "metadata": {
    "pycharm": {
     "name": "#%%\n"
    }
   },
   "outputs": [
    {
     "data": {
      "text/html": [
       "<div>\n",
       "<style scoped>\n",
       "    .dataframe tbody tr th:only-of-type {\n",
       "        vertical-align: middle;\n",
       "    }\n",
       "\n",
       "    .dataframe tbody tr th {\n",
       "        vertical-align: top;\n",
       "    }\n",
       "\n",
       "    .dataframe thead th {\n",
       "        text-align: right;\n",
       "    }\n",
       "</style>\n",
       "<table border=\"1\" class=\"dataframe\">\n",
       "  <thead>\n",
       "    <tr style=\"text-align: right;\">\n",
       "      <th></th>\n",
       "      <th>df</th>\n",
       "      <th>sum_sq</th>\n",
       "      <th>mean_sq</th>\n",
       "      <th>F</th>\n",
       "      <th>PR(&gt;F)</th>\n",
       "    </tr>\n",
       "  </thead>\n",
       "  <tbody>\n",
       "    <tr>\n",
       "      <th>C(x)</th>\n",
       "      <td>4.0</td>\n",
       "      <td>22.7680</td>\n",
       "      <td>5.692000</td>\n",
       "      <td>3.949578</td>\n",
       "      <td>0.02199</td>\n",
       "    </tr>\n",
       "    <tr>\n",
       "      <th>Residual</th>\n",
       "      <td>15.0</td>\n",
       "      <td>21.6175</td>\n",
       "      <td>1.441167</td>\n",
       "      <td>NaN</td>\n",
       "      <td>NaN</td>\n",
       "    </tr>\n",
       "  </tbody>\n",
       "</table>\n",
       "</div>"
      ],
      "text/plain": [
       "            df   sum_sq   mean_sq         F   PR(>F)\n",
       "C(x)       4.0  22.7680  5.692000  3.949578  0.02199\n",
       "Residual  15.0  21.6175  1.441167       NaN      NaN"
      ]
     },
     "execution_count": 2,
     "metadata": {},
     "output_type": "execute_result"
    }
   ],
   "source": [
    "from scipy.stats import f\n",
    "\n",
    "data = np.loadtxt('../../09第9章  数据的描述性统计方法/data9_19.txt')\n",
    "mu = data.mean(axis=1)\n",
    "y = data.flatten()\n",
    "x = np.tile(np.arange(1, 6), (4, 1)).T.flatten()\n",
    "\n",
    "model_dic = {'x':x, 'y':y}\n",
    "model = sm.formula.ols(\"y~C(x)\", model_dic).fit()\n",
    "anovat = sm.stats.anova_lm(model)\n",
    "anovat"
   ]
  },
  {
   "cell_type": "code",
   "execution_count": 3,
   "metadata": {
    "pycharm": {
     "name": "#%%\n"
    }
   },
   "outputs": [
    {
     "data": {
      "text/plain": [
       "3.055568275906593"
      ]
     },
     "execution_count": 3,
     "metadata": {},
     "output_type": "execute_result"
    }
   ],
   "source": [
    "fa = f.ppf(0.95, anovat.df[0], anovat.df[1])\n",
    "fa"
   ]
  },
  {
   "cell_type": "markdown",
   "metadata": {
    "pycharm": {
     "name": "#%% md\n"
    }
   },
   "source": [
    "由于 $F=3.9496>3.0556=F_{0.05}(4, 15)$，故拒绝 $H_0$，即认为温度对产品收率有显著影响"
   ]
  },
  {
   "cell_type": "markdown",
   "metadata": {
    "pycharm": {
     "name": "#%% md\n"
    }
   },
   "source": [
    "### 9.4.2 双因素方差分析方法\n",
    "#### 1. 数学模型\n",
    "$$\n",
    "\\begin{cases}\n",
    "X_{ij}=\\mu+\\alpha_j+\\beta_i+\\gamma_{ij}+\\varepsilon_{ijk},\\\\[1ex]\n",
    "\\sum\\limits_{j=1}^s\\alpha_j=0,\\ \\sum\\limits_{i=1}^r\\beta_i=0,\\ \\sum\\limits_{i=1}^r\\gamma_{ij}=\\sum\\limits_{j=1}^s\\gamma_{ij}=0,\\\\[2ex]\n",
    "\\varepsilon_{ijk}\\sim N(0,\\sigma^2),\\quad i=1,\\cdots,r,\\ j=1,\\cdots,s,\\ k=1,\\cdots,t\n",
    "\\end{cases}\n",
    "$$\n",
    "原假设为\n",
    "$$\n",
    "\\begin{align*}\n",
    "H_{01}&:\\alpha_j=0,\\quad j=1,\\cdots,s,\\\\\n",
    "H_{02}&:\\beta_i=0,\\quad i=1,\\cdots,r,\\\\\n",
    "H_{03}&:\\gamma_{ij}=0,\\quad i=1,\\cdots,r,\\ j=1,\\cdots,s\n",
    "\\end{align*}\n",
    "$$"
   ]
  },
  {
   "cell_type": "markdown",
   "metadata": {
    "pycharm": {
     "name": "#%% md\n"
    }
   },
   "source": [
    "#### 2. 无交互影响的双因素方差分析\n",
    "如果可事先判定两因素之间没有交互影响，每组试验就不必重复，即令 $t=1,\\ \\gamma_{ij}=0$\n",
    "\n",
    "当 $H_{01}$ 成立时，\n",
    "$$\n",
    "F_A=\\dfrac{\\dfrac{S_A}{s-1}}{\\dfrac{S_E}{(r-1)(s-1)}}\\sim F(s-1, (r-1)(s-1))\n",
    "$$\n",
    "当 $H_{02}$ 成立时，\n",
    "$$\n",
    "F_B=\\dfrac{\\dfrac{S_B}{r-1}}{\\dfrac{S_E}{(r-1)(s-1)}}\\sim F(r-1, (r-1)(s-1))\n",
    "$$\n",
    "检验规则为\n",
    "$$\n",
    "F_A<F_\\alpha(s-1, (r-1)(s-1)){\\text 时接受{\\mathit H_{01}}，否则拒绝{\\mathit H_{01}}}\\\\\n",
    "F_B<F_\\alpha(r-1, (r-1)(s-1)){\\text 时接受{\\mathit H_{02}}，否则拒绝{\\mathit H_{02}}}\n",
    "$$\n",
    "双因素方差分析表\n",
    "| 方差来源 | 离差平方和 |    自由度    |        均方        |                  $F$ 值                   |\n",
    "| :------: | :--------: | :----------: | :----------------: | :---------------------------------------: |\n",
    "| 因素 $A$ |   $S_A$    |    $s-1$     |    $S_A/(s-1)$     | $F_A=\\dfrac{S_A/(s-1)}{S_E/[(r-1)(s-1)]}$ |\n",
    "| 因素 $B$ |   $S_B$    |    $r-1$     |    $S_B/(r-1)$     | $F_B=\\dfrac{S_B/(r-1)}{S_E/[(r-1)(s-1)]}$ |\n",
    "|   误差   |   $S_E$    | $(r-1)(s-1)$ | $S_E/[(r-1)(s-1)]$ |                                           |\n",
    "|   总和   |   $S_T$    |    $rs-1$    |                    |                                           |"
   ]
  },
  {
   "cell_type": "code",
   "execution_count": 4,
   "metadata": {
    "pycharm": {
     "name": "#%%\n"
    }
   },
   "outputs": [
    {
     "data": {
      "text/html": [
       "<div>\n",
       "<style scoped>\n",
       "    .dataframe tbody tr th:only-of-type {\n",
       "        vertical-align: middle;\n",
       "    }\n",
       "\n",
       "    .dataframe tbody tr th {\n",
       "        vertical-align: top;\n",
       "    }\n",
       "\n",
       "    .dataframe thead th {\n",
       "        text-align: right;\n",
       "    }\n",
       "</style>\n",
       "<table border=\"1\" class=\"dataframe\">\n",
       "  <thead>\n",
       "    <tr style=\"text-align: right;\">\n",
       "      <th></th>\n",
       "      <th>df</th>\n",
       "      <th>sum_sq</th>\n",
       "      <th>mean_sq</th>\n",
       "      <th>F</th>\n",
       "      <th>PR(&gt;F)</th>\n",
       "    </tr>\n",
       "  </thead>\n",
       "  <tbody>\n",
       "    <tr>\n",
       "      <th>C(x1)</th>\n",
       "      <td>3.0</td>\n",
       "      <td>157.590000</td>\n",
       "      <td>52.530000</td>\n",
       "      <td>0.430586</td>\n",
       "      <td>0.738747</td>\n",
       "    </tr>\n",
       "    <tr>\n",
       "      <th>C(x2)</th>\n",
       "      <td>2.0</td>\n",
       "      <td>223.846667</td>\n",
       "      <td>111.923333</td>\n",
       "      <td>0.917429</td>\n",
       "      <td>0.449118</td>\n",
       "    </tr>\n",
       "    <tr>\n",
       "      <th>Residual</th>\n",
       "      <td>6.0</td>\n",
       "      <td>731.980000</td>\n",
       "      <td>121.996667</td>\n",
       "      <td>NaN</td>\n",
       "      <td>NaN</td>\n",
       "    </tr>\n",
       "  </tbody>\n",
       "</table>\n",
       "</div>"
      ],
      "text/plain": [
       "           df      sum_sq     mean_sq         F    PR(>F)\n",
       "C(x1)     3.0  157.590000   52.530000  0.430586  0.738747\n",
       "C(x2)     2.0  223.846667  111.923333  0.917429  0.449118\n",
       "Residual  6.0  731.980000  121.996667       NaN       NaN"
      ]
     },
     "execution_count": 4,
     "metadata": {},
     "output_type": "execute_result"
    }
   ],
   "source": [
    "data = np.loadtxt('../../09第9章  数据的描述性统计方法/data9_20.txt')\n",
    "y = data.flatten()\n",
    "x1 = np.tile(np.arange(1, 5), (3, 1)).T.flatten()\n",
    "x2 = np.tile(np.arange(1, 4), (4, 1)).flatten()\n",
    "model_dict = {'x1':x1, 'x2':x2, 'y':y}\n",
    "model = sm.formula.ols('y~C(x1)+C(x2)', model_dict).fit()\n",
    "sm.stats.anova_lm(model)"
   ]
  },
  {
   "cell_type": "markdown",
   "metadata": {
    "pycharm": {
     "name": "#%% md\n"
    }
   },
   "source": [
    "由 $p$ 值可知各种燃料和推进器之间的差异对火箭射程无显著影响"
   ]
  },
  {
   "cell_type": "markdown",
   "metadata": {
    "pycharm": {
     "name": "#%% md\n"
    }
   },
   "source": [
    "#### 3. 关于交互效应的双因素方差分析\n",
    "当 $H_{03}$ 成立时，\n",
    "$$\n",
    "F_{AB}=\\dfrac{\\dfrac{S_{AB}}{(r-1)(s-1)}}{\\dfrac{S_E}{rs(t-1)}}\\sim F((r-1)(s-1), rs(t-1))\n",
    "$$\n",
    "检验规则为\n",
    "$$\n",
    "\\begin{align*}\n",
    "&F_A>F_\\alpha(s-1, rs(t-1)){\\text 时拒绝{\\mathit H_{01}}}\\\\\n",
    "&F_B>F_\\alpha(r-1, rs(t-1)){\\text 时拒绝{\\mathit H_{02}}}\\\\\n",
    "&F_{AB}>F_\\alpha((r-1)(s-1), rs(t-1)){\\text 时拒绝{\\mathit H_{03}}，认为交互作用显著}\n",
    "\\end{align*}\n",
    "$$\n",
    "双因素方差分析表\n",
    "| 方差来源 | 离差平方和 |    自由度    |         均方          |                      $F$ 值                       |\n",
    "| :------: | :--------: | :----------: | :-------------------: | :-----------------------------------------------: |\n",
    "| 因素 $A$ |   $S_A$    |    $s-1$     |      $S_A/(s-1)$      |      $F_A=\\dfrac{S_A/(s-1)}{S_E/[rs(t-1)]}$       |\n",
    "| 因素 $B$ |   $S_B$    |    $r-1$     |      $S_B/(r-1)$      |      $F_B=\\dfrac{S_B/(r-1)}{S_E/[rs(t-1)]}$       |\n",
    "| 交互效应 |  $S_{AB}$  | $(r-1)(s-1)$ | $S_{AB}/[(r-1)(s-1)]$ | $F_{AB}=\\dfrac{S_{AB}/(r-1)(s-1)}{S_E/[rs(t-1)]}$ |\n",
    "|   误差   |   $S_E$    |  $rs(t-1)$   |    $S_E/[rs(t-1)]$    |                                                   |\n",
    "|   总和   |   $S_T$    |   $rst-1$    |                       |                                                   |"
   ]
  },
  {
   "cell_type": "code",
   "execution_count": 5,
   "metadata": {
    "pycharm": {
     "name": "#%%\n"
    }
   },
   "outputs": [
    {
     "data": {
      "text/html": [
       "<div>\n",
       "<style scoped>\n",
       "    .dataframe tbody tr th:only-of-type {\n",
       "        vertical-align: middle;\n",
       "    }\n",
       "\n",
       "    .dataframe tbody tr th {\n",
       "        vertical-align: top;\n",
       "    }\n",
       "\n",
       "    .dataframe thead th {\n",
       "        text-align: right;\n",
       "    }\n",
       "</style>\n",
       "<table border=\"1\" class=\"dataframe\">\n",
       "  <thead>\n",
       "    <tr style=\"text-align: right;\">\n",
       "      <th></th>\n",
       "      <th>df</th>\n",
       "      <th>sum_sq</th>\n",
       "      <th>mean_sq</th>\n",
       "      <th>F</th>\n",
       "      <th>PR(&gt;F)</th>\n",
       "    </tr>\n",
       "  </thead>\n",
       "  <tbody>\n",
       "    <tr>\n",
       "      <th>C(x1)</th>\n",
       "      <td>3.0</td>\n",
       "      <td>261.675000</td>\n",
       "      <td>87.225000</td>\n",
       "      <td>4.417388</td>\n",
       "      <td>0.025969</td>\n",
       "    </tr>\n",
       "    <tr>\n",
       "      <th>C(x2)</th>\n",
       "      <td>2.0</td>\n",
       "      <td>370.980833</td>\n",
       "      <td>185.490417</td>\n",
       "      <td>9.393902</td>\n",
       "      <td>0.003506</td>\n",
       "    </tr>\n",
       "    <tr>\n",
       "      <th>C(x1):C(x2)</th>\n",
       "      <td>6.0</td>\n",
       "      <td>1768.692500</td>\n",
       "      <td>294.782083</td>\n",
       "      <td>14.928825</td>\n",
       "      <td>0.000062</td>\n",
       "    </tr>\n",
       "    <tr>\n",
       "      <th>Residual</th>\n",
       "      <td>12.0</td>\n",
       "      <td>236.950000</td>\n",
       "      <td>19.745833</td>\n",
       "      <td>NaN</td>\n",
       "      <td>NaN</td>\n",
       "    </tr>\n",
       "  </tbody>\n",
       "</table>\n",
       "</div>"
      ],
      "text/plain": [
       "               df       sum_sq     mean_sq          F    PR(>F)\n",
       "C(x1)         3.0   261.675000   87.225000   4.417388  0.025969\n",
       "C(x2)         2.0   370.980833  185.490417   9.393902  0.003506\n",
       "C(x1):C(x2)   6.0  1768.692500  294.782083  14.928825  0.000062\n",
       "Residual     12.0   236.950000   19.745833        NaN       NaN"
      ]
     },
     "execution_count": 5,
     "metadata": {},
     "output_type": "execute_result"
    }
   ],
   "source": [
    "data = np.loadtxt('../../09第9章  数据的描述性统计方法/data9_21.txt')\n",
    "x1 = np.tile(np.arange(1, 5), (6, 1)).T\n",
    "x2 = np.tile(np.array([1,1,2,2,3,3]), (4, 1))\n",
    "model_dic = {'x1': x1.flatten(), 'x2': x2.flatten(), 'y': data.flatten()}\n",
    "model = sm.formula.ols('y~C(x1)*C(x2)', model_dic).fit()\n",
    "sm.stats.anova_lm(model)"
   ]
  },
  {
   "cell_type": "markdown",
   "metadata": {
    "pycharm": {
     "name": "#%% md\n"
    }
   },
   "source": [
    "因为 $p$ 值均小于 $0.05$，故可拒绝均值相等假设，即认为不同燃料（因素 $A$）、不同推进器（因素 $B$）下的射程有显著差异，交互作用也是显著的"
   ]
  }
 ],
 "metadata": {
  "kernelspec": {
   "display_name": "Python 3.9.12 ('mamo')",
   "language": "python",
   "name": "python3"
  },
  "language_info": {
   "codemirror_mode": {
    "name": "ipython",
    "version": 3
   },
   "file_extension": ".py",
   "mimetype": "text/x-python",
   "name": "python",
   "nbconvert_exporter": "python",
   "pygments_lexer": "ipython3",
   "version": "3.9.12"
  },
  "orig_nbformat": 4,
  "vscode": {
   "interpreter": {
    "hash": "bc4866e053c759d6a7b6c75a6ee7f30413af3cb1408278924a32b7c27fdde7d0"
   }
  }
 },
 "nbformat": 4,
 "nbformat_minor": 2
}