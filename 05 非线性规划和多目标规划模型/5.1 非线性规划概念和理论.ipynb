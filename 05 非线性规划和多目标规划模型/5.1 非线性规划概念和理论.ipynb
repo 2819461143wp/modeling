{
 "cells": [
  {
   "cell_type": "markdown",
   "metadata": {},
   "source": [
    "---\n",
    "### 5.1.1 非线性规划问题的数学模型\n",
    "$$\n",
    "\\begin{align*}\n",
    "&{\\rm min}\\ f(\\boldsymbol x),\\\\\n",
    "&{\\rm s.t.}\n",
    "\t\\begin{cases}\n",
    "\tg_i(\\boldsymbol x) \\leq 0, \\quad i=1,2,\\cdots,p,\\\\\n",
    "\th_j(\\boldsymbol x) = 0,\\quad  j=1,2,\\cdots,q.\n",
    "\t\\end{cases}\n",
    "\\end{align*}\n",
    "$$\n",
    "\n",
    "### 5.1.2 无约束非线性规划的求解\n",
    "无条件极值，利用黑塞矩阵\n",
    "\n",
    "### 5.1.3 有约束非线性规划的求解\n",
    "有条件极值，中心思想是转化为无约束规划\n",
    "1. 对于只有等式约束的非线性规划问题，利用拉格朗日乘数法\n",
    "$$\n",
    "\\nabla f\\left({\\boldsymbol x}^*\\right)+\\sum\\limits_{j=1}^q \\lambda_j^*\\,\\nabla h_j \\left({\\boldsymbol x}^*\\right)=0\n",
    "$$\n",
    "2. 对于一般形式的有约束非线性规划，利用罚函数法\n",
    "$$\n",
    "T({\\boldsymbol x}, M)=f(\\boldsymbol x)+M\\sum\\limits_{i=1}^p\\left[{\\rm max}\\ \\left\\{0, g_i(\\boldsymbol x)\\right\\}\\right] + M\\sum\\limits_{j=1}^q\\left[h_j(\\boldsymbol x)\\right]^2\n",
    "$$\n",
    "$$\n",
    "{\\rm min}\\ T({\\boldsymbol x, M}),\\ \\boldsymbol x \\in \\mathbb R^n\n",
    "$$\n",
    "\n",
    "### 5.1.4 凸规划\n",
    "凸函数的定义本质上是说凸函数上任意两点之间的线性连线不低于这个函数的值，或曲线上各点的切线在曲线之下"
   ]
  },
  {
   "cell_type": "code",
   "execution_count": 1,
   "metadata": {},
   "outputs": [
    {
     "name": "stdout",
     "output_type": "stream",
     "text": [
      "最优解为：[0.55345671 1.30631433]\n",
      "最优值为：3.798944619145067\n"
     ]
    },
    {
     "data": {
      "text/plain": [
       "(None, None)"
      ]
     },
     "execution_count": 1,
     "metadata": {},
     "output_type": "execute_result"
    }
   ],
   "source": [
    "import cvxpy as cp\n",
    "import numpy as np\n",
    "\n",
    "x = cp.Variable(2, nonneg=True)\n",
    "obj = cp.Minimize(x[0]**2 + x[1]**2 - 4*x[0] + 4)\n",
    "cons = [\n",
    "    -x[0] + x[1] - 2 <= 0,\n",
    "    x[0]**2 - x[1] + 1 <= 0,\n",
    "]\n",
    "prob = cp.Problem(obj, cons)\n",
    "prob.solve(solver='GUROBI')\n",
    "print(f'最优解为：{x.value}'), print(f'最优值为：{prob.value}')"
   ]
  },
  {
   "cell_type": "markdown",
   "metadata": {},
   "source": [
    "#### 库恩-塔克条件 (K-T 条件)\n",
    "若 $\\boldsymbol x$ 满足库恩-塔克条件，则 $\\boldsymbol x$ 必为凸规划的局部最优解，进而为全局最优解"
   ]
  }
 ],
 "metadata": {
  "kernelspec": {
   "display_name": "Python 3.9.12 ('mamo')",
   "language": "python",
   "name": "python3"
  },
  "language_info": {
   "codemirror_mode": {
    "name": "ipython",
    "version": 3
   },
   "file_extension": ".py",
   "mimetype": "text/x-python",
   "name": "python",
   "nbconvert_exporter": "python",
   "pygments_lexer": "ipython3",
   "version": "3.9.12"
  },
  "orig_nbformat": 4,
  "vscode": {
   "interpreter": {
    "hash": "bc4866e053c759d6a7b6c75a6ee7f30413af3cb1408278924a32b7c27fdde7d0"
   }
  }
 },
 "nbformat": 4,
 "nbformat_minor": 2
}
