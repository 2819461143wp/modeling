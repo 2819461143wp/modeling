{
 "cells": [
  {
   "cell_type": "markdown",
   "metadata": {},
   "source": [
    "---\n",
    "在多目标规划问题中，一般不提最优解的概念，只提**满意解**或**有效解**\n",
    "\n",
    "### 5.5.2 求有效解的几种常用方法\n",
    "1. 线性加权法\n",
    "   \n",
    "   根据目标的重要性确定一个权重，以目标函数的加权平均值为评价函数，使其达到最优\n",
    "   $$\n",
    "   \\begin{align*}\n",
    "   &{\\rm min}\\ \\sum\\limits_{i=1}^m w_if_i(\\boldsymbol x),\\\\\n",
    "   &{\\rm s.t.}\\ {\\boldsymbol x}\\in {\\mathit \\Omega}.\n",
    "   \\end{align*}\n",
    "   $$\n",
    "2. $\\varepsilon$ 约束法\n",
    "   \n",
    "   根据决策者的偏好，选择一个主要关注的参考目标，例如 $f_k(\\boldsymbol x)$ ，而将其他 $m-1$ 个目标函数放到约束条件中，参数 $\\varepsilon_i$ 是决策者对第 $i$ 个目标而言的容许接受阈值\n",
    "   $$\n",
    "   \\begin{align*}\n",
    "   &{\\rm min}\\ f_k(\\boldsymbol x),\\\\\n",
    "   &{\\rm s.t.}\n",
    "   \t\\begin{cases}\n",
    "   \tf_i(\\boldsymbol x)\\leq \\varepsilon_i,\\quad i=1,2,\\cdots,m,\\\\\n",
    "   \t{\\boldsymbol x} \\in {\\mathit \\Omega}.\n",
    "   \t\\end{cases}\n",
    "   \\end{align*}\n",
    "   $$\n",
    "3. 理想点法\n",
    "   \n",
    "   以每个单目标最优值为该目标的理想值，使每个目标函数值与理想值的差的加权平方和最小\n",
    "   $$\n",
    "   \\mathop{\\rm min}\\limits_{{\\boldsymbol x}\\in{\\mathit \\Omega}}\\ \\sum\\limits_{i=1}^m w_i\\left(f_i - f_i^*\\right)^2\n",
    "   $$\n",
    "   其中 $f_i^*=\\mathop {\\rm min}\\limits_{{\\boldsymbol x}\\in{\\mathit \\Omega}}f_i(\\boldsymbol x), \\quad i=1,2,\\cdots,m$，权重进行归一化处理，即满足 $w_i \\geq 0,\\ \\sum\\limits_{i=1}^m w_i=1$\n",
    "4. 优先级法 (序贯解法)\n",
    "   \n",
    "   根据目标重要性分成不同优先级，先求优先级高的目标函数最优值，在确保优先级高的目标获得不低于最优值的条件下，再求优先级低的目标函数\n",
    "   $$\n",
    "   \\begin{align*}\n",
    "   &f_1^*=\\mathop {\\rm min}\\limits_{{\\boldsymbol x}\\in{\\mathit \\Omega}}f_1(\\boldsymbol x)\\\\\n",
    "   &\\\\\n",
    "   &{\\rm min}\\ f_2(\\boldsymbol x),\\\\\n",
    "   &{\\rm s.t.}\n",
    "\t   \\begin{cases}\n",
    "\t   f_i(\\boldsymbol x) = f_1^*,\\\\\n",
    "\t   {\\boldsymbol x}\\in {\\mathit \\Omega}\n",
    "\t   \\end{cases}\\\\\n",
    "   &\\cdots{\\text 依次递推求解}\n",
    "   \\end{align*}\n",
    "   $$\n",
    "   在同一等级的目标可能会有多个，此时可结合加权方法"
   ]
  },
  {
   "cell_type": "markdown",
   "metadata": {},
   "source": [
    "### 生产与污染问题"
   ]
  },
  {
   "cell_type": "code",
   "execution_count": 1,
   "metadata": {},
   "outputs": [],
   "source": [
    "import numpy as np\n",
    "from scipy.optimize import minimize\n",
    "\n",
    "a = np.array([[0.5, 0.25], [0.2, 0.2], [1, 5]])\n",
    "b = np.array([8, 4, 72])\n",
    "minimum_output = 10\n",
    "profit = np.array([2, 3])\n",
    "pollution = np.array([1, 2])\n",
    "c = np.vstack([-profit, pollution])"
   ]
  },
  {
   "cell_type": "markdown",
   "metadata": {},
   "source": [
    "#### 1. 线性加权法\n",
    "权重 $w_1, w_2$ 均设为 $0.5$\n",
    "> 也可采用`cvxpy`求解"
   ]
  },
  {
   "cell_type": "code",
   "execution_count": 2,
   "metadata": {},
   "outputs": [
    {
     "name": "stdout",
     "output_type": "stream",
     "text": [
      "     fun: -10.000000149011631\n",
      "     jac: array([-0.5, -0.5])\n",
      " message: 'Optimization terminated successfully'\n",
      "    nfev: 12\n",
      "     nit: 4\n",
      "    njev: 4\n",
      "  status: 0\n",
      " success: True\n",
      "       x: array([10.34757892,  9.65242138])\n"
     ]
    }
   ],
   "source": [
    "w = np.array([0.5, 0.5])\n",
    "\n",
    "def obj(x):\n",
    "    return w @ (c @ x)\n",
    "\n",
    "def ineq(x):\n",
    "    return [\n",
    "        b[0] - a[0] @ x,    # b - a @ x 的写法报错：只有大小为 1的 array可以被转换为 Python标量\n",
    "        b[1] - a[1] @ x,\n",
    "        b[2] - a[2] @ x,\n",
    "        np.sum(x) - minimum_output\n",
    "    ]\n",
    "\n",
    "cons = [{'type': 'ineq', 'fun': ineq}]\n",
    "bd = [(0, np.inf) for _ in range(2)]\n",
    "ret = minimize(obj, np.random.rand(2), constraints=cons, bounds=bd)\n",
    "print(ret)"
   ]
  },
  {
   "cell_type": "markdown",
   "metadata": {},
   "source": [
    "#### 2. 理想点法"
   ]
  },
  {
   "cell_type": "code",
   "execution_count": 3,
   "metadata": {},
   "outputs": [
    {
     "data": {
      "text/plain": [
       "(52.99999999999999, 10.0)"
      ]
     },
     "execution_count": 3,
     "metadata": {},
     "output_type": "execute_result"
    }
   ],
   "source": [
    "import cvxpy as cp\n",
    "\n",
    "x = cp.Variable(2, nonneg=True)\n",
    "cons = [\n",
    "    a @ x <= b,\n",
    "    cp.sum(x) >= minimum_output\n",
    "]\n",
    "\n",
    "obj1 = cp.Maximize(profit @ x)\n",
    "prob1 = cp.Problem(obj1, cons)\n",
    "prob1.solve(solver='GUROBI')\n",
    "f1star = prob1.value\n",
    "\n",
    "obj2 = cp.Minimize(pollution @ x)\n",
    "prob2 = cp.Problem(obj2, cons)\n",
    "prob2.solve(solver='GUROBI')\n",
    "f2star = prob2.value\n",
    "\n",
    "f1star, f2star"
   ]
  },
  {
   "cell_type": "code",
   "execution_count": 4,
   "metadata": {},
   "outputs": [
    {
     "name": "stdout",
     "output_type": "stream",
     "text": [
      "最优解为：[13.36  5.28]\n",
      "最优值为：302.7600000000323\n"
     ]
    },
    {
     "data": {
      "text/plain": [
       "(None, None)"
      ]
     },
     "execution_count": 4,
     "metadata": {},
     "output_type": "execute_result"
    }
   ],
   "source": [
    "obj = cp.Minimize((profit @ x - f1star)**2 + (pollution @ x - f2star)**2)\n",
    "prob = cp.Problem(obj, cons)\n",
    "prob.solve(solver='GUROBI')\n",
    "print(f'最优解为：{x.value}'), print(f'最优值为：{prob.value}')"
   ]
  },
  {
   "cell_type": "markdown",
   "metadata": {},
   "source": [
    "#### 3. 序贯解法\n",
    "若以利润最大化为一级目标"
   ]
  },
  {
   "cell_type": "code",
   "execution_count": 5,
   "metadata": {},
   "outputs": [
    {
     "data": {
      "text/plain": [
       "52.99999999999999"
      ]
     },
     "execution_count": 5,
     "metadata": {},
     "output_type": "execute_result"
    }
   ],
   "source": [
    "import cvxpy as cp\n",
    "\n",
    "x = cp.Variable(2, nonneg=True)\n",
    "cons = [\n",
    "    a @ x <= b,\n",
    "    cp.sum(x) >= minimum_output\n",
    "]\n",
    "\n",
    "obj1 = cp.Maximize(profit @ x)\n",
    "prob1 = cp.Problem(obj1, cons)\n",
    "prob1.solve(solver='GUROBI')\n",
    "f1star = prob1.value\n",
    "f1star"
   ]
  },
  {
   "cell_type": "code",
   "execution_count": 6,
   "metadata": {},
   "outputs": [
    {
     "name": "stdout",
     "output_type": "stream",
     "text": [
      "最优解为：[ 7. 13.]\n",
      "最优值为：32.99999999999999\n",
      "----------------------------------------------------------------------------------------------------\n",
      "利润为：53.0\n",
      "污染为：33.0\n"
     ]
    },
    {
     "data": {
      "text/plain": [
       "(None, None)"
      ]
     },
     "execution_count": 6,
     "metadata": {},
     "output_type": "execute_result"
    }
   ],
   "source": [
    "cons.append(profit @ x == f1star)\n",
    "obj = cp.Minimize(pollution @ x)\n",
    "prob = cp.Problem(obj, cons)\n",
    "prob.solve(solver='GUROBI')\n",
    "print(f'最优解为：{x.value}'), print(f'最优值为：{prob.value}')\n",
    "print('-'*100)\n",
    "print(f'利润为：{np.round(f1star, 1)}'), print(f'污染为：{np.round(prob.value, 1)}')"
   ]
  }
 ],
 "metadata": {
  "kernelspec": {
   "display_name": "Python 3.9.12 ('mamo')",
   "language": "python",
   "name": "python3"
  },
  "language_info": {
   "codemirror_mode": {
    "name": "ipython",
    "version": 3
   },
   "file_extension": ".py",
   "mimetype": "text/x-python",
   "name": "python",
   "nbconvert_exporter": "python",
   "pygments_lexer": "ipython3",
   "version": "3.9.12"
  },
  "orig_nbformat": 4,
  "vscode": {
   "interpreter": {
    "hash": "bc4866e053c759d6a7b6c75a6ee7f30413af3cb1408278924a32b7c27fdde7d0"
   }
  }
 },
 "nbformat": 4,
 "nbformat_minor": 2
}
