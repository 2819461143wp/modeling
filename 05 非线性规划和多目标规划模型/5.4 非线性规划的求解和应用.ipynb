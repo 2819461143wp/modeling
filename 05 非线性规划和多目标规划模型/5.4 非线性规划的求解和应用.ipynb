{
 "cells": [
  {
   "cell_type": "markdown",
   "metadata": {},
   "source": [
    "---\n",
    "对于一般的非线性规划问题，由于不是凸规划，就不能使用 cvxpy 库求解。对于一般的非线性规划问题可以使用 `scipy.optimize` 模块的 `minimize` 函数求解"
   ]
  },
  {
   "cell_type": "code",
   "execution_count": 1,
   "metadata": {},
   "outputs": [
    {
     "name": "stdout",
     "output_type": "stream",
     "text": [
      "     fun: 0.0\n",
      "     jac: array([ 97.99999998, 276.99999994])\n",
      " message: 'Optimization terminated successfully'\n",
      "    nfev: 7\n",
      "     nit: 2\n",
      "    njev: 2\n",
      "  status: 0\n",
      " success: True\n",
      "       x: array([0., 0.])\n"
     ]
    }
   ],
   "source": [
    "import numpy as np\n",
    "from scipy.optimize import minimize\n",
    "\n",
    "c2 = [[-1, -0.15], [-0.15, -2]]\n",
    "c1 =  [98, 277]\n",
    "obj = lambda x: x@c2@x + c1@x\n",
    "cons = [\n",
    "    {'type': 'ineq', 'fun': lambda x: 100 - x[0] - x[1]},\n",
    "    {'type': 'ineq', 'fun': lambda x: -x[0] + 2*x[1]},\n",
    "]\n",
    "bd = [(0, np.inf) for _ in range(2)]\n",
    "ret = minimize(obj, np.random.randn(2), constraints=cons, bounds=bd)\n",
    "print(ret)"
   ]
  },
  {
   "cell_type": "code",
   "execution_count": 2,
   "metadata": {},
   "outputs": [
    {
     "name": "stdout",
     "output_type": "stream",
     "text": [
      "     fun: 10.651091957236876\n",
      "     jac: array([1.10433519, 2.40651822, 1.89564812])\n",
      " message: 'Optimization terminated successfully'\n",
      "    nfev: 71\n",
      "     nit: 14\n",
      "    njev: 14\n",
      "  status: 0\n",
      " success: True\n",
      "       x: array([0.55216758, 1.2032591 , 0.94782406])\n"
     ]
    }
   ],
   "source": [
    "obj = lambda x: sum(x**2) + 8\n",
    "def constr1(x):\n",
    "    x1, x2, x3 = x\n",
    "    return [\n",
    "        x1**2 - x2 + x3**2,\n",
    "        20 - x1 - x2**2 - x3**3,\n",
    "    ]\n",
    "def constr2(x):\n",
    "    x1, x2, x3 = x\n",
    "    return [\n",
    "        -x1 - x2**2 + 2,\n",
    "        x2 + 2*x3**2 - 3,\n",
    "    ]\n",
    "cons = [\n",
    "    {'type': 'ineq', 'fun': constr1},\n",
    "    {'type': 'eq', 'fun': constr2},\n",
    "]\n",
    "bd = [(0, np.inf) for _ in range(3)]\n",
    "ret = minimize(obj, np.random.randn(3), constraints=cons, bounds=bd)\n",
    "print(ret)"
   ]
  },
  {
   "cell_type": "code",
   "execution_count": 3,
   "metadata": {},
   "outputs": [
    {
     "name": "stdout",
     "output_type": "stream",
     "text": [
      "最优解为：[ 0.25  0.    0.   -0.25]\n",
      "最优值为：1.25\n"
     ]
    },
    {
     "data": {
      "text/plain": [
       "(None, None)"
      ]
     },
     "execution_count": 3,
     "metadata": {},
     "output_type": "execute_result"
    }
   ],
   "source": [
    "import cvxpy as cp\n",
    "\n",
    "c = np.arange(1, 5)\n",
    "a = np.array([[1,-1,-1,1], [1,-1,1,-3], [1,-1,-2,3]])\n",
    "b = np.array([0, 1, -1/2])\n",
    "\n",
    "x = cp.Variable(4)\n",
    "obj = cp.Minimize(c @ cp.abs(x))\n",
    "cons = [a @ x == b]\n",
    "prob = cp.Problem(obj, cons)\n",
    "prob.solve(solver='GUROBI')\n",
    "print(f'最优解为：{x.value}'), print(f'最优值为：{prob.value}')"
   ]
  },
  {
   "cell_type": "markdown",
   "metadata": {},
   "source": [
    "### 供应与选址问题"
   ]
  },
  {
   "cell_type": "code",
   "execution_count": 4,
   "metadata": {},
   "outputs": [
    {
     "name": "stdout",
     "output_type": "stream",
     "text": [
      "     fun: 71.93519933765236\n",
      "     jac: array([-1.04764462e+00,  4.88901234e+00, -3.28159332e-03, -2.07805634e-03,\n",
      "        8.84590340e+00,  7.15891075e+00,  7.38664341e+00,  4.45112419e+00,\n",
      "        4.43001175e+00,  0.00000000e+00,  4.42706108e+00,  7.05828381e+00,\n",
      "        2.79988194e+00,  5.21846771e-01,  1.33450222e+00,  4.73553467e+00])\n",
      " message: 'Optimization terminated successfully'\n",
      "    nfev: 743\n",
      "     nit: 42\n",
      "    njev: 42\n",
      "  status: 0\n",
      " success: True\n",
      "       x: array([7.25000020e+00, 7.74999995e+00, 3.26511196e+00, 5.19197106e+00,\n",
      "       0.00000000e+00, 5.00000000e+00, 0.00000000e+00, 1.12344928e-14,\n",
      "       0.00000000e+00, 1.10000000e+01, 3.00000000e+00, 0.00000000e+00,\n",
      "       4.00000000e+00, 7.00000000e+00, 6.00000000e+00, 0.00000000e+00])\n",
      "----------------------------------------------------------------------------------------------------\n",
      "目标函数的最优值： 71.9352\n",
      "料场1的坐标为:  [7.25 7.75]\n",
      "料场1到工地的运输量为: \n",
      " [ 0.  5.  0.  0.  0. 11.]\n",
      "料场2的坐标为:  [3.2651 5.192 ]\n",
      "料场2到工地的运输量为: \n",
      " [3. 0. 4. 7. 6. 0.]\n"
     ]
    }
   ],
   "source": [
    "import pandas as pd\n",
    "from sklearn.metrics import euclidean_distances\n",
    "\n",
    "df = pd.read_csv('../../05第5章  非线性规划和多目标规划模型/data5_8.txt', header=None, sep='\\t')\n",
    "data = df.values\n",
    "loc = np.array(data[:2]).T\n",
    "demand = data[2, :]\n",
    "reserve = [20, 20]\n",
    "\n",
    "def obj(xyz):\n",
    "    pos1, pos2, z = [xyz[:2]], [xyz[2:4]], xyz[4:].reshape(2, 6)\n",
    "    d = np.vstack([euclidean_distances(pos1, loc), euclidean_distances(pos2, loc)])\n",
    "    return np.sum(np.multiply(z, d))\n",
    "\n",
    "def constr1(xyz):\n",
    "    z = xyz[4:].reshape(2, 6)\n",
    "    return reserve - np.sum(z, axis=1)\n",
    "\n",
    "def constr2(xyz):\n",
    "    z = xyz[4:].reshape(2, 6)\n",
    "    return np.sum(z, axis=0) - demand\n",
    "\n",
    "cons = [\n",
    "    {'type': 'ineq', 'fun': constr1},\n",
    "    {'type': 'eq', 'fun': constr2},\n",
    "]\n",
    "bd = [(-np.inf, np.inf)]*4 + [(0, np.inf)]*12   # x:2, y:2, z:2*6 total(xyz):16\n",
    "ret = minimize(obj, np.random.randn(16), constraints=cons, bounds=bd)\n",
    "print(ret)\n",
    "s = np.round(ret.x, 4)\n",
    "print('-'*100)\n",
    "print('目标函数的最优值：', round(ret.fun,4))\n",
    "print('料场1的坐标为: ', s[:2])\n",
    "print('料场1到工地的运输量为: \\n', s[4:10])\n",
    "print('料场2的坐标为: ', s[2:4])\n",
    "print('料场2到工地的运输量为: \\n', s[10:])"
   ]
  }
 ],
 "metadata": {
  "kernelspec": {
   "display_name": "Python 3.9.12 ('mamo')",
   "language": "python",
   "name": "python3"
  },
  "language_info": {
   "codemirror_mode": {
    "name": "ipython",
    "version": 3
   },
   "file_extension": ".py",
   "mimetype": "text/x-python",
   "name": "python",
   "nbconvert_exporter": "python",
   "pygments_lexer": "ipython3",
   "version": "3.9.12"
  },
  "orig_nbformat": 4,
  "vscode": {
   "interpreter": {
    "hash": "bc4866e053c759d6a7b6c75a6ee7f30413af3cb1408278924a32b7c27fdde7d0"
   }
  }
 },
 "nbformat": 4,
 "nbformat_minor": 2
}
