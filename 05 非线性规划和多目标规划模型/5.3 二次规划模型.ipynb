{
 "cells": [
  {
   "cell_type": "markdown",
   "metadata": {},
   "source": [
    "***\n",
    "### 二次规划模型的一般形式\n",
    "$$\n",
    "\\begin{align*}\n",
    "&{\\rm max\\ (min)}\\ \\sum\\limits_{i=1}^n\\sum\\limits_{j=1}^nc_{ij}x_ix_j+\\sum\\limits_{i=1}^nd_ix_i\\\\\n",
    "&{\\rm s.t.}\n",
    "\t\\begin{cases}\n",
    "\t\\sum\\limits_{j=1}^na_{ij}x_j\\leq (\\geq,=)\\,b_i,\\quad i=1,2,\\cdots,n,\\\\\n",
    "\tx_i\\geq,\\quad i=1,2,\\cdots,n,\n",
    "\t\\end{cases}\\\\\n",
    "&{\\text 其中}c_{ij}=c_{ji},\\ i,j=1,2,\\cdots,n.\n",
    "\\end{align*}\n",
    "$$\n",
    "\n",
    "二次规划模型是一种特殊的非线性规划模型，其中\n",
    "$$\n",
    "{\\boldsymbol H}=\n",
    "\\begin{bmatrix}\n",
    "c_{11} &c_{12} &\\cdots &c_{1n}\\\\\n",
    "c_{21} &c_{22} &\\cdots &c_{2n}\\\\\n",
    "\\vdots &\\vdots &\t   &\\vdots\\\\\n",
    "c_{n1} &c_{n2} &\\cdots &c_{nn}\\\\\n",
    "\\end{bmatrix}\n",
    "\\in {\\mathbb R}^{n\\times n}\n",
    "$$\n",
    "为对称矩阵。特别地，当 $\\boldsymbol H$ 正定时，目标函数最小化时，模型为凸二次规划，凸二次规划局部最优解就是全局最优解"
   ]
  },
  {
   "cell_type": "code",
   "execution_count": 1,
   "metadata": {},
   "outputs": [
    {
     "name": "stdout",
     "output_type": "stream",
     "text": [
      "最优解为：[35.37037037 64.62962963]\n",
      "最优值为：11077.870370369614\n"
     ]
    },
    {
     "data": {
      "text/plain": [
       "(None, None)"
      ]
     },
     "execution_count": 1,
     "metadata": {},
     "output_type": "execute_result"
    }
   ],
   "source": [
    "import cvxpy as cp\n",
    "import numpy as np\n",
    "\n",
    "c1 =  [98, 277]\n",
    "c2 = [[-1, -0.15], [-0.15, -2]]\n",
    "x = cp.Variable(2, nonneg=True)\n",
    "obj = cp.Maximize(cp.quad_form(x, c2) + c1 @ x)\n",
    "cons = [\n",
    "    x[0] + x[1] <= 100, \n",
    "    x[0] - 2*x[1] <= 0,\n",
    "]\n",
    "prob = cp.Problem(obj, cons)\n",
    "prob.solve(solver='GUROBI')\n",
    "print(f'最优解为：{x.value}'), print(f'最优值为：{prob.value}')"
   ]
  },
  {
   "cell_type": "markdown",
   "metadata": {},
   "source": [
    "### 投资组合 (portfolio) 问题\n",
    "投资风险为总收益的方差，计算公式\n",
    "$$\n",
    "{\\rm Var}\\left(\\sum_{i=1}^nx_iR_i\\right)=\\sum\\limits_{i=1}^nx_i^2{\\rm Var}\\left(R_i\\right)+\\sum\\limits_{i,j\\,:\\,i<j}2x_ix_j{\\rm Cov}\\left(R_i, R_j\\right)\n",
    "$$\n",
    "其中 $x_i$ 为在第 $i$ 种股票上的投资额 / 投资比例 / 投资股数，$R_i$ 为第 $i$ 种股票的收益率 (每股股票的期望收益与市价的比值)。公式的矩阵形式如下\n",
    "$$\n",
    "{\\rm Var}(R)= {\\boldsymbol x}\n",
    "\t\\begin{bmatrix}\n",
    "\t{\\rm Cov}\\left(R_1, R_1\\right) &{\\rm Cov}\\left(R_1, R_2\\right) &\\cdots &{\\rm Cov}\\left(R_1, R_n\\right)\\\\\n",
    "\t{\\rm Cov}\\left(R_2, R_1\\right) &{\\rm Cov}\\left(R_2, R_2\\right) &\\cdots &{\\rm Cov}\\left(R_2, R_n\\right)\\\\\n",
    "\t\\vdots &\\vdots & &\\vdots\\\\\n",
    "\t{\\rm Cov}\\left(R_n, R_1\\right) &{\\rm Cov}\\left(R_n, R_2\\right) &\\cdots &{\\rm Cov}\\left(R_n, R_n\\right)\\\\\n",
    "\t\\end{bmatrix}\n",
    "{\\boldsymbol x}^{\\rm T}\n",
    "$$\n",
    "实际上， ${\\rm Cov}(R_i, R_i) = {\\rm Var}(R_i)$"
   ]
  },
  {
   "cell_type": "code",
   "execution_count": 2,
   "metadata": {},
   "outputs": [
    {
     "data": {
      "text/plain": [
       "array([[ 0.3  ,  0.225,  0.149],\n",
       "       [ 0.103,  0.29 ,  0.26 ],\n",
       "       [ 0.216,  0.216,  0.419],\n",
       "       [-0.056, -0.272, -0.078],\n",
       "       [-0.071,  0.144,  0.169],\n",
       "       [ 0.056,  0.107, -0.035],\n",
       "       [ 0.038,  0.321,  0.133],\n",
       "       [ 0.089,  0.305,  0.732],\n",
       "       [ 0.09 ,  0.195,  0.021],\n",
       "       [ 0.083,  0.39 ,  0.131],\n",
       "       [ 0.035, -0.072,  0.006],\n",
       "       [ 0.176,  0.715,  0.908]])"
      ]
     },
     "execution_count": 2,
     "metadata": {},
     "output_type": "execute_result"
    }
   ],
   "source": [
    "import pandas as pd\n",
    "df = pd.read_csv('../../05第5章  非线性规划和多目标规划模型/data5_4.txt', sep='\\t', header=None)\n",
    "a = df.values\n",
    "a"
   ]
  },
  {
   "cell_type": "code",
   "execution_count": 3,
   "metadata": {},
   "outputs": [
    {
     "data": {
      "text/plain": [
       "(array([0.08825   , 0.21366667, 0.23458333]),\n",
       " array([[0.01106148, 0.01284873, 0.0133593 ],\n",
       "        [0.01284873, 0.0583917 , 0.05542639],\n",
       "        [0.0133593 , 0.05542639, 0.09422681]]))"
      ]
     },
     "execution_count": 3,
     "metadata": {},
     "output_type": "execute_result"
    }
   ],
   "source": [
    "mean = np.mean(a, axis=0)\n",
    "F = np.cov(a.T)\n",
    "mean, F"
   ]
  },
  {
   "cell_type": "markdown",
   "metadata": {},
   "source": [
    "#### Case 1: 希望在年收益率至少达到 $15\\%$ 的情况下，将投资组合中股票收益的方差降到最小"
   ]
  },
  {
   "cell_type": "code",
   "execution_count": 4,
   "metadata": {},
   "outputs": [
    {
     "name": "stdout",
     "output_type": "stream",
     "text": [
      "最优解为：[0.52687922 0.35776927 0.11535151]\n",
      "最优值为：0.022841201324650704\n"
     ]
    },
    {
     "data": {
      "text/plain": [
       "(None, None)"
      ]
     },
     "execution_count": 4,
     "metadata": {},
     "output_type": "execute_result"
    }
   ],
   "source": [
    "expected_return_rate = 0.15\n",
    "x = cp.Variable(3, nonneg=True)\n",
    "obj = cp.Minimize(cp.quad_form(x, F))\n",
    "cons = [\n",
    "    cp.sum(x) == 1,\n",
    "    mean @ x >= expected_return_rate,\n",
    "]\n",
    "prob = cp.Problem(obj, cons)\n",
    "prob.solve(solver='GUROBI')\n",
    "print(f'最优解为：{x.value}'), print(f'最优值为：{prob.value}')"
   ]
  },
  {
   "cell_type": "markdown",
   "metadata": {},
   "source": [
    "#### Case 2: 希望在方差最大不超过 $0.09$ 的情况下，获得最大的收益"
   ]
  },
  {
   "cell_type": "code",
   "execution_count": 5,
   "metadata": {},
   "outputs": [
    {
     "name": "stdout",
     "output_type": "stream",
     "text": [
      "最优解为：[1.13801407e-08 5.61775888e-02 9.43822400e-01]\n",
      "最优值为：0.23340828376866365\n"
     ]
    },
    {
     "data": {
      "text/plain": [
       "(None, None)"
      ]
     },
     "execution_count": 5,
     "metadata": {},
     "output_type": "execute_result"
    }
   ],
   "source": [
    "maximum_variance = 0.09\n",
    "x = cp.Variable(3, nonneg=True)\n",
    "obj = cp.Maximize(mean @ x)\n",
    "cons = [\n",
    "    cp.sum(x) == 1,\n",
    "    cp.quad_form(x, F) <= maximum_variance\n",
    "]\n",
    "prob = cp.Problem(obj, cons)\n",
    "prob.solve(solver='GUROBI')\n",
    "print(f'最优解为：{x.value}'), print(f'最优值为：{prob.value}')"
   ]
  }
 ],
 "metadata": {
  "kernelspec": {
   "display_name": "Python 3.9.12 ('mamo')",
   "language": "python",
   "name": "python3"
  },
  "language_info": {
   "codemirror_mode": {
    "name": "ipython",
    "version": 3
   },
   "file_extension": ".py",
   "mimetype": "text/x-python",
   "name": "python",
   "nbconvert_exporter": "python",
   "pygments_lexer": "ipython3",
   "version": "3.9.12"
  },
  "orig_nbformat": 4,
  "vscode": {
   "interpreter": {
    "hash": "bc4866e053c759d6a7b6c75a6ee7f30413af3cb1408278924a32b7c27fdde7d0"
   }
  }
 },
 "nbformat": 4,
 "nbformat_minor": 2
}
