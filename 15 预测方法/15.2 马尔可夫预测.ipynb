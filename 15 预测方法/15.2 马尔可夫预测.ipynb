{
 "cells": [
  {
   "cell_type": "markdown",
   "metadata": {},
   "source": [
    "---\n",
    "### 15.2.1 马尔可夫链的定义\n",
    "某一系统在已知现在情况的条件下，系统未来时刻的情况只与现在有关，而与过去的历史无直接关系\n",
    "\n",
    "有时齐和非时齐之分，本节所讨论的均为时齐的"
   ]
  },
  {
   "cell_type": "markdown",
   "metadata": {},
   "source": [
    "### 15.2.2 转移矩阵与柯尔莫哥洛夫定理\n",
    "step1: 确定状态空间和参数集合\n",
    "\n",
    "step2: 确定一步转移概率（可通过规律或者经验给出，还可根据观测数据来估计）"
   ]
  },
  {
   "cell_type": "code",
   "execution_count": 1,
   "metadata": {},
   "outputs": [
    {
     "data": {
      "text/plain": [
       "(array([[0.08333333, 0.1875    ],\n",
       "        [0.1875    , 0.54166667]]),\n",
       " array([0.27083333, 0.72916667]))"
      ]
     },
     "execution_count": 1,
     "metadata": {},
     "output_type": "execute_result"
    }
   ],
   "source": [
    "import numpy as np\n",
    "\n",
    "E = [0, 1]      # 状态空间\n",
    "data = np.loadtxt('../../15第15章  预测方法/data15_5.txt', dtype=object)\n",
    "data_s = data[0] + data[1]\n",
    "C = np.zeros((len(E), len(E)))   # 一步转移矩阵 (0->0, 0->1,// 1->0, 1->1)\n",
    "mfind = lambda s, c: [x for x in range(s.find(c), len(s)) if s[x: x+2] == c]\n",
    "for i, a in enumerate(E):\n",
    "    for j, b in enumerate(E):\n",
    "        C[i, j] = len(mfind(data_s, str(a) + str(b)))\n",
    "\n",
    "P = C/(len(data_s)-1)\n",
    "P, P.sum(axis=1)"
   ]
  },
  {
   "cell_type": "code",
   "execution_count": 2,
   "metadata": {},
   "outputs": [
    {
     "data": {
      "text/plain": [
       "(array([[0.1025641 , 0.1025641 , 0.02564103, 0.02564103],\n",
       "        [0.07692308, 0.05128205, 0.1025641 , 0.05128205],\n",
       "        [0.1025641 , 0.1025641 , 0.05128205, 0.02564103],\n",
       "        [0.        , 0.02564103, 0.1025641 , 0.05128205]]),\n",
       " array([0.25641026, 0.28205128, 0.28205128, 0.17948718]))"
      ]
     },
     "execution_count": 2,
     "metadata": {},
     "output_type": "execute_result"
    }
   ],
   "source": [
    "E = [1, 2, 3, 4]\n",
    "data = np.loadtxt('../../15第15章  预测方法/data15_6.txt').flatten().astype('int')\n",
    "data_s = ''.join([str(i) for i in data])\n",
    "C = np.zeros((len(E), len(E)))\n",
    "mfind = lambda s, c: [x for x in range(s.find(c), len(s)) if s[x: x+2] == c]\n",
    "for i, a in enumerate(E):\n",
    "    for j, b in enumerate(E):\n",
    "        C[i, j] = len(mfind(data_s, str(a) + str(b)))\n",
    "\n",
    "P = C/(len(data_s) - 1)\n",
    "P, P.sum(axis=1)"
   ]
  },
  {
   "cell_type": "markdown",
   "metadata": {},
   "source": [
    "#### 柯尔莫哥洛夫-开普曼定理\n",
    "设 $\\{\\xi_n,\\ n=1,2,\\cdots\\}$ 是一个马尔可夫链，其状态空间 $E=\\{1,2,\\cdots\\}$，则对任意正整数 $m, n$，有\n",
    "$$\n",
    "p_{ij}(n+m) = \\sum\\limits_{k\\in E}p_{ik}(n)p_{kj}(m)\n",
    "$$\n",
    "#### 第 $n$ 步概率分布的确定\n",
    "设 $\\boldsymbol P$ 是一步马尔可夫链转移矩阵（$\\boldsymbol P$ 的行向量是概率向量），$\\boldsymbol P^{(0)}$ 是初始分布行向量，则第 $n$ 步的概率分布为\n",
    "$$\n",
    "\\boldsymbol P^{(n)} = \\boldsymbol P^{(0)}\\boldsymbol P^n\n",
    "$$"
   ]
  },
  {
   "cell_type": "code",
   "execution_count": 3,
   "metadata": {},
   "outputs": [
    {
     "data": {
      "text/plain": [
       "matrix([[0.7004, 0.136 , 0.1636]])"
      ]
     },
     "execution_count": 3,
     "metadata": {},
     "output_type": "execute_result"
    }
   ],
   "source": [
    "P0 = np.mat([0.2, 0.4, 0.4])\n",
    "P = np.mat([[0.8, 0.1, 0.1],[0.5, 0.1, 0.4],[0.5, 0.3, 0.2]])\n",
    "P3 = P0 @ P**3\n",
    "P3"
   ]
  },
  {
   "cell_type": "markdown",
   "metadata": {},
   "source": [
    "#### 15.2.3 转移概率的渐近性质——极限概率分布\n",
    "1. 正则矩阵\n",
    "   \n",
    "   一个马氏链的转移矩阵 $\\boldsymbol P$ 是正则的，当且仅当存在正整数 $k$ 使得 $\\boldsymbol P^k$ 的每一元素都是正数\n",
    "2. 不动点向量\n",
    "   \n",
    "   若 $\\boldsymbol P$ 是一个马氏链的正则阵，则\n",
    "\n",
    "   (1) $\\boldsymbol P$ 有唯一的不动点向量 $\\boldsymbol W$，$\\boldsymbol W$ 的每个分量为正\n",
    "\n",
    "   (2) $\\boldsymbol P$ 的 $n$ 次幂 $\\boldsymbol P^n$（$n$ 为正整数）随 $n$ 的增加趋于矩阵 $\\overline {\\boldsymbol W}$，$\\overline {\\boldsymbol W}$ 的每一行向量均等于不动点向量 $\\boldsymbol W$\n",
    "3. 链的遍历性\n",
    "   \n",
    "   一般地，设时齐马氏链的状态空间为 $E$，如果对于所有的 $i,j\\in E$，转移概率 $p_{ij}(n)$ 存在极限\n",
    "   $$\n",
    "   \\lim_{n\\to \\infty}=\\pi_j\\quad (\\text{不依赖于{\\it i}})\n",
    "   $$\n",
    "   或\n",
    "   $$\n",
    "   \\boldsymbol P(n)=\\boldsymbol P^n\\mathop\\longrightarrow\\limits_{(n\\to\\infty)}\n",
    "      \\begin{bmatrix}\n",
    "      \\pi_1 &\\pi_2   &\\cdots  &\\pi_j  &\\cdots\\\\\n",
    "      \\pi_1 &\\pi_2   &\\cdots  &\\pi_j  &\\cdots\\\\\n",
    "      \\cdots&\\cdots  &\\cdots  &\\cdots &\\cdots\\\\\n",
    "      \\pi_1 &\\pi_2   &\\cdots  &\\pi_j  &\\cdots\\\\\n",
    "      \\cdots&\\cdots  &\\cdots  &\\cdots &\\cdots\\\\\n",
    "      \\end{bmatrix}\n",
    "   $$\n",
    "   则称此链具有遍历性\n",
    "4. 链的极限分布\n",
    "   \n",
    "   若 $\\sum\\limits_j\\pi_j=1$，则称 $\\boldsymbol \\pi=[\\pi_1,\\pi_2,\\cdots]$ 为链的极限分布\n",
    "5. 链的遍历性的充分条件\n",
    "   如果存在正整数 $m$ ，使对任意的 $a_i,a_j\\in E$，都有\n",
    "   $$\n",
    "   p_{ij}(n)>0,\\quad i,j=1,2,\\cdots,N\n",
    "   $$\n",
    "   则此链具有遍历性；且有极限分布 $\\boldsymbol\\pi=[\\pi_1,\\pi_2,\\cdots]$，它是方程组 \n",
    "   $$\n",
    "   \\boldsymbol\\pi=\\boldsymbol\\pi\\boldsymbol P\\ {\\text 或}\\ \\pi_j=\\sum\\limits_{i=1}^N\\pi_ip_{ij},\\quad j=1,\\cdots,N\n",
    "   $$\n",
    "   的满足条件\n",
    "   $$\n",
    "   \\pi_j>0,\\ \\sum\\limits_{j=1}^N\\pi_j=1\n",
    "   $$\n",
    "   的唯一解"
   ]
  },
  {
   "cell_type": "code",
   "execution_count": 4,
   "metadata": {},
   "outputs": [
    {
     "data": {
      "text/plain": [
       "array([[0.7143],\n",
       "       [0.131 ],\n",
       "       [0.1548]])"
      ]
     },
     "execution_count": 4,
     "metadata": {},
     "output_type": "execute_result"
    }
   ],
   "source": [
    "P = np.mat([[0.8, 0.1, 0.1],[0.5, 0.1, 0.4],[0.5, 0.3, 0.2]])\n",
    "val, vec = np.linalg.eig(P.T)\n",
    "s = vec[:, 0]/sum(vec[:, 0])    # 最大特征值对应的特征向量归一化\n",
    "np.round(s, 4)"
   ]
  },
  {
   "cell_type": "code",
   "execution_count": 5,
   "metadata": {},
   "outputs": [
    {
     "data": {
      "text/plain": [
       "array([0.4146, 0.3902, 0.1951])"
      ]
     },
     "execution_count": 5,
     "metadata": {},
     "output_type": "execute_result"
    }
   ],
   "source": [
    "P = np.array([[0.2, 0.8, 0],[0.8, 0, 0.2],[0.1, 0.3, 0.6]])\n",
    "A = np.vstack([P.T - np.eye(3), np.ones((1, 3))])\n",
    "b = np.hstack([np.zeros(3), 1])\n",
    "x = np.linalg.pinv(A) @ b\n",
    "x.round(4)"
   ]
  }
 ],
 "metadata": {
  "kernelspec": {
   "display_name": "Python 3.9.12 ('mamo')",
   "language": "python",
   "name": "python3"
  },
  "language_info": {
   "codemirror_mode": {
    "name": "ipython",
    "version": 3
   },
   "file_extension": ".py",
   "mimetype": "text/x-python",
   "name": "python",
   "nbconvert_exporter": "python",
   "pygments_lexer": "ipython3",
   "version": "3.9.12"
  },
  "orig_nbformat": 4,
  "vscode": {
   "interpreter": {
    "hash": "bc4866e053c759d6a7b6c75a6ee7f30413af3cb1408278924a32b7c27fdde7d0"
   }
  }
 },
 "nbformat": 4,
 "nbformat_minor": 2
}
