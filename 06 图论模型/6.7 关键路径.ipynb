{
 "cells": [
  {
   "cell_type": "markdown",
   "metadata": {},
   "source": [
    "---\n",
    "> 统筹方法——PERT/CPM (计划评审方法 & 关键路线法)\n",
    "### 6.7.1 计划网络图\n",
    "作业、事件、虚作业、虚事件、路线、关键路径\n",
    "### 6.7.2 时间参数\n",
    "事件的最早时间、最迟时间\n",
    "\n",
    "作业的最早可能开工时间、最早可能完工时间、最迟必须开工时间、最迟必须完工时间\n",
    "\n",
    "作业的时差 (机动时间)：总时差、单时差\n",
    "### 6.7.3 计划网络图的计算\n",
    "#### 1. 求各事件的最早时间\n",
    "$$\n",
    "\\begin{align*}\n",
    "&\\min\\sum\\limits_{i\\in V}x_i\\\\\n",
    "&{\\rm s.t.}\n",
    "\t\\begin{cases}\n",
    "\tx_j\\geq x_i+t_{ij},\\quad (i,j)\\in A,\\ i,j\\in V,\\\\\n",
    "\tx_i\\geq 0,\\quad i\\in V.\n",
    "\t\\end{cases}\n",
    "\\end{align*}\n",
    "$$"
   ]
  },
  {
   "cell_type": "code",
   "execution_count": 1,
   "metadata": {},
   "outputs": [
    {
     "name": "stdout",
     "output_type": "stream",
     "text": [
      "各事件的最早时间： [ 0.  5. 10. 14. 10. 31. 35. 51.]\n",
      "整个项目的最短工期： 51.0\n"
     ]
    }
   ],
   "source": [
    "import cvxpy as cp\n",
    "import numpy as np\n",
    "\n",
    "n = 8\n",
    "L = [(1,2,5), (1,3,10), (1,4,11), (2,5,4), (3,4,4), (3,5,0), (4,6,15),\n",
    "    (5,6,21), (5,7,25), (5,8,35), (6,7,0), (6,8,20), (7,8,15)]\n",
    "x = cp.Variable(n, nonneg=True)\n",
    "obj = cp.Minimize(cp.sum(x))    # 为了求所有事件的最早开工时间，把目标函数取为 cp.sum(x)而不是 x[-1]\n",
    "cons = []\n",
    "for k in range(len(L)):\n",
    "    i, j, t = L[k]\n",
    "    cons.append(x[j-1] >= x[i-1] + t)\n",
    "prob = cp.Problem(obj, cons)\n",
    "prob.solve(solver='GUROBI')\n",
    "print(\"各事件的最早时间：\", x.value)\n",
    "print(\"整个项目的最短工期：\", x.value[-1])"
   ]
  },
  {
   "cell_type": "markdown",
   "metadata": {},
   "source": [
    "#### 2. 求各作业的最早可能开工时间、最早可能完工时间、最迟必须开工时间、最迟必须完工时间及关键路径\n",
    "$$\n",
    "\\begin{align*}\n",
    "&z_n=x_n,\\quad n=8,\\\\\n",
    "&z_i=\\min_j\\left\\{z_j-t_{ij}\\right\\},\\quad i=n-1,\\cdots,1,\\ (i,j)\\in A,\\\\\n",
    "\\end{align*}\n",
    "$$\n",
    "$$\n",
    "\\begin{align*}\n",
    "{\\rm es}_{ij}&=x_i,\\quad(i,j)\\in A,\\\\\n",
    "{\\rm lf}_{ij}&=z_j,\\quad(i,j)\\in A,\\\\\n",
    "{\\rm ls}_{ij}&=z_j-t_{ij},\\quad(i,j)\\in A,\\\\\n",
    "{\\rm ef}_{ij}&=x_i+t_{ij},\\quad(i,j)\\in A.\n",
    "\\end{align*}\n",
    "$$\n",
    "当最早开工时间 ${\\rm es}_{ij}$ 与最迟开工时间 ${\\rm ls}_{ij}$ 相同时，对应的作业 $(i,j)$ 在关键路线上"
   ]
  },
  {
   "cell_type": "code",
   "execution_count": 2,
   "metadata": {},
   "outputs": [
    {
     "name": "stdout",
     "output_type": "stream",
     "text": [
      "[ 0.  6. 10. 16. 10. 31. 36. 51.]\n"
     ]
    }
   ],
   "source": [
    "xx = x.value\n",
    "z = np.zeros(n)\n",
    "z[-1] = xx[-1]\n",
    "for i in range(n-1, 0, -1):\n",
    "    z[i-1] = min(z[l[1]-1] - l[2] for l in L if l[0] == i)\n",
    "print(z)"
   ]
  },
  {
   "cell_type": "code",
   "execution_count": 3,
   "metadata": {},
   "outputs": [
    {
     "data": {
      "text/html": [
       "<div>\n",
       "<style scoped>\n",
       "    .dataframe tbody tr th:only-of-type {\n",
       "        vertical-align: middle;\n",
       "    }\n",
       "\n",
       "    .dataframe tbody tr th {\n",
       "        vertical-align: top;\n",
       "    }\n",
       "\n",
       "    .dataframe thead th {\n",
       "        text-align: right;\n",
       "    }\n",
       "</style>\n",
       "<table border=\"1\" class=\"dataframe\">\n",
       "  <thead>\n",
       "    <tr style=\"text-align: right;\">\n",
       "      <th></th>\n",
       "      <th>最早开工时间</th>\n",
       "      <th>最晚开工时间</th>\n",
       "      <th>最早完工时间</th>\n",
       "      <th>最晚完工时间</th>\n",
       "    </tr>\n",
       "  </thead>\n",
       "  <tbody>\n",
       "    <tr>\n",
       "      <th>(1, 2)</th>\n",
       "      <td>0.0</td>\n",
       "      <td>1.0</td>\n",
       "      <td>5.0</td>\n",
       "      <td>6.0</td>\n",
       "    </tr>\n",
       "    <tr>\n",
       "      <th>(1, 3)</th>\n",
       "      <td>0.0</td>\n",
       "      <td>0.0</td>\n",
       "      <td>10.0</td>\n",
       "      <td>10.0</td>\n",
       "    </tr>\n",
       "    <tr>\n",
       "      <th>(1, 4)</th>\n",
       "      <td>0.0</td>\n",
       "      <td>5.0</td>\n",
       "      <td>11.0</td>\n",
       "      <td>16.0</td>\n",
       "    </tr>\n",
       "    <tr>\n",
       "      <th>(2, 5)</th>\n",
       "      <td>5.0</td>\n",
       "      <td>6.0</td>\n",
       "      <td>9.0</td>\n",
       "      <td>10.0</td>\n",
       "    </tr>\n",
       "    <tr>\n",
       "      <th>(3, 4)</th>\n",
       "      <td>10.0</td>\n",
       "      <td>12.0</td>\n",
       "      <td>14.0</td>\n",
       "      <td>16.0</td>\n",
       "    </tr>\n",
       "    <tr>\n",
       "      <th>(3, 5)</th>\n",
       "      <td>10.0</td>\n",
       "      <td>10.0</td>\n",
       "      <td>10.0</td>\n",
       "      <td>10.0</td>\n",
       "    </tr>\n",
       "    <tr>\n",
       "      <th>(4, 6)</th>\n",
       "      <td>14.0</td>\n",
       "      <td>16.0</td>\n",
       "      <td>29.0</td>\n",
       "      <td>31.0</td>\n",
       "    </tr>\n",
       "    <tr>\n",
       "      <th>(5, 6)</th>\n",
       "      <td>10.0</td>\n",
       "      <td>10.0</td>\n",
       "      <td>31.0</td>\n",
       "      <td>31.0</td>\n",
       "    </tr>\n",
       "    <tr>\n",
       "      <th>(5, 7)</th>\n",
       "      <td>10.0</td>\n",
       "      <td>11.0</td>\n",
       "      <td>35.0</td>\n",
       "      <td>36.0</td>\n",
       "    </tr>\n",
       "    <tr>\n",
       "      <th>(5, 8)</th>\n",
       "      <td>10.0</td>\n",
       "      <td>16.0</td>\n",
       "      <td>45.0</td>\n",
       "      <td>51.0</td>\n",
       "    </tr>\n",
       "    <tr>\n",
       "      <th>(6, 7)</th>\n",
       "      <td>31.0</td>\n",
       "      <td>36.0</td>\n",
       "      <td>31.0</td>\n",
       "      <td>36.0</td>\n",
       "    </tr>\n",
       "    <tr>\n",
       "      <th>(6, 8)</th>\n",
       "      <td>31.0</td>\n",
       "      <td>31.0</td>\n",
       "      <td>51.0</td>\n",
       "      <td>51.0</td>\n",
       "    </tr>\n",
       "    <tr>\n",
       "      <th>(7, 8)</th>\n",
       "      <td>35.0</td>\n",
       "      <td>36.0</td>\n",
       "      <td>50.0</td>\n",
       "      <td>51.0</td>\n",
       "    </tr>\n",
       "  </tbody>\n",
       "</table>\n",
       "</div>"
      ],
      "text/plain": [
       "       最早开工时间 最晚开工时间 最早完工时间 最晚完工时间\n",
       "(1, 2)    0.0    1.0    5.0    6.0\n",
       "(1, 3)    0.0    0.0   10.0   10.0\n",
       "(1, 4)    0.0    5.0   11.0   16.0\n",
       "(2, 5)    5.0    6.0    9.0   10.0\n",
       "(3, 4)   10.0   12.0   14.0   16.0\n",
       "(3, 5)   10.0   10.0   10.0   10.0\n",
       "(4, 6)   14.0   16.0   29.0   31.0\n",
       "(5, 6)   10.0   10.0   31.0   31.0\n",
       "(5, 7)   10.0   11.0   35.0   36.0\n",
       "(5, 8)   10.0   16.0   45.0   51.0\n",
       "(6, 7)   31.0   36.0   31.0   36.0\n",
       "(6, 8)   31.0   31.0   51.0   51.0\n",
       "(7, 8)   35.0   36.0   50.0   51.0"
      ]
     },
     "execution_count": 3,
     "metadata": {},
     "output_type": "execute_result"
    }
   ],
   "source": [
    "es, lf, ls, ef = [], [], [], []\n",
    "for k in range(len(L)):\n",
    "    i, j, t = L[k][0]-1, L[k][1]-1, L[k][2]\n",
    "    es.append([(i+1, j+1), xx[i]])\n",
    "    lf.append([(i+1, j+1), z[j]])\n",
    "    ls.append([(i+1, j+1), z[j] - t])\n",
    "    ef.append([(i+1, j+1), xx[i] + t])\n",
    "\n",
    "import pandas as pd\n",
    "\n",
    "es, ls, ef, lf = np.array(es, dtype=object), np.array(ls, dtype=object), np.array(ef, dtype=object), np.array(lf, dtype=object)\n",
    "data = np.vstack([es[:,1], ls[:,1], ef[:,1], lf[:,1]]).T\n",
    "df = pd.DataFrame(data, index=es[:,0], columns=['最早开工时间', '最晚开工时间', '最早完工时间', '最晚完工时间'])\n",
    "df"
   ]
  },
  {
   "cell_type": "code",
   "execution_count": 4,
   "metadata": {},
   "outputs": [
    {
     "data": {
      "image/png": "[encoded data removed]",
      "text/plain": [
       "<Figure size 432x288 with 1 Axes>"
      ]
     },
     "metadata": {},
     "output_type": "display_data"
    }
   ],
   "source": [
    "import networkx as nx\n",
    "path = np.array(df[df['最早开工时间'] == df['最晚开工时间']].index)\n",
    "G = nx.DiGraph()\n",
    "G.add_nodes_from(set(range(1, n+1)) - {2, 4, 7})\n",
    "G.add_edges_from(path)\n",
    "nx.draw_spring(G, with_labels=True, font_color='w')"
   ]
  },
  {
   "cell_type": "markdown",
   "metadata": {},
   "source": [
    "#### 3. 用 0-1 规划模型求关键路线\n",
    "把关键路线看成最长路，则可以按照求最短路的方法 (将求极小改为求极大) 求出关键路线\n",
    "\n",
    "设 $x_{ij}$ 为 0-1 变量，当作业 $(i,j)$ 位于关键路线上取 1，否则取 0。数学规划问题可写为：\n",
    "$$\n",
    "\\begin{align*}\n",
    "&\\max\\sum\\limits_{\\left(i,j\\right)\\in A}t_{ij}x_{ij},\\\\\n",
    "&{\\rm s.t.}\n",
    "\t\\begin{cases}\n",
    "\t\\sum\\limits_{j:\\left(1,j\\right)\\in A}x_{1j}=1,\\\\\n",
    "\t\\sum\\limits_{j:\\left(i,j\\right)\\in A}x_{ij}-\\sum\\limits_{k:\\left(k,i\\right)\\in A}x_{ki}=0,\\quad i\\neq 1,n,\\\\\n",
    "\t\\sum\\limits_{k:\\left(k,n\\right)\\in A}x_{kn}=1,\\\\\n",
    "\tx_{ij}=0\\text{或}1,\\quad (i,j)\\in A.\n",
    "    \\end{cases}\n",
    "\\end{align*}\n",
    "$$"
   ]
  },
  {
   "cell_type": "code",
   "execution_count": 5,
   "metadata": {},
   "outputs": [
    {
     "name": "stdout",
     "output_type": "stream",
     "text": [
      "关键路径的端点为：\n",
      "[1 3 5 6]\n",
      "[3 5 6 8]\n",
      "总工期： 51.0\n"
     ]
    }
   ],
   "source": [
    "import cvxpy as cp\n",
    "import numpy as np\n",
    "\n",
    "n = 8\n",
    "x = cp.Variable((n,n), boolean=True)\n",
    "fun = 0\n",
    "for k in range(len(L)):\n",
    "    i, j, t = L[k][0]-1, L[k][1]-1, L[k][2]\n",
    "    fun += t*x[i,j]\n",
    "obj = cp.Maximize(fun)\n",
    "out = [l[1]-1 for l in L if l[0] == 1]\n",
    "inn = [l[0]-1 for l in L if l[1] == n]\n",
    "cons = [\n",
    "    cp.sum(x[0, out]) == 1,\n",
    "    cp.sum(x[inn, n-1]) == 1,\n",
    "]\n",
    "for k in range(2, n):   # 不妨用 k表示自然序列 (1,2,...,n)的循环变量，而用 i表示机器序列的循环变量\n",
    "    out = [l[1]-1 for l in L if l[0] == k]\n",
    "    inn = [l[0]-1 for l in L if l[1] == k]\n",
    "    cons.append(cp.sum(x[k-1, out]) - cp.sum(x[inn, k-1]) == 0)\n",
    "prob = cp.Problem(obj, cons)\n",
    "prob.solve(solver='GUROBI')\n",
    "ni, nj = np.nonzero(x.value)\n",
    "print(\"关键路径的端点为：\", ni+1, nj+1, sep='\\n')\n",
    "print(\"总工期：\", prob.value)"
   ]
  },
  {
   "cell_type": "markdown",
   "metadata": {},
   "source": [
    "### 6.7.4 关键路线与计划网络的优化\n",
    "#### 赶工问题\n",
    "需要压缩关键路径来减少最短工期\n",
    "\n",
    "设 $m_{ij}$ 是能够完成作业 $(i,j)$ 的最短时间，$y_{ij}$ 是作业 $(i,j)$ 减少的时间 (决策变量)，$c_{ij}$ 是作业 $(i,j)$ 缩短一个单位时间增加的费用，$d$ 为要求完成的时间，则相应的数学规划问题为：\n",
    "$$\n",
    "\\begin{align*}\n",
    "&\\min\\sum\\limits_{(i,j)\\in A}c_{ij}y_{ij},\\\\\n",
    "&{\\rm s.t.}\n",
    "\t\\begin{cases}\n",
    "\tx_j-x_i\\geq t_{ij}-y_{ij},\\quad (i,j)\\in A,\\\\\n",
    "\tx_n - x_1\\leq d,\\\\\n",
    "\t0\\leq y_{ij}\\leq t_{ij}-m_{ij},\\quad (i,j)\\in A.\n",
    "\t\\end{cases}\n",
    "\\end{align*}\n",
    "$$"
   ]
  },
  {
   "cell_type": "code",
   "execution_count": 6,
   "metadata": {},
   "outputs": [
    {
     "name": "stdout",
     "output_type": "stream",
     "text": [
      "最优值为： 1200.0\n",
      "x 的取值为：\n",
      " [-0.  5.  9. 13.  9. 30. 34. 49.]\n",
      "y 的取值为：\n",
      " [[0. 0. 1. 0. 0. 0. 0. 0.]\n",
      " [0. 0. 0. 0. 0. 0. 0. 0.]\n",
      " [0. 0. 0. 0. 0. 0. 0. 0.]\n",
      " [0. 0. 0. 0. 0. 0. 0. 0.]\n",
      " [0. 0. 0. 0. 0. 0. 0. 0.]\n",
      " [0. 0. 0. 0. 0. 0. 0. 1.]\n",
      " [0. 0. 0. 0. 0. 0. 0. 0.]\n",
      " [0. 0. 0. 0. 0. 0. 0. 0.]]\n",
      "压缩工期的作业为：\n",
      "[1 6]\n",
      "[3 8]\n"
     ]
    }
   ],
   "source": [
    "n = 8\n",
    "L = [(1,2,5,5,0), (1,3,10,8,700), (1,4,11,8,400), (2,5,4,3,450), (3,4,4,4,0),\n",
    "    (3,5,0,0,0), (4,6,15,15,0), (5,6,21,16,600), (5,7,25,22,300),\n",
    "    (5,8,35,30,500), (6,7,0,0,0), (6,8,20,16,500), (7,8,15,12,400)] # (i,j,t,m,c)\n",
    "d = 49\n",
    "x = cp.Variable(n, nonneg=True)\n",
    "y = cp.Variable((n,n), integer=True)\n",
    "fun = 0\n",
    "for k in range(len(L)):\n",
    "    i, j, c = L[k][0]-1, L[k][1]-1, L[k][4]\n",
    "    fun += c*y[i,j]\n",
    "obj = cp.Minimize(fun)\n",
    "cons = [\n",
    "    x[-1] - x[0] <= d, \n",
    "    y >= 0\n",
    "]\n",
    "for k in range(len(L)):\n",
    "    i, j, t, m = L[k][0]-1, L[k][1]-1, L[k][2], L[k][3]\n",
    "    cons.append(x[j] - x[i] >= t - y[i,j])\n",
    "    cons.append(y[i,j] <= t - m)\n",
    "prob = cp.Problem(obj, cons)\n",
    "prob.solve(solver='GLPK_MI')\n",
    "print(\"最优值为：\", prob.value)\n",
    "print(\"x 的取值为：\\n\", x.value)\n",
    "print(\"y 的取值为：\\n\", y.value)\n",
    "ni, nj = np.nonzero(y.value)\n",
    "print(\"压缩工期的作业为：\", ni+1, nj+1, sep='\\n')"
   ]
  },
  {
   "cell_type": "markdown",
   "metadata": {},
   "source": [
    "#### 求关键路径、各作业的最早开工时间和最迟开工时间\n",
    "递推式需更改为\n",
    "$$\n",
    "\\begin{align*}\n",
    "&z_n=x_n,\\quad n=8,\\\\\n",
    "&z_i=\\min_j\\left\\{z_j-(t_{ij}-y_{ij})\\right\\},\\quad i=n-1,\\cdots,1,\\ (i,j)\\in A,\\\\\n",
    "\\end{align*}\n",
    "$$\n",
    "$$\n",
    "\\begin{align*}\n",
    "{\\rm es}_{ij}&=x_i,\\quad(i,j)\\in A,\\\\\n",
    "{\\rm lf}_{ij}&=z_j,\\quad(i,j)\\in A,\\\\\n",
    "{\\rm ls}_{ij}&=z_j-(t_{ij}-y_{ij}),\\quad(i,j)\\in A,\\\\\n",
    "{\\rm ef}_{ij}&=x_i+(t_{ij}-y_{ij}),\\quad(i,j)\\in A.\n",
    "\\end{align*}\n",
    "$$"
   ]
  },
  {
   "cell_type": "code",
   "execution_count": 7,
   "metadata": {},
   "outputs": [
    {
     "data": {
      "text/plain": [
       "array([ 0.,  5.,  9., 15.,  9., 30., 34., 49.])"
      ]
     },
     "execution_count": 7,
     "metadata": {},
     "output_type": "execute_result"
    }
   ],
   "source": [
    "n = 8\n",
    "xx, yy = x.value, y.value\n",
    "\n",
    "xx = x.value\n",
    "z = np.zeros(n)\n",
    "z[-1] = xx[-1]\n",
    "for i in range(n-1, 0, -1):\n",
    "    z[i-1] = min(z[l[1]-1] - (l[2] - yy[l[0]-1, l[1]-1]) for l in L if l[0] == i)\n",
    "z"
   ]
  },
  {
   "cell_type": "code",
   "execution_count": 8,
   "metadata": {},
   "outputs": [
    {
     "data": {
      "text/html": [
       "<div>\n",
       "<style scoped>\n",
       "    .dataframe tbody tr th:only-of-type {\n",
       "        vertical-align: middle;\n",
       "    }\n",
       "\n",
       "    .dataframe tbody tr th {\n",
       "        vertical-align: top;\n",
       "    }\n",
       "\n",
       "    .dataframe thead th {\n",
       "        text-align: right;\n",
       "    }\n",
       "</style>\n",
       "<table border=\"1\" class=\"dataframe\">\n",
       "  <thead>\n",
       "    <tr style=\"text-align: right;\">\n",
       "      <th></th>\n",
       "      <th>最早开工时间</th>\n",
       "      <th>最晚开工时间</th>\n",
       "      <th>最早完工时间</th>\n",
       "      <th>最晚完工时间</th>\n",
       "    </tr>\n",
       "  </thead>\n",
       "  <tbody>\n",
       "    <tr>\n",
       "      <th>(1, 2)</th>\n",
       "      <td>-0.0</td>\n",
       "      <td>0.0</td>\n",
       "      <td>5.0</td>\n",
       "      <td>5.0</td>\n",
       "    </tr>\n",
       "    <tr>\n",
       "      <th>(1, 3)</th>\n",
       "      <td>-0.0</td>\n",
       "      <td>0.0</td>\n",
       "      <td>9.0</td>\n",
       "      <td>9.0</td>\n",
       "    </tr>\n",
       "    <tr>\n",
       "      <th>(1, 4)</th>\n",
       "      <td>-0.0</td>\n",
       "      <td>4.0</td>\n",
       "      <td>11.0</td>\n",
       "      <td>15.0</td>\n",
       "    </tr>\n",
       "    <tr>\n",
       "      <th>(2, 5)</th>\n",
       "      <td>5.0</td>\n",
       "      <td>5.0</td>\n",
       "      <td>9.0</td>\n",
       "      <td>9.0</td>\n",
       "    </tr>\n",
       "    <tr>\n",
       "      <th>(3, 4)</th>\n",
       "      <td>9.0</td>\n",
       "      <td>11.0</td>\n",
       "      <td>13.0</td>\n",
       "      <td>15.0</td>\n",
       "    </tr>\n",
       "    <tr>\n",
       "      <th>(3, 5)</th>\n",
       "      <td>9.0</td>\n",
       "      <td>9.0</td>\n",
       "      <td>9.0</td>\n",
       "      <td>9.0</td>\n",
       "    </tr>\n",
       "    <tr>\n",
       "      <th>(4, 6)</th>\n",
       "      <td>13.0</td>\n",
       "      <td>15.0</td>\n",
       "      <td>28.0</td>\n",
       "      <td>30.0</td>\n",
       "    </tr>\n",
       "    <tr>\n",
       "      <th>(5, 6)</th>\n",
       "      <td>9.0</td>\n",
       "      <td>9.0</td>\n",
       "      <td>30.0</td>\n",
       "      <td>30.0</td>\n",
       "    </tr>\n",
       "    <tr>\n",
       "      <th>(5, 7)</th>\n",
       "      <td>9.0</td>\n",
       "      <td>9.0</td>\n",
       "      <td>34.0</td>\n",
       "      <td>34.0</td>\n",
       "    </tr>\n",
       "    <tr>\n",
       "      <th>(5, 8)</th>\n",
       "      <td>9.0</td>\n",
       "      <td>14.0</td>\n",
       "      <td>44.0</td>\n",
       "      <td>49.0</td>\n",
       "    </tr>\n",
       "    <tr>\n",
       "      <th>(6, 7)</th>\n",
       "      <td>30.0</td>\n",
       "      <td>34.0</td>\n",
       "      <td>30.0</td>\n",
       "      <td>34.0</td>\n",
       "    </tr>\n",
       "    <tr>\n",
       "      <th>(6, 8)</th>\n",
       "      <td>30.0</td>\n",
       "      <td>30.0</td>\n",
       "      <td>49.0</td>\n",
       "      <td>49.0</td>\n",
       "    </tr>\n",
       "    <tr>\n",
       "      <th>(7, 8)</th>\n",
       "      <td>34.0</td>\n",
       "      <td>34.0</td>\n",
       "      <td>49.0</td>\n",
       "      <td>49.0</td>\n",
       "    </tr>\n",
       "  </tbody>\n",
       "</table>\n",
       "</div>"
      ],
      "text/plain": [
       "       最早开工时间 最晚开工时间 最早完工时间 最晚完工时间\n",
       "(1, 2)   -0.0    0.0    5.0    5.0\n",
       "(1, 3)   -0.0    0.0    9.0    9.0\n",
       "(1, 4)   -0.0    4.0   11.0   15.0\n",
       "(2, 5)    5.0    5.0    9.0    9.0\n",
       "(3, 4)    9.0   11.0   13.0   15.0\n",
       "(3, 5)    9.0    9.0    9.0    9.0\n",
       "(4, 6)   13.0   15.0   28.0   30.0\n",
       "(5, 6)    9.0    9.0   30.0   30.0\n",
       "(5, 7)    9.0    9.0   34.0   34.0\n",
       "(5, 8)    9.0   14.0   44.0   49.0\n",
       "(6, 7)   30.0   34.0   30.0   34.0\n",
       "(6, 8)   30.0   30.0   49.0   49.0\n",
       "(7, 8)   34.0   34.0   49.0   49.0"
      ]
     },
     "execution_count": 8,
     "metadata": {},
     "output_type": "execute_result"
    }
   ],
   "source": [
    "es, lf, ls, ef = [], [], [], []\n",
    "for k in range(len(L)):\n",
    "    i, j, t = L[k][0]-1, L[k][1]-1, L[k][2]\n",
    "    es.append([(i+1, j+1), xx[i]])\n",
    "    lf.append([(i+1, j+1), z[j]])\n",
    "    ls.append([(i+1, j+1), z[j] - (t - yy[i,j])])\n",
    "    ef.append([(i+1, j+1), xx[i] + (t - yy[i,j])])\n",
    "\n",
    "import pandas as pd\n",
    "\n",
    "es, ls, ef, lf = np.array(es, dtype=object), np.array(ls, dtype=object), np.array(ef, dtype=object), np.array(lf, dtype=object)\n",
    "data = np.vstack([es[:,1], ls[:,1], ef[:,1], lf[:,1]]).T\n",
    "df = pd.DataFrame(data, index=es[:,0], columns=['最早开工时间', '最晚开工时间', '最早完工时间', '最晚完工时间'])\n",
    "df"
   ]
  },
  {
   "cell_type": "code",
   "execution_count": 9,
   "metadata": {},
   "outputs": [
    {
     "data": {
      "image/png": "[encoded data removed]",
      "text/plain": [
       "<Figure size 432x288 with 1 Axes>"
      ]
     },
     "metadata": {},
     "output_type": "display_data"
    }
   ],
   "source": [
    "path = np.array(df[df['最早开工时间'] == df['最晚开工时间']].index)\n",
    "G = nx.DiGraph()\n",
    "G.add_nodes_from(set(range(1, n+1)) - {4})\n",
    "G.add_edges_from(path)\n",
    "nx.draw_spring(G, with_labels=True, font_color='w')"
   ]
  },
  {
   "cell_type": "markdown",
   "metadata": {},
   "source": [
    "### 6.7.5 完成作业期望和实现事件的概率\n",
    "对完成一项作业可以给出 3 个时间上的估计值：最乐观的估计值 $a$，最悲观的估计值 $b$，最可能的估计值 $e$\n",
    "\n",
    "设 $t_{ij}$ 是完成作业 $(i,j)$ 的实际时间，通常用下面的方法计算其数学期望和方差：\n",
    "$$\n",
    "E(t_{ij})=\\dfrac{a_{ij}+4e_{ij}+b_{ij}}{6}\n",
    "$$\n",
    "$$\n",
    "{\\rm Var}(t_{ij})=\\dfrac{\\left(b_{ij}-a_{ij}\\right)^2}{36}\n",
    "$$\n",
    "设 $T$ 为实际工期，即\n",
    "$$\n",
    "T=\\sum\\limits_{(i,j)\\in {\\text 关键路径}}t_{ij}\n",
    "$$\n",
    "由中心极限定理，可以假设 $T$ 服从正态分布，并且期望值和方差满足\n",
    "$$\n",
    "\\overline T=E(T)=\\sum\\limits_{(i,j)\\in {\\text 关键路径}}E\\left(t_{ij}\\right)\n",
    "$$\n",
    "$$\n",
    "S^2={\\rm Var}(T)=\\sum\\limits_{(i,j)\\in {\\text 关键路径}}{\\rm Var}\\left(t_{ij}\\right)\n",
    "$$\n",
    "设规定的工期为 $d$，则在规定的工期内完成整个项目的概率为\n",
    "$$\n",
    "P\\{T\\leq d\\}=\\Phi\\left(\\dfrac{d-\\overline T}{S} \\right)\n",
    "$$\n",
    "其中 $\\Phi(x)$ 为标准正态分布的分布函数"
   ]
  },
  {
   "cell_type": "code",
   "execution_count": 10,
   "metadata": {},
   "outputs": [
    {
     "data": {
      "text/plain": [
       "(array([ 5., 10., 11.,  4.,  4.,  0., 15., 21., 25., 35.,  0., 20., 15.]),\n",
       " array([ 0.44444444,  1.77777778,  1.        ,  0.11111111,  0.44444444,\n",
       "         0.        ,  2.77777778,  2.77777778,  5.44444444, 18.77777778,\n",
       "         0.        ,  5.44444444,  1.        ]))"
      ]
     },
     "execution_count": 10,
     "metadata": {},
     "output_type": "execute_result"
    }
   ],
   "source": [
    "L = np.array([(1,2,3,5,7),(1,3,8,9,16),(1,4,8,11,14),(2,5,3,4,5),\n",
    "    (3,4,2,4,6),(3,5,0,0,0),(4,6,8,16,18),(5,6,18,20,28),(5,7,18,25,32),\n",
    "    (5,8,26,33,52),(6,7,0,0,0),(6,8,11,21,25),(7,8,12,15,18)])  # i, j, a, m, b\n",
    "\n",
    "aa, mm, bb = L[:,2], L[:,3], L[:,4]\n",
    "Et = (aa + 4*mm + bb)/6\n",
    "Vt = (bb - aa)**2/36\n",
    "Et, Vt"
   ]
  },
  {
   "cell_type": "code",
   "execution_count": 11,
   "metadata": {},
   "outputs": [
    {
     "name": "stdout",
     "output_type": "stream",
     "text": [
      "最优值为： 51.0\n",
      "最优解为:\n",
      " [[ 0.  0.  1.  0.  0.  0.  0.  0.]\n",
      " [ 0.  0.  0.  0.  0.  0.  0.  0.]\n",
      " [ 0.  0.  0.  0.  1.  0.  0.  0.]\n",
      " [ 0.  0.  0.  0.  0.  0.  0.  0.]\n",
      " [ 0.  0.  0.  0.  0.  1. -0.  0.]\n",
      " [ 0.  0.  0.  0.  0.  0.  0.  1.]\n",
      " [ 0.  0.  0.  0.  0.  0.  0.  0.]\n",
      " [ 0.  0.  0.  0.  0.  0.  0.  0.]]\n"
     ]
    }
   ],
   "source": [
    "n = 8\n",
    "x = cp.Variable((n,n), boolean=True)    # x_ij 是否在关键路径上\n",
    "fun = 0\n",
    "for k in range(len(L)):\n",
    "    i, j = L[k][0]-1, L[k][1]-1\n",
    "    fun += Et[k]*x[i,j]\n",
    "obj = cp.Maximize(fun)\n",
    "out = [l[1]-1 for l in L if l[0] == 1]\n",
    "inn = [l[0]-1 for l in L if l[1] == n]\n",
    "cons = [\n",
    "    cp.sum(x[0, out]) == 1,\n",
    "    cp.sum(x[inn, n-1]) == 1,\n",
    "]\n",
    "for k in range(2, n):   # 不妨用 k表示自然序列 (1,2,...,n)的循环变量，而用 i表示机器序列的循环变量\n",
    "    out = [l[1]-1 for l in L if l[0] == k]\n",
    "    inn = [l[0]-1 for l in L if l[1] == k]\n",
    "    cons.append(cp.sum(x[k-1, out]) - cp.sum(x[inn, k-1]) == 0)\n",
    "prob = cp.Problem(obj, cons)\n",
    "prob.solve(solver='GUROBI')\n",
    "print('工期的数学期望为：', prob.value); print('关键路径为:\\n', x.value)"
   ]
  },
  {
   "cell_type": "code",
   "execution_count": 12,
   "metadata": {},
   "outputs": [
    {
     "name": "stdout",
     "output_type": "stream",
     "text": [
      "标准差s:\t\t 3.1622776601683795\n",
      "概率p:\t\t 0.6240851829770754\n",
      "需要天数N：\t 56.201483878755575\n"
     ]
    }
   ],
   "source": [
    "from scipy.stats import norm\n",
    "\n",
    "xx, f = x.value, prob.value\n",
    "d = 52\n",
    "s2 = 0\n",
    "for k in range(len(L)):\n",
    "    i, j = L[k][0]-1, L[k][1]-1\n",
    "    s2 += xx[i,j]*Vt[k]\n",
    "s = np.sqrt(s2)\n",
    "p = norm.cdf(d, f, s)       # 累计分布函数\n",
    "N = norm.ppf(0.95)*s + f    # cdf的逆\n",
    "print('标准差s:\\t\\t', s)\n",
    "print('概率p:\\t\\t', p)\n",
    "print('需要天数N：\\t', N)"
   ]
  }
 ],
 "metadata": {
  "kernelspec": {
   "display_name": "Python 3.9.12 ('mamo')",
   "language": "python",
   "name": "python3"
  },
  "language_info": {
   "codemirror_mode": {
    "name": "ipython",
    "version": 3
   },
   "file_extension": ".py",
   "mimetype": "text/x-python",
   "name": "python",
   "nbconvert_exporter": "python",
   "pygments_lexer": "ipython3",
   "version": "3.9.12"
  },
  "orig_nbformat": 4,
  "vscode": {
   "interpreter": {
    "hash": "bc4866e053c759d6a7b6c75a6ee7f30413af3cb1408278924a32b7c27fdde7d0"
   }
  }
 },
 "nbformat": 4,
 "nbformat_minor": 2
}
