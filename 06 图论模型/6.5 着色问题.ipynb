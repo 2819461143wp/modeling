{
 "cells": [
  {
   "cell_type": "markdown",
   "metadata": {
    "pycharm": {
     "name": "#%% md\n"
    }
   },
   "source": [
    "---\n",
    "#### 1. 物资储存问题\n",
    "构造图 $G$ ，用顶点 $v_1,v_2,\\cdots,v_n$ 分别表示 $n$ 种化学制品，顶点 $v_i$ 与 $v_j$ 相邻，当且仅当化学制品 $A_i$ 与 $A_j$ 不相容。\n",
    "\n",
    "于是储存问题就转化为对图 $G$ 的顶点着色问题，对图 $G$ 的定点最少着色数目就是最少需要的储存室数。\n",
    "####  2. 无限交换设备的波长分配问题\n",
    "以设备为顶点构造图 $G$，如果两台设备靠得太近，就用一条边连接他们。\n",
    "\n",
    "于是图 $G$ 的着色给出一个波长分配方案：给着同一种颜色的设备同一个波长。\n",
    "#### 3. 会议安排问题\n",
    "构造图 $G=(V, E)$，其中 $V=\\left\\{v_1, v_2, \\cdots, v_6\\right\\}$，这里 $v_1, v_2, \\cdots, v_6$ 分别表示 $6$ 个部门；$E$ 为边集，两个顶点之间有一条边当且仅当它们所代表的部门成员中有共同的人。\n",
    "\n",
    "### 计算色数的整数线性规划模型\n",
    "设 $x_{ik}$ 为第 $i$ 个顶点是否着第 $k$ 种色，$y$ 为需要的总色数\n",
    "$$\n",
    "\\begin{align*}\n",
    "&\\min y \\\\\n",
    "{\\rm s.t.} \n",
    "    &\\begin{cases}\n",
    "    \\sum\\limits_{k=1}^{\\Delta+1}x_{ik} = 1, \\quad i=1,2,\\cdots,n,\\\\\n",
    "    x_{ik} + x_{jk} \\leq1, \\quad \\left(v_i,v_j\\right)\\in E, \\quad k=1,2,\\cdots,\\Delta+1,\\\\\n",
    "    y \\geq \\sum\\limits_{k=1}^{\\Delta+1}kx_{ik} = 1, \\quad i=1,2,\\cdots,n,\\\\\n",
    "    x_{ik}=0{\\text 或} 1,\\quad i=1,2,\\cdots,n,\\ k=1,2,\\cdots,\\Delta+1.\n",
    "    \\end{cases}\n",
    "\\end{align*}\n",
    "$$"
   ]
  },
  {
   "cell_type": "code",
   "execution_count": 1,
   "metadata": {
    "pycharm": {
     "name": "#%%\n"
    }
   },
   "outputs": [
    {
     "data": {
      "text/plain": [
       "array([[0., 1., 1., 0., 1., 1.],\n",
       "       [1., 0., 1., 1., 0., 1.],\n",
       "       [1., 1., 0., 1., 1., 1.],\n",
       "       [0., 1., 1., 0., 1., 1.],\n",
       "       [1., 0., 1., 1., 0., 1.],\n",
       "       [1., 1., 1., 1., 1., 0.]])"
      ]
     },
     "execution_count": 1,
     "metadata": {},
     "output_type": "execute_result"
    }
   ],
   "source": [
    "import cvxpy as cp\n",
    "import numpy as np\n",
    "import networkx as nx\n",
    "\n",
    "L = [{'张','李','王'},{'李','赵','刘'},{'张','刘','王'},\n",
    "    {'赵','刘','孙'},{'张','王','孙'},{'李','刘','王'}]\n",
    "n = len(L)\n",
    "W = np.zeros((n, n))\n",
    "for i, p in enumerate(L):\n",
    "    for j, q in enumerate(L):\n",
    "        if i != j and p & q:\n",
    "            W[i,j] = 1\n",
    "W"
   ]
  },
  {
   "cell_type": "code",
   "execution_count": 2,
   "metadata": {
    "pycharm": {
     "name": "#%%\n"
    }
   },
   "outputs": [
    {
     "data": {
      "image/png": "[encoded data removed]",
      "text/plain": [
       "<Figure size 432x288 with 1 Axes>"
      ]
     },
     "metadata": {},
     "output_type": "display_data"
    }
   ],
   "source": [
    "G = nx.Graph(W)\n",
    "G.add_nodes_from(range(n))\n",
    "nx.draw_circular(G, with_labels=True, font_color='w')"
   ]
  },
  {
   "cell_type": "code",
   "execution_count": 3,
   "metadata": {
    "pycharm": {
     "name": "#%%\n"
    }
   },
   "outputs": [
    {
     "data": {
      "text/plain": [
       "5"
      ]
     },
     "execution_count": 3,
     "metadata": {},
     "output_type": "execute_result"
    }
   ],
   "source": [
    "degs = np.sum(W, axis=0)\n",
    "K = int(degs.max())\n",
    "K"
   ]
  },
  {
   "cell_type": "code",
   "execution_count": 4,
   "metadata": {
    "pycharm": {
     "name": "#%%\n"
    }
   },
   "outputs": [
    {
     "name": "stdout",
     "output_type": "stream",
     "text": [
      "最优解为：\n",
      "[[-0.  1. -0. -0. -0. -0.]\n",
      " [ 1. -0. -0. -0. -0. -0.]\n",
      " [-0. -0.  1. -0. -0. -0.]\n",
      " [-0.  1. -0. -0. -0. -0.]\n",
      " [ 1. -0. -0. -0. -0. -0.]\n",
      " [-0. -0. -0.  1. -0. -0.]]\n",
      "最优值为：4.0\n",
      "顶点和颜色的对应关系如下：\n",
      "顶点:\t[1 2 3 4 5 6]\n",
      "颜色：\t[2 1 3 2 1 4]\n"
     ]
    }
   ],
   "source": [
    "x = cp.Variable((n, K+1), boolean=True)\n",
    "y = cp.Variable(1, integer=True)\n",
    "obj = cp.Minimize(y)\n",
    "cons = [cp.sum(x, axis=1) == 1]\n",
    "\n",
    "for i in range(n):\n",
    "    for j in range(n):\n",
    "        if W[i,j] == 1:\n",
    "            for k in range(0, K+1):\n",
    "                cons.append(x[i,k] + x[j,k] <= 1)\n",
    "\n",
    "for i in range(n):\n",
    "    cons.append(y >= range(1, K+2) @ x[i])  # y >= 每个顶点所着色的颜色编号\n",
    "\n",
    "prob = cp.Problem(obj, cons)\n",
    "prob.solve(solver='GUROBI')\n",
    "print(f'最优解为：\\n{x.value}'); print(f'最优值为：{prob.value}')\n",
    "i, k = np.nonzero(x.value)\n",
    "print(\"顶点和颜色的对应关系如下：\")\n",
    "print(\"顶点:\", i+1, sep='\\t'); print(\"颜色：\", k+1, sep='\\t')"
   ]
  }
 ],
 "metadata": {
  "kernelspec": {
   "display_name": "Python 3.9.12 ('mamo')",
   "language": "python",
   "name": "python3"
  },
  "language_info": {
   "codemirror_mode": {
    "name": "ipython",
    "version": 3
   },
   "file_extension": ".py",
   "mimetype": "text/x-python",
   "name": "python",
   "nbconvert_exporter": "python",
   "pygments_lexer": "ipython3",
   "version": "3.9.12"
  },
  "orig_nbformat": 4,
  "vscode": {
   "interpreter": {
    "hash": "bc4866e053c759d6a7b6c75a6ee7f30413af3cb1408278924a32b7c27fdde7d0"
   }
  }
 },
 "nbformat": 4,
 "nbformat_minor": 2
}
