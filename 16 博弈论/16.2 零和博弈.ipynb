{
 "cells": [
  {
   "cell_type": "markdown",
   "metadata": {},
   "source": [
    "> #### 纯策略与纯局势\n",
    "> \n",
    "> 在完全信息博弈中，如果在每个给定信息下，只能选择一种特定策略，这个策略为纯策略 (pure strategy) 。纯策略是混合策略的特例。纯策略的收益可以用效用表示，混合策略的收益只能以预期效用表示。\n",
    "> \n",
    "> 博弈各方选定一个纯策略，就构成了一个纯局势"
   ]
  },
  {
   "cell_type": "markdown",
   "metadata": {},
   "source": [
    "---\n",
    "**零和博弈**：两名局中人，每个局中人有有限个策略，在任一纯局势下，两局中人的赢得之和总是为零（又称矩阵博弈）\n",
    "\n",
    "> 所以，在双方为理性人的条件下，为了使自己的利益最大化，必须使对方的损失最大化，亦即赢得最小化\n",
    "\n",
    "**博弈的稳定解**：只要对方不改变策略，任一局中人都不可能通过变换策略来增大赢得，称这样的局势为博弈的一个稳定解（稳定点）\n",
    "\n",
    "**函数的鞍点**$\\boldsymbol (\\boldsymbol x^*, \\boldsymbol y^*)$：$f(\\boldsymbol x,\\boldsymbol y^*)\\leq f(\\boldsymbol x^*,\\boldsymbol y^*)\\leq f(\\boldsymbol x^*, \\boldsymbol y)$"
   ]
  },
  {
   "cell_type": "markdown",
   "metadata": {},
   "source": [
    "若等式\n",
    "$$\n",
    "\\max\\limits_i\\ \\min\\limits_j\\ a_{ij}=\\min\\limits_j\\ \\max\\limits_i\\ a_{ij}=a_{i^*\\!j^*}\n",
    "$$\n",
    "成立，则称 $V_G$ 为博弈 $G$ 的值，称使上式成立的纯局势 $(\\alpha_{i^*},\\beta_{j^*})$ 为博弈 $G$ 的鞍点或稳定解，称 $a_{i^*\\!j^*}$ 为赢得矩阵的鞍点，$\\alpha_{i^*}$ 与 $\\beta_{j^*}$ 分别成为两个局中人的**最优纯策略**"
   ]
  },
  {
   "cell_type": "markdown",
   "metadata": {},
   "source": [
    "**极大极小定理**：设 $G=\\{S_1,S_2;\\boldsymbol A\\}$，记 $\\mu=\\max\\limits_i\\ \\min\\limits_j\\ a_{ij}$，$\\nu=-\\min\\limits_j\\ \\max\\limits_i\\ a_{ij}$，则必有 $\\mu+\\nu\\leq 0$\n",
    "> 易见 $\\mu$ 为Ⅰ的最小赢得，$\\nu$ 为Ⅱ的最小赢得\n",
    "\n",
    "**零和博弈 $G$ 具有稳定解的充要条件**：$\\mu+\\nu=0$"
   ]
  },
  {
   "cell_type": "markdown",
   "metadata": {},
   "source": [
    "当博弈问题有稳定解（简称为解）时，其解可以不唯一，当解不唯一时，解之间满足下面两条性质：\n",
    "- 无差别性：若 $(\\alpha_{i_1},\\beta_{j_1})$ 与 $(\\alpha_{i_2},\\beta_{j_2})$ 是博弈 $G$ 的两个解，则必有 $a_{i_1j_1}=a_{i_2j_2}$\n",
    "  \n",
    "- 可交换性：若 $(\\alpha_{i_1},\\beta_{j_1})$ 与 $(\\alpha_{i_2},\\beta_{j_2})$ 是博弈 $G$ 的两个解，则 $(\\alpha_{i_1},\\beta_{j_2})$ 和 $(\\alpha_{i_2},\\beta_{j_1})$ 也是解"
   ]
  }
 ],
 "metadata": {
  "kernelspec": {
   "display_name": "Python 3.9.12 ('mamo')",
   "language": "python",
   "name": "python3"
  },
  "language_info": {
   "name": "python",
   "version": "3.9.12"
  },
  "orig_nbformat": 4,
  "vscode": {
   "interpreter": {
    "hash": "bc4866e053c759d6a7b6c75a6ee7f30413af3cb1408278924a32b7c27fdde7d0"
   }
  }
 },
 "nbformat": 4,
 "nbformat_minor": 2
}
