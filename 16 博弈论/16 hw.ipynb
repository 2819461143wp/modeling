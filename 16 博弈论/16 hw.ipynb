{
 "cells": [
  {
   "cell_type": "code",
   "execution_count": 1,
   "metadata": {},
   "outputs": [],
   "source": [
    "import numpy as np\n",
    "import cvxpy as cp\n",
    "from scipy.optimize import minimize \n",
    "import pandas as pd"
   ]
  },
  {
   "cell_type": "markdown",
   "metadata": {},
   "source": [
    "### 1\n",
    "零和 混合策略"
   ]
  },
  {
   "cell_type": "code",
   "execution_count": 2,
   "metadata": {},
   "outputs": [
    {
     "name": "stdout",
     "output_type": "stream",
     "text": [
      "最优解 x： [0.33333333 0.33333333 0.33333333]\n",
      "最优值 u： 0.0\n",
      "最优解 y： [0.33333333 0.33333333 0.33333333]\n",
      "最优值 v： 0.0\n"
     ]
    }
   ],
   "source": [
    "A = np.array([[0, -1, 1], [1, 0, -1], [-1, 1, 0]])\n",
    "x = cp.Variable(3, nonneg=True)\n",
    "y = cp.Variable(3, nonneg=True)\n",
    "u = cp.Variable()\n",
    "v = cp.Variable()\n",
    "\n",
    "obj1 = cp.Maximize(u)\n",
    "cons1 = [\n",
    "    A.T @ x >= u,   # aij*xi 每列的和 >= u\n",
    "    cp.sum(x) == 1,\n",
    "]\n",
    "prob1 = cp.Problem(obj1, cons1)\n",
    "prob1.solve(solver='GUROBI')\n",
    "print(\"最优解 x：\", x.value)\n",
    "print(\"最优值 u：\", prob1.value)\n",
    "\n",
    "obj2 = cp.Minimize(v)\n",
    "cons2 = [\n",
    "    A @ y <= v,   # aij*yj 每行的和 <= v\n",
    "    cp.sum(y) == 1,\n",
    "]\n",
    "prob2 = cp.Problem(obj2, cons2)\n",
    "prob2.solve(solver='GUROBI')\n",
    "print(\"最优解 y：\", y.value)\n",
    "print(\"最优值 v：\", prob2.value)"
   ]
  },
  {
   "cell_type": "markdown",
   "metadata": {},
   "source": [
    "### 2\n",
    "零和 混合策略"
   ]
  },
  {
   "cell_type": "code",
   "execution_count": 3,
   "metadata": {},
   "outputs": [
    {
     "name": "stdout",
     "output_type": "stream",
     "text": [
      "最优解 x： [0.38333333 0.61666667]\n",
      "最优值 u： 0.7958333333333334\n",
      "最优解 y： [0.41666667 0.58333333]\n",
      "最优值 v： 0.7958333333333334\n"
     ]
    }
   ],
   "source": [
    "A = np.array([[0.58, 0.95], [0.93, 0.70]])\n",
    "x = cp.Variable(2, nonneg=True)\n",
    "y = cp.Variable(2, nonneg=True)\n",
    "u = cp.Variable()\n",
    "v = cp.Variable()\n",
    "\n",
    "obj1 = cp.Maximize(u)\n",
    "cons1 = [\n",
    "    A.T @ x >= u,   # aij*xi 每列的和 >= u\n",
    "    cp.sum(x) == 1,\n",
    "]\n",
    "prob1 = cp.Problem(obj1, cons1)\n",
    "prob1.solve(solver='GUROBI')\n",
    "print(\"最优解 x：\", x.value)    # 罚球队员\n",
    "print(\"最优值 u：\", prob1.value)\n",
    "\n",
    "obj2 = cp.Minimize(v)\n",
    "cons2 = [\n",
    "    A @ y <= v,   # aij*yj 每行的和 <= v\n",
    "    cp.sum(y) == 1,\n",
    "]\n",
    "prob2 = cp.Problem(obj2, cons2)\n",
    "prob2.solve(solver='GUROBI')\n",
    "print(\"最优解 y：\", y.value)    # 守门队员\n",
    "print(\"最优值 v：\", prob2.value)"
   ]
  },
  {
   "cell_type": "markdown",
   "metadata": {},
   "source": [
    "### 3\n",
    "非零和 混合策略 囚徒困境"
   ]
  },
  {
   "cell_type": "code",
   "execution_count": 4,
   "metadata": {},
   "outputs": [
    {
     "name": "stdout",
     "output_type": "stream",
     "text": [
      "     fun: 2.0\n",
      "     jac: array([1., 1., 1., 1.])\n",
      " message: 'Optimization terminated successfully'\n",
      "    nfev: 6\n",
      "     nit: 1\n",
      "    njev: 1\n",
      "  status: 0\n",
      " success: True\n",
      "       x: array([1.00000000e+00, 1.23456800e-13, 1.00000000e+00, 1.35946809e-12])\n",
      "--------------------------------------------------------------------------------\n",
      "最优值为： 2.0\n",
      "最优解为： [1. 0. 1. 0.]\n",
      "\n",
      "国家Ⅰ得分的期望： 2.000000000003831\n",
      "国家Ⅱ得分的期望： 1.9999999999976512\n"
     ]
    }
   ],
   "source": [
    "A = np.array([[2, 5], [0, 4]])\n",
    "B = np.array([[2, 0], [5, 4]])\n",
    "\n",
    "def obj(x):\n",
    "    return np.sum(x)\n",
    "\n",
    "def ineq(x):\n",
    "    xs = x[:2]\n",
    "    ys = x[2:]\n",
    "    return np.array([\n",
    "        -(A @ ys - xs @ A @ ys),\n",
    "        -(B.T @ xs - xs @ B @ ys),\n",
    "    ]).flatten()\n",
    "\n",
    "def eq(x):\n",
    "    xs = x[:2]\n",
    "    ys = x[2:]\n",
    "    return np.array([\n",
    "        np.sum(xs) - 1,\n",
    "        np.sum(ys) - 1,\n",
    "    ]).flatten()\n",
    "\n",
    "x0 = np.ones(4)/2\n",
    "cons = [\n",
    "    {'type': 'ineq', 'fun': ineq},\n",
    "    {'type': 'eq', 'fun': eq},\n",
    "]\n",
    "bd = [(0, 1)]*4\n",
    "ret = minimize(obj, x0, constraints=cons, bounds=bd)\n",
    "print(ret)\n",
    "print('-'*80)\n",
    "print(\"最优值为：\", ret.fun)\n",
    "print(\"最优解为：\", ret.x.round(4))\n",
    "\n",
    "x_r = ret.x[:2]\n",
    "y_r = ret.x[2:]\n",
    "x_score = x_r @ A @ y_r\n",
    "y_score = x_r @ B @ y_r\n",
    "print()\n",
    "print(\"国家Ⅰ得分的期望：\", x_score)\n",
    "print(\"国家Ⅱ得分的期望：\", y_score)"
   ]
  },
  {
   "cell_type": "markdown",
   "metadata": {},
   "source": [
    "可以看到两国的最优策略都是扩军，此为囚徒困境一实例"
   ]
  },
  {
   "cell_type": "markdown",
   "metadata": {},
   "source": [
    "### 4\n",
    "相亲配对问题"
   ]
  },
  {
   "cell_type": "code",
   "execution_count": 5,
   "metadata": {},
   "outputs": [
    {
     "data": {
      "text/plain": [
       "array([[1., 1., 1., 1., 1., 1., 1., 1., 1., 1., 1., 1., 1., 1., 1., 1.,\n",
       "        1., 1., 1., 1.],\n",
       "       [1., 1., 1., 1., 1., 1., 1., 1., 1., 1., 1., 1., 1., 1., 1., 1.,\n",
       "        1., 1., 1., 0.],\n",
       "       [1., 1., 1., 0., 1., 1., 1., 0., 1., 1., 1., 1., 1., 1., 1., 1.,\n",
       "        1., 1., 1., 0.],\n",
       "       [1., 1., 1., 1., 1., 1., 1., 0., 1., 0., 1., 1., 1., 1., 1., 1.,\n",
       "        1., 1., 1., 1.],\n",
       "       [1., 1., 1., 1., 1., 1., 1., 1., 1., 1., 1., 1., 1., 1., 1., 1.,\n",
       "        1., 1., 1., 1.],\n",
       "       [0., 1., 1., 0., 1., 1., 1., 0., 1., 1., 1., 1., 1., 1., 1., 0.,\n",
       "        1., 1., 0., 1.],\n",
       "       [1., 1., 1., 1., 1., 1., 1., 1., 1., 1., 1., 1., 1., 1., 1., 1.,\n",
       "        1., 1., 1., 1.],\n",
       "       [1., 1., 1., 1., 1., 1., 1., 1., 1., 1., 1., 1., 1., 1., 1., 1.,\n",
       "        1., 1., 1., 1.],\n",
       "       [1., 1., 1., 0., 0., 1., 1., 0., 0., 1., 1., 0., 1., 1., 1., 0.,\n",
       "        1., 1., 0., 1.],\n",
       "       [1., 1., 1., 1., 0., 1., 1., 0., 1., 1., 1., 0., 1., 1., 1., 1.,\n",
       "        1., 1., 1., 1.],\n",
       "       [1., 0., 0., 1., 0., 0., 1., 1., 0., 1., 1., 0., 0., 0., 1., 1.,\n",
       "        0., 1., 0., 1.],\n",
       "       [1., 1., 1., 1., 1., 1., 1., 1., 1., 1., 1., 1., 1., 1., 1., 1.,\n",
       "        1., 1., 1., 0.],\n",
       "       [1., 1., 1., 0., 0., 1., 1., 0., 1., 1., 1., 0., 1., 1., 1., 1.,\n",
       "        1., 1., 0., 1.],\n",
       "       [1., 1., 1., 1., 1., 1., 1., 1., 1., 1., 1., 1., 1., 1., 1., 1.,\n",
       "        1., 1., 1., 1.],\n",
       "       [1., 1., 1., 1., 0., 1., 1., 0., 1., 1., 1., 0., 1., 1., 1., 1.,\n",
       "        1., 1., 1., 1.],\n",
       "       [1., 1., 1., 1., 1., 1., 1., 1., 1., 1., 1., 1., 1., 1., 1., 1.,\n",
       "        1., 1., 1., 1.],\n",
       "       [1., 1., 1., 1., 1., 1., 1., 0., 1., 1., 1., 1., 1., 1., 1., 1.,\n",
       "        1., 1., 1., 0.],\n",
       "       [1., 0., 1., 1., 0., 1., 1., 1., 1., 1., 1., 1., 1., 0., 1., 1.,\n",
       "        0., 1., 0., 1.],\n",
       "       [1., 1., 1., 1., 1., 1., 1., 1., 1., 1., 1., 1., 1., 1., 1., 1.,\n",
       "        1., 1., 1., 1.],\n",
       "       [0., 1., 1., 0., 0., 0., 0., 0., 1., 1., 1., 1., 0., 0., 0., 0.,\n",
       "        1., 0., 1., 1.]])"
      ]
     },
     "execution_count": 5,
     "metadata": {},
     "output_type": "execute_result"
    }
   ],
   "source": [
    "df1 = pd.read_excel('../../../hw/16第16章  博弈论习题解答/ti16_4.xlsx', header=None, sheet_name='Sheet1')\n",
    "df2 = pd.read_excel('../../../hw/16第16章  博弈论习题解答/ti16_4.xlsx', header=None, sheet_name='Sheet2')\n",
    "B = df1.values\n",
    "G = df2.values\n",
    "B_ability, B_age, B_expect = B[:, :5], B[:, 5], B[:, 6:]\n",
    "G_ability, G_age, G_expect = G[:, :5], G[:, 5], G[:, 6:]\n",
    "\n",
    "n, m = len(B), len(G)\n",
    "A = np.zeros((n, m))    # 是否能够配对\n",
    "for i in range(n):\n",
    "    for j in range(m):\n",
    "        if B_age[i] - G_age[j] <= 5 and G_age[j] - B_age[i] <= 2:\n",
    "            b_abi, b_exp = B_ability[i], B_expect[i]\n",
    "            g_abi, g_exp = G_ability[j], G_expect[j]\n",
    "            if np.sum(b_abi >= g_exp) >= 2 and np.sum(g_abi >= b_exp) >= 2:\n",
    "                A[i, j] = 1\n",
    "A"
   ]
  },
  {
   "cell_type": "code",
   "execution_count": 6,
   "metadata": {},
   "outputs": [
    {
     "name": "stdout",
     "output_type": "stream",
     "text": [
      "最优解：\n",
      "[ 1  2  3  4  5  6  7  8  9 10 11 12 13 14 15 16 17 18 19 20]\n",
      "[ 5  3  1 12 14 17  2  9 13  4 15  7 18 10 16  8 19  6 11 20]\n",
      "最优值： 20.0\n"
     ]
    }
   ],
   "source": [
    "x = cp.Variable((n, m), boolean=True)\n",
    "obj = cp.Maximize(cp.sum(cp.multiply(A, x)))\n",
    "cons = [\n",
    "    cp.sum(x, axis=0) == 1,\n",
    "    cp.sum(x, axis=1) == 1,\n",
    "]\n",
    "prob = cp.Problem(obj, cons)\n",
    "prob.solve(solver=\"GUROBI\")\n",
    "print(\"最优解：\", end='\\n')\n",
    "x_r, y_r = np.nonzero(x.value)\n",
    "print(x_r+1); print(y_r+1)\n",
    "print(\"最优值：\", prob.value)"
   ]
  },
  {
   "cell_type": "markdown",
   "metadata": {},
   "source": [
    "满意度最高（符合条件最多）"
   ]
  },
  {
   "cell_type": "code",
   "execution_count": 7,
   "metadata": {},
   "outputs": [
    {
     "data": {
      "text/plain": [
       "array([[6., 7., 5., 6., 5., 6., 5., 6., 6., 4., 5., 5., 8., 5., 6., 6.,\n",
       "        5., 8., 5., 4.],\n",
       "       [6., 8., 5., 5., 5., 6., 6., 6., 7., 5., 6., 6., 7., 6., 6., 6.,\n",
       "        5., 9., 5., 0.],\n",
       "       [5., 7., 6., 0., 6., 6., 6., 0., 7., 7., 7., 5., 7., 7., 7., 6.,\n",
       "        4., 7., 5., 0.],\n",
       "       [5., 8., 6., 7., 5., 7., 5., 0., 8., 0., 7., 6., 7., 6., 7., 6.,\n",
       "        4., 8., 5., 5.],\n",
       "       [4., 8., 7., 6., 6., 5., 6., 6., 7., 6., 7., 4., 5., 6., 7., 5.,\n",
       "        5., 7., 6., 6.],\n",
       "       [0., 7., 6., 0., 7., 6., 6., 0., 7., 5., 9., 5., 7., 7., 6., 0.,\n",
       "        5., 7., 0., 6.],\n",
       "       [6., 7., 7., 6., 5., 7., 6., 6., 7., 6., 8., 5., 6., 6., 7., 6.,\n",
       "        6., 8., 6., 5.],\n",
       "       [7., 7., 6., 7., 4., 7., 5., 7., 7., 4., 7., 5., 8., 7., 7., 6.,\n",
       "        4., 8., 6., 6.],\n",
       "       [4., 4., 5., 0., 0., 5., 4., 0., 0., 4., 5., 0., 5., 4., 5., 0.,\n",
       "        5., 6., 0., 4.],\n",
       "       [6., 7., 6., 7., 0., 6., 6., 0., 9., 6., 8., 0., 6., 6., 7., 6.,\n",
       "        6., 7., 7., 8.],\n",
       "       [7., 0., 0., 6., 0., 0., 6., 6., 0., 5., 8., 0., 0., 0., 6., 6.,\n",
       "        0., 7., 0., 6.],\n",
       "       [5., 8., 6., 4., 7., 6., 7., 6., 6., 7., 7., 5., 6., 6., 6., 5.,\n",
       "        6., 8., 5., 0.],\n",
       "       [6., 5., 6., 0., 0., 7., 7., 0., 5., 6., 7., 0., 6., 6., 6., 4.,\n",
       "        5., 8., 0., 4.],\n",
       "       [9., 6., 7., 8., 6., 9., 6., 7., 8., 5., 8., 7., 8., 8., 8., 8.,\n",
       "        6., 8., 6., 6.],\n",
       "       [5., 7., 5., 6., 0., 7., 6., 0., 7., 5., 7., 0., 7., 4., 5., 4.,\n",
       "        5., 8., 5., 5.],\n",
       "       [6., 6., 6., 6., 5., 6., 4., 7., 8., 4., 5., 5., 6., 4., 6., 6.,\n",
       "        6., 7., 6., 5.],\n",
       "       [6., 8., 5., 5., 5., 6., 6., 0., 7., 5., 6., 6., 7., 6., 6., 6.,\n",
       "        5., 9., 5., 0.],\n",
       "       [5., 0., 6., 5., 0., 6., 6., 7., 7., 7., 8., 5., 7., 0., 7., 5.,\n",
       "        0., 7., 0., 7.],\n",
       "       [6., 7., 7., 7., 5., 6., 6., 8., 8., 5., 8., 5., 7., 6., 7., 6.,\n",
       "        6., 8., 5., 7.],\n",
       "       [0., 6., 5., 0., 0., 0., 0., 0., 6., 6., 7., 4., 0., 0., 0., 0.,\n",
       "        5., 0., 5., 5.]])"
      ]
     },
     "execution_count": 7,
     "metadata": {},
     "output_type": "execute_result"
    }
   ],
   "source": [
    "B = np.zeros((n, m))    # 满意度（简单地以满足条件数来估计，但可以采用模糊评价法）\n",
    "for i in range(n):\n",
    "    for j in range(m):\n",
    "        if B_age[i] - G_age[j] <= 5 and G_age[j] - B_age[i] <= 2:\n",
    "            b_abi, b_exp = B_ability[i], B_expect[i]\n",
    "            g_abi, g_exp = G_ability[j], G_expect[j]\n",
    "            if np.sum(b_abi >= g_exp) >= 2 and np.sum(g_abi >= b_exp) >= 2:\n",
    "                B[i, j] = np.sum(b_abi >= g_exp) + np.sum(g_abi >= b_exp)\n",
    "B"
   ]
  },
  {
   "cell_type": "code",
   "execution_count": 8,
   "metadata": {},
   "outputs": [
    {
     "name": "stdout",
     "output_type": "stream",
     "text": [
      "最优解：\n",
      "[ 1  2  3  4  5  6  7  8  9 10 11 12 13 14 15 16 17 18 19 20]\n",
      "[13 12 14  4  2 11  3 19 17 20  1  5  7 16  6  9 18 15  8 10]\n",
      "最优值： 145.0\n"
     ]
    }
   ],
   "source": [
    "x = cp.Variable((n, m), boolean=True)\n",
    "obj = cp.Maximize(cp.sum(cp.multiply(B, x)))\n",
    "cons = [\n",
    "    cp.sum(x, axis=0) == 1,\n",
    "    cp.sum(x, axis=1) == 1,\n",
    "]\n",
    "prob = cp.Problem(obj, cons)\n",
    "prob.solve(solver=\"GUROBI\")\n",
    "print(\"最优解：\", end='\\n')\n",
    "x_r, y_r = np.nonzero(x.value)\n",
    "print(x_r+1); print(y_r+1)\n",
    "print(\"最优值：\", prob.value)   # 最佳方案"
   ]
  },
  {
   "cell_type": "code",
   "execution_count": 9,
   "metadata": {},
   "outputs": [
    {
     "name": "stdout",
     "output_type": "stream",
     "text": [
      "[8. 6. 7. 7. 8. 9. 7. 6. 5. 8. 7. 7. 7. 8. 7. 8. 9. 7. 8. 6.]\n"
     ]
    }
   ],
   "source": [
    "print(B[x_r, y_r])  # 各对符合条件数"
   ]
  }
 ],
 "metadata": {
  "kernelspec": {
   "display_name": "Python 3.9.12 ('mamo')",
   "language": "python",
   "name": "python3"
  },
  "language_info": {
   "codemirror_mode": {
    "name": "ipython",
    "version": 3
   },
   "file_extension": ".py",
   "mimetype": "text/x-python",
   "name": "python",
   "nbconvert_exporter": "python",
   "pygments_lexer": "ipython3",
   "version": "3.9.12"
  },
  "orig_nbformat": 4,
  "vscode": {
   "interpreter": {
    "hash": "bc4866e053c759d6a7b6c75a6ee7f30413af3cb1408278924a32b7c27fdde7d0"
   }
  }
 },
 "nbformat": 4,
 "nbformat_minor": 2
}
