{
 "cells": [
  {
   "cell_type": "markdown",
   "metadata": {},
   "source": [
    "> 当赢得矩阵中不存在鞍点时，在只使用纯策略的范围内，博弈问题无解。因此引进零和博弈的混合策略"
   ]
  },
  {
   "cell_type": "markdown",
   "metadata": {},
   "source": [
    "---\n",
    "### 16.3.1 零和博弈的混合策略\n",
    "设局中人Ⅰ用概率 $x_i$ 选用策略 $\\alpha_i$，局中人Ⅱ用概率 $y_i$ 选用策略 $\\beta_i$\n",
    "\n",
    "Ⅰ的混合策略 $S_1^*=\\left\\{[x_1,\\cdots,x_m]^{\\rm T}\\ \\vert\\ x_i\\geq0,i=1,\\cdots,m;\\sum\\limits_{i=1}^mx_i=1\\right\\}$\n",
    "\n",
    "Ⅱ的混合策略 $S_2^*=\\left\\{[y_1,\\cdots,y_n]^{\\rm T}\\ \\vert\\ y_j\\geq0,j=1,\\cdots,m;\\sum\\limits_{j=1}^my_j=1\\right\\}$"
   ]
  },
  {
   "cell_type": "markdown",
   "metadata": {},
   "source": [
    "**定义**：若存在 $m$ 维概率向量 $\\bar{\\boldsymbol x}$ 和 $n$ 维概率向量 $\\bar{\\boldsymbol y}$，使得对一切 $m$ 维概率向量 $\\boldsymbol x$ 和 $n$ 维概率向量 ${\\boldsymbol y}$，有\n",
    "$$\n",
    "\\bar{\\boldsymbol x}^{\\rm T}{\\boldsymbol A}\\bar{\\boldsymbol y}=\\max_{\\boldsymbol x}{\\boldsymbol x}^{\\rm T}{\\boldsymbol A}\\bar{\\boldsymbol y}=\\min_{\\boldsymbol y}\\bar{\\boldsymbol x}^{\\rm T}{\\boldsymbol A}{\\boldsymbol y}\n",
    "$$\n",
    "则称 $(\\bar{\\boldsymbol x},\\bar{\\boldsymbol y})$ 为混合策略博弈问题的鞍点"
   ]
  },
  {
   "cell_type": "markdown",
   "metadata": {},
   "source": [
    "**定理**：设 $\\bar {\\boldsymbol x}\\in S_1^*,\\bar {\\boldsymbol y}\\in S_2^*$，则 $(\\bar {\\boldsymbol x},\\bar {\\boldsymbol y})$ 为 $G=\\{S_1,S_2;\\boldsymbol A\\}$ 的解的充要条件是\n",
    "$$\n",
    "\\begin{cases}\n",
    "\\sum\\limits_{j=1}^na_{ij}\\bar y_j\\leq\\bar{\\boldsymbol x}^{\\rm T}{\\boldsymbol A}\\bar{\\boldsymbol y},\\quad &i=1,2,\\cdots,m\\\\\n",
    "\\sum\\limits_{i=1}^na_{ij}\\bar x_i\\geq\\bar{\\boldsymbol x}^{\\rm T}{\\boldsymbol A}\\bar{\\boldsymbol y},\\quad &j=1,2,\\cdots,n\n",
    "\\end{cases}\n",
    "$$"
   ]
  },
  {
   "cell_type": "markdown",
   "metadata": {},
   "source": [
    "**定理**：任意混合策略博弈问题必存在鞍点，即必存在概率向量 $\\bar{\\boldsymbol x}$ 和 $\\bar{\\boldsymbol y}$，使得\n",
    "$$\n",
    "\\bar{\\boldsymbol x}^{\\rm T}{\\boldsymbol A}\\bar{\\boldsymbol y}=\\max_{\\boldsymbol x}\\ \\min_{\\boldsymbol y}\\ {\\boldsymbol x}^{\\rm T}{\\boldsymbol A}{\\boldsymbol y}=\\min_{\\boldsymbol y}\\ \\max_{\\boldsymbol x}\\ {\\boldsymbol x}^{\\rm T}{\\boldsymbol A}{\\boldsymbol y}\n",
    "$$"
   ]
  },
  {
   "cell_type": "markdown",
   "metadata": {},
   "source": [
    "### 16.3.2 零和博弈的解法\n",
    "#### 1. 线性方程组方法\n",
    "假设最优策略中的 $x_i^*$ 和 $y_j^*$ 均不为零，则把求解博弈问题转化为求方程组\n",
    "$$\n",
    "\\begin{align*}\n",
    "    &\\begin{cases}\n",
    "    \\sum\\limits_{i=1}^m=a_{ij}x_i\\quad j=1,2,\\cdots,n\\\\\n",
    "    \\sum\\limits_{i=1}^m=1\\\\\n",
    "    \\end{cases}\n",
    "\\\\\n",
    "    &\\begin{cases}\n",
    "    \\sum\\limits_{j=1}^na_{ij}y_j=v,\\quad i=1,2,\\cdots,m\\\\\n",
    "    \\sum\\limits_{j=1}^ny_j=1\n",
    "    \\end{cases}\n",
    "\\end{align*}\n",
    "$$\n",
    "的非负解 $\\boldsymbol x^*, \\boldsymbol y^*$。式中 $u$ 为局中人Ⅰ的赢得，$v$ 是局中人Ⅱ的支付\n",
    "> **局限性**：由于事先假设 $x^*_i,y^*_j$ 均不为零，故当最优策略的某些分量实际为零时，上述方程组可能无解。但对于 $2\\times 2$ 的矩阵，恒可以用方程组方法进行求解"
   ]
  },
  {
   "cell_type": "markdown",
   "metadata": {},
   "source": [
    "#### 田忌赛马问题"
   ]
  },
  {
   "cell_type": "code",
   "execution_count": 1,
   "metadata": {},
   "outputs": [
    {
     "data": {
      "text/latex": [
       "$\\displaystyle \\left[\\begin{matrix}3 & 1 & 1 & -1 & 1 & 1 & -1 & 0\\\\1 & 3 & -1 & 1 & 1 & 1 & -1 & 0\\\\1 & 1 & 3 & 1 & -1 & 1 & -1 & 0\\\\1 & 1 & 1 & 3 & 1 & -1 & -1 & 0\\\\1 & -1 & 1 & 1 & 3 & 1 & -1 & 0\\\\-1 & 1 & 1 & 1 & 1 & 3 & -1 & 0\\\\1 & 1 & 1 & 1 & 1 & 1 & 0 & 1\\end{matrix}\\right]$"
      ],
      "text/plain": [
       "Matrix([\n",
       "[ 3,  1,  1, -1,  1,  1, -1, 0],\n",
       "[ 1,  3, -1,  1,  1,  1, -1, 0],\n",
       "[ 1,  1,  3,  1, -1,  1, -1, 0],\n",
       "[ 1,  1,  1,  3,  1, -1, -1, 0],\n",
       "[ 1, -1,  1,  1,  3,  1, -1, 0],\n",
       "[-1,  1,  1,  1,  1,  3, -1, 0],\n",
       "[ 1,  1,  1,  1,  1,  1,  0, 1]])"
      ]
     },
     "execution_count": 1,
     "metadata": {},
     "output_type": "execute_result"
    }
   ],
   "source": [
    "import numpy as np\n",
    "import sympy as sp\n",
    "\n",
    "n = 6\n",
    "A = np.eye(n)*2 + np.ones((n, n))\n",
    "A[0, 5] = A[1, 4] = A[2, 1] = A[3, 0] = A[4, 2] = A[5, 3] = -1\n",
    "A = A.astype(int)\n",
    "Az1 = np.hstack([A.T, -np.ones((6, 1))])    # A.T  @ x - U\n",
    "Az2 = np.vstack([Az1, [[1]*6 +[0]]])        # add sum(x)\n",
    "B = np.hstack([np.zeros(6), 1]).reshape(7, 1)   # 常数项\n",
    "Az3 = np.hstack([Az2, B])\n",
    "Az4 = sp.Matrix(Az3.astype(int))\n",
    "\n",
    "Az4     # 1~6 列：x的系数；7列：u的系数；8列：常数项\n",
    "        # 1~6 行：A.T x - U = 0；7行：sum(x)=1"
   ]
  },
  {
   "cell_type": "code",
   "execution_count": 2,
   "metadata": {},
   "outputs": [
    {
     "data": {
      "text/latex": [
       "$\\displaystyle \\left[\\begin{matrix}1 & 0 & 0 & 0 & 0 & -1 & 0 & 0\\\\0 & 1 & 0 & 0 & 0 & 1 & 0 & \\frac{1}{3}\\\\0 & 0 & 1 & 0 & 0 & 1 & 0 & \\frac{1}{3}\\\\0 & 0 & 0 & 1 & 0 & -1 & 0 & 0\\\\0 & 0 & 0 & 0 & 1 & 1 & 0 & \\frac{1}{3}\\\\0 & 0 & 0 & 0 & 0 & 0 & 1 & 1\\\\0 & 0 & 0 & 0 & 0 & 0 & 0 & 0\\end{matrix}\\right]$"
      ],
      "text/plain": [
       "Matrix([\n",
       "[1, 0, 0, 0, 0, -1, 0,   0],\n",
       "[0, 1, 0, 0, 0,  1, 0, 1/3],\n",
       "[0, 0, 1, 0, 0,  1, 0, 1/3],\n",
       "[0, 0, 0, 1, 0, -1, 0,   0],\n",
       "[0, 0, 0, 0, 1,  1, 0, 1/3],\n",
       "[0, 0, 0, 0, 0,  0, 1,   1],\n",
       "[0, 0, 0, 0, 0,  0, 0,   0]])"
      ]
     },
     "execution_count": 2,
     "metadata": {},
     "output_type": "execute_result"
    }
   ],
   "source": [
    "s1 = Az4.rref()\n",
    "s1[0]      # 行最简形"
   ]
  },
  {
   "cell_type": "code",
   "execution_count": 3,
   "metadata": {},
   "outputs": [
    {
     "data": {
      "text/plain": [
       "array([[0.16666667],\n",
       "       [0.16666667],\n",
       "       [0.16666667],\n",
       "       [0.16666667],\n",
       "       [0.16666667],\n",
       "       [0.16666667],\n",
       "       [1.        ]])"
      ]
     },
     "execution_count": 3,
     "metadata": {},
     "output_type": "execute_result"
    }
   ],
   "source": [
    "s2 = np.linalg.pinv(Az2) @ B\n",
    "s2          # 最小范数解"
   ]
  },
  {
   "cell_type": "code",
   "execution_count": 4,
   "metadata": {},
   "outputs": [
    {
     "data": {
      "text/plain": [
       "array([1.])"
      ]
     },
     "execution_count": 4,
     "metadata": {},
     "output_type": "execute_result"
    }
   ],
   "source": [
    "s2[-1]      # 局中人Ⅰ赢得的期望"
   ]
  },
  {
   "cell_type": "markdown",
   "metadata": {},
   "source": [
    "#### 2. 线性规划解法\n",
    "当 $m>2$ 且 $n>2$ 时，通常采用线性规划方法求解零和博弈问题\n",
    "\n",
    "$\\bar{\\boldsymbol x}$ 应为线性规划问题\n",
    "$$\n",
    "\\begin{align*}\n",
    "&\\max u\\\\\n",
    "&{\\rm s.t.}\n",
    "    \\begin{cases}\n",
    "    \\sum\\limits_{i=1}^ma_{ij}x_i\\geq u,\\quad j=1,2,\\cdots,n\\\\[2ex]\n",
    "    \\sum\\limits_{i=1}^mx_i=1\\\\[2ex]\n",
    "    x_i\\geq 0,\\quad i=1,2,\\cdots,m\n",
    "    \\end{cases}\n",
    "\\end{align*}\n",
    "$$\n",
    "的解，同理，$\\bar{\\boldsymbol y}$ 应为线性规划\n",
    "$$\n",
    "\\begin{align*}\n",
    "&\\min v\\\\\n",
    "&{\\rm s.t.}\n",
    "    \\begin{cases}\n",
    "    \\sum\\limits_{j=1}^ma_{ij}y_j\\geq v,\\quad i=1,2,\\cdots,m\\\\[2ex]\n",
    "    \\sum\\limits_{j=1}^my_j=1\\\\[2ex]\n",
    "    y_j\\geq 0,\\quad j=1,2,\\cdots,n\n",
    "    \\end{cases}\n",
    "\\end{align*}\n",
    "$$\n",
    "的解。易见两个规划互为对偶线性规划，它们具有相同的最优目标函数值"
   ]
  },
  {
   "cell_type": "markdown",
   "metadata": {},
   "source": [
    "#### 重解田忌赛马"
   ]
  },
  {
   "cell_type": "code",
   "execution_count": 5,
   "metadata": {},
   "outputs": [
    {
     "name": "stdout",
     "output_type": "stream",
     "text": [
      "最优解： [0.33333333 0.         0.         0.33333333 0.         0.33333333]\n",
      "最优值： 1.0\n"
     ]
    }
   ],
   "source": [
    "import cvxpy as cp\n",
    "\n",
    "A = np.loadtxt('../../16第16章  博弈论/data16_3.txt')\n",
    "x = cp.Variable(6, nonneg=True)\n",
    "y = cp.Variable(6, nonneg=True)\n",
    "u = cp.Variable()\n",
    "v = cp.Variable()\n",
    "\n",
    "obj1 = cp.Maximize(u)\n",
    "cons1 = [\n",
    "    A.T @ x >= u,   # aij*xi 每列的和 >= u\n",
    "    cp.sum(x) == 1,\n",
    "]\n",
    "prob1 = cp.Problem(obj1, cons1)\n",
    "prob1.solve(solver='GUROBI')\n",
    "print(\"最优解：\", x.value)\n",
    "print(\"最优值：\", prob1.value)"
   ]
  },
  {
   "cell_type": "code",
   "execution_count": 6,
   "metadata": {},
   "outputs": [
    {
     "name": "stdout",
     "output_type": "stream",
     "text": [
      "最优解： [0.33333333 0.         0.         0.33333333 0.         0.33333333]\n",
      "最优值： 1.0000000000000002\n"
     ]
    }
   ],
   "source": [
    "obj2 = cp.Minimize(v)\n",
    "cons2 = [\n",
    "    A @ y <= v,   # aij*yj 每行的和 <= v\n",
    "    cp.sum(y) == 1,\n",
    "]\n",
    "prob2 = cp.Problem(obj2, cons2)\n",
    "prob2.solve(solver='GUROBI')\n",
    "print(\"最优解：\", y.value)\n",
    "print(\"最优值：\", prob2.value)"
   ]
  },
  {
   "cell_type": "markdown",
   "metadata": {},
   "source": [
    "#### 军事对抗"
   ]
  },
  {
   "cell_type": "code",
   "execution_count": 7,
   "metadata": {},
   "outputs": [
    {
     "name": "stdout",
     "output_type": "stream",
     "text": [
      "最优解： [0.52830189 0.         0.47169811]\n",
      "最优值： -0.018867924528301938\n"
     ]
    }
   ],
   "source": [
    "# 甲方的赢得矩阵 = 甲方赢得的可能性矩阵 - 乙方赢得的可能性矩阵\n",
    "A = np.array([[1/3,1/2,-1/3],[-2/5,1/5,-1/2],[1/2,-3/5,1/3]]) \n",
    "x = cp.Variable(3, nonneg=True)\n",
    "y = cp.Variable(3, nonneg=True)\n",
    "u = cp.Variable()\n",
    "v = cp.Variable()\n",
    "\n",
    "obj1 = cp.Maximize(u)\n",
    "cons1 = [\n",
    "    A.T @ x >= u,   # aij*xi 每列的和 >= u\n",
    "    cp.sum(x) == 1,\n",
    "]\n",
    "prob1 = cp.Problem(obj1, cons1)\n",
    "prob1.solve(solver='GUROBI')\n",
    "print(\"最优解：\", x.value)\n",
    "print(\"最优值：\", prob1.value)"
   ]
  },
  {
   "cell_type": "code",
   "execution_count": 8,
   "metadata": {},
   "outputs": [
    {
     "name": "stdout",
     "output_type": "stream",
     "text": [
      "最优解： [0.         0.37735849 0.62264151]\n",
      "最优值： -0.018867924528301855\n"
     ]
    }
   ],
   "source": [
    "obj2 = cp.Minimize(v)\n",
    "cons2 = [\n",
    "    A @ y <= v,   # aij*yj 每行的和 <= v\n",
    "    cp.sum(y) == 1,\n",
    "]\n",
    "prob2 = cp.Problem(obj2, cons2)\n",
    "prob2.solve(solver='GUROBI')\n",
    "print(\"最优解：\", y.value)\n",
    "print(\"最优值：\", prob2.value)"
   ]
  },
  {
   "cell_type": "markdown",
   "metadata": {},
   "source": [
    "甲方的期望赢得为负，乙方略微处于有利位置"
   ]
  }
 ],
 "metadata": {
  "kernelspec": {
   "display_name": "Python 3.9.12 ('mamo')",
   "language": "python",
   "name": "python3"
  },
  "language_info": {
   "codemirror_mode": {
    "name": "ipython",
    "version": 3
   },
   "file_extension": ".py",
   "mimetype": "text/x-python",
   "name": "python",
   "nbconvert_exporter": "python",
   "pygments_lexer": "ipython3",
   "version": "3.9.12"
  },
  "orig_nbformat": 4,
  "vscode": {
   "interpreter": {
    "hash": "bc4866e053c759d6a7b6c75a6ee7f30413af3cb1408278924a32b7c27fdde7d0"
   }
  }
 },
 "nbformat": 4,
 "nbformat_minor": 2
}
