{
 "cells": [
  {
   "cell_type": "markdown",
   "metadata": {},
   "source": [
    "> 在非零和矩阵博弈中，二局中人并不是完全对立的，局中人Ⅰ的所得不再是局中人Ⅱ的所失，这种博弈通常记为 $G=\\{S_1,S_2;\\boldsymbol A, \\boldsymbol B\\}$，其中 $\\boldsymbol A=(a_{ij})_{m\\times n},\\ \\boldsymbol B=(b_{ij})_{m\\times n}$，分别是局中人Ⅰ和Ⅱ的赢得矩阵，故称为二人有限非零和博弈，或***双矩阵博弈***"
   ]
  },
  {
   "cell_type": "markdown",
   "metadata": {},
   "source": [
    "---\n",
    "### 16.4.1 非合作的双矩阵博弈的纯策略解\n",
    "设 $G=\\{S_1,S_2;\\boldsymbol A, \\boldsymbol B\\}$ 是一双矩阵博弈，若等式\n",
    "$$\n",
    "a_{i^*\\!j^*}=\\max_i\\ \\min_j\\ a_{ij},\\quad b_{i^*\\!j^*}=\\max_j\\ \\min_i\\ b_{ij}\n",
    "$$\n",
    "成立，则记 $v_1=a_{i^*\\!j^*}$，并称 $v_1$ 为局中人Ⅰ的赢得值，记 $v_2=b_{i^*\\!j^*}$，并称 $v_2$ 为局中人Ⅱ的赢得值，称 $(\\alpha_{i^*},\\beta_{j^*})$ 为 $G$ 在纯策略下的解（或纳什均衡点），称 $\\alpha_{i^*},\\beta_{j^*}$ 分别为局中人Ⅰ、Ⅱ的最优纯策略"
   ]
  },
  {
   "cell_type": "markdown",
   "metadata": {},
   "source": [
    "#### 16.4.2 非合作的双矩阵博弈的混合策略解\n",
    "如果不存在使上面的等式成立的解，则需要在混合策略意义下求解\n",
    "\n",
    "**定理**：任何具有有限个纯策略的二人对策（包括零和对策和非零和对策）至少存在一个平衡点（纳什平衡点）\n",
    "\n",
    "双矩阵博弈混合策略问题的求解归结为求如下线性规划问题的解：\n",
    "$$\n",
    "\\begin{align*}\n",
    "&\\min\\sum\\limits_{i=1}^m(x_i+y_i)\\\\\n",
    "&{\\rm s.t.}\n",
    "    \\begin{cases}\n",
    "    \\sum\\limits_{j=1}^ma_{ij}y_j\\leq {\\boldsymbol x^{\\rm T}\\boldsymbol A\\boldsymbol y},\\quad i=1,2,\\cdots,m\\\\[2ex]\n",
    "    \\sum\\limits_{i=1}^mb_{ij}x_i\\leq {\\boldsymbol x^{\\rm T}\\boldsymbol B\\boldsymbol y},\\quad j=1,2,\\cdots,m\\\\[2ex]\n",
    "    \\sum\\limits_{i=1}^mx_i=1\\\\\n",
    "    \\sum\\limits_{i=1}^my_i=1\\\\\n",
    "    x_i, y_i\\geq 0,\\quad i=1,2,\\cdots,m\n",
    "    \\end{cases}\n",
    "\\end{align*}\n",
    "$$\n",
    "其中目标函数为虚拟的（显然目标函数的取值恒为 2）"
   ]
  },
  {
   "cell_type": "code",
   "execution_count": 1,
   "metadata": {},
   "outputs": [
    {
     "name": "stdout",
     "output_type": "stream",
     "text": [
      "     fun: 2.000000000015837\n",
      "     jac: array([1., 1., 1., 1., 1., 1.])\n",
      " message: 'Optimization terminated successfully'\n",
      "    nfev: 49\n",
      "     nit: 7\n",
      "    njev: 7\n",
      "  status: 0\n",
      " success: True\n",
      "       x: array([5.00000000e-01, 2.76541360e-14, 5.00000000e-01, 3.81793969e-11,\n",
      "       5.00000000e-01, 5.00000000e-01])\n",
      "----------------------------------------------------------------------\n",
      "最优值为： 2.000000000015837\n",
      "最优解为： [0.5 0.  0.5 0.  0.5 0.5]\n"
     ]
    }
   ],
   "source": [
    "# 此问题非凸\n",
    "import numpy as np\n",
    "from scipy.optimize import minimize\n",
    "\n",
    "A = np.array([[14,13,12],[13,12,12],[12,12,13]])\n",
    "B = np.array([[13,14,15],[14,15,15],[15,15,14]])\n",
    "\n",
    "def obj(x):\n",
    "    return np.sum(x)\n",
    "\n",
    "def ineq(x):\n",
    "    xs = x[:3]\n",
    "    ys = x[3:]\n",
    "    return np.array([\n",
    "        -(A @ ys - xs @ A @ ys),\n",
    "        -(B.T @ xs - xs @ B @ ys),\n",
    "    ]).flatten()    # ATTENTION!!!\n",
    "\n",
    "\"\"\"\n",
    "ATTENTION: fun的返回值只能是一维数组\n",
    "since -(A @ ys - xs @ A @ ys).shape == (3,)\n",
    "      -(B.T @ xs - xs @ B @ ys).shape == (3,)\n",
    "so [\n",
    "    -(A @ ys - xs @ A @ ys),\n",
    "    -(B.T @ xs - xs @ B @ ys),\n",
    "].shape == (2, 3), not a 1-d array\n",
    "you need to flatten() or you get a ValueError\n",
    "\"\"\"\n",
    "\n",
    "def eq(x):\n",
    "    xs = x[:3]\n",
    "    ys = x[3:]\n",
    "    return np.array([\n",
    "        np.sum(xs) - 1,\n",
    "        np.sum(ys) - 1,\n",
    "    ]).flatten()\n",
    "\n",
    "x0 = np.ones(6)\n",
    "cons = [\n",
    "    {'type': 'ineq', 'fun': ineq},\n",
    "    {'type': 'eq', 'fun': eq},\n",
    "]\n",
    "bd = [(0, 1)]*6\n",
    "ret = minimize(obj, x0, constraints=cons, bounds=bd)\n",
    "print(ret)\n",
    "print('-'*70)\n",
    "print(\"最优值为：\", ret.fun)\n",
    "print(\"最优解为：\", ret.x.round(4))"
   ]
  },
  {
   "cell_type": "code",
   "execution_count": 2,
   "metadata": {},
   "outputs": [
    {
     "name": "stdout",
     "output_type": "stream",
     "text": [
      "甲队得分的期望： 12.500000000217035\n",
      "乙队得分的期望： 14.500000000210559\n"
     ]
    }
   ],
   "source": [
    "x_r = ret.x[:3]\n",
    "y_r = ret.x[3:]\n",
    "x_score = x_r @ A @ y_r\n",
    "y_score = x_r @ B @ y_r\n",
    "print(\"甲队得分的期望：\", x_score)\n",
    "print(\"乙队得分的期望：\", y_score)"
   ]
  }
 ],
 "metadata": {
  "kernelspec": {
   "display_name": "Python 3.9.12 ('mamo')",
   "language": "python",
   "name": "python3"
  },
  "language_info": {
   "codemirror_mode": {
    "name": "ipython",
    "version": 3
   },
   "file_extension": ".py",
   "mimetype": "text/x-python",
   "name": "python",
   "nbconvert_exporter": "python",
   "pygments_lexer": "ipython3",
   "version": "3.9.12"
  },
  "orig_nbformat": 4,
  "vscode": {
   "interpreter": {
    "hash": "bc4866e053c759d6a7b6c75a6ee7f30413af3cb1408278924a32b7c27fdde7d0"
   }
  }
 },
 "nbformat": 4,
 "nbformat_minor": 2
}
