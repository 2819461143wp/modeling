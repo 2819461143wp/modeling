{
 "cells": [
  {
   "cell_type": "markdown",
   "metadata": {},
   "source": [
    "---\n",
    "已知一个较为复杂的连续函数 $y(x),\\ x\\in [a,b]$，要求选择一个较简单的函数 $f(x)$，在一定准则下最接近 $y(x)$，这就是函数逼近\n",
    "\n",
    "函数逼近最常用的准则是最小平方逼近，即令 $$J=\\int_a^b[f(x)-y(x)]^2\\,dx$$ 达到最小\n",
    "\n",
    "最简单的是用多项式逼近函数，如果系数矩阵为对角阵，计算将大大简化，这样的多项式称为正交多项式。常用的正交多项式有\n",
    "$$\n",
    "\\begin{align*}\n",
    "\\text{勒让德多项式：}& P_0(x)=1,\\ P_k(x)=\\frac{1}{2^kk!}\\frac{{\\rm d}^k}{{\\rm d}x^k}(x^2-1)^k, \\\\\n",
    "\\text{第一类切比雪夫多项式：}& T_n(x)=\\cos(n\\arccos x),\\quad x\\in[-1,1], \\\\\n",
    "\\text{拉盖尔多项式：}& L_n(x)={\\rm e}^x\\frac{{\\rm d}^n}{{\\rm d}x^n}(x^n{\\rm e}^{-x}),\\quad x\\in[0, +\\infty).\n",
    "\\end{align*}\n",
    "$$"
   ]
  },
  {
   "cell_type": "code",
   "execution_count": 1,
   "metadata": {},
   "outputs": [
    {
     "data": {
      "image/png": "[encoded data removed]",
      "text/latex": [
       "$\\displaystyle \\left( \\left[\\begin{matrix}1 & x^{2} & x^{4}\\\\x^{2} & x^{4} & x^{6}\\\\x^{4} & x^{6} & x^{8}\\end{matrix}\\right], \\  \\left[\\begin{matrix}\\cos{\\left(x \\right)}\\\\x^{2} \\cos{\\left(x \\right)}\\\\x^{4} \\cos{\\left(x \\right)}\\end{matrix}\\right]\\right)$"
      ],
      "text/plain": [
       "⎛⎡     2   4⎤             ⎞\n",
       "⎜⎢1   x   x ⎥  ⎡ cos(x)  ⎤⎟\n",
       "⎜⎢          ⎥  ⎢         ⎥⎟\n",
       "⎜⎢ 2   4   6⎥  ⎢ 2       ⎥⎟\n",
       "⎜⎢x   x   x ⎥, ⎢x ⋅cos(x)⎥⎟\n",
       "⎜⎢          ⎥  ⎢         ⎥⎟\n",
       "⎜⎢ 4   6   8⎥  ⎢ 4       ⎥⎟\n",
       "⎝⎣x   x   x ⎦  ⎣x ⋅cos(x)⎦⎠"
      ]
     },
     "execution_count": 1,
     "metadata": {},
     "output_type": "execute_result"
    }
   ],
   "source": [
    "import sympy as sp\n",
    "sp.init_printing(use_unicode=True)\n",
    "\n",
    "x = sp.var('x')\n",
    "base = sp.Matrix([1, x**2, x**4])\n",
    "y1 = base @ base.T\n",
    "y2 = sp.cos(x) * base\n",
    "y1, y2"
   ]
  },
  {
   "cell_type": "code",
   "execution_count": 2,
   "metadata": {},
   "outputs": [
    {
     "data": {
      "image/png": "[encoded data removed]",
      "text/latex": [
       "$\\displaystyle \\left[\\begin{matrix}0.9996\\\\-0.4964\\\\0.03721\\end{matrix}\\right]$"
      ],
      "text/plain": [
       "⎡0.9996 ⎤\n",
       "⎢       ⎥\n",
       "⎢-0.4964⎥\n",
       "⎢       ⎥\n",
       "⎣0.03721⎦"
      ]
     },
     "execution_count": 2,
     "metadata": {},
     "output_type": "execute_result"
    }
   ],
   "source": [
    "r1 = sp.integrate(y1, (x, -sp.pi/2, sp.pi/2))\n",
    "r2 = sp.integrate(y2, (x, -sp.pi/2, sp.pi/2))\n",
    "A = r1.inv() @ r2\n",
    "A.n(4)"
   ]
  }
 ],
 "metadata": {
  "kernelspec": {
   "display_name": "Python 3.9.12 ('mamo')",
   "language": "python",
   "name": "python3"
  },
  "language_info": {
   "codemirror_mode": {
    "name": "ipython",
    "version": 3
   },
   "file_extension": ".py",
   "mimetype": "text/x-python",
   "name": "python",
   "nbconvert_exporter": "python",
   "pygments_lexer": "ipython3",
   "version": "3.9.12"
  },
  "orig_nbformat": 4,
  "vscode": {
   "interpreter": {
    "hash": "bc4866e053c759d6a7b6c75a6ee7f30413af3cb1408278924a32b7c27fdde7d0"
   }
  }
 },
 "nbformat": 4,
 "nbformat_minor": 2
}
