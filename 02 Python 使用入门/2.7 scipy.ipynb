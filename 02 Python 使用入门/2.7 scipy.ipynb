{
 "cells": [
  {
   "cell_type": "code",
   "execution_count": 1,
   "metadata": {},
   "outputs": [],
   "source": [
    "from scipy.optimize import fsolve, root"
   ]
  },
  {
   "cell_type": "code",
   "execution_count": 2,
   "metadata": {},
   "outputs": [],
   "source": [
    "fx = lambda x: x**980 - 5.01*x**979 + 7.398*x**978 - 3.388*x**977 - x**3 + 5.01*x**2 - 7.398*x + 3.388"
   ]
  },
  {
   "cell_type": "code",
   "execution_count": 3,
   "metadata": {},
   "outputs": [
    {
     "data": {
      "text/plain": [
       "array([1.21])"
      ]
     },
     "execution_count": 3,
     "metadata": {},
     "output_type": "execute_result"
    }
   ],
   "source": [
    "x1 = fsolve(fx, 1.5, maxfev=4000)\n",
    "x1"
   ]
  },
  {
   "cell_type": "code",
   "execution_count": 4,
   "metadata": {},
   "outputs": [
    {
     "data": {
      "text/plain": [
       "    fjac: array([[-1.]])\n",
       "     fun: array([-1.23341756e+69])\n",
       " message: 'The solution converged.'\n",
       "    nfev: 319\n",
       "     qtf: array([2.00183544e+72])\n",
       "       r: array([2.54210657e+80])\n",
       "  status: 1\n",
       " success: True\n",
       "       x: array([1.21])"
      ]
     },
     "execution_count": 4,
     "metadata": {},
     "output_type": "execute_result"
    }
   ],
   "source": [
    "x2 = root(fx, 1.5)\n",
    "x2"
   ]
  },
  {
   "cell_type": "code",
   "execution_count": 5,
   "metadata": {},
   "outputs": [
    {
     "data": {
      "text/plain": [
       "array([0.70710678, 0.70710678])"
      ]
     },
     "execution_count": 5,
     "metadata": {},
     "output_type": "execute_result"
    }
   ],
   "source": [
    "fx = lambda x:[x[0]**2 + x[1]**2 - 1, x[0] - x[1]]\n",
    "s1 = fsolve(fx, [1, 1])\n",
    "s1"
   ]
  },
  {
   "cell_type": "code",
   "execution_count": 6,
   "metadata": {},
   "outputs": [
    {
     "data": {
      "text/plain": [
       "    fjac: array([[-0.81649679, -0.57734998],\n",
       "       [ 0.57734998, -0.81649679]])\n",
       "     fun: array([4.4408921e-16, 0.0000000e+00])\n",
       " message: 'The solution converged.'\n",
       "    nfev: 9\n",
       "     qtf: array([-3.64625238e-10,  2.57828785e-10])\n",
       "       r: array([-1.73205167, -0.57735171,  1.63299357])\n",
       "  status: 1\n",
       " success: True\n",
       "       x: array([0.70710678, 0.70710678])"
      ]
     },
     "execution_count": 6,
     "metadata": {},
     "output_type": "execute_result"
    }
   ],
   "source": [
    "s2 = root(fx, [1, 1])\n",
    "s2"
   ]
  },
  {
   "cell_type": "code",
   "execution_count": 7,
   "metadata": {},
   "outputs": [
    {
     "data": {
      "text/plain": [
       "(1.1666666666666665, 1.2952601953960159e-14)"
      ]
     },
     "execution_count": 7,
     "metadata": {},
     "output_type": "execute_result"
    }
   ],
   "source": [
    "from scipy.integrate import quad\n",
    "def fx(x):\n",
    "    return a*x**2 + b*x\n",
    "a = 2; b = 1\n",
    "quad(fx, 0, 1)"
   ]
  },
  {
   "cell_type": "code",
   "execution_count": 8,
   "metadata": {},
   "outputs": [
    {
     "data": {
      "text/plain": [
       "(5.666666666666667, 6.291263806209221e-14)"
      ]
     },
     "execution_count": 8,
     "metadata": {},
     "output_type": "execute_result"
    }
   ],
   "source": [
    "a, b = 2, 10\n",
    "quad(fx, 0, 1)"
   ]
  },
  {
   "cell_type": "code",
   "execution_count": 9,
   "metadata": {},
   "outputs": [
    {
     "data": {
      "text/plain": [
       " active_mask: array([0., 0.])\n",
       "        cost: 0.367150558463688\n",
       "         fun: array([-0.3433343 ,  0.13598942, -0.49656114,  0.5927534 ])\n",
       "        grad: array([-9.77388337e-10,  3.98200473e-10])\n",
       "         jac: array([[-0.75860568, -0.65155001],\n",
       "       [-0.11987285, -0.99278925],\n",
       "       [-0.47376079,  0.88065357],\n",
       "       [-0.80877665,  0.58811592]])\n",
       "     message: '`gtol` termination condition is satisfied.'\n",
       "        nfev: 8\n",
       "        njev: 8\n",
       "  optimality: 9.773883369312841e-10\n",
       "      status: 1\n",
       "     success: True\n",
       "           x: array([149.50894334, 359.9847955 ])"
      ]
     },
     "execution_count": 9,
     "metadata": {},
     "output_type": "execute_result"
    }
   ],
   "source": [
    "import numpy as np\n",
    "from scipy.optimize import least_squares\n",
    "a = np.loadtxt('../../02第2章  Python使用入门/data2_47.txt')\n",
    "x0, y0, d = a[0], a[1], a[2]\n",
    "fx = lambda x: np.sqrt((x0 - x[0])**2 + (y0 - x[1])**2) - d\n",
    "least_squares(fx, [200, 200])"
   ]
  },
  {
   "cell_type": "code",
   "execution_count": 10,
   "metadata": {},
   "outputs": [
    {
     "data": {
      "text/plain": [
       "(array([ 9.00000000e+00, -1.00000000e+00,  2.80739441e-18]),\n",
       " array([[-4.08248290e-01, -7.07106781e-01, -5.77350269e-01],\n",
       "        [-4.08248290e-01,  7.07106781e-01, -5.77350269e-01],\n",
       "        [-8.16496581e-01,  4.65265867e-17,  5.77350269e-01]]))"
      ]
     },
     "execution_count": 10,
     "metadata": {},
     "output_type": "execute_result"
    }
   ],
   "source": [
    "from scipy.sparse.linalg import eigs\n",
    "a = np.array([[1, 2, 3], [2, 1, 3], [3, 3, 6]], dtype=float)\n",
    "b, c = np.linalg.eig(a)\n",
    "b, c"
   ]
  },
  {
   "cell_type": "code",
   "execution_count": 11,
   "metadata": {},
   "outputs": [
    {
     "data": {
      "text/plain": [
       "(array([9.+0.j]),\n",
       " array([[0.40824829+0.j],\n",
       "        [0.40824829+0.j],\n",
       "        [0.81649658+0.j]]))"
      ]
     },
     "execution_count": 11,
     "metadata": {},
     "output_type": "execute_result"
    }
   ],
   "source": [
    "d, e = eigs(a, 1)\n",
    "d, e"
   ]
  }
 ],
 "metadata": {
  "kernelspec": {
   "display_name": "Python 3.9.12 ('mamo')",
   "language": "python",
   "name": "python3"
  },
  "language_info": {
   "codemirror_mode": {
    "name": "ipython",
    "version": 3
   },
   "file_extension": ".py",
   "mimetype": "text/x-python",
   "name": "python",
   "nbconvert_exporter": "python",
   "pygments_lexer": "ipython3",
   "version": "3.9.12"
  },
  "orig_nbformat": 4,
  "vscode": {
   "interpreter": {
    "hash": "bc4866e053c759d6a7b6c75a6ee7f30413af3cb1408278924a32b7c27fdde7d0"
   }
  }
 },
 "nbformat": 4,
 "nbformat_minor": 2
}
