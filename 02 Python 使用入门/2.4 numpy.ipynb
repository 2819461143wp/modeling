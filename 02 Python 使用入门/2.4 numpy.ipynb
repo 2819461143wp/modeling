{
 "cells": [
  {
   "cell_type": "code",
   "execution_count": 1,
   "metadata": {},
   "outputs": [],
   "source": [
    "import numpy as np"
   ]
  },
  {
   "cell_type": "code",
   "execution_count": 2,
   "metadata": {},
   "outputs": [
    {
     "data": {
      "text/plain": [
       "array([1, 2, 3, 4, 5])"
      ]
     },
     "execution_count": 2,
     "metadata": {},
     "output_type": "execute_result"
    }
   ],
   "source": [
    "np.array([1, 2, 3, 4, 5])"
   ]
  },
  {
   "cell_type": "code",
   "execution_count": 3,
   "metadata": {},
   "outputs": [
    {
     "data": {
      "text/plain": [
       "array([[1, 2, 3],\n",
       "       [4, 5, 6]])"
      ]
     },
     "execution_count": 3,
     "metadata": {},
     "output_type": "execute_result"
    }
   ],
   "source": [
    "np.array([[1, 2, 3], [4, 5, 6]])"
   ]
  },
  {
   "cell_type": "code",
   "execution_count": 4,
   "metadata": {},
   "outputs": [
    {
     "data": {
      "text/plain": [
       "array([0, 1, 2, 3, 4, 5, 6, 7, 8, 9])"
      ]
     },
     "execution_count": 4,
     "metadata": {},
     "output_type": "execute_result"
    }
   ],
   "source": [
    "np.arange(10)"
   ]
  },
  {
   "cell_type": "code",
   "execution_count": 5,
   "metadata": {},
   "outputs": [
    {
     "data": {
      "text/plain": [
       "array([0. , 0.1, 0.2, 0.3, 0.4, 0.5, 0.6, 0.7, 0.8, 0.9, 1. ])"
      ]
     },
     "execution_count": 5,
     "metadata": {},
     "output_type": "execute_result"
    }
   ],
   "source": [
    "np.linspace(0, 1, 11)"
   ]
  },
  {
   "cell_type": "code",
   "execution_count": 6,
   "metadata": {},
   "outputs": [
    {
     "data": {
      "text/plain": [
       "array([ 1.        ,  1.04811313,  1.09854114,  1.1513954 ,  1.20679264,\n",
       "        1.26485522,  1.32571137,  1.38949549,  1.45634848,  1.52641797,\n",
       "        1.59985872,  1.67683294,  1.75751062,  1.84206997,  1.93069773,\n",
       "        2.02358965,  2.12095089,  2.22299648,  2.32995181,  2.44205309,\n",
       "        2.55954792,  2.6826958 ,  2.8117687 ,  2.9470517 ,  3.0888436 ,\n",
       "        3.23745754,  3.39322177,  3.55648031,  3.72759372,  3.90693994,\n",
       "        4.09491506,  4.29193426,  4.49843267,  4.71486636,  4.94171336,\n",
       "        5.17947468,  5.42867544,  5.68986603,  5.96362332,  6.25055193,\n",
       "        6.55128557,  6.86648845,  7.19685673,  7.54312006,  7.90604321,\n",
       "        8.28642773,  8.68511374,  9.10298178,  9.54095476, 10.        ])"
      ]
     },
     "execution_count": 6,
     "metadata": {},
     "output_type": "execute_result"
    }
   ],
   "source": [
    "np.logspace(0, 1)"
   ]
  },
  {
   "cell_type": "code",
   "execution_count": 7,
   "metadata": {},
   "outputs": [
    {
     "data": {
      "text/plain": [
       "array([1, 1, 1, 1])"
      ]
     },
     "execution_count": 7,
     "metadata": {},
     "output_type": "execute_result"
    }
   ],
   "source": [
    "np.ones(4, dtype=int)"
   ]
  },
  {
   "cell_type": "code",
   "execution_count": 8,
   "metadata": {},
   "outputs": [
    {
     "data": {
      "text/plain": [
       "array([[1, 1, 1],\n",
       "       [1, 1, 1],\n",
       "       [1, 1, 1],\n",
       "       [1, 1, 1]])"
      ]
     },
     "execution_count": 8,
     "metadata": {},
     "output_type": "execute_result"
    }
   ],
   "source": [
    "np.ones((4, 3), dtype=int)"
   ]
  },
  {
   "cell_type": "code",
   "execution_count": 9,
   "metadata": {},
   "outputs": [
    {
     "data": {
      "text/plain": [
       "array([[0., 0., 0.],\n",
       "       [0., 0., 0.],\n",
       "       [0., 0., 0.]])"
      ]
     },
     "execution_count": 9,
     "metadata": {},
     "output_type": "execute_result"
    }
   ],
   "source": [
    "np.zeros((3, 3))"
   ]
  },
  {
   "cell_type": "code",
   "execution_count": 10,
   "metadata": {},
   "outputs": [
    {
     "data": {
      "text/plain": [
       "array([ 4.68661952e-310,  0.00000000e+000,  6.92767255e-310,\n",
       "       -1.19705639e-051,  6.92767254e-310,  6.92767255e-310,\n",
       "       -1.25869495e+062,  6.92767254e-310,  6.92767255e-310,\n",
       "        3.20613021e+173,  6.92767254e-310,  6.92767255e-310,\n",
       "        6.33120832e+145,  6.92767254e-310,  4.68661952e-310,\n",
       "       -6.61248730e+013,  6.92767254e-310,  4.68661952e-310,\n",
       "       -6.02150955e+116,  6.92767254e-310])"
      ]
     },
     "execution_count": 10,
     "metadata": {},
     "output_type": "execute_result"
    }
   ],
   "source": [
    "np.empty((20))"
   ]
  },
  {
   "cell_type": "code",
   "execution_count": 11,
   "metadata": {},
   "outputs": [
    {
     "data": {
      "text/plain": [
       "array([[1, 0, 0],\n",
       "       [0, 1, 0],\n",
       "       [0, 0, 1]])"
      ]
     },
     "execution_count": 11,
     "metadata": {},
     "output_type": "execute_result"
    }
   ],
   "source": [
    "np.eye(3, dtype=int)"
   ]
  },
  {
   "cell_type": "code",
   "execution_count": 12,
   "metadata": {},
   "outputs": [
    {
     "data": {
      "text/plain": [
       "array([[0., 1., 0., 0., 0.],\n",
       "       [0., 0., 1., 0., 0.],\n",
       "       [0., 0., 0., 1., 0.],\n",
       "       [0., 0., 0., 0., 1.],\n",
       "       [0., 0., 0., 0., 0.]])"
      ]
     },
     "execution_count": 12,
     "metadata": {},
     "output_type": "execute_result"
    }
   ],
   "source": [
    "np.eye(5, k=1)"
   ]
  },
  {
   "cell_type": "code",
   "execution_count": 13,
   "metadata": {},
   "outputs": [
    {
     "data": {
      "text/plain": [
       "array([[0],\n",
       "       [0],\n",
       "       [0]])"
      ]
     },
     "execution_count": 13,
     "metadata": {},
     "output_type": "execute_result"
    }
   ],
   "source": [
    "np.zeros_like(np.array([[1],[3],[5]]))"
   ]
  },
  {
   "cell_type": "code",
   "execution_count": 14,
   "metadata": {},
   "outputs": [
    {
     "data": {
      "text/plain": [
       "array([[     1,      2,      3],\n",
       "       [     4,      5,      6],\n",
       "       [     7,      8, 114514]])"
      ]
     },
     "execution_count": 14,
     "metadata": {},
     "output_type": "execute_result"
    }
   ],
   "source": [
    "arr = np.array([[1, 2, 3], [4, 5, 6], [7, 8, 9]])\n",
    "arr[2, 2] = 114514\n",
    "arr"
   ]
  },
  {
   "cell_type": "code",
   "execution_count": 15,
   "metadata": {},
   "outputs": [
    {
     "data": {
      "text/plain": [
       "array([[ 0,  1,  2],\n",
       "       [ 4,  5,  6],\n",
       "       [ 8,  9, 10]])"
      ]
     },
     "execution_count": 15,
     "metadata": {},
     "output_type": "execute_result"
    }
   ],
   "source": [
    "a = np.arange(16).reshape(4, 4)\n",
    "a[0:3, 0:3]"
   ]
  },
  {
   "cell_type": "code",
   "execution_count": 16,
   "metadata": {},
   "outputs": [
    {
     "data": {
      "text/plain": [
       "array([[ 4,  5,  6,  7],\n",
       "       [12, 13, 14, 15]])"
      ]
     },
     "execution_count": 16,
     "metadata": {},
     "output_type": "execute_result"
    }
   ],
   "source": [
    "x = np.array([0, 1, 2, 1])\n",
    "a[x == 1]\n",
    "# same as a[[False, True, False, True]]"
   ]
  },
  {
   "cell_type": "code",
   "execution_count": 17,
   "metadata": {},
   "outputs": [
    {
     "name": "stdout",
     "output_type": "stream",
     "text": [
      "[[ 0.  1.  2.  3.]\n",
      " [ 4.  5.  6.  7.]\n",
      " [ 8.  9. 10. 11.]\n",
      " [12. 13. 14. 15.]\n",
      " [ 3.  1.  3.  1.]\n",
      " [ 2.  2.  4.  0.]] \n",
      "\n",
      "[[ 0.  1.  2.  3.  3.  5.]\n",
      " [ 4.  5.  6.  7.  4.  3.]\n",
      " [ 8.  9. 10. 11.  3.  4.]\n",
      " [12. 13. 14. 15.  5.  1.]]\n"
     ]
    }
   ],
   "source": [
    "a = np.arange(16).reshape(4, 4)\n",
    "b = np.floor(5*np.random.random( (2, 4) ))\n",
    "c = np.ceil(6*np.random.random( (4, 2) ))\n",
    "d = np.vstack([a, b])\n",
    "e = np.hstack([a, c])\n",
    "print(d, '\\n'); print(e)"
   ]
  },
  {
   "cell_type": "code",
   "execution_count": 18,
   "metadata": {},
   "outputs": [
    {
     "name": "stdout",
     "output_type": "stream",
     "text": [
      "vertically split: \n",
      "[[0 1 2 3]\n",
      " [4 5 6 7]]\n",
      "[[ 8  9 10 11]\n",
      " [12 13 14 15]]\n",
      "horizontally split: \n",
      "[[ 0]\n",
      " [ 4]\n",
      " [ 8]\n",
      " [12]]\n",
      "[[ 1]\n",
      " [ 5]\n",
      " [ 9]\n",
      " [13]]\n",
      "[[ 2]\n",
      " [ 6]\n",
      " [10]\n",
      " [14]]\n",
      "[[ 3]\n",
      " [ 7]\n",
      " [11]\n",
      " [15]]\n"
     ]
    }
   ],
   "source": [
    "a = np.arange(16).reshape(4, 4)\n",
    "b = np.vsplit(a, 2)\n",
    "c = np.hsplit(a, 4)\n",
    "print(\"vertically split: \", b[0], b[1], sep='\\n')\n",
    "print(\"horizontally split: \", c[0], c[1], c[2], c[3], sep='\\n')"
   ]
  },
  {
   "cell_type": "code",
   "execution_count": 19,
   "metadata": {},
   "outputs": [
    {
     "name": "stdout",
     "output_type": "stream",
     "text": [
      "b = 18\n",
      "c = [array([[ 0],\n",
      "       [ 4],\n",
      "       [ 8],\n",
      "       [12]]), array([[ 1],\n",
      "       [ 5],\n",
      "       [ 9],\n",
      "       [13]]), array([[ 2],\n",
      "       [ 6],\n",
      "       [10],\n",
      "       [14]]), array([[ 3],\n",
      "       [ 7],\n",
      "       [11],\n",
      "       [15]])]\n",
      "c2 = array([1, 9, 8])\n",
      "c3 = array([ 7, 11])\n",
      "c4 = array([[1, 9, 8]])\n",
      "c2.shape = (3,)\n",
      "c4.shape = (1, 3)\n"
     ]
    }
   ],
   "source": [
    "a = np.array([[0, 3, 4], [1, 6, 4]])\n",
    "b = a.sum()\n",
    "print(f'{b = }')\n",
    "c1 = sum(a) \n",
    "print(f'{c = }')\n",
    "c2 = np.sum(a, axis=0)\n",
    "print(f'{c2 = }')\n",
    "c3 = np.sum(a, axis=1)\n",
    "print(f'{c3 = }')\n",
    "c4 = np.sum(a, axis=0, keepdims=True)\n",
    "print(f'{c4 = }')\n",
    "print(f'{c2.shape = }\\n{c4.shape = }')"
   ]
  },
  {
   "cell_type": "code",
   "execution_count": 20,
   "metadata": {},
   "outputs": [
    {
     "name": "stdout",
     "output_type": "stream",
     "text": [
      "a*c = array([[ 1,  4,  0],\n",
      "       [ 4, 10,  0]])\n",
      "a*d = array([[ 3,  6,  9],\n",
      "       [16, 20, 24]])\n"
     ]
    }
   ],
   "source": [
    "# 矩阵的逐个乘法\n",
    "a = np.array([[1, 2, 3], [4, 5, 6]])\n",
    "b = np.array([[0, 2, 3], [4, 5, 6]])\n",
    "c = np.array([1, 2, 0])\n",
    "print(f'{a*c = }')\n",
    "d = np.array([[3], [4]])\n",
    "print(f'{a*d = }')"
   ]
  },
  {
   "cell_type": "code",
   "execution_count": 21,
   "metadata": {},
   "outputs": [
    {
     "name": "stdout",
     "output_type": "stream",
     "text": [
      "[1. 1. 1. 1.]\n",
      "[2 4 6 8]\n",
      "20.0\n"
     ]
    }
   ],
   "source": [
    "# 矩阵乘法\n",
    "a = np.ones(4)          # 一维向量(len=3)\n",
    "b = np.arange(2, 10, 2) # 同上\n",
    "print(a, b, a@b, sep='\\n')"
   ]
  },
  {
   "cell_type": "code",
   "execution_count": 22,
   "metadata": {},
   "outputs": [
    {
     "ename": "ValueError",
     "evalue": "matmul: Input operand 1 has a mismatch in its core dimension 0, with gufunc signature (n?,k),(k,m?)->(n?,m?) (size 4 is different from 3)",
     "output_type": "error",
     "traceback": [
      "\u001b[0;31m---------------------------------------------------------------------------\u001b[0m",
      "\u001b[0;31mValueError\u001b[0m                                Traceback (most recent call last)",
      "\u001b[1;32m/mnt/d/MaMo/python/.ipynb Cell 22\u001b[0m in \u001b[0;36m<cell line: 3>\u001b[0;34m()\u001b[0m\n\u001b[1;32m      <a href='vscode-notebook-cell://wsl%2Bubuntu/mnt/d/MaMo/python/.ipynb#ch0000060vscode-remote?line=0'>1</a>\u001b[0m a \u001b[39m=\u001b[39m np\u001b[39m.\u001b[39mones(shape\u001b[39m=\u001b[39m(\u001b[39m2\u001b[39m, \u001b[39m3\u001b[39m))\n\u001b[1;32m      <a href='vscode-notebook-cell://wsl%2Bubuntu/mnt/d/MaMo/python/.ipynb#ch0000060vscode-remote?line=1'>2</a>\u001b[0m b \u001b[39m=\u001b[39m np\u001b[39m.\u001b[39mones(shape\u001b[39m=\u001b[39m(\u001b[39m4\u001b[39m, \u001b[39m2\u001b[39m))\n\u001b[0;32m----> <a href='vscode-notebook-cell://wsl%2Bubuntu/mnt/d/MaMo/python/.ipynb#ch0000060vscode-remote?line=2'>3</a>\u001b[0m a\u001b[39m@b\u001b[39;49m\n",
      "\u001b[0;31mValueError\u001b[0m: matmul: Input operand 1 has a mismatch in its core dimension 0, with gufunc signature (n?,k),(k,m?)->(n?,m?) (size 4 is different from 3)"
     ]
    }
   ],
   "source": [
    "a = np.ones(shape=(2, 3))\n",
    "b = np.ones(shape=(4, 2))\n",
    "a@b"
   ]
  },
  {
   "cell_type": "code",
   "execution_count": 23,
   "metadata": {},
   "outputs": [
    {
     "name": "stdout",
     "output_type": "stream",
     "text": [
      "[5.     7.2801]\n",
      "[1.     6.7082 5.6569]\n",
      "8.8318\n"
     ]
    }
   ],
   "source": [
    "from numpy import linalg as LA\n",
    "a = np.array([[0, 3, 4], [1, 6, 4]])\n",
    "print(np.round(LA.norm(a, axis=1), 4))\n",
    "print(np.round(LA.norm(a, axis=0), 4))\n",
    "print(np.round((LA.norm(a, axis=None)), 4))"
   ]
  },
  {
   "cell_type": "code",
   "execution_count": 24,
   "metadata": {},
   "outputs": [
    {
     "data": {
      "text/plain": [
       "array([[0., 0., 0., 1.],\n",
       "       [0., 0., 1., 0.],\n",
       "       [0., 1., 0., 0.],\n",
       "       [1., 0., 0., 0.]])"
      ]
     },
     "execution_count": 24,
     "metadata": {},
     "output_type": "execute_result"
    }
   ],
   "source": [
    "a = np.eye(4)\n",
    "b = np.rot90(a)\n",
    "b"
   ]
  }
 ],
 "metadata": {
  "kernelspec": {
   "display_name": "Python 3.9.12 ('mamo')",
   "language": "python",
   "name": "python3"
  },
  "language_info": {
   "codemirror_mode": {
    "name": "ipython",
    "version": 3
   },
   "file_extension": ".py",
   "mimetype": "text/x-python",
   "name": "python",
   "nbconvert_exporter": "python",
   "pygments_lexer": "ipython3",
   "version": "3.9.12"
  },
  "orig_nbformat": 4,
  "vscode": {
   "interpreter": {
    "hash": "bc4866e053c759d6a7b6c75a6ee7f30413af3cb1408278924a32b7c27fdde7d0"
   }
  }
 },
 "nbformat": 4,
 "nbformat_minor": 2
}
