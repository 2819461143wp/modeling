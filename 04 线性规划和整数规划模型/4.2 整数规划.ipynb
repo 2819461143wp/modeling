{
 "cells": [
  {
   "cell_type": "markdown",
   "metadata": {},
   "source": [
    "---\n",
    "### 4.2.1  整数线性规划模型\n",
    "> 下面均为0-1规划模型\n",
    "#### 1. 背包问题\n",
    "$$\n",
    "\\begin{align*}\n",
    "&{\\rm max}\\ z=\\sum\\limits_{i=1}^nv_ix_i,\\\\\n",
    "&{\\rm s.t.}\n",
    "\t\\begin{cases}\n",
    "\t\\sum\\limits_{i=1}^nw_ix_i\\leq W,\\\\\n",
    "\tx_i=0\\,\\text{或}\\, 1, \\quad i=1, 2,\\cdots, n.\n",
    "    \\end{cases}\n",
    "\\end{align*}\n",
    "$$\n",
    "\n",
    "#### 2. 指派问题\n",
    "$$\n",
    "\\begin{align*}\n",
    "&{\\rm min}\\ z=\\sum\\limits_{i=1}^n \\sum\\limits_{j=1}^nc_{ij}x_{ij},\\\\\n",
    "&{\\rm s.t.} \n",
    "\t\\begin{cases}\n",
    "\t\\sum\\limits_{j=1}^nx_{i_0j}=1, \\quad i_0=1,2,\\cdots,n,\\\\\n",
    "\t\\sum\\limits_{i=1}^nx_{ij_0}=1, \\quad j_0=1,2,\\cdots,n,\\\\\n",
    "\tx_{ij}=0\\,\\text{或}\\,1, \\quad i,j=1,2,\\cdots, n.\n",
    "\t\\end{cases}\n",
    "\\end{align*}\n",
    "$$\n",
    "\n",
    "#### 3. 旅行商问题\n",
    "$$\n",
    "\\begin{align*}\n",
    "&{\\rm min}\\ z=\\sum\\limits_{i=1}^n \\sum\\limits_{j=1}^nc_{ij}x_{ij},\\\\\n",
    "&{\\rm s.t.}\n",
    "\t\\begin{cases}\n",
    "\t\\sum\\limits_{j=0}^nx_{i_0j}=1,\\quad i_0=1,2,\\cdots,n,\\\\\n",
    "    \\sum\\limits_{i=0}^nx_{ij_0}=1,\\quad j_0=1,2,\\cdots,n,\\\\\n",
    "\tu_i-u_j+nx_{ij}\\leq n-1, \\quad i=1,2,\\cdots,n,\\ j=2,\\cdots,n\\\\\n",
    "    u_1=0, \\ 1\\leq u_i\\leq n-1, \\quad i=2,3,\\cdots,n, \\\\\n",
    "    x_{ij}=0\\,\\text{或}\\,1, \\quad i,j=1,2,\\cdots, n.\n",
    "\t\\end{cases}\n",
    "\\end{align*}\n",
    "$$"
   ]
  },
  {
   "cell_type": "markdown",
   "metadata": {},
   "source": [
    "### 4.2.2 整数线性规划模型的求解\n",
    "#### 1. 工时安排问题"
   ]
  },
  {
   "cell_type": "code",
   "execution_count": 1,
   "metadata": {},
   "outputs": [
    {
     "name": "stdout",
     "output_type": "stream",
     "text": [
      "最优解为：[35.  5. 45. 25. 30.  0.]\n",
      "最优值为：140.0\n"
     ]
    },
    {
     "data": {
      "text/plain": [
       "(None, None)"
      ]
     },
     "execution_count": 1,
     "metadata": {},
     "output_type": "execute_result"
    }
   ],
   "source": [
    "import cvxpy as cp\n",
    "\n",
    "demand = [35, 40, 50, 45, 55, 30]\n",
    "x = cp.Variable(6, integer=True)\n",
    "obj = cp.Minimize(cp.sum(x))\n",
    "cons = [\n",
    "    x[0] + x[5] >= demand[0],\n",
    "    x[1] + x[0] >= demand[1],\n",
    "    x[2] + x[1] >= demand[2],\n",
    "    x[3] + x[2] >= demand[3],\n",
    "    x[4] + x[3] >= demand[4],\n",
    "    x[5] + x[4] >= demand[5],\n",
    "    x >= 0\n",
    "]\n",
    "prob = cp.Problem(obj, cons)\n",
    "prob.solve(solver='GLPK_MI')\n",
    "print(f'最优解为：{x.value}'), print(f'最优值为：{prob.value}')"
   ]
  },
  {
   "cell_type": "markdown",
   "metadata": {},
   "source": [
    "#### 2. 装修任务分配问题"
   ]
  },
  {
   "cell_type": "code",
   "execution_count": 2,
   "metadata": {},
   "outputs": [
    {
     "name": "stdout",
     "output_type": "stream",
     "text": [
      "最优解为：[[0. 0. 1. 0. 0.]\n",
      " [0. 0. 0. 1. 0.]\n",
      " [1. 1. 0. 0. 0.]\n",
      " [0. 0. 0. 0. 1.]]\n",
      "最优值为：63.8\n"
     ]
    },
    {
     "data": {
      "text/plain": [
       "(None, None)"
      ]
     },
     "execution_count": 2,
     "metadata": {},
     "output_type": "execute_result"
    }
   ],
   "source": [
    "import cvxpy as cp\n",
    "import numpy as np\n",
    "\n",
    "cost = np.loadtxt('../../04第4章  线性规划和整数规划模型/data4_10.txt')\n",
    "x = cp.Variable((4,5), integer=True)\n",
    "obj = cp.Minimize(cp.sum(cp.multiply(cost, x)))\n",
    "cons = [\n",
    "    cp.sum(x, axis=0) == 1,\n",
    "    cp.sum(x, axis=1) <= 2,\n",
    "    0 <= x,\n",
    "    x <= 1\n",
    "]\n",
    "prob = cp.Problem(obj, cons)\n",
    "prob.solve(solver='GLPK_MI')\n",
    "print(f'最优解为：{x.value}'), print(f'最优值为：{prob.value}')"
   ]
  },
  {
   "cell_type": "markdown",
   "metadata": {},
   "source": [
    "#### 3. 网点覆盖问题"
   ]
  },
  {
   "cell_type": "code",
   "execution_count": 3,
   "metadata": {},
   "outputs": [
    {
     "data": {
      "text/plain": [
       "array([[ 0.        ,  4.75629919,  2.74059248,  2.42243697,  5.73532972,\n",
       "        11.98693418,  0.56479575,  7.17310289,  6.77562974, 11.6105781 ],\n",
       "       [ 4.75629919,  0.        ,  7.03959836,  6.56771655,  3.14550105,\n",
       "         7.35275694,  4.25236497,  4.58762493,  6.84323888,  8.52356222],\n",
       "       [ 2.74059248,  7.03959836,  0.        ,  0.50409771,  8.45513224,\n",
       "        13.84437886,  3.28587179,  8.07617252,  6.27769905, 12.30855942],\n",
       "       [ 2.42243697,  6.56771655,  0.50409771,  0.        ,  8.08048245,\n",
       "        13.3413371 ,  2.94304882,  7.58945459,  5.9106389 , 11.84379706],\n",
       "       [ 5.73532972,  3.14550105,  8.45513224,  8.08048245,  0.        ,\n",
       "         8.75631644,  5.17661654,  7.69877494,  9.85159815, 11.35906394],\n",
       "       [11.98693418,  7.35275694, 13.84437886, 13.3413371 ,  8.75631644,\n",
       "         0.        , 11.53122036,  6.67302968, 10.4321443 ,  6.06331822],\n",
       "       [ 0.56479575,  4.25236497,  3.28587179,  2.94304882,  5.17661654,\n",
       "        11.53122036,  0.        ,  6.94650153,  6.85372035, 11.38455992],\n",
       "       [ 7.17310289,  4.58762493,  8.07617252,  7.58945459,  7.69877494,\n",
       "         6.67302968,  6.94650153,  0.        ,  3.78519271,  4.43960994],\n",
       "       [ 6.77562974,  6.84323888,  6.27769905,  5.9106389 ,  9.85159815,\n",
       "        10.4321443 ,  6.85372035,  3.78519271,  0.        ,  6.71517774],\n",
       "       [11.6105781 ,  8.52356222, 12.30855942, 11.84379706, 11.35906394,\n",
       "         6.06331822, 11.38455992,  4.43960994,  6.71517774,  0.        ]])"
      ]
     },
     "execution_count": 3,
     "metadata": {},
     "output_type": "execute_result"
    }
   ],
   "source": [
    "import cvxpy as cp\n",
    "import numpy as np\n",
    "from sklearn.metrics import euclidean_distances # 两个矩阵的成对平方欧氏距离\n",
    "\n",
    "pos = np.loadtxt('../../04第4章  线性规划和整数规划模型/data4_11.txt')\n",
    "pos = pos.T\n",
    "d = euclidean_distances(pos, pos)\n",
    "d"
   ]
  },
  {
   "cell_type": "code",
   "execution_count": 4,
   "metadata": {},
   "outputs": [
    {
     "name": "stdout",
     "output_type": "stream",
     "text": [
      "最优解为：[0. 1. 0. 0. 0. 0. 0. 0. 1. 0.]\n",
      "[[0. 0. 0. 0. 0. 0. 0. 0. 0. 0.]\n",
      " [1. 1. 1. 0. 1. 1. 0. 0. 0. 0.]\n",
      " [0. 0. 0. 0. 0. 0. 0. 0. 0. 0.]\n",
      " [0. 0. 0. 0. 0. 0. 0. 0. 0. 0.]\n",
      " [0. 0. 0. 0. 0. 0. 0. 0. 0. 0.]\n",
      " [0. 0. 0. 0. 0. 0. 0. 0. 0. 0.]\n",
      " [0. 0. 0. 0. 0. 0. 0. 0. 0. 0.]\n",
      " [0. 0. 0. 0. 0. 0. 0. 0. 0. 0.]\n",
      " [0. 0. 0. 1. 0. 0. 1. 1. 1. 1.]\n",
      " [0. 0. 0. 0. 0. 0. 0. 0. 0. 0.]]\n",
      "最优值为：2.0\n"
     ]
    },
    {
     "data": {
      "text/plain": [
       "(None, None)"
      ]
     },
     "execution_count": 4,
     "metadata": {},
     "output_type": "execute_result"
    }
   ],
   "source": [
    "x = cp.Variable(10, integer=True)\n",
    "y = cp.Variable((10,10), integer=True)\n",
    "obj = cp.Minimize(cp.sum(x))\n",
    "cons = [\n",
    "    cp.sum(y, axis=0) >= 1,\n",
    "    cp.sum(y, axis=1) <= 5,\n",
    "    0 <= x, x <= 1,\n",
    "    0 <= y, y <= 1\n",
    "]\n",
    "for i in range(10):\n",
    "    cons.append(x[i] == y[i,i])\n",
    "    for j in range(10):\n",
    "        cons.append(d[i,j]*y[i,j] <= 10*x[i])\n",
    "        cons.append(x[i] >= y[i,j])\n",
    "prob = cp.Problem(obj, cons)\n",
    "prob.solve(solver='GLPK_MI')\n",
    "print(f'最优解为：{x.value}\\n{y.value}'), print(f'最优值为：{prob.value}')"
   ]
  }
 ],
 "metadata": {
  "kernelspec": {
   "display_name": "Python 3.9.12 ('mamo')",
   "language": "python",
   "name": "python3"
  },
  "language_info": {
   "codemirror_mode": {
    "name": "ipython",
    "version": 3
   },
   "file_extension": ".py",
   "mimetype": "text/x-python",
   "name": "python",
   "nbconvert_exporter": "python",
   "pygments_lexer": "ipython3",
   "version": "3.9.12"
  },
  "orig_nbformat": 4,
  "vscode": {
   "interpreter": {
    "hash": "bc4866e053c759d6a7b6c75a6ee7f30413af3cb1408278924a32b7c27fdde7d0"
   }
  }
 },
 "nbformat": 4,
 "nbformat_minor": 2
}
