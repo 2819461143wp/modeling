{
 "cells": [
  {
   "cell_type": "code",
   "execution_count": 1,
   "metadata": {},
   "outputs": [],
   "source": [
    "import cvxpy as cp\n",
    "import numpy as np\n",
    "import pandas as pd\n",
    "import sympy as sp\n",
    "sp.init_printing(use_unicode=True)\n",
    "import matplotlib.pyplot as plt\n",
    "plt.rcParams['font.sans-serif']=['Times New Roman + SimSun + WFM Sans SC']\n",
    "plt.rcParams['mathtext.fontset']='cm'\n",
    "# Times New Roman + SimSun + WFM Sans SC\n",
    "# simsum宋体, times new roman -*, simhei黑体, kaiti楷体, \n",
    "# dengxian等线, fangsong仿宋, Microsoft Yahei微软雅黑\n",
    "plt.rcParams['axes.unicode_minus']=False   \n",
    "plt.rcParams['figure.dpi'] = 200\n",
    "# plt.rcParams['figure.figsize'] = [4, 3]\n",
    "# plt.rcParams['font.size'] = 12\n",
    "plt.rcParams['xtick.direction'] = 'in'\n",
    "plt.rcParams['ytick.direction'] = 'in'"
   ]
  },
  {
   "cell_type": "markdown",
   "metadata": {},
   "source": [
    "### 1"
   ]
  },
  {
   "cell_type": "code",
   "execution_count": 2,
   "metadata": {},
   "outputs": [
    {
     "name": "stdout",
     "output_type": "stream",
     "text": [
      "最优解为：[20. 30.]\n",
      "最优值为：3360.0\n"
     ]
    },
    {
     "data": {
      "text/plain": [
       "(None, None)"
      ]
     },
     "execution_count": 2,
     "metadata": {},
     "output_type": "execute_result"
    }
   ],
   "source": [
    "x = cp.Variable(2, pos=True)\n",
    "obj = cp.Maximize(72*x[0] + 64*x[1])\n",
    "cons = [\n",
    "    x[0] + x[1] <= 50,\n",
    "    12*x[0] + 8*x[1] <= 480,\n",
    "    3*x[0] <= 100,\n",
    "]\n",
    "prob = cp.Problem(obj, cons)\n",
    "prob.solve(solver='GLPK_MI')\n",
    "print(f'最优解为：{x.value}'), print(f'最优值为：{prob.value}')"
   ]
  },
  {
   "cell_type": "markdown",
   "metadata": {},
   "source": [
    "### 2"
   ]
  },
  {
   "cell_type": "code",
   "execution_count": 3,
   "metadata": {},
   "outputs": [
    {
     "name": "stdout",
     "output_type": "stream",
     "text": [
      "最优解为：[30.  0.  6. 24.  0.]\n",
      "最优值为：2760.0\n"
     ]
    },
    {
     "data": {
      "text/plain": [
       "(None, None)"
      ]
     },
     "execution_count": 3,
     "metadata": {},
     "output_type": "execute_result"
    }
   ],
   "source": [
    "x = cp.Variable(5, integer=True)\n",
    "c = [20, 90, 80, 70, 30]\n",
    "obj = cp.Minimize(c @ x)\n",
    "cons = [\n",
    "    x[0] + x[1] + x[4] >= 30,\n",
    "    x[2] + x[3] >= 30,\n",
    "    3*x[0] + 2*x[2] <= 120,\n",
    "    3*x[1] + 2*x[3] + x[4] <= 48,\n",
    "    x >= 0\n",
    "]\n",
    "prob = cp.Problem(obj, cons)\n",
    "prob.solve(solver='GLPK_MI')\n",
    "print(f'最优解为：{x.value}'), print(f'最优值为：{prob.value}')"
   ]
  },
  {
   "cell_type": "markdown",
   "metadata": {},
   "source": [
    "### 3\n",
    "见 4.3 模型二"
   ]
  },
  {
   "cell_type": "markdown",
   "metadata": {},
   "source": [
    "### 4\n",
    "企业安排生产问题"
   ]
  },
  {
   "cell_type": "code",
   "execution_count": 4,
   "metadata": {},
   "outputs": [
    {
     "name": "stdout",
     "output_type": "stream",
     "text": [
      "最优解为：[4. 0.]\n",
      "最优值为：8.0\n"
     ]
    },
    {
     "data": {
      "text/plain": [
       "(None, None)"
      ]
     },
     "execution_count": 4,
     "metadata": {},
     "output_type": "execute_result"
    }
   ],
   "source": [
    "x = cp.Variable(2, integer=True)\n",
    "c = np.array([[0, 5], [6, 2], [1, 1]])\n",
    "b = np.array([15, 24, 5]).T\n",
    "p = np.array([2, 1])\n",
    "\n",
    "prob = cp.Problem(cp.Maximize(p @ x), [c@x <= b, x >= 0])\n",
    "prob.solve(solver='GLPK_MI')\n",
    "print(f'最优解为：{x.value}'), print(f'最优值为：{prob.value}')"
   ]
  },
  {
   "cell_type": "markdown",
   "metadata": {},
   "source": [
    "### 5\n",
    "标准指派问题"
   ]
  },
  {
   "cell_type": "code",
   "execution_count": 5,
   "metadata": {},
   "outputs": [
    {
     "data": {
      "text/plain": [
       "array([[ 6,  7,  5,  8,  9, 10],\n",
       "       [ 6,  3,  7,  9,  3,  8],\n",
       "       [ 8, 11, 12,  6,  7,  9],\n",
       "       [ 9,  7,  5,  4,  7,  6],\n",
       "       [ 5,  8,  9,  6, 10,  7],\n",
       "       [ 9,  8,  7,  6,  5,  9]])"
      ]
     },
     "execution_count": 5,
     "metadata": {},
     "output_type": "execute_result"
    }
   ],
   "source": [
    "n = 6\n",
    "x = cp.Variable((n, n), integer=True)\n",
    "C = pd.read_csv('../../../hw/04第4章  线性规划和整数规划模型习题解答/ti4_5.txt', header=None)\n",
    "C = np.array(C).reshape(n, n)\n",
    "C"
   ]
  },
  {
   "cell_type": "code",
   "execution_count": 6,
   "metadata": {},
   "outputs": [
    {
     "name": "stdout",
     "output_type": "stream",
     "text": [
      "最优解为：[[0. 0. 1. 0. 0. 0.]\n",
      " [0. 1. 0. 0. 0. 0.]\n",
      " [0. 0. 0. 1. 0. 0.]\n",
      " [0. 0. 0. 0. 0. 1.]\n",
      " [1. 0. 0. 0. 0. 0.]\n",
      " [0. 0. 0. 0. 1. 0.]]\n",
      "最优值为：30.0\n"
     ]
    },
    {
     "data": {
      "text/plain": [
       "(None, None)"
      ]
     },
     "execution_count": 6,
     "metadata": {},
     "output_type": "execute_result"
    }
   ],
   "source": [
    "obj = cp.Minimize(cp.sum(cp.multiply(C, x))) # cp.sum?\n",
    "cons = [\n",
    "    cp.sum(x, axis=0) == 1,\n",
    "    cp.sum(x, axis=1) == 1,\n",
    "    0 <= x, x <= 1,\n",
    "]\n",
    "prob = cp.Problem(obj, cons)\n",
    "prob.solve(solver='GLPK_MI')\n",
    "print(f'最优解为：{x.value}'), print(f'最优值为：{prob.value}')"
   ]
  },
  {
   "cell_type": "markdown",
   "metadata": {},
   "source": [
    "### 6\n",
    "#### 限制运量的最小费用运输问题"
   ]
  },
  {
   "cell_type": "code",
   "execution_count": 7,
   "metadata": {},
   "outputs": [
    {
     "name": "stdout",
     "output_type": "stream",
     "text": [
      "最优解为：[[  -0.   -0.   -0.   -0.   -0. 3000.   -0.   -0.]\n",
      " [  -0.   -0.   -0.   -0. 3100.   -0.   -0.   -0.]\n",
      " [  -0.   -0.    0.   -0.   -0.   -0.   -0. 2900.]\n",
      " [  -0.   -0. 3100.   -0.   -0.   -0.   -0.   -0.]\n",
      " [3100.   -0.   -0.   -0.   -0.   -0.   -0.   -0.]\n",
      " [  -0.   -0.   -0. 3400.   -0.   -0.   -0.   -0.]\n",
      " [  -0. 3500.   -0.   -0.   -0.   -0.   -0.   -0.]\n",
      " [  -0.   -0.   -0. 3200.   -0.   -0.   -0.   -0.]\n",
      " [  -0. 3000.   -0.   -0.   -0.   -0.   -0.   -0.]\n",
      " [  -0.   -0.   -0.   -0.   -0.   -0.   -0. 3100.]\n",
      " [  -0.   -0.   -0.   -0.   -0.   -0. 3300.   -0.]\n",
      " [  -0.   -0.   -0.   -0.   -0.   -0. 3200.   -0.]\n",
      " [  -0.   -0.   -0.   -0.   -0.   -0. 3300.   -0.]\n",
      " [  -0.   -0.   -0.   -0.   -0.   -0.   -0. 2900.]\n",
      " [  -0.   -0.   -0.   -0.   -0.   -0.   -0. 3100.]]\n",
      "最优值为：9244730.0\n"
     ]
    },
    {
     "data": {
      "text/plain": [
       "(None, None)"
      ]
     },
     "execution_count": 7,
     "metadata": {},
     "output_type": "execute_result"
    }
   ],
   "source": [
    "df = pd.read_csv('../../../hw/04第4章  线性规划和整数规划模型习题解答/ti4_6_1.txt', sep='\\t', header=None)\n",
    "C = df.values\n",
    "demand = C[:, -1][:-1]\n",
    "reserve = C[-1, :][:-1]\n",
    "C = C[:-1, :-1]\n",
    "\n",
    "x = cp.Variable(C.shape, pos=True)\n",
    "obj = cp.Minimize(cp.sum(cp.multiply(C, x)))\n",
    "cons = [\n",
    "    cp.sum(x, axis=1) == demand,\n",
    "    cp.sum(x, axis=0) <= reserve,\n",
    "]\n",
    "prob = cp.Problem(obj, cons)\n",
    "prob.solve(solver='GLPK_MI')\n",
    "print(f'最优解为：{x.value}'), print(f'最优值为：{prob.value}')"
   ]
  },
  {
   "cell_type": "code",
   "execution_count": 8,
   "metadata": {},
   "outputs": [
    {
     "name": "stdout",
     "output_type": "stream",
     "text": [
      "最优解为：[[   0.   -0.   -0.   -0. 1000. 2000.   -0.    0.]\n",
      " [  -0.    0.   -0.   -0. 2000. 1100.   -0.   -0.]\n",
      " [  -0.    0. 1000.   -0.   -0.   -0.   -0. 1900.]\n",
      " [  -0.    0. 2000.   -0. 1100.   -0.   -0.   -0.]\n",
      " [2000.    0.   -0. 1100.   -0.   -0.   -0.   -0.]\n",
      " [1400.    0.   -0. 2000.   -0.   -0.   -0.   -0.]\n",
      " [1500. 2000.   -0.   -0.   -0.   -0.   -0.   -0.]\n",
      " [  -0.   -0.   -0. 2000. 1200.   -0.   -0.    0.]\n",
      " [1000. 2000.   -0.   -0.   -0.   -0.   -0.    0.]\n",
      " [  -0.   -0. 1100.   -0.   -0.   -0.   -0. 2000.]\n",
      " [  -0.   -0.   -0.   -0.   -0.   -0. 2000. 1300.]\n",
      " [  -0.   -0.   -0. 1200.   -0.   -0. 2000.    0.]\n",
      " [   0.   -0.   -0. 1300.   -0.   -0. 2000.    0.]\n",
      " [  -0.   -0. 1000.   -0.   -0.   -0.   -0. 1900.]\n",
      " [  -0.   -0.   -0. 1100.   -0.   -0.   -0. 2000.]]\n",
      "最优值为：12682750.0\n"
     ]
    },
    {
     "data": {
      "text/plain": [
       "(None, None)"
      ]
     },
     "execution_count": 8,
     "metadata": {},
     "output_type": "execute_result"
    }
   ],
   "source": [
    "y = cp.Variable(C.shape, integer=True)\n",
    "cons = [\n",
    "    cp.sum(x, axis=1) == demand,\n",
    "    cp.sum(x, axis=0) <= reserve,\n",
    "    1000*y <= x, x <= 2000*y,\n",
    "    0 <= y, y <= 1,\n",
    "]\n",
    "prob = cp.Problem(obj, cons)\n",
    "prob.solve(solver='GLPK_MI')\n",
    "print(f'最优解为：{x.value}'), print(f'最优值为：{prob.value}')"
   ]
  },
  {
   "cell_type": "markdown",
   "metadata": {},
   "source": [
    "### 7\n",
    "#### 面试顺序问题\n",
    "\n",
    "问题分析：安排4名同学的面试顺序，使完成全部面试所花费的时间最少。\n",
    "\n",
    "符号解释：\n",
    "\n",
    "$t_{ij}$：第 $i$ 名同学参加完第 $j$ 阶段面试需要的时间\n",
    "  \n",
    "$x_{ij}$：第 $i$ 名同学参加第 $j$ 阶段面试的开始时间\n",
    "  \n",
    "$y_{ik}$：第 $k$ 名同学是否先于第 $i$ 名同学\n",
    "\n",
    "$T$：完成全部面试试所花费的最少时间\n",
    "\n",
    "目标函数：\n",
    "$$\n",
    "{\\rm min}\\ T\n",
    "$$\n",
    "约束条件：\n",
    "\n",
    "1. 时间先后次序约束：每人只有参加完前一个阶段的面试后才能进入下一个阶段\n",
    "\n",
    "$$\n",
    "x_{ij} + t_{ij} \\leq x_{i,j+1}, \\quad i=1,2,3,4,\\ j=1,2\n",
    "$$\n",
    "\n",
    "2. 每个阶段 $j$ 同一时间只能面试 $1$ 名同学\n",
    "$$\n",
    "\\begin{align*}\n",
    "&x_{ij}+t_{ij}-x_{kj} \\leq \\infty\\cdot y_{ik}, \\quad i,k=1,2,3,4, \\ i<k, \\ j=1,2,3\\\\\n",
    "&x_{kj}+t_{kj}-x_{ij} \\leq \\infty\\cdot \\left( 1-y_{ik} \\right) \\quad i,k=1,2,3,4,\\ i<k, \\ j=1,2,3\n",
    "\\end{align*}\n",
    "$$\n",
    "\n",
    "3. 完成面试所需的最少时间大于所有人完成第三阶段面试的时刻\n",
    "$$\n",
    "x_{i3}+t_{i3} \\leq T, \\quad i=1,2,3,4\n",
    "$$\n",
    "   "
   ]
  },
  {
   "cell_type": "code",
   "execution_count": 9,
   "metadata": {},
   "outputs": [
    {
     "name": "stdout",
     "output_type": "stream",
     "text": [
      "最优解为：[[ 8. 21. 36.]\n",
      " [21. 36. 56.]\n",
      " [38. 58. 74.]\n",
      " [ 0.  8. 18.]]\n",
      "最优值为：84.0\n"
     ]
    },
    {
     "data": {
      "text/plain": [
       "(None, None)"
      ]
     },
     "execution_count": 9,
     "metadata": {},
     "output_type": "execute_result"
    }
   ],
   "source": [
    "df = pd.read_csv('../../../hw/04第4章  线性规划和整数规划模型习题解答/ti4_7.txt', sep='\\t', header=None)\n",
    "C = df.values\n",
    "(personNum, examNum) = C.shape\n",
    "x = cp.Variable(C.shape, pos=True)\n",
    "y = cp.Variable((personNum, personNum), integer=True)\n",
    "T = cp.Variable(pos=True)\n",
    "obj = cp.Minimize(T)\n",
    "cons = [\n",
    "    0 <= y, y <= 1,\n",
    "    x[:, -1] + C[:, -1] <= T,\n",
    "    x[:, :-1] + C[:, :-1] <= x[:, 1:],\n",
    "]\n",
    "infty = 1e4\n",
    "for j in range(examNum):    # 对于每个阶段\n",
    "    for i in range(personNum):  # 对于每位同学\n",
    "        for k in range(i+1, personNum): # 其他同学...\n",
    "            cons.append(x[i,j] + C[i,j] - x[k,j] <= infty*y[i,k])\n",
    "            cons.append(x[k,j] + C[k,j] - x[i,j] <= infty*(1-y[i,k]))\n",
    "prob = cp.Problem(obj, cons)\n",
    "prob.solve(solver='SCIP')\n",
    "print(f'最优解为：{x.value}'), print(f'最优值为：{prob.value}')"
   ]
  },
  {
   "cell_type": "markdown",
   "metadata": {},
   "source": [
    "### 8\n",
    "背包问题"
   ]
  },
  {
   "cell_type": "code",
   "execution_count": 10,
   "metadata": {},
   "outputs": [
    {
     "name": "stdout",
     "output_type": "stream",
     "text": [
      "最优解为：[[ 0.          0.          0.        ]\n",
      " [ 7.          0.          8.        ]\n",
      " [ 3.         12.94736842  0.        ]\n",
      " [ 0.          3.05263158  0.        ]]\n",
      "最优值为：121515.78947368423\n"
     ]
    },
    {
     "data": {
      "text/plain": [
       "(None, None)"
      ]
     },
     "execution_count": 10,
     "metadata": {},
     "output_type": "execute_result"
    }
   ],
   "source": [
    "w = np.array([18,15,23,12])\n",
    "v = np.array([480,650,580,390])\n",
    "p = np.array([3100,3800,3500,2850])\n",
    "W = np.array([10,16,8])\n",
    "V = np.array([6800,8700,5300])\n",
    "\n",
    "x = cp.Variable((4,3), nonneg=True)\n",
    "obj = cp.Maximize(p @ cp.sum(x, axis=1))\n",
    "ws = (w @ x)\n",
    "cons = [\n",
    "    cp.sum(x, axis=0) <= W,\n",
    "    cp.sum(x, axis=1) <= w,\n",
    "    v @ x <= V,\n",
    "    cp.sum(x[:, 0])/10 == cp.sum(x[:, 1])/16,\n",
    "    cp.sum(x[:, 1])/16 == cp.sum(x[:, 2])/8,\n",
    "]\n",
    "prob = cp.Problem(obj, cons)\n",
    "prob.solve(solver='SCIP')\n",
    "print(f'最优解为：{x.value}'), print(f'最优值为：{prob.value}')"
   ]
  },
  {
   "cell_type": "markdown",
   "metadata": {},
   "source": [
    "### 9\n",
    "钢管下料问题\n",
    "1. 确定所有合理可行的切割模式"
   ]
  },
  {
   "cell_type": "code",
   "execution_count": 11,
   "metadata": {},
   "outputs": [
    {
     "data": {
      "text/plain": [
       "(array([[0, 0, 6],\n",
       "        [0, 1, 4],\n",
       "        [0, 2, 2],\n",
       "        [0, 3, 0],\n",
       "        [1, 0, 4],\n",
       "        [1, 1, 1],\n",
       "        [2, 0, 1]]),\n",
       " array([0.9, 0.8, 0.7, 0.6, 0. , 0.9, 0.1]))"
      ]
     },
     "execution_count": 11,
     "metadata": {},
     "output_type": "execute_result"
    }
   ],
   "source": [
    "L = 6.9\n",
    "l = [2.9, 2.1, 1]\n",
    "demand = [100, 100, 100]\n",
    "mode = []\n",
    "r = []\n",
    "for i in range(int(np.ceil(L/l[0]))):\n",
    "    for j in range(int(np.ceil(L/l[1]))):\n",
    "        for k in range(int(np.ceil(L/l[2]))):\n",
    "            length = i*l[0] + j*l[1] + k*l[2]\n",
    "            if length > L - min(l) and length <= L:\n",
    "                mode.append([i, j, k])\n",
    "                r.append(L - length)\n",
    "\n",
    "mode = np.array(mode)\n",
    "r = np.array(r)\n",
    "\n",
    "mode, r"
   ]
  },
  {
   "cell_type": "markdown",
   "metadata": {},
   "source": [
    "2. 规划\n",
    "\n",
    "用 $x_{i }$ 表示按照第 $i$ 种模式 $i = 1, 2,\\cdots,7$ 切割的原料钢管的根数，以使用的原材料最少为目标"
   ]
  },
  {
   "cell_type": "code",
   "execution_count": 12,
   "metadata": {},
   "outputs": [
    {
     "name": "stdout",
     "output_type": "stream",
     "text": [
      "最优解为：[ 0.  1.  0. 33. 14.  0. 43.]\n",
      "最优值为：91.0\n",
      "余料长度为：24.900000000000013\n"
     ]
    }
   ],
   "source": [
    "x = cp.Variable(len(mode), integer=True)\n",
    "obj = cp.Minimize(cp.sum(x))\n",
    "cons = [\n",
    "    x @ mode >= demand,\n",
    "    x >= 0,\n",
    "]\n",
    "prob = cp.Problem(obj, cons)\n",
    "prob.solve(solver='GUROBI')\n",
    "print(f'最优解为：{x.value}')\n",
    "print(f'最优值为：{prob.value}')\n",
    "print(f'余料长度为：{r @ x.value}')"
   ]
  },
  {
   "cell_type": "markdown",
   "metadata": {},
   "source": [
    "附加题：若下料方式不超过三种\n",
    "\n",
    "$y_i$ 表示是否采用了第 $i$ 种下料方式"
   ]
  },
  {
   "cell_type": "code",
   "execution_count": 13,
   "metadata": {},
   "outputs": [
    {
     "name": "stdout",
     "output_type": "stream",
     "text": [
      "最优解为：[-0. -0. -0. 34. 15. -0. 43.]\n",
      "最优值为：92.0\n",
      "余料长度为：24.70000000000001\n"
     ]
    }
   ],
   "source": [
    "x = cp.Variable(len(mode), integer=True)\n",
    "y = cp.Variable(len(mode), integer=True)\n",
    "infty = 1e4\n",
    "obj = cp.Minimize(cp.sum(x))\n",
    "cons = [\n",
    "    x @ mode >= demand,\n",
    "    x <= infty*y,\n",
    "    cp.sum(y) <= 3,\n",
    "    x >= 0,\n",
    "    0 <= y, y <= 1,\n",
    "]\n",
    "prob = cp.Problem(obj, cons)\n",
    "prob.solve(solver='GUROBI')\n",
    "print(f'最优解为：{x.value}')\n",
    "print(f'最优值为：{prob.value}')\n",
    "print(f'余料长度为：{r @ x.value}')"
   ]
  }
 ],
 "metadata": {
  "kernelspec": {
   "display_name": "Python 3.9.12 ('mamo')",
   "language": "python",
   "name": "python3"
  },
  "language_info": {
   "codemirror_mode": {
    "name": "ipython",
    "version": 3
   },
   "file_extension": ".py",
   "mimetype": "text/x-python",
   "name": "python",
   "nbconvert_exporter": "python",
   "pygments_lexer": "ipython3",
   "version": "3.9.12"
  },
  "orig_nbformat": 4,
  "vscode": {
   "interpreter": {
    "hash": "bc4866e053c759d6a7b6c75a6ee7f30413af3cb1408278924a32b7c27fdde7d0"
   }
  }
 },
 "nbformat": 4,
 "nbformat_minor": 2
}
