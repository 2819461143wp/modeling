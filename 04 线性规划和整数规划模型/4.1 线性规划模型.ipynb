{
 "cells": [
  {
   "cell_type": "markdown",
   "metadata": {},
   "source": [
    "---\n",
    "### 4.1.2 模型求解及应用\n",
    "\n",
    "#### 1. 企业生产安排问题\n",
    "1. 决策变量：$x_1$，$x_2$，$x_3$\n",
    "\n",
    "2. 目标函数：$z=70x_1+50_2+60x_3$\n",
    "\n",
    "3. 约束条件：$2x_1+4x_2+3_3\\leq 150$，$3x_1+x_2+5x_3\\leq 160$，$7x_1+3x_2+5x_3\\leq 200$，$x_i\\geq0,\\ i=1, 2, 3$\n",
    "\n",
    "综上，可以建立数学模型为\n",
    "$$\n",
    "\\begin{align*}\n",
    "&{\\rm max}\\ z=70x_1+50_2+60x_3,\\\\\n",
    "&\\text{s.t.} \\begin{cases}\n",
    "2x_1+4x_2+3_3\\leq 150,\\\\\n",
    "3x_1+x_2+5x_3\\leq 160,\\\\\n",
    "7x_1+3x_2+5x_3\\leq 200,\\\\\n",
    "x_i\\geq0,\\ i=1, 2, 3.\n",
    "\\end{cases}\n",
    "\\end{align*}\n",
    "$$\n",
    "对于数学规划模型，一定要做灵敏性分析"
   ]
  },
  {
   "cell_type": "code",
   "execution_count": 1,
   "metadata": {},
   "outputs": [
    {
     "name": "stdout",
     "output_type": "stream",
     "text": [
      "最优解为：[15.90909091 29.54545455 -0.        ]\n",
      "最优值为：2590.909090909091\n"
     ]
    },
    {
     "data": {
      "text/plain": [
       "(None, None)"
      ]
     },
     "execution_count": 1,
     "metadata": {},
     "output_type": "execute_result"
    }
   ],
   "source": [
    "import cvxpy as cp\n",
    "from numpy import array\n",
    "c = array([70, 50, 60])\n",
    "a = array([[2, 4, 3], [3, 1, 5], [7, 3, 5]])\n",
    "b = array([150, 160, 200])\n",
    "x = cp.Variable(3, pos=True)    # pos mean positive\n",
    "obj = cp.Maximize(c@x)\n",
    "cons = [a@x <= b]\n",
    "prob = cp.Problem(obj, cons)\n",
    "prob.solve(solver='GLPK_MI')\n",
    "print(f'最优解为：{x.value}'), print(f'最优值为：{prob.value}')"
   ]
  },
  {
   "cell_type": "markdown",
   "metadata": {},
   "source": [
    "#### 2. 项目投资问题"
   ]
  },
  {
   "cell_type": "code",
   "execution_count": 2,
   "metadata": {},
   "outputs": [
    {
     "name": "stdout",
     "output_type": "stream",
     "text": [
      "最优解为：[[34782.60869565    -0.            -0.         65217.39130435]\n",
      " [39130.43478261    -0.         30000.            -0.        ]\n",
      " [   -0.         40000.            -0.            -0.        ]\n",
      " [45000.            -0.            -0.            -0.        ]\n",
      " [   -0.            -0.            -0.             0.        ]]\n",
      "最优值为：143750.0\n"
     ]
    },
    {
     "data": {
      "text/plain": [
       "(None, None)"
      ]
     },
     "execution_count": 2,
     "metadata": {},
     "output_type": "execute_result"
    }
   ],
   "source": [
    "import cvxpy as cp\n",
    "x = cp.Variable((5, 4), pos=True)\n",
    "p1, p2, p3, p4 = 1.15, 1.25, 1.40, 1.06\n",
    "obj =  cp.Maximize(p1*x[3,0] + p2*x[2,1] + p3*x[1,2] + p4*x[4,3])\n",
    "cons = [\n",
    "    x[0,0] + x[0,3] == 1e5,\n",
    "    x[1,0] + x[1,2] + x[1,3] == p4*x[0,3],\n",
    "    x[2,0] + x[2,1] + x[2,3] == p1*x[0,0] + p4*x[1,3],\n",
    "    x[3,0] + x[3,3] == p1*x[1,0] + p4*x[2,3],\n",
    "    x[4,3] == p1*x[2,0] + p4*x[3,3],\n",
    "    x[2,1] <= 4e4,\n",
    "    x[1,2] <= 3e4\n",
    "]\n",
    "prob = cp.Problem(obj, cons)\n",
    "prob.solve(solver='GLPK_MI')\n",
    "print(f'最优解为：{x.value}'), print(f'最优值为：{prob.value}')\n",
    "\n",
    "# PS: 换成<=同解"
   ]
  },
  {
   "cell_type": "markdown",
   "metadata": {},
   "source": [
    "#### 3. 仓库租借问题"
   ]
  },
  {
   "cell_type": "code",
   "execution_count": 3,
   "metadata": {},
   "outputs": [
    {
     "name": "stdout",
     "output_type": "stream",
     "text": [
      "最优解为：[[ 3. -0. -0. 12.]\n",
      " [-0. -0. -0. -0.]\n",
      " [ 8. -0. -0. -0.]\n",
      " [-0. -0. -0. -0.]]\n",
      "最优值为：118400.0\n"
     ]
    },
    {
     "data": {
      "text/plain": [
       "(None, None)"
      ]
     },
     "execution_count": 3,
     "metadata": {},
     "output_type": "execute_result"
    }
   ],
   "source": [
    "import cvxpy as cp\n",
    "from numpy import array\n",
    "x = cp.Variable((4,4), pos=True)\n",
    "obj = cp.Minimize(2800*(x[0,0]+x[1,0]+x[2,0]+x[3,0]) + \\\n",
    "    4500*(x[0,1]+x[1,1]+x[2,1]) + 6000*(x[0,2]+x[1,2]) + 7300*x[0,3])\n",
    "cons = [\n",
    "    sum(x[0, :]) >= 15,\n",
    "    sum(x[0, 1:]) + sum(x[1, :3]) >= 10,\n",
    "    sum(x[0, 2:]) + sum(x[1, 1:3]) +sum(x[2, :2]) >= 20,\n",
    "    x[0,3] + x[1,2] + x[2,1] + x[3,0] >= 12\n",
    "]\n",
    "prob = cp.Problem(obj, cons)\n",
    "prob.solve(solver='GLPK_MI')\n",
    "print(f'最优解为：{x.value}'), print(f'最优值为：{prob.value}')"
   ]
  },
  {
   "cell_type": "markdown",
   "metadata": {},
   "source": [
    "#### 4. 最小费用运输问题"
   ]
  },
  {
   "cell_type": "code",
   "execution_count": 4,
   "metadata": {},
   "outputs": [
    {
     "name": "stdout",
     "output_type": "stream",
     "text": [
      "最优解为：[[-0. 19. -0. -0. 41. -0. -0. -0.]\n",
      " [-0. -0. -0. 32. -0. -0. -0.  1.]\n",
      " [-0. 12. 22. -0. -0. -0. 17. -0.]\n",
      " [-0. -0. -0. -0. -0.  6. -0. 37.]\n",
      " [35.  6. -0. -0. -0. -0. -0. -0.]\n",
      " [-0. -0. -0. -0. -0. 26. 26. -0.]]\n",
      "最优值为：664.0\n"
     ]
    },
    {
     "data": {
      "text/plain": [
       "(None, None)"
      ]
     },
     "execution_count": 4,
     "metadata": {},
     "output_type": "execute_result"
    }
   ],
   "source": [
    "import cvxpy as cp\n",
    "import numpy as np\n",
    "import pandas as pd\n",
    "\n",
    "cost = np.genfromtxt('../../04第4章  线性规划和整数规划模型/data4_5_1.txt', dtype=float, max_rows=6, usecols=range(8))\n",
    "sales = np.genfromtxt('../../04第4章  线性规划和整数规划模型/data4_5_1.txt', dtype=float, skip_header=6)\n",
    "production = np.genfromtxt('../../04第4章  线性规划和整数规划模型/data4_5_1.txt', dtype=float, max_rows=6, usecols=8)\n",
    "# However, it is much easier to use .csv or .xlsx\n",
    "\n",
    "x = cp.Variable((6,8), pos=True)\n",
    "obj = cp.Minimize(cp.sum(cp.multiply(cost, x)))\n",
    "cons = [\n",
    "    cp.sum(x, axis=0) == sales,\n",
    "    cp.sum(x, axis=1) <= production    \n",
    "]\n",
    "prob = cp.Problem(obj, cons)\n",
    "prob.solve(solver='GLPK_MI')\n",
    "print(f'最优解为：{x.value}'), print(f'最优值为：{prob.value}')"
   ]
  }
 ],
 "metadata": {
  "kernelspec": {
   "display_name": "Python 3.9.12 ('mamo')",
   "language": "python",
   "name": "python3"
  },
  "language_info": {
   "codemirror_mode": {
    "name": "ipython",
    "version": 3
   },
   "file_extension": ".py",
   "mimetype": "text/x-python",
   "name": "python",
   "nbconvert_exporter": "python",
   "pygments_lexer": "ipython3",
   "version": "3.9.12"
  },
  "orig_nbformat": 4,
  "vscode": {
   "interpreter": {
    "hash": "bc4866e053c759d6a7b6c75a6ee7f30413af3cb1408278924a32b7c27fdde7d0"
   }
  }
 },
 "nbformat": 4,
 "nbformat_minor": 2
}
