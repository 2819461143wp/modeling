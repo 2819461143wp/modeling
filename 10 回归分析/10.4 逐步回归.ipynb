{
 "cells": [
  {
   "cell_type": "markdown",
   "metadata": {},
   "source": [
    "---\n",
    "> 逐步回归是从众多变量中有效地挑选重要变量的方法\n",
    "\n",
    "#### 1. 前进法\n",
    "每次引入一个使得统计量 $F$ 最大的自变量，直到所有未被引入方程的自变量的 $F$ 值均小于 $F_\\alpha(1, n-p-1)$，$p$ 为选入变量的个数\n",
    "#### 2. 后退法\n",
    "以所有自变量作为解释变量拟合方程，每一步都在未通过 $t$ 检验的自变量中选择一个 $\\left|t_j\\right|$ 值从模型中剔除，直至所有的自变量都通过 $t$ 检验\n",
    "#### 3. 逐步回归法\n",
    "基本思想是有进有出。将变量一个一个地引入，每引入一个自变量后，对已进入的变量进行检验，当原引入的变量由于后面变量的引入而变得不再显著时，要将其剔除。引入一个变量或从回归方程中剔除一个变量，为逐步回归的一步，每一步都要进行 $F$ 检验，以确保每次引入新的变量之前回归方程中只包含显著的变量。反复进行此过程，直到既无显著的自变量选入回归方程，又无显著的自变量从回归方程中剔除为止"
   ]
  },
  {
   "cell_type": "code",
   "execution_count": 1,
   "metadata": {},
   "outputs": [
    {
     "name": "stdout",
     "output_type": "stream",
     "text": [
      "                            OLS Regression Results                            \n",
      "==============================================================================\n",
      "Dep. Variable:                      y   R-squared:                       0.982\n",
      "Model:                            OLS   Adj. R-squared:                  0.974\n",
      "Method:                 Least Squares   F-statistic:                     111.5\n",
      "Date:                Sun, 21 Aug 2022   Prob (F-statistic):           4.76e-07\n",
      "Time:                        16:11:15   Log-Likelihood:                -26.918\n",
      "No. Observations:                  13   AIC:                             63.84\n",
      "Df Residuals:                       8   BIC:                             66.66\n",
      "Df Model:                           4                                         \n",
      "Covariance Type:            nonrobust                                         \n",
      "==============================================================================\n",
      "                 coef    std err          t      P>|t|      [0.025      0.975]\n",
      "------------------------------------------------------------------------------\n",
      "Intercept     62.4054     70.071      0.891      0.399     -99.179     223.989\n",
      "x1             1.5511      0.745      2.083      0.071      -0.166       3.269\n",
      "x2             0.5102      0.724      0.705      0.501      -1.159       2.179\n",
      "x3             0.1019      0.755      0.135      0.896      -1.638       1.842\n",
      "x4            -0.1441      0.709     -0.203      0.844      -1.779       1.491\n",
      "==============================================================================\n",
      "Omnibus:                        0.165   Durbin-Watson:                   2.053\n",
      "Prob(Omnibus):                  0.921   Jarque-Bera (JB):                0.320\n",
      "Skew:                           0.201   Prob(JB):                        0.852\n",
      "Kurtosis:                       2.345   Cond. No.                     6.06e+03\n",
      "==============================================================================\n",
      "\n",
      "Notes:\n",
      "[1] Standard Errors assume that the covariance matrix of the errors is correctly specified.\n",
      "[2] The condition number is large, 6.06e+03. This might indicate that there are\n",
      "strong multicollinearity or other numerical problems.\n"
     ]
    },
    {
     "name": "stderr",
     "output_type": "stream",
     "text": [
      "/home/zl/anaconda3/envs/mamo/lib/python3.9/site-packages/scipy/stats/_stats_py.py:1769: UserWarning: kurtosistest only valid for n>=20 ... continuing anyway, n=13\n",
      "  warnings.warn(\"kurtosistest only valid for n>=20 ... continuing \"\n"
     ]
    }
   ],
   "source": [
    "import numpy as np\n",
    "import statsmodels.formula.api as smf\n",
    "\n",
    "data = np.loadtxt('../../10第10章  回归分析/data10_6.txt')\n",
    "x1, x2, x3, x4, y = data.T\n",
    "mod_dic = {'x1': x1, 'x2': x2, 'x3': x3, 'x4': x4, 'y': y}\n",
    "mod1 = smf.ols('y~x1+x2+x3+x4', mod_dic).fit()\n",
    "print(mod1.summary())"
   ]
  },
  {
   "cell_type": "markdown",
   "metadata": {},
   "source": [
    "变量 $x_3$ 对应的统计量 $t_3$ 的绝对值最小，剔除"
   ]
  },
  {
   "cell_type": "code",
   "execution_count": 2,
   "metadata": {},
   "outputs": [
    {
     "name": "stdout",
     "output_type": "stream",
     "text": [
      "                            OLS Regression Results                            \n",
      "==============================================================================\n",
      "Dep. Variable:                      y   R-squared:                       0.982\n",
      "Model:                            OLS   Adj. R-squared:                  0.976\n",
      "Method:                 Least Squares   F-statistic:                     166.8\n",
      "Date:                Sun, 21 Aug 2022   Prob (F-statistic):           3.32e-08\n",
      "Time:                        16:11:15   Log-Likelihood:                -26.933\n",
      "No. Observations:                  13   AIC:                             61.87\n",
      "Df Residuals:                       9   BIC:                             64.13\n",
      "Df Model:                           3                                         \n",
      "Covariance Type:            nonrobust                                         \n",
      "==============================================================================\n",
      "                 coef    std err          t      P>|t|      [0.025      0.975]\n",
      "------------------------------------------------------------------------------\n",
      "Intercept     71.6483     14.142      5.066      0.001      39.656     103.641\n",
      "x1             1.4519      0.117     12.410      0.000       1.187       1.717\n",
      "x2             0.4161      0.186      2.242      0.052      -0.004       0.836\n",
      "x4            -0.2365      0.173     -1.365      0.205      -0.629       0.155\n",
      "==============================================================================\n",
      "Omnibus:                        0.211   Durbin-Watson:                   2.011\n",
      "Prob(Omnibus):                  0.900   Jarque-Bera (JB):                0.378\n",
      "Skew:                           0.202   Prob(JB):                        0.828\n",
      "Kurtosis:                       2.270   Cond. No.                     1.27e+03\n",
      "==============================================================================\n",
      "\n",
      "Notes:\n",
      "[1] Standard Errors assume that the covariance matrix of the errors is correctly specified.\n",
      "[2] The condition number is large, 1.27e+03. This might indicate that there are\n",
      "strong multicollinearity or other numerical problems.\n"
     ]
    },
    {
     "name": "stderr",
     "output_type": "stream",
     "text": [
      "/home/zl/anaconda3/envs/mamo/lib/python3.9/site-packages/scipy/stats/_stats_py.py:1769: UserWarning: kurtosistest only valid for n>=20 ... continuing anyway, n=13\n",
      "  warnings.warn(\"kurtosistest only valid for n>=20 ... continuing \"\n"
     ]
    }
   ],
   "source": [
    "mod2 = smf.ols('y~x1+x2+x4', mod_dic).fit()\n",
    "print(mod2.summary())"
   ]
  },
  {
   "cell_type": "markdown",
   "metadata": {},
   "source": [
    "变量 $x_4$ 对应的统计量 $t_4$ 的绝对值最小，剔除"
   ]
  },
  {
   "cell_type": "code",
   "execution_count": 3,
   "metadata": {},
   "outputs": [
    {
     "name": "stdout",
     "output_type": "stream",
     "text": [
      "                            OLS Regression Results                            \n",
      "==============================================================================\n",
      "Dep. Variable:                      y   R-squared:                       0.979\n",
      "Model:                            OLS   Adj. R-squared:                  0.974\n",
      "Method:                 Least Squares   F-statistic:                     229.5\n",
      "Date:                Sun, 21 Aug 2022   Prob (F-statistic):           4.41e-09\n",
      "Time:                        16:11:15   Log-Likelihood:                -28.156\n",
      "No. Observations:                  13   AIC:                             62.31\n",
      "Df Residuals:                      10   BIC:                             64.01\n",
      "Df Model:                           2                                         \n",
      "Covariance Type:            nonrobust                                         \n",
      "==============================================================================\n",
      "                 coef    std err          t      P>|t|      [0.025      0.975]\n",
      "------------------------------------------------------------------------------\n",
      "Intercept     52.5773      2.286     22.998      0.000      47.483      57.671\n",
      "x1             1.4683      0.121     12.105      0.000       1.198       1.739\n",
      "x2             0.6623      0.046     14.442      0.000       0.560       0.764\n",
      "==============================================================================\n",
      "Omnibus:                        1.509   Durbin-Watson:                   1.922\n",
      "Prob(Omnibus):                  0.470   Jarque-Bera (JB):                1.104\n",
      "Skew:                           0.503   Prob(JB):                        0.576\n",
      "Kurtosis:                       1.987   Cond. No.                         175.\n",
      "==============================================================================\n",
      "\n",
      "Notes:\n",
      "[1] Standard Errors assume that the covariance matrix of the errors is correctly specified.\n",
      "\n",
      "残差方差： 5.790448317611393\n"
     ]
    },
    {
     "name": "stderr",
     "output_type": "stream",
     "text": [
      "/home/zl/anaconda3/envs/mamo/lib/python3.9/site-packages/scipy/stats/_stats_py.py:1769: UserWarning: kurtosistest only valid for n>=20 ... continuing anyway, n=13\n",
      "  warnings.warn(\"kurtosistest only valid for n>=20 ... continuing \"\n"
     ]
    }
   ],
   "source": [
    "mod3 = smf.ols('y~x1+x2', mod_dic).fit()\n",
    "print(mod3.summary())\n",
    "print(\"\\n残差方差：\", mod3.mse_resid)"
   ]
  }
 ],
 "metadata": {
  "kernelspec": {
   "display_name": "Python 3.9.12 ('mamo')",
   "language": "python",
   "name": "python3"
  },
  "language_info": {
   "codemirror_mode": {
    "name": "ipython",
    "version": 3
   },
   "file_extension": ".py",
   "mimetype": "text/x-python",
   "name": "python",
   "nbconvert_exporter": "python",
   "pygments_lexer": "ipython3",
   "version": "3.9.12"
  },
  "orig_nbformat": 4,
  "vscode": {
   "interpreter": {
    "hash": "bc4866e053c759d6a7b6c75a6ee7f30413af3cb1408278924a32b7c27fdde7d0"
   }
  }
 },
 "nbformat": 4,
 "nbformat_minor": 2
}
