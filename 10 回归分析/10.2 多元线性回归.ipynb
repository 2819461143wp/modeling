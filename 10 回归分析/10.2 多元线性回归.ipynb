{
 "cells": [
  {
   "cell_type": "markdown",
   "metadata": {},
   "source": [
    "---\n",
    "### 10.2.1 多元线性回归理论\n",
    "$$y=\\beta_0+\\beta_1x_1+\\cdots+\\beta_mx_m+\\varepsilon$$\n",
    "### 10.2.2 多元线性回归应用"
   ]
  },
  {
   "cell_type": "code",
   "execution_count": 1,
   "metadata": {},
   "outputs": [],
   "source": [
    "import numpy as np\n",
    "import statsmodels.api as sm\n",
    "import matplotlib.pyplot as plt\n",
    "plt.rcParams['font.sans-serif']=['Times New Roman + SimSun + WFM Sans SC']\n",
    "plt.rcParams['mathtext.fontset']='stix'\n",
    "# Times New Roman + SimSun + WFM Sans SC\n",
    "# simsum宋体, times new roman -*, simhei黑体, kaiti楷体, \n",
    "# dengxian等线, fangsong仿宋, Microsoft Yahei微软雅黑\n",
    "plt.rcParams['axes.unicode_minus']=False   \n",
    "plt.rcParams['figure.dpi'] = 200\n",
    "# plt.rcParams['figure.figsize'] = [4, 3]\n",
    "# plt.rcParams['font.size'] = 12\n",
    "plt.rcParams['xtick.direction']='in'\n",
    "plt.rcParams['ytick.direction']='in'"
   ]
  },
  {
   "cell_type": "code",
   "execution_count": 2,
   "metadata": {},
   "outputs": [
    {
     "data": {
      "image/png": "[encoded data removed]",
      "text/plain": [
       "<Figure size 1200x800 with 1 Axes>"
      ]
     },
     "metadata": {
      "needs_background": "light"
     },
     "output_type": "display_data"
    }
   ],
   "source": [
    "data = np.loadtxt('../../10第10章  回归分析/data10_2.txt')\n",
    "x1, x2, y = data\n",
    "\n",
    "fig = plt.figure()\n",
    "ax = fig.add_subplot(111)\n",
    "ax.scatter(x1, y, marker='*', label='$x_1$')\n",
    "ax.scatter(x2, y, marker='^', label='$x_2$')\n",
    "ax.legend()\n",
    "fig.show()"
   ]
  },
  {
   "cell_type": "markdown",
   "metadata": {},
   "source": [
    "#### 基于公式构建并拟合模型\n",
    "```python\n",
    "sm.formula.ols(formula, data=df).fit()\n",
    "```\n",
    "其中 `formula` 为公式字符串，`df` 为 DataFrame 或字典格式的数据"
   ]
  },
  {
   "cell_type": "code",
   "execution_count": 3,
   "metadata": {},
   "outputs": [
    {
     "name": "stdout",
     "output_type": "stream",
     "text": [
      "                            OLS Regression Results                            \n",
      "==============================================================================\n",
      "Dep. Variable:                      y   R-squared:                       0.998\n",
      "Model:                            OLS   Adj. R-squared:                  0.997\n",
      "Method:                 Least Squares   F-statistic:                     1087.\n",
      "Date:                Sun, 21 Aug 2022   Prob (F-statistic):           2.52e-07\n",
      "Time:                        14:22:13   Log-Likelihood:               -0.34349\n",
      "No. Observations:                   8   AIC:                             6.687\n",
      "Df Residuals:                       5   BIC:                             6.925\n",
      "Df Model:                           2                                         \n",
      "Covariance Type:            nonrobust                                         \n",
      "==============================================================================\n",
      "                 coef    std err          t      P>|t|      [0.025      0.975]\n",
      "------------------------------------------------------------------------------\n",
      "Intercept    -10.6284      1.106     -9.607      0.000     -13.472      -7.785\n",
      "x1             2.8584      0.073     39.388      0.000       2.672       3.045\n",
      "x2             0.5494      0.113      4.868      0.005       0.259       0.840\n",
      "==============================================================================\n",
      "Omnibus:                        1.860   Durbin-Watson:                   2.253\n",
      "Prob(Omnibus):                  0.395   Jarque-Bera (JB):                0.732\n",
      "Skew:                           0.045   Prob(JB):                        0.694\n",
      "Kurtosis:                       1.521   Cond. No.                         139.\n",
      "==============================================================================\n",
      "\n",
      "Notes:\n",
      "[1] Standard Errors assume that the covariance matrix of the errors is correctly specified.\n",
      "\n",
      "残差的方差： 0.10207974705779002\n",
      "\n",
      "预测值：\n",
      "0    20.591832\n",
      "1    22.900808\n",
      "dtype: float64\n"
     ]
    },
    {
     "name": "stderr",
     "output_type": "stream",
     "text": [
      "/home/zl/anaconda3/envs/mamo/lib/python3.9/site-packages/scipy/stats/_stats_py.py:1769: UserWarning: kurtosistest only valid for n>=20 ... continuing anyway, n=8\n",
      "  warnings.warn(\"kurtosistest only valid for n>=20 ... continuing \"\n"
     ]
    }
   ],
   "source": [
    "mod_dic = {'x1': x1, 'x2': x2, 'y': y}\n",
    "mod = sm.formula.ols('y~x1+x2', mod_dic).fit()\n",
    "print(mod.summary())\n",
    "yhat = mod.predict({'x1': [9, 10], 'x2': [10, 9]})  # 分别预测 x1=9, x2=10 和 x1=10, x2=9 时 y 的值\n",
    "print(\"\\n残差的方差：\", mod.mse_resid)\n",
    "print(\"\\n预测值：\\n\", yhat, sep='')"
   ]
  },
  {
   "cell_type": "markdown",
   "metadata": {},
   "source": [
    "#### 基于数组构建并拟合模型\n",
    "```python\n",
    "sm.OLS(y, X).fit()\n",
    "```\n",
    "其中 `y` 为因变量的观察值向量，`X` 为自变量观测值矩阵左添一列 1 得到的增广矩阵"
   ]
  },
  {
   "cell_type": "code",
   "execution_count": 4,
   "metadata": {},
   "outputs": [
    {
     "data": {
      "text/plain": [
       "array([[ 1. ,  7.1, 11.1],\n",
       "       [ 1. ,  6.8, 10.8],\n",
       "       [ 1. ,  9.2, 12.4],\n",
       "       [ 1. , 11.4, 10.9],\n",
       "       [ 1. ,  8.7,  9.6],\n",
       "       [ 1. ,  6.6,  9. ],\n",
       "       [ 1. , 10.3, 10.5],\n",
       "       [ 1. , 10.6, 12.4]])"
      ]
     },
     "execution_count": 4,
     "metadata": {},
     "output_type": "execute_result"
    }
   ],
   "source": [
    "X = sm.add_constant(data[:2].T)\n",
    "X"
   ]
  },
  {
   "cell_type": "code",
   "execution_count": 5,
   "metadata": {},
   "outputs": [
    {
     "name": "stdout",
     "output_type": "stream",
     "text": [
      "                            OLS Regression Results                            \n",
      "==============================================================================\n",
      "Dep. Variable:                      y   R-squared:                       0.998\n",
      "Model:                            OLS   Adj. R-squared:                  0.997\n",
      "Method:                 Least Squares   F-statistic:                     1087.\n",
      "Date:                Sun, 21 Aug 2022   Prob (F-statistic):           2.52e-07\n",
      "Time:                        14:22:13   Log-Likelihood:               -0.34349\n",
      "No. Observations:                   8   AIC:                             6.687\n",
      "Df Residuals:                       5   BIC:                             6.925\n",
      "Df Model:                           2                                         \n",
      "Covariance Type:            nonrobust                                         \n",
      "==============================================================================\n",
      "                 coef    std err          t      P>|t|      [0.025      0.975]\n",
      "------------------------------------------------------------------------------\n",
      "const        -10.6284      1.106     -9.607      0.000     -13.472      -7.785\n",
      "x1             2.8584      0.073     39.388      0.000       2.672       3.045\n",
      "x2             0.5494      0.113      4.868      0.005       0.259       0.840\n",
      "==============================================================================\n",
      "Omnibus:                        1.860   Durbin-Watson:                   2.253\n",
      "Prob(Omnibus):                  0.395   Jarque-Bera (JB):                0.732\n",
      "Skew:                           0.045   Prob(JB):                        0.694\n",
      "Kurtosis:                       1.521   Cond. No.                         139.\n",
      "==============================================================================\n",
      "\n",
      "Notes:\n",
      "[1] Standard Errors assume that the covariance matrix of the errors is correctly specified.\n",
      "\n",
      "残差的方差： 0.10207974705779002\n",
      "\n",
      "预测值：\n",
      "[20.59183207 22.90080801]\n"
     ]
    },
    {
     "name": "stderr",
     "output_type": "stream",
     "text": [
      "/home/zl/anaconda3/envs/mamo/lib/python3.9/site-packages/scipy/stats/_stats_py.py:1769: UserWarning: kurtosistest only valid for n>=20 ... continuing anyway, n=8\n",
      "  warnings.warn(\"kurtosistest only valid for n>=20 ... continuing \"\n"
     ]
    }
   ],
   "source": [
    "mod = sm.OLS(data[-1], X).fit()\n",
    "print(mod.summary())\n",
    "yhat = mod.predict(np.array([[1, 9, 10], [1, 10, 9]]))\n",
    "print(\"\\n残差的方差：\", mod.mse_resid)\n",
    "print(\"\\n预测值：\\n\", yhat, sep='')"
   ]
  }
 ],
 "metadata": {
  "kernelspec": {
   "display_name": "Python 3.9.12 ('mamo')",
   "language": "python",
   "name": "python3"
  },
  "language_info": {
   "codemirror_mode": {
    "name": "ipython",
    "version": 3
   },
   "file_extension": ".py",
   "mimetype": "text/x-python",
   "name": "python",
   "nbconvert_exporter": "python",
   "pygments_lexer": "ipython3",
   "version": "3.9.12"
  },
  "orig_nbformat": 4,
  "vscode": {
   "interpreter": {
    "hash": "bc4866e053c759d6a7b6c75a6ee7f30413af3cb1408278924a32b7c27fdde7d0"
   }
  }
 },
 "nbformat": 4,
 "nbformat_minor": 2
}
