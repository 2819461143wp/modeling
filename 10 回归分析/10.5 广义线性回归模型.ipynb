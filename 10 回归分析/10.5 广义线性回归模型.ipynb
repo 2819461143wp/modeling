{
 "cells": [
  {
   "cell_type": "markdown",
   "metadata": {},
   "source": [
    "---\n",
    "对于线性模型\n",
    "$$y=\\beta_0+\\beta_1x_1+\\cdots+\\beta_mx_m+\\varepsilon$$\n",
    "令 $\\mu=E(y)$，则\n",
    "$$\\mu=\\beta_0+\\beta_1x_1+\\cdots+\\beta_mx_m$$\n",
    "广义线性模型 (GLM) 将上式推广为\n",
    "$$\\eta=g(\\mu)=\\beta_0+\\beta_1x_1+\\cdots+\\beta_mx_m$$\n",
    "故有如下三个概念：\n",
    "1. 线性自变量：$\\beta_0+\\beta_1x_1+\\cdots+\\beta_mx_m$\n",
    "2. 连接函数：$\\eta=g(\\mu)$\n",
    "3. 误差函数，即模型的随机部分，可从指数型分布族中选择误差函数\n",
    "\n",
    "常见的连接函数和误差函数\n",
    "|           |       连接函数        |         逆连接函数（回归模型）         | 典型误差函数  |\n",
    "| :-------: | :-------------------: | :------------------------------------: | :-----------: |\n",
    "| **恒等**  |      $\\eta=\\mu$       |               $\\mu=\\eta$               |   正态分布    |\n",
    "| **对数**  |     $\\eta=\\ln\\mu$     |            $\\mu=\\exp(\\eta)$            |   泊松分布    |\n",
    "| **Logit** | $\\eta=\\rm logit \\mu$  | $\\mu=\\dfrac{\\exp(\\eta)}{1+\\exp(\\eta)}$ |   二项分布    |\n",
    "|  **逆**   | $\\eta=\\dfrac{1}{\\mu}$ |         $\\mu=\\dfrac{1}{\\eta}$          | $\\Gamma$ 分布 |"
   ]
  },
  {
   "cell_type": "markdown",
   "metadata": {},
   "source": [
    "### 10.5.1 分组数据的 Logistic 回归模型\n",
    "Logistic 回归方程为\n",
    "$$p_i=\\dfrac{{\\rm e}^{\\beta_0+\\beta_1x_i}}{1+{\\rm e}^{\\beta_0+\\beta_1x_i}}=\\dfrac{1}{1+{\\rm e}^{-\\beta_0-\\beta_1x_i}}$$\n",
    "对以上回归方程进行线性化变换（这里为逻辑变换），令\n",
    "$$p_i^*=\\ln\\left(\\dfrac{p_i}{1-p_i}\\right)$$\n",
    "变换后的线性回归模型为\n",
    "$$p^*=\\beta_0+\\beta_1x$$"
   ]
  },
  {
   "cell_type": "code",
   "execution_count": 1,
   "metadata": {},
   "outputs": [
    {
     "name": "stdout",
     "output_type": "stream",
     "text": [
      "                            OLS Regression Results                            \n",
      "==============================================================================\n",
      "Dep. Variable:                      y   R-squared:                       0.924\n",
      "Model:                            OLS   Adj. R-squared:                  0.913\n",
      "Method:                 Least Squares   F-statistic:                     85.42\n",
      "Date:                Sun, 21 Aug 2022   Prob (F-statistic):           3.59e-05\n",
      "Time:                        20:06:16   Log-Likelihood:                 6.6829\n",
      "No. Observations:                   9   AIC:                            -9.366\n",
      "Df Residuals:                       7   BIC:                            -8.971\n",
      "Df Model:                           1                                         \n",
      "Covariance Type:            nonrobust                                         \n",
      "==============================================================================\n",
      "                 coef    std err          t      P>|t|      [0.025      0.975]\n",
      "------------------------------------------------------------------------------\n",
      "const         -0.8863      0.102     -8.653      0.000      -1.128      -0.644\n",
      "x1             0.1558      0.017      9.242      0.000       0.116       0.196\n",
      "==============================================================================\n",
      "Omnibus:                        5.866   Durbin-Watson:                   2.311\n",
      "Prob(Omnibus):                  0.053   Jarque-Bera (JB):                1.209\n",
      "Skew:                          -0.036   Prob(JB):                        0.546\n",
      "Kurtosis:                       1.206   Cond. No.                         14.6\n",
      "==============================================================================\n",
      "\n",
      "Notes:\n",
      "[1] Standard Errors assume that the covariance matrix of the errors is correctly specified.\n",
      "\n",
      "年收入为9万元的客户买房的比例为： 0.6261892575657522\n"
     ]
    },
    {
     "name": "stderr",
     "output_type": "stream",
     "text": [
      "/home/zl/anaconda3/envs/mamo/lib/python3.9/site-packages/scipy/stats/_stats_py.py:1769: UserWarning: kurtosistest only valid for n>=20 ... continuing anyway, n=9\n",
      "  warnings.warn(\"kurtosistest only valid for n>=20 ... continuing \"\n"
     ]
    }
   ],
   "source": [
    "import numpy as np\n",
    "import statsmodels.api as sm\n",
    "\n",
    "data = np.loadtxt(\"../../10第10章  回归分析/data10_7_1.txt\")\n",
    "x, n, m = data.T\n",
    "p = m/n\n",
    "y = np.log(p/(1-p))     # 进行逻辑变换\n",
    "X = sm.add_constant(x)\n",
    "mod = sm.OLS(y, X).fit()\n",
    "print(mod.summary())\n",
    "\n",
    "yhat = mod.predict([1, 9])\n",
    "phat = np.exp(yhat)/(1+np.exp(yhat))    # 化回原方程\n",
    "print(\"\\n年收入为9万元的客户买房的比例为：\", phat[0])"
   ]
  },
  {
   "cell_type": "markdown",
   "metadata": {},
   "source": [
    "#### glm 实现\n",
    "```python\n",
    "glm(formula, data, family=None)\n",
    "```\n",
    "`family` 的取值是分布类型，其中的分布可以为 `Binomial`、`Gamma`、`Gaussian`、`InverseGaussian`、`NegativeBinomial` 等"
   ]
  },
  {
   "cell_type": "code",
   "execution_count": 2,
   "metadata": {},
   "outputs": [
    {
     "name": "stdout",
     "output_type": "stream",
     "text": [
      "                 Generalized Linear Model Regression Results                  \n",
      "==============================================================================\n",
      "Dep. Variable:       ['y[0]', 'y[1]']   No. Observations:                    9\n",
      "Model:                            GLM   Df Residuals:                        7\n",
      "Model Family:                Binomial   Df Model:                            1\n",
      "Link Function:                  Logit   Scale:                          1.0000\n",
      "Method:                          IRLS   Log-Likelihood:                -18.046\n",
      "Date:                Sun, 21 Aug 2022   Deviance:                       1.0467\n",
      "Time:                        20:06:16   Pearson chi2:                     1.05\n",
      "No. Iterations:                     3   Pseudo R-squ. (CS):             0.5931\n",
      "Covariance Type:            nonrobust                                         \n",
      "==============================================================================\n",
      "                 coef    std err          z      P>|z|      [0.025      0.975]\n",
      "------------------------------------------------------------------------------\n",
      "Intercept     -0.8518      0.293     -2.906      0.004      -1.426      -0.277\n",
      "x              0.1498      0.053      2.805      0.005       0.045       0.254\n",
      "==============================================================================\n",
      "\n",
      "年收入为9万元的客户买房的比例为： 0.6216645497238547\n"
     ]
    }
   ],
   "source": [
    "x = data[:, 0]\n",
    "pos = data[:, 2]\n",
    "neg = data[:, 1] - data[:, 2]\n",
    "y = np.vstack([pos, neg]).T     # 第一列为成功的次数，第二列为失败的次数\n",
    "mod_dic = {'x': x, 'y': y}\n",
    "mod = sm.formula.glm('y~x', mod_dic, family=sm.families.Binomial()).fit()\n",
    "print(mod.summary())\n",
    "phat = mod.predict({'x': 9})[0]\n",
    "print(\"\\n年收入为9万元的客户买房的比例为：\", phat)"
   ]
  },
  {
   "cell_type": "markdown",
   "metadata": {},
   "source": [
    "利用 `glm()` 求得的 Logistic 回归模型为\n",
    "$$\\hat p=\\dfrac{1}{1+{\\rm e}^{0.8518-0.1498x}}$$"
   ]
  },
  {
   "cell_type": "markdown",
   "metadata": {},
   "source": [
    "### 10.5.2 未分组数据的 Logistic 回归模型"
   ]
  },
  {
   "cell_type": "code",
   "execution_count": 3,
   "metadata": {},
   "outputs": [
    {
     "name": "stdout",
     "output_type": "stream",
     "text": [
      "Optimization terminated successfully.\n",
      "         Current function value: 0.463762\n",
      "         Iterations 7\n",
      "                           Logit Regression Results                           \n",
      "==============================================================================\n",
      "Dep. Variable:                      y   No. Observations:                   28\n",
      "Model:                          Logit   Df Residuals:                       24\n",
      "Method:                           MLE   Df Model:                            3\n",
      "Date:                Sun, 21 Aug 2022   Pseudo R-squ.:                  0.3285\n",
      "Time:                        20:06:16   Log-Likelihood:                -12.985\n",
      "converged:                       True   LL-Null:                       -19.337\n",
      "Covariance Type:            nonrobust   LLR p-value:                  0.005326\n",
      "==============================================================================\n",
      "                 coef    std err          z      P>|z|      [0.025      0.975]\n",
      "------------------------------------------------------------------------------\n",
      "Intercept     -3.6550      2.091     -1.748      0.081      -7.754       0.444\n",
      "x1             0.0822      0.052      1.577      0.115      -0.020       0.184\n",
      "x2             0.0015      0.002      0.813      0.416      -0.002       0.005\n",
      "x3            -2.5018      1.158     -2.161      0.031      -4.771      -0.233\n",
      "==============================================================================\n",
      "\n",
      "\n",
      "\n",
      "\n",
      "Optimization terminated successfully.\n",
      "         Current function value: 0.475938\n",
      "         Iterations 6\n",
      "                           Logit Regression Results                           \n",
      "==============================================================================\n",
      "Dep. Variable:                      y   No. Observations:                   28\n",
      "Model:                          Logit   Df Residuals:                       25\n",
      "Method:                           MLE   Df Model:                            2\n",
      "Date:                Sun, 21 Aug 2022   Pseudo R-squ.:                  0.3108\n",
      "Time:                        20:06:16   Log-Likelihood:                -13.326\n",
      "converged:                       True   LL-Null:                       -19.337\n",
      "Covariance Type:            nonrobust   LLR p-value:                  0.002453\n",
      "==============================================================================\n",
      "                 coef    std err          z      P>|z|      [0.025      0.975]\n",
      "------------------------------------------------------------------------------\n",
      "Intercept     -2.6285      1.554     -1.692      0.091      -5.674       0.417\n",
      "x1             0.1023      0.046      2.233      0.026       0.012       0.192\n",
      "x3            -2.2239      1.048     -2.123      0.034      -4.277      -0.171\n",
      "==============================================================================\n"
     ]
    }
   ],
   "source": [
    "data = np.loadtxt('../../10第10章  回归分析/data10_8.txt')\n",
    "data = np.vstack([data[:, :5], data[:, 5:]])\n",
    "ind, x1, x2, x3, y = data.T\n",
    "mod_dic = {'x1': x1, 'x2': x2, 'x3': x3, 'y':y}\n",
    "mod = sm.formula.logit('y~x1+x2+x3', mod_dic).fit()\n",
    "print(mod.summary())        # x2 的 Z 统计量小，不显著\n",
    "print('\\n\\n\\n')\n",
    "mod1 = sm.formula.logit('y~x1+x3', mod_dic).fit()\n",
    "print(mod1.summary())"
   ]
  },
  {
   "cell_type": "markdown",
   "metadata": {},
   "source": [
    "#### glm 实现"
   ]
  },
  {
   "cell_type": "code",
   "execution_count": 4,
   "metadata": {},
   "outputs": [
    {
     "name": "stdout",
     "output_type": "stream",
     "text": [
      "                 Generalized Linear Model Regression Results                  \n",
      "==============================================================================\n",
      "Dep. Variable:                      y   No. Observations:                   28\n",
      "Model:                            GLM   Df Residuals:                       24\n",
      "Model Family:                Binomial   Df Model:                            3\n",
      "Link Function:                  Logit   Scale:                          1.0000\n",
      "Method:                          IRLS   Log-Likelihood:                -12.985\n",
      "Date:                Sun, 21 Aug 2022   Deviance:                       25.971\n",
      "Time:                        20:06:16   Pearson chi2:                     29.1\n",
      "No. Iterations:                     5   Pseudo R-squ. (CS):             0.3647\n",
      "Covariance Type:            nonrobust                                         \n",
      "==============================================================================\n",
      "                 coef    std err          z      P>|z|      [0.025      0.975]\n",
      "------------------------------------------------------------------------------\n",
      "Intercept     -3.6550      2.091     -1.748      0.080      -7.754       0.444\n",
      "x1             0.0822      0.052      1.577      0.115      -0.020       0.184\n",
      "x2             0.0015      0.002      0.813      0.416      -0.002       0.005\n",
      "x3            -2.5018      1.158     -2.161      0.031      -4.771      -0.233\n",
      "==============================================================================\n",
      "\n",
      "\n",
      "\n",
      "\n",
      "                 Generalized Linear Model Regression Results                  \n",
      "==============================================================================\n",
      "Dep. Variable:                      y   No. Observations:                   28\n",
      "Model:                            GLM   Df Residuals:                       25\n",
      "Model Family:                Binomial   Df Model:                            2\n",
      "Link Function:                  Logit   Scale:                          1.0000\n",
      "Method:                          IRLS   Log-Likelihood:                -13.326\n",
      "Date:                Sun, 21 Aug 2022   Deviance:                       26.653\n",
      "Time:                        20:06:16   Pearson chi2:                     28.2\n",
      "No. Iterations:                     5   Pseudo R-squ. (CS):             0.3490\n",
      "Covariance Type:            nonrobust                                         \n",
      "==============================================================================\n",
      "                 coef    std err          z      P>|z|      [0.025      0.975]\n",
      "------------------------------------------------------------------------------\n",
      "Intercept     -2.6285      1.554     -1.692      0.091      -5.674       0.417\n",
      "x1             0.1023      0.046      2.233      0.026       0.012       0.192\n",
      "x3            -2.2239      1.048     -2.123      0.034      -4.277      -0.171\n",
      "==============================================================================\n"
     ]
    }
   ],
   "source": [
    "mod = sm.formula.glm('y~x1+x2+x3', mod_dic, family=sm.families.Binomial()).fit()\n",
    "print(mod.summary())\n",
    "print('\\n\\n\\n')\n",
    "mod1 = sm.formula.glm('y~x1+x3', mod_dic, family=sm.families.Binomial()).fit()\n",
    "print(mod1.summary())"
   ]
  },
  {
   "cell_type": "markdown",
   "metadata": {},
   "source": [
    "### 10.5.3 Probit 回归模型\n",
    "假设随机扰动服从标准正态分布，回归函数为 \n",
    "$$\\Phi^{-1}(\\pi_i)=\\beta_0+\\beta_1x_{i1}+\\cdots+\\beta_mx_{im}$$\n",
    "其中 $\\Phi(x)$ 为标准正态分布的分布函数。用样本比例 $p_i$ 替代概率 $\\pi_i$，表示为样本回归模型\n",
    "$$\\Phi^{-1}(p_i)=\\beta_0+\\beta_1x_{i1}+\\cdots+\\beta_mx_{im}$$"
   ]
  },
  {
   "cell_type": "code",
   "execution_count": 5,
   "metadata": {},
   "outputs": [
    {
     "name": "stdout",
     "output_type": "stream",
     "text": [
      "                            OLS Regression Results                            \n",
      "==============================================================================\n",
      "Dep. Variable:                      y   R-squared:                       0.925\n",
      "Model:                            OLS   Adj. R-squared:                  0.914\n",
      "Method:                 Least Squares   F-statistic:                     86.12\n",
      "Date:                Sun, 21 Aug 2022   Prob (F-statistic):           3.49e-05\n",
      "Time:                        20:06:16   Log-Likelihood:                 10.983\n",
      "No. Observations:                   9   AIC:                            -17.97\n",
      "Df Residuals:                       7   BIC:                            -17.57\n",
      "Df Model:                           1                                         \n",
      "Covariance Type:            nonrobust                                         \n",
      "==============================================================================\n",
      "                 coef    std err          t      P>|t|      [0.025      0.975]\n",
      "------------------------------------------------------------------------------\n",
      "const         -0.5518      0.064     -8.688      0.000      -0.702      -0.402\n",
      "x1             0.0970      0.010      9.280      0.000       0.072       0.122\n",
      "==============================================================================\n",
      "Omnibus:                        5.822   Durbin-Watson:                   2.314\n",
      "Prob(Omnibus):                  0.054   Jarque-Bera (JB):                1.205\n",
      "Skew:                          -0.039   Prob(JB):                        0.547\n",
      "Kurtosis:                       1.209   Cond. No.                         14.6\n",
      "==============================================================================\n",
      "\n",
      "Notes:\n",
      "[1] Standard Errors assume that the covariance matrix of the errors is correctly specified.\n",
      "\n",
      "年收入为9万元的客户买房的比例为： 0.6260025817914694\n"
     ]
    },
    {
     "name": "stderr",
     "output_type": "stream",
     "text": [
      "/home/zl/anaconda3/envs/mamo/lib/python3.9/site-packages/scipy/stats/_stats_py.py:1769: UserWarning: kurtosistest only valid for n>=20 ... continuing anyway, n=9\n",
      "  warnings.warn(\"kurtosistest only valid for n>=20 ... continuing \"\n"
     ]
    }
   ],
   "source": [
    "from scipy.stats import norm\n",
    "\n",
    "data = np.loadtxt('../../10第10章  回归分析/data10_7_1.txt')\n",
    "x, n, m = data.T\n",
    "p = m/n\n",
    "y = norm.ppf(p)     # Probit 变换\n",
    "X = sm.add_constant(x)\n",
    "mod = sm.OLS(y, X).fit()\n",
    "print(mod.summary())\n",
    "\n",
    "yhat = mod.predict([1, 9])\n",
    "phat = norm.cdf(yhat)\n",
    "print(\"\\n年收入为9万元的客户买房的比例为：\", phat[0])"
   ]
  },
  {
   "cell_type": "markdown",
   "metadata": {},
   "source": [
    "### 10.5.4 Logistic 回归模型的应用\n",
    "#### 1. Logistic 模型的参数解释\n",
    "一般地，如果 Logistic 模型\n",
    "$$\\ln{\\dfrac{p}{1-p}}=\\beta_0+\\sum\\limits_{j=1}^m\\beta_jx_j$$\n",
    "的参数估计为 $\\hat\\beta_0,\\hat\\beta_1,\\cdots,\\hat\\beta_m$，则在 $x_1=x_{01},x_2=x_{02},\\cdots,x_m=x_{0m}$ 条件下事件赔率 (odds) 的估计值为\n",
    "$$\\dfrac{\\hat p_0}{1-\\hat p_0}={\\rm e}^{\\hat\\beta_0+\\sum\\limits_{j=1}^m\\hat\\beta_jx_{0j}}$$\n",
    "如果记 $\\boldsymbol X_A=\\left[1,x_{A1},x_{A2},\\cdots,x_{Am}\\right]^{\\rm T}$，$\\boldsymbol X_B=\\left[1,x_{B1},x_{B2},\\cdots,x_{Bm}\\right]^{\\rm T}$，并将相应条件下的事件仍记为 $\\boldsymbol X_A, \\boldsymbol X_B$，则事件 $\\boldsymbol X_A$ 对 $\\boldsymbol X_B$ 赔率比的估计可由下式获得\n",
    "$${\\rm OR}\\left(\\boldsymbol X_A, \\boldsymbol X_B\\right)={\\rm e}^{\\sum\\limits_{j=1}^m\\hat\\beta_j\\left(x_{Aj}-x_{Bj}\\right)}$$"
   ]
  },
  {
   "cell_type": "markdown",
   "metadata": {},
   "source": [
    "#### 2. Logistic 回归模型实例"
   ]
  },
  {
   "cell_type": "code",
   "execution_count": 6,
   "metadata": {},
   "outputs": [
    {
     "name": "stdout",
     "output_type": "stream",
     "text": [
      "Optimization terminated successfully.\n",
      "         Current function value: 0.000002\n",
      "         Iterations: 18\n",
      "         Function evaluations: 21\n",
      "         Gradient evaluations: 21\n",
      "                           Logit Regression Results                           \n",
      "==============================================================================\n",
      "Dep. Variable:                      y   No. Observations:                   20\n",
      "Model:                          Logit   Df Residuals:                       16\n",
      "Method:                           MLE   Df Model:                            3\n",
      "Date:                Sun, 21 Aug 2022   Pseudo R-squ.:                   1.000\n",
      "Time:                        20:06:16   Log-Likelihood:            -4.6326e-05\n",
      "converged:                       True   LL-Null:                       -13.863\n",
      "Covariance Type:            nonrobust   LLR p-value:                 4.147e-06\n",
      "==============================================================================\n",
      "                 coef    std err          z      P>|z|      [0.025      0.975]\n",
      "------------------------------------------------------------------------------\n",
      "Intercept     -1.3319   3.05e+04  -4.37e-05      1.000   -5.97e+04    5.97e+04\n",
      "x1            -0.3069    306.235     -0.001      0.999    -600.516     599.902\n",
      "x2             2.9269   3153.796      0.001      0.999   -6178.399    6184.253\n",
      "x3             2.3689    1.7e+04      0.000      1.000   -3.33e+04    3.33e+04\n",
      "==============================================================================\n",
      "\n",
      "Complete Separation: The results show that there iscomplete separation.\n",
      "In this case the Maximum Likelihood Estimator does not exist and the parameters\n",
      "are not identified.\n"
     ]
    }
   ],
   "source": [
    "data = np.loadtxt('../../10第10章  回归分析/data10_11.txt')\n",
    "x1, x2, x3, y = data.T\n",
    "mod_dic = {'x1': x1, 'x2': x2, 'x3': x3, 'y': y}\n",
    "mod = sm.formula.logit('y~x1+x2+x3', mod_dic).fit(method='bfgs')    # 使用默认牛顿方法出错\n",
    "print(mod.summary())"
   ]
  },
  {
   "cell_type": "code",
   "execution_count": 7,
   "metadata": {},
   "outputs": [
    {
     "data": {
      "text/plain": [
       "0    2.655616e-16\n",
       "1    1.000000e+00\n",
       "dtype: float64"
      ]
     },
     "execution_count": 7,
     "metadata": {},
     "output_type": "execute_result"
    }
   ],
   "source": [
    "phat = mod.predict({'x1': [-49.2, 40.6], 'x2': [-17.2, 26.4], 'x3': [0.3, 1.8]})\n",
    "phat"
   ]
  }
 ],
 "metadata": {
  "kernelspec": {
   "display_name": "Python 3.9.12 ('mamo')",
   "language": "python",
   "name": "python3"
  },
  "language_info": {
   "codemirror_mode": {
    "name": "ipython",
    "version": 3
   },
   "file_extension": ".py",
   "mimetype": "text/x-python",
   "name": "python",
   "nbconvert_exporter": "python",
   "pygments_lexer": "ipython3",
   "version": "3.9.12"
  },
  "orig_nbformat": 4,
  "vscode": {
   "interpreter": {
    "hash": "bc4866e053c759d6a7b6c75a6ee7f30413af3cb1408278924a32b7c27fdde7d0"
   }
  }
 },
 "nbformat": 4,
 "nbformat_minor": 2
}
