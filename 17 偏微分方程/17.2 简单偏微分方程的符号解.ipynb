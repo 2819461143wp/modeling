{
 "cells": [
  {
   "cell_type": "code",
   "execution_count": 1,
   "metadata": {},
   "outputs": [],
   "source": [
    "import sympy as sp"
   ]
  },
  {
   "cell_type": "markdown",
   "metadata": {},
   "source": [
    "### 1"
   ]
  },
  {
   "cell_type": "code",
   "execution_count": 2,
   "metadata": {},
   "outputs": [
    {
     "data": {
      "text/latex": [
       "$\\displaystyle f{\\left(x,y \\right)} = F{\\left(- a y + b x \\right)} e^{- \\frac{c \\left(a x + b y\\right)}{a^{2} + b^{2}}}$"
      ],
      "text/plain": [
       "Eq(f(x, y), F(-a*y + b*x)*exp(-c*(a*x + b*y)/(a**2 + b**2)))"
      ]
     },
     "execution_count": 2,
     "metadata": {},
     "output_type": "execute_result"
    }
   ],
   "source": [
    "f = sp.Function('f')\n",
    "x, y, a, b, c = sp.symbols('x, y, a, b, c')\n",
    "u = f(x, y)\n",
    "eq = sp.Eq(a*u.diff(x) + b*u.diff(y) + c*u, 0)\n",
    "sp.pdsolve(eq)"
   ]
  },
  {
   "cell_type": "markdown",
   "metadata": {},
   "source": [
    "### 2"
   ]
  },
  {
   "cell_type": "code",
   "execution_count": 3,
   "metadata": {},
   "outputs": [
    {
     "data": {
      "text/latex": [
       "$\\displaystyle f{\\left(x,y \\right)} = \\frac{\\left(\\left(a^{2} + b^{2}\\right) F{\\left(- a y + b x \\right)} + \\int\\limits^{a x + b y} G{\\left(- \\frac{a b y}{a^{2} + b^{2}} + \\frac{a \\xi}{a^{2} + b^{2}} + \\frac{b^{2} x}{a^{2} + b^{2}},\\frac{a^{2} y}{a^{2} + b^{2}} - \\frac{a b x}{a^{2} + b^{2}} + \\frac{b \\xi}{a^{2} + b^{2}} \\right)} e^{\\frac{c \\xi}{a^{2} + b^{2}}}\\, d\\xi\\right) e^{- \\frac{c \\left(a x + b y\\right)}{a^{2} + b^{2}}}}{a^{2} + b^{2}}$"
      ],
      "text/plain": [
       "Eq(f(x, y), ((a**2 + b**2)*F(-a*y + b*x) + Integral(G(-a*b*y/(a**2 + b**2) + a*xi/(a**2 + b**2) + b**2*x/(a**2 + b**2), a**2*y/(a**2 + b**2) - a*b*x/(a**2 + b**2) + b*xi/(a**2 + b**2))*exp(c*xi/(a**2 + b**2)), (xi, a*x + b*y)))*exp(-c*(a*x + b*y)/(a**2 + b**2))/(a**2 + b**2))"
      ]
     },
     "execution_count": 3,
     "metadata": {},
     "output_type": "execute_result"
    }
   ],
   "source": [
    "f, G = sp.symbols('f, G', cls=sp.Function)\n",
    "x, y, a, b, c = sp.symbols('x, y, a, b, c')\n",
    "u = f(x, y)\n",
    "eq = sp.Eq(a*u.diff(x) + b*u.diff(y) + c*u, G(x, y))\n",
    "sp.pdsolve(eq)"
   ]
  },
  {
   "cell_type": "markdown",
   "metadata": {},
   "source": [
    "### 3"
   ]
  },
  {
   "cell_type": "code",
   "execution_count": 4,
   "metadata": {},
   "outputs": [
    {
     "data": {
      "text/latex": [
       "$\\displaystyle f{\\left(x,y \\right)} = F{\\left(x y \\right)} e^{\\frac{y^{2}}{2}} + 1$"
      ],
      "text/plain": [
       "Eq(f(x, y), F(x*y)*exp(y**2/2) + 1)"
      ]
     },
     "execution_count": 4,
     "metadata": {},
     "output_type": "execute_result"
    }
   ],
   "source": [
    "f = sp.Function('f')\n",
    "x, y = sp.symbols('x, y')\n",
    "u = f(x, y)\n",
    "eq = sp.Eq(x*u.diff(x) - y*u.diff(y) + y**2*u, y**2)\n",
    "sp.pdsolve(eq)"
   ]
  }
 ],
 "metadata": {
  "kernelspec": {
   "display_name": "Python 3.9.12 ('mamo')",
   "language": "python",
   "name": "python3"
  },
  "language_info": {
   "codemirror_mode": {
    "name": "ipython",
    "version": 3
   },
   "file_extension": ".py",
   "mimetype": "text/x-python",
   "name": "python",
   "nbconvert_exporter": "python",
   "pygments_lexer": "ipython3",
   "version": "3.9.12"
  },
  "orig_nbformat": 4,
  "vscode": {
   "interpreter": {
    "hash": "bc4866e053c759d6a7b6c75a6ee7f30413af3cb1408278924a32b7c27fdde7d0"
   }
  }
 },
 "nbformat": 4,
 "nbformat_minor": 2
}
