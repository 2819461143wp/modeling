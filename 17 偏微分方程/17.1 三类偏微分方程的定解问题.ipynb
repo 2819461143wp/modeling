{
 "cells": [
  {
   "cell_type": "markdown",
   "metadata": {},
   "source": [
    "> 含有多元未知函数及其偏导数的方程，称为偏微分方程"
   ]
  },
  {
   "cell_type": "markdown",
   "metadata": {},
   "source": [
    "---\n",
    "### 1. 椭圆型偏微分方程\n",
    "各种物理性质的定常（不随时间变化）过程，都可以用椭圆型方程描述\n",
    "> 带有稳定热源或内部无热源的稳定温度场的温度分布、不可压缩流体的稳定无旋流动、静电场的电势等，均满足这类方程\n",
    "\n",
    "如泊松 (Poisson) 方程\n",
    "$$\n",
    "\\Delta u=\\dfrac{\\partial^2u}{\\partial x^2} + \\dfrac{\\partial^2 u}{\\partial y^2}=f(x,y)\n",
    "$$\n",
    "特别地，当 $f(x,y)\\equiv0$ 时，即为拉普拉斯 (Laplace) 方程，又称调和方程\n",
    "$$\n",
    "\\Delta u=\\dfrac{\\partial^2u}{\\partial x^2} + \\dfrac{\\partial^2 u}{\\partial y^2}=0\n",
    "$$"
   ]
  },
  {
   "cell_type": "markdown",
   "metadata": {},
   "source": [
    "**第一边值问题**（狄利克雷问题）：寻找一个函数，使其为给定区域内一个指定的偏微分方程（PDE）的解，且在边界上取预定值\n",
    "\n",
    "**第二边值问题**（诺伊曼边值问题/斜微商问题）：给出未知函数关于区域边界的法向导数或非切向导数\n",
    "\n",
    "**第三边值问题**（鲁宾问题）：给出未知函数及其非切向导数的组合\n",
    "\n",
    "泊松方程的第一边值问题为\n",
    "$$\n",
    "\\begin{cases}\n",
    "\\dfrac{\\partial^2u}{\\partial x^2} + \\dfrac{\\partial^2 u}{\\partial y^2}=f(x,y),\\quad (x,y)\\in \\Omega\\\\[2ex]\n",
    "\\left. u(x,y)\\right|_{(x,y)\\in \\Gamma}=\\phi(x, y),\\quad \\Gamma=\\partial\\Omega\n",
    "\\end{cases}\n",
    "$$\n",
    "式中， $\\Omega$ 为以 $\\Gamma$ 为边界的有界区域，$\\Gamma$ 为分段光滑曲线，$\\Omega\\cup\\Gamma$ 为定解区域，$f(x, y),\\phi(x, y)$ 分别为 $\\Omega$、$\\Gamma$ 上的已知连续函数"
   ]
  },
  {
   "cell_type": "markdown",
   "metadata": {},
   "source": [
    "第二类和第三类边值条件可统一表示为\n",
    "$$\n",
    "\\left.\\left(\\dfrac{\\partial u}{\\partial n}+\\alpha u\\right)\\right|_{(x,y)\\in\\Gamma}=\\phi(x, y)\n",
    "$$\n",
    "式中，$n$ 为边界 $\\Gamma$ 的外法方向，当 $\\alpha=0$ 时为第二类边值条件，当 $\\alpha\\neq0$ 时为第三类边值条件"
   ]
  },
  {
   "cell_type": "markdown",
   "metadata": {},
   "source": [
    "### 2. 抛物型偏微分方程\n",
    "在研究热传导过程、气体扩散现象及电磁场的传播等随时间变化的非定常物理问题时，常常会遇到抛物型方程，其最简单的形式是一维热传导方程\n",
    "$$\n",
    "\\dfrac{\\partial u}{\\partial t}-a\\dfrac{\\partial^2u}{\\partial x^2}=0,\\quad a>0\n",
    "$$\n",
    "此方程有两种定解问题：\n",
    "\n",
    "初值问题（Cauchy 问题）\n",
    "$$\n",
    "\\begin{cases}\n",
    "\\dfrac{\\partial u}{\\partial t}-a\\dfrac{\\partial^2u}{\\partial x^2}=0,\\quad &t>0,\\ -\\infty<x<+\\infty\\\\[2ex]\n",
    "u(x,0)=\\phi(x),\\quad &-\\infty<x<+\\infty\\\\\n",
    "\\end{cases}\n",
    "$$\n",
    "初边值问题\n",
    "$$\n",
    "\\begin{cases}\n",
    "\\dfrac{\\partial u}{\\partial t}-a\\dfrac{\\partial^2u}{\\partial x^2}=0,\\quad &0<t<T,\\ 0<x<l\\\\[2ex]\n",
    "u(x,0)=\\phi(x),\\quad &0\\leq x\\leq l\\\\\n",
    "u(0,t)=g_1(t),\\ u(l,t)=g_2(t),\\quad &0\\leq t\\leq T\n",
    "\\end{cases}\n",
    "$$\n",
    "式中，$\\phi(x),g_1(t),g_2(t)$ 为已知函数，且满足连接条件\n",
    "$$\n",
    "\\phi(0)=g_1(0),\\ \\phi(l)=g_2(0)\n",
    "$$"
   ]
  },
  {
   "cell_type": "markdown",
   "metadata": {},
   "source": [
    "初边值问题中的边界条件 $u(0,t)=g_1(t),\\ u(l,t)=g_2(t)$ 为第一类边界条件\n",
    "\n",
    "第二类、第三类边界条件为\n",
    "$$\n",
    "\\begin{align*}\n",
    "\\left.\\left[\\dfrac{\\partial u}{\\partial x}-\\lambda_1(t)u\\right]\\right|_{x=0}=g_1(t),\\quad 0\\leq t\\leq T\\\\[2ex]\n",
    "\\left.\\left[\\dfrac{\\partial u}{\\partial x}+\\lambda_2(t)u\\right]\\right|_{x=l}=g_2(t),\\quad 0\\leq t\\leq T\n",
    "\\end{align*}\n",
    "$$\n",
    "其中，当 $\\lambda_1(t)=\\lambda_2\\equiv0$ 时，为第二类边界条件，否则 $\\lambda_1(t)\\geq0,\\ \\lambda_2(t)\\geq0$ 时，为第三类边界条件"
   ]
  },
  {
   "cell_type": "markdown",
   "metadata": {},
   "source": [
    "### 3. 双曲型偏微分方程\n",
    "双曲型方程的最简单形式为一阶双曲型方程\n",
    "$$\n",
    "\\dfrac{\\partial u}{\\partial t}+a\\dfrac{\\partial u}{\\partial x}=0\n",
    "$$\n",
    "物理中常见的一维振动与波动问题可用二阶波动方程\n",
    "$$\n",
    "\\dfrac{\\partial^2 u}{\\partial t^2}=a^2\\dfrac{\\partial^2 u}{\\partial x^2}\n",
    "$$\n",
    "描述，它是双曲型方程的典型形式\n",
    "\n",
    "二阶波动方程的初值问题为\n",
    "$$\n",
    "\\begin{cases}\n",
    "\\dfrac{\\partial^2 u}{\\partial t^2}=a^2\\dfrac{\\partial^2 u}{\\partial x^2},\\quad &t>0,\\ -\\infty<x<+\\infty\\\\[2ex]\n",
    "u(x,0)=\\phi(x),\\quad &-\\infty<x<+\\infty\\\\[2ex]\n",
    "\\left.\\dfrac{\\partial u}{\\partial t}\\right|_{t=0}=\\varphi(x),\\quad &-\\infty<x<+\\infty\n",
    "\\end{cases}\n",
    "$$"
   ]
  },
  {
   "cell_type": "markdown",
   "metadata": {},
   "source": [
    "初边值问题为\n",
    "$$\n",
    "\\begin{cases}\n",
    "\\dfrac{\\partial^2 u}{\\partial t^2}=a^2\\dfrac{\\partial^2 u}{\\partial x^2},\\quad &t>0,\\ 0<x<l\\\\[2ex]\n",
    "u(x,0)=\\phi(x),\\quad &\\left.\\dfrac{\\partial u}{\\partial t}\\right|_{t=0}=\\varphi(x),\\ 0\\leq x\\leq l\\\\[2ex]\n",
    "u(0,t)=g_1(t),\\ u(l,t)=g_2(t),\\quad &0\\leq t\\leq T\n",
    "\\end{cases}\n",
    "$$"
   ]
  },
  {
   "cell_type": "markdown",
   "metadata": {},
   "source": [
    "> 如果偏微分方程定解问题的解存在、唯一且连续依赖于定解数据（出现在方程和定解条件中的已知函数），则此定解问题是适定的。可以证明，上述所有定解问题都是适定的"
   ]
  }
 ],
 "metadata": {
  "kernelspec": {
   "display_name": "Python 3.9.12 ('mamo')",
   "language": "python",
   "name": "python3"
  },
  "language_info": {
   "name": "python",
   "version": "3.9.12"
  },
  "orig_nbformat": 4,
  "vscode": {
   "interpreter": {
    "hash": "bc4866e053c759d6a7b6c75a6ee7f30413af3cb1408278924a32b7c27fdde7d0"
   }
  }
 },
 "nbformat": 4,
 "nbformat_minor": 2
}
