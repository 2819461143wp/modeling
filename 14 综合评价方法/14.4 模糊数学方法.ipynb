{
 "cells": [
  {
   "cell_type": "markdown",
   "metadata": {},
   "source": [
    "---\n",
    "### 14.4.1 模糊数学基本概念\n",
    "- 论域 $U$\n",
    "  \n",
    "- 隶属函数 $M(u)$\n",
    "- 模糊集的过渡点 $u\\ {\\rm s.t.}\\ M(u)=0.5$\n",
    "- 模糊集 $M=(M(u_1), M(u_2), \\cdots, M(u_n))$\n",
    "- 模糊分布（定义在实数域上的隶属函数）\n",
    "- 模糊运算\n",
    "### 14.4.2 模糊贴进度\n",
    "- 汉明贴进度\n",
    "\n",
    "- 欧几里得贴进度"
   ]
  },
  {
   "cell_type": "code",
   "execution_count": 1,
   "metadata": {},
   "outputs": [
    {
     "data": {
      "text/plain": [
       "[0.925, 0.95, 0.975]"
      ]
     },
     "execution_count": 1,
     "metadata": {},
     "output_type": "execute_result"
    }
   ],
   "source": [
    "import numpy as np\n",
    "\n",
    "A = np.array([[0.4,0.3,0.5,0.3],[0.3,0.3,0.4,0.4],[0.2,0.3,0.3,0.3]])   # A1, A2, A3\n",
    "B = np.array([0.2,0.3,0.4,0.3])\n",
    "# 汉明贴进度\n",
    "N = []\n",
    "n = len(A[0])\n",
    "for i in range(len(A)):\n",
    "    N.append(1 -sum(np.abs(A[i] - B))/n)\n",
    "N"
   ]
  },
  {
   "cell_type": "markdown",
   "metadata": {},
   "source": [
    "### 14.4.3 模糊综合评价\n",
    "1. 确定因素集及相应权重向量\n",
    "\n",
    "2. 确定评语集\n",
    "3. 确定各个因素对评语集的隶属度函数\n",
    "4. 建立模糊评判矩阵（选择合适的合成算子）\n",
    "5. 模糊综合评判"
   ]
  },
  {
   "cell_type": "code",
   "execution_count": 2,
   "metadata": {},
   "outputs": [
    {
     "name": "stdout",
     "output_type": "stream",
     "text": [
      "综合评价矩阵：\n",
      "[[0.5341 0.7614 0.6705 1.     0.8636]\n",
      " [0.375  0.3125 0.3375 0.15   0.25  ]\n",
      " [1.     0.76   1.     0.4    0.48  ]\n",
      " [0.85   0.75   0.8    0.     0.2   ]\n",
      " [1.     0.4483 0.6552 0.     0.0345]]\n"
     ]
    }
   ],
   "source": [
    "data = np.loadtxt('../../14第14章  综合评价方法/data14_4.txt')\n",
    "f1 = lambda x: x/8800\n",
    "f2 = lambda x: 1 - x/8000\n",
    "f3 = lambda x: ((0<=x) & (x<=5.5))*1 + ((5.5<x) & (x<8))*(8-x)/(8-5.5) + (x>8)*0\n",
    "f4 = lambda x: 1 - x/200\n",
    "f5 = lambda x: (x - 50)/(1500 - 50)\n",
    "R = []\n",
    "for i in range(len(data)):\n",
    "    expr = f\"f{i+1}(data[{i}])\"\n",
    "    R.append(eval(expr))\n",
    "R = np.array(R)\n",
    "print(\"综合评价矩阵：\\n\", np.round(R, 4), sep='')"
   ]
  },
  {
   "cell_type": "code",
   "execution_count": 3,
   "metadata": {},
   "outputs": [
    {
     "name": "stdout",
     "output_type": "stream",
     "text": [
      "模糊综合评价值：\n",
      "[0.7435 0.5919 0.6789 0.36   0.3905]\n",
      "\n",
      "模糊综合评价排名(降序)：\n",
      "[1 3 2 5 4]\n"
     ]
    }
   ],
   "source": [
    "w = np.array([0.25, 0.2, 0.2, 0.1, 0.25])\n",
    "score = w @ R\n",
    "print(\"模糊综合评价值：\\n\", np.round(score, 4), sep='')\n",
    "\n",
    "grade = np.argsort(-score)\n",
    "grade += 1\n",
    "print(\"\\n模糊综合评价排名(降序)：\\n\", grade, sep='')"
   ]
  },
  {
   "cell_type": "markdown",
   "metadata": {},
   "source": [
    "> 详例（建立评语集）：https://zhuanlan.zhihu.com/p/37619616"
   ]
  }
 ],
 "metadata": {
  "kernelspec": {
   "display_name": "Python 3.9.12 ('mamo')",
   "language": "python",
   "name": "python3"
  },
  "language_info": {
   "codemirror_mode": {
    "name": "ipython",
    "version": 3
   },
   "file_extension": ".py",
   "mimetype": "text/x-python",
   "name": "python",
   "nbconvert_exporter": "python",
   "pygments_lexer": "ipython3",
   "version": "3.9.12"
  },
  "orig_nbformat": 4,
  "vscode": {
   "interpreter": {
    "hash": "bc4866e053c759d6a7b6c75a6ee7f30413af3cb1408278924a32b7c27fdde7d0"
   }
  }
 },
 "nbformat": 4,
 "nbformat_minor": 2
}
