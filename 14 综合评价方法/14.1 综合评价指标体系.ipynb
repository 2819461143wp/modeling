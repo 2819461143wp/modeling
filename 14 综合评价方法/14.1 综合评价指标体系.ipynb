{
 "cells": [
  {
   "cell_type": "markdown",
   "metadata": {},
   "source": [
    "---\n",
    "### 综合评价指标体系\n",
    "由多个相互联系、相互依存的评价指标，按照一定层次结构组合而成，具有特定评价功能的有机整体\n",
    "### 设置原则\n",
    "科学性、系统性、独立性、层次性、实用性、简易性"
   ]
  }
 ],
 "metadata": {
  "language_info": {
   "name": "python"
  },
  "orig_nbformat": 4
 },
 "nbformat": 4,
 "nbformat_minor": 2
}
