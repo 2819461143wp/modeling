{
 "cells": [
  {
   "cell_type": "markdown",
   "metadata": {},
   "source": [
    "---\n",
    "### 招聘公务员问题\n",
    "> 2004年国赛D题"
   ]
  },
  {
   "cell_type": "markdown",
   "metadata": {},
   "source": [
    "#### 1. 模型准备"
   ]
  },
  {
   "cell_type": "code",
   "execution_count": 1,
   "metadata": {},
   "outputs": [],
   "source": [
    "import numpy as np\n",
    "import cvxpy as cp\n",
    "import sympy as sp\n",
    "sp.init_printing(use_latex=True)\n",
    "import matplotlib.pyplot as plt\n",
    "plt.rcParams['font.sans-serif']=['Times New Roman + SimSun + WFM Sans SC']\n",
    "plt.rcParams['mathtext.fontset']='stix'\n",
    "# Times New Roman + SimSun + WFM Sans SC\n",
    "# simsum宋体, times new roman -*, simhei黑体, kaiti楷体, \n",
    "# dengxian等线, fangsong仿宋, Microsoft Yahei微软雅黑\n",
    "plt.rcParams['axes.unicode_minus']=False   \n",
    "plt.rcParams['figure.dpi'] = 200\n",
    "# plt.rcParams['figure.figsize'] = [4, 3]\n",
    "# plt.rcParams['font.size'] = 12\n",
    "plt.rcParams['xtick.direction']='in'\n",
    "plt.rcParams['ytick.direction']='in'"
   ]
  },
  {
   "cell_type": "code",
   "execution_count": 2,
   "metadata": {},
   "outputs": [],
   "source": [
    "v = np.array([1, 2, 3, 4, 5])  # 评语集 v = {'A': 5, 'B': 4, 'C': 3, 'D': 2, 'E': 1}\n",
    "f1 = 0.01\n",
    "f3 = 0.8\n",
    "f5 = 1\n",
    "alpha, beta, a, b = sp.symbols('α, β, a, b', real=True)\n",
    "x = sp.symbols('x', integer=True)\n",
    "f1_3 = (1+alpha*(x - beta)**-2)**-1     # 柯西分布隶属函数\n",
    "f3_5 = a*sp.log(x) + b"
   ]
  },
  {
   "cell_type": "code",
   "execution_count": 3,
   "metadata": {},
   "outputs": [
    {
     "data": {
      "image/png": "[encoded data removed]",
      "text/latex": [
       "$\\displaystyle \\left\\{\\left( 0.906594449583279, \\  1.09569493033991\\right), \\left( 1.1086210607516, \\  0.894178487381608\\right)\\right\\}$"
      ],
      "text/plain": [
       "{(0.906594449583279, 1.09569493033991), (1.1086210607516, 0.894178487381608)}"
      ]
     },
     "execution_count": 3,
     "metadata": {},
     "output_type": "execute_result"
    }
   ],
   "source": [
    "eq1 = sp.Equality(f1_3.subs(x, 1), f1)\n",
    "eq2 = sp.Equality(f1_3.subs(x, 3), f3)\n",
    "ret1_3 = sp.nonlinsolve([eq1, eq2], [alpha, beta])\n",
    "ret1_3\n",
    "# 此处有两组解，下面使用第二组，因为第一组对应的隶属函数非单调递增"
   ]
  },
  {
   "cell_type": "code",
   "execution_count": 4,
   "metadata": {},
   "outputs": [
    {
     "data": {
      "image/png": "[encoded data removed]",
      "text/latex": [
       "$\\displaystyle \\left( 0.01, \\  0.8, \\  0.524495390311542\\right)$"
      ],
      "text/plain": [
       "(0.010000000000000049, 0.8000000000000004, 0.5244953903115418)"
      ]
     },
     "execution_count": 4,
     "metadata": {},
     "output_type": "execute_result"
    }
   ],
   "source": [
    "alpha_r, beta_r = list(ret1_3)[1]\n",
    "ff1_3 = sp.lambdify(x, f1_3.subs({alpha: alpha_r, beta: beta_r}), 'numpy')\n",
    "f2 = ff1_3(2)\n",
    "ff1_3(1), ff1_3(3), f2"
   ]
  },
  {
   "cell_type": "code",
   "execution_count": 5,
   "metadata": {},
   "outputs": [
    {
     "data": {
      "image/png": "[encoded data removed]",
      "text/latex": [
       "$\\displaystyle \\left\\{\\left( - \\frac{0.2}{- \\log{\\left(5 \\right)} + \\log{\\left(3 \\right)}}, \\  \\frac{1.0 \\left(- 0.8 \\log{\\left(5 \\right)} + 1.0 \\log{\\left(3 \\right)}\\right)}{- \\log{\\left(5 \\right)} + \\log{\\left(3 \\right)}}\\right)\\right\\}$"
      ],
      "text/plain": [
       "⎧⎛     -0.2         1.0⋅(-0.8⋅log(5) + 1.0⋅log(3))⎞⎫\n",
       "⎨⎜────────────────, ──────────────────────────────⎟⎬\n",
       "⎩⎝-log(5) + log(3)         -log(5) + log(3)       ⎠⎭"
      ]
     },
     "execution_count": 5,
     "metadata": {},
     "output_type": "execute_result"
    }
   ],
   "source": [
    "eq3 = sp.Eq(f3_5.subs(x, 3), 0.8)\n",
    "eq4 = sp.Eq(f3_5.subs(x, 5), 1)\n",
    "ret3_5 = sp.nonlinsolve([eq3, eq4], [a, b])\n",
    "ret3_5"
   ]
  },
  {
   "cell_type": "code",
   "execution_count": 6,
   "metadata": {},
   "outputs": [
    {
     "data": {
      "image/png": "[encoded data removed]",
      "text/latex": [
       "$\\displaystyle \\left( 0.8, \\  1.0, \\  0.912634158925265\\right)$"
      ],
      "text/plain": [
       "(0.8000000000000003, 1.0000000000000004, 0.9126341589252652)"
      ]
     },
     "execution_count": 6,
     "metadata": {},
     "output_type": "execute_result"
    }
   ],
   "source": [
    "a_r, b_r = list(ret3_5)[0]\n",
    "a_r, b_r = a_r.n(), b_r.n()\n",
    "ff3_5 = sp.lambdify(x, f3_5.subs({a: a_r, b: b_r}), 'numpy')\n",
    "f4 = ff3_5(4)\n",
    "ff3_5(3), ff3_5(5), f4"
   ]
  },
  {
   "cell_type": "code",
   "execution_count": 7,
   "metadata": {},
   "outputs": [
    {
     "data": {
      "text/plain": [
       "array([0.95631708, 0.92815854, 0.80928239, 0.93447562, 0.90631708,\n",
       "       0.83744093, 0.90631708, 0.92815854, 0.93447562, 0.80928239,\n",
       "       0.80928239, 0.92815854, 0.80928239, 0.83744093, 0.90631708,\n",
       "       0.90631708])"
      ]
     },
     "execution_count": 7,
     "metadata": {},
     "output_type": "execute_result"
    }
   ],
   "source": [
    "def membership_f(x):\n",
    "    if (1 <= x and x <= 3):\n",
    "        return ff1_3(x)\n",
    "    elif (3 <= x and x <= 5):\n",
    "        return ff3_5(x)\n",
    "\n",
    "quant_score = list(map(membership_f, v))\n",
    "\n",
    "def score(x):\n",
    "    return quant_score[int(x-1)]\n",
    "\n",
    "employee = np.loadtxt('../../14第14章  综合评价方法/anli14_1_1.txt')\n",
    "ability = employee[:, -4:]\n",
    "ability_val = np.zeros_like(ability)\n",
    "for i in range(len(ability)):\n",
    "    for j in range(len(ability[0])):\n",
    "        ability_val[i, j] = score(ability[i, j])\n",
    "\n",
    "retest = ability_val.mean(axis=1)   # 对四项评分取相同的权重\n",
    "retest          # 复试成绩"
   ]
  },
  {
   "cell_type": "code",
   "execution_count": 8,
   "metadata": {},
   "outputs": [
    {
     "data": {
      "text/plain": [
       "array([[1.00000000e+00, 1.00000000e+00],\n",
       "       [8.82352941e-01, 8.08490504e-01],\n",
       "       [8.82352941e-01, 0.00000000e+00],\n",
       "       [7.05882353e-01, 8.51453695e-01],\n",
       "       [5.88235294e-01, 6.59944199e-01],\n",
       "       [5.88235294e-01, 1.91509496e-01],\n",
       "       [4.11764706e-01, 6.59944199e-01],\n",
       "       [4.11764706e-01, 8.08490504e-01],\n",
       "       [4.11764706e-01, 8.51453695e-01],\n",
       "       [4.11764706e-01, 8.88178420e-16],\n",
       "       [2.94117647e-01, 8.88178420e-16],\n",
       "       [2.35294118e-01, 8.08490504e-01],\n",
       "       [1.17647059e-01, 8.88178420e-16],\n",
       "       [1.17647059e-01, 1.91509496e-01],\n",
       "       [5.88235294e-02, 6.59944199e-01],\n",
       "       [0.00000000e+00, 6.59944199e-01]])"
      ]
     },
     "execution_count": 8,
     "metadata": {},
     "output_type": "execute_result"
    }
   ],
   "source": [
    "from sklearn.preprocessing import minmax_scale\n",
    "\n",
    "score = np.array([employee[:, 0], retest]).T\n",
    "score_std = minmax_scale(score, axis=0) # 极差变换法\n",
    "score_std       # 规范化成绩"
   ]
  },
  {
   "cell_type": "code",
   "execution_count": 9,
   "metadata": {},
   "outputs": [
    {
     "name": "stdout",
     "output_type": "stream",
     "text": [
      "[1.         0.84542172 0.44117647 0.77866802 0.62408975 0.38987239\n",
      " 0.53585445 0.61012761 0.6316092  0.20588235 0.14705882 0.52189231\n",
      " 0.05882353 0.15457828 0.35938386 0.3299721 ]\n",
      "[ 1  2  9  3  5 10  7  6  4 13 15  8 16 14 11 12]\n"
     ]
    }
   ],
   "source": [
    "gamma = 0.5     # 初试和复试成绩的权重\n",
    "performance = score_std[:, 0]*gamma + score_std[:, 1]*(1 - gamma)\n",
    "print(performance)  # 综合成绩\n",
    "ranking = np.argsort(np.argsort(-performance, kind='mergesort'), kind='mergesort') + 1\n",
    "print(ranking)     # 按原数据次序的排名"
   ]
  },
  {
   "cell_type": "markdown",
   "metadata": {},
   "source": [
    "#### 2. 问题 (1)\n",
    "$$择优按需录取 = 择优（被聘人员综合成绩最高） +\\ 按需（部门对被聘人员满意度最高）$$"
   ]
  },
  {
   "cell_type": "code",
   "execution_count": 10,
   "metadata": {},
   "outputs": [
    {
     "data": {
      "image/png": "[encoded data removed]",
      "text/plain": [
       "<Figure size 1200x800 with 1 Axes>"
      ]
     },
     "metadata": {
      "needs_background": "light"
     },
     "output_type": "display_data"
    }
   ],
   "source": [
    "V = np.arange(1, 8)\n",
    "f1, f4, f7 = 0.01, 0.8, 1\n",
    "f1_4 = f1_3\n",
    "f4_7 = f3_5\n",
    "eq1 = sp.Eq(f1_4.subs(x, 1), f1)\n",
    "eq2 = sp.Eq(f1_4.subs(x, 4), f4)\n",
    "ret = list(sp.nonlinsolve([eq1, eq2], [alpha, beta]))\n",
    "f_test1 = f1_4.subs({alpha: ret[0][0], beta: ret[0][1]})\n",
    "f_test2 = f1_4.subs({alpha: ret[1][0], beta: ret[1][1]})\n",
    "\n",
    "ff_test1 = sp.lambdify(x, f_test1, 'numpy')\n",
    "ff_test2 = sp.lambdify(x, f_test2, 'numpy')\n",
    "xx = np.linspace(1, 4, 100)\n",
    "yy1 = ff_test1(xx)\n",
    "yy2 = ff_test2(xx)\n",
    "\n",
    "fig = plt.figure()\n",
    "ax = fig.add_subplot(111)\n",
    "ax.plot(xx, yy1, label='1')\n",
    "ax.plot(xx, yy2, label='2')\n",
    "ax.legend()\n",
    "fig.show()  # choose 2 (ret[1])"
   ]
  },
  {
   "cell_type": "code",
   "execution_count": 11,
   "metadata": {},
   "outputs": [],
   "source": [
    "ff1_4 = ff_test2\n",
    "f2, f3 = ff1_4(2), ff1_4(3)"
   ]
  },
  {
   "cell_type": "code",
   "execution_count": 12,
   "metadata": {},
   "outputs": [],
   "source": [
    "eq3 = sp.Eq(f4_7.subs(x, 4), f4)\n",
    "eq4 = sp.Eq(f4_7.subs(x, 7), f7)\n",
    "ab_dict = sp.solve([eq3, eq4], [a, b])\n",
    "ff4_7 = sp.lambdify(x, f4_7.subs(ab_dict), 'numpy')\n",
    "f5, f6 = ff4_7(5), ff4_7(6)"
   ]
  },
  {
   "cell_type": "code",
   "execution_count": 13,
   "metadata": {},
   "outputs": [
    {
     "name": "stdout",
     "output_type": "stream",
     "text": [
      "[0.01       0.34991927 0.65135375 0.8        0.87974884 0.94490839\n",
      " 1.        ]\n"
     ]
    }
   ],
   "source": [
    "quant_score = np.array([f1, f2, f3, f4, f5, f6, f7])\n",
    "print(quant_score)"
   ]
  },
  {
   "cell_type": "code",
   "execution_count": 14,
   "metadata": {},
   "outputs": [
    {
     "name": "stdout",
     "output_type": "stream",
     "text": [
      "[[0.8027 0.7065 0.6503 0.7656 0.7074 0.6016 0.7456 0.7237 0.7619 0.574\n",
      "  0.5949 0.7828 0.6503 0.6494 0.7456 0.7074]\n",
      " [0.8399 0.8199 0.6703 0.8199 0.7828 0.6902 0.7828 0.8027 0.8027 0.6224\n",
      "  0.6016 0.7991 0.6494 0.6424 0.7828 0.7828]\n",
      " [0.8399 0.8199 0.6703 0.8199 0.7828 0.6902 0.7828 0.8027 0.8027 0.6224\n",
      "  0.6016 0.7991 0.6494 0.6424 0.7828 0.7828]\n",
      " [0.7981 0.7436 0.5461 0.7818 0.7065 0.7456 0.7065 0.7436 0.8027 0.6703\n",
      "  0.7257 0.7436 0.6224 0.7456 0.7065 0.7065]\n",
      " [0.7981 0.7436 0.5461 0.7818 0.7065 0.7456 0.7065 0.7436 0.8027 0.6703\n",
      "  0.7257 0.7436 0.6224 0.7456 0.7065 0.7065]\n",
      " [0.819  0.7436 0.6148 0.7991 0.7274 0.6902 0.7619 0.7473 0.8027 0.6703\n",
      "  0.7257 0.7991 0.6703 0.7456 0.7619 0.7274]\n",
      " [0.819  0.7436 0.6148 0.7991 0.7274 0.6902 0.7619 0.7473 0.8027 0.6703\n",
      "  0.7257 0.7991 0.6703 0.7456 0.7619 0.7274]]\n"
     ]
    }
   ],
   "source": [
    "employer = np.loadtxt('../../14第14章  综合评价方法/anli14_1_3.txt')\n",
    "n = len(employee)\n",
    "m = len(employer)\n",
    "course_num = 4\n",
    "ability = employee[:, -course_num:]\n",
    "expectation = employer[:, -course_num:]\n",
    "satisfaction_er = np.zeros((m, n))\n",
    "\n",
    "for i in range(m):\n",
    "    for j in range(n):\n",
    "        score = 0\n",
    "        for k in range(course_num):\n",
    "            grade = ability[j, k] - expectation[i, k] + course_num - 1\n",
    "            score += quant_score[int(grade)]\n",
    "        score /= course_num\n",
    "        satisfaction_er[i, j] = score\n",
    "\n",
    "print(np.round(satisfaction_er, 4))    # 部门对应聘者能力值的满意度（r：单位，c：应聘者）"
   ]
  },
  {
   "cell_type": "code",
   "execution_count": 15,
   "metadata": {},
   "outputs": [
    {
     "name": "stdout",
     "output_type": "stream",
     "text": [
      "最优解为：[[ 1. -0. -0. -0. -0. -0. -0. -0. -0. -0. -0. -0. -0. -0. -0. -0.]\n",
      " [-0.  1. -0.  0. -0. -0. -0.  1. -0. -0. -0. -0. -0. -0. -0. -0.]\n",
      " [-0.  0. -0. -0.  1. -0. -0. -0. -0. -0. -0. -0. -0. -0. -0. -0.]\n",
      " [-0. -0. -0.  0. -0. -0. -0. -0.  1. -0. -0. -0. -0. -0. -0. -0.]\n",
      " [-0. -0. -0.  1. -0.  0. -0. -0.  0. -0. -0. -0. -0. -0. -0. -0.]\n",
      " [ 0. -0. -0.  0. -0. -0.  0. -0. -0. -0. -0.  1. -0. -0. -0. -0.]\n",
      " [-0. -0. -0. -0. -0. -0.  1. -0. -0. -0. -0. -0. -0. -0. -0. -0.]]\n",
      "\n",
      "最优值为：11.90132518721478\n"
     ]
    }
   ],
   "source": [
    "x = cp.Variable((m, n), boolean=True)\n",
    "choose_good = cp.sum(x @ performance)\n",
    "satisfy = cp.sum(cp.multiply(satisfaction_er, x))\n",
    "obj = cp.Maximize(choose_good + satisfy)\n",
    "cons = [\n",
    "    cp.sum(x) == 8,\n",
    "    cp.sum(x, axis=0) <= 1,\n",
    "    1 <= cp.sum(x, axis=1), cp.sum(x, axis=1) <= 2,\n",
    "]\n",
    "prob = cp.Problem(obj, cons)\n",
    "prob.solve(solver='GUROBI')\n",
    "print(f'最优解为：{x.value}\\n\\n最优值为：{prob.value}')"
   ]
  },
  {
   "cell_type": "code",
   "execution_count": 16,
   "metadata": {},
   "outputs": [
    {
     "name": "stdout",
     "output_type": "stream",
     "text": [
      "部门：     [1 2 2 3 4 5 6 7]\n",
      "应聘者：   [ 1  2  8  5  9  4 12  7]\n",
      "综合得分： [1.     0.8454 0.6101 0.6241 0.6316 0.7787 0.5219 0.5359]\n",
      "部门评分： [0.8027 0.8199 0.8027 0.7828 0.8027 0.7818 0.7991 0.7619]\n"
     ]
    }
   ],
   "source": [
    "employer_ret, employee_ret = np.nonzero(x.value)\n",
    "\n",
    "print(\"部门：    \", employer_ret + 1)\n",
    "print(\"应聘者：  \", employee_ret + 1)\n",
    "print(\"综合得分：\", np.round(performance[employee_ret], 4))\n",
    "print(\"部门评分：\", np.round(satisfaction_er[employer_ret, employee_ret], 4))"
   ]
  },
  {
   "cell_type": "markdown",
   "metadata": {},
   "source": [
    "#### 3. 问题 (2)\n",
    "综合考虑双方互相的满意度，其中部门对应聘者的满意度已经讨论过，下面只需讨论应聘者对部门的满意度\n",
    "\n",
    "应聘者对部门的满意度主要与部门的工作条件以及工作类别有关，其中工作类别是否匹配可以视作工作条件的影响是否生效的前提，故可以工作类别的匹配度分别乘以每个部门的平均工作条件（这里对五个工作条件取了等权重），作为应聘者对部门的满意度\n",
    "\n",
    "至于综合满意度，可以取双方满意度的几何平均值"
   ]
  },
  {
   "cell_type": "code",
   "execution_count": 17,
   "metadata": {},
   "outputs": [
    {
     "data": {
      "text/plain": [
       "array([1.        , 0.63092975, 0.        ])"
      ]
     },
     "execution_count": 17,
     "metadata": {},
     "output_type": "execute_result"
    }
   ],
   "source": [
    "x = sp.symbols('x', integer=True)\n",
    "f1_3 = b*sp.log(a - x)\n",
    "V = [1, 2, 3]       # 评语集 V = {'非常满意': 1, '基本满意': 2, '不满意': 3}\n",
    "f1 = 1\n",
    "f3 = 0\n",
    "eq1 = sp.Eq(f1_3.subs(x, 1), f1)\n",
    "eq2 = sp.Eq(f1_3.subs(x, 3), f3)\n",
    "a_r, b_r = sp.solve([eq1, eq2], [a, b])[0]\n",
    "ff1_3 = sp.lambdify(x, f1_3.subs({a: a_r, b: b_r}), 'numpy')\n",
    "f2 = ff1_3(2)\n",
    "quant_score = np.array([f1, f2, f3])\n",
    "quant_score     # 应聘者对工作单位满意度的定量值"
   ]
  },
  {
   "cell_type": "code",
   "execution_count": 18,
   "metadata": {},
   "outputs": [
    {
     "name": "stdout",
     "output_type": "stream",
     "text": [
      "[[0.     1.     1.     0.6309 0.6309 0.     0.    ]\n",
      " [0.6309 0.     0.     1.     1.     0.     0.    ]\n",
      " [1.     0.6309 0.6309 0.     0.     0.     0.    ]\n",
      " [0.     0.     0.     0.6309 0.6309 1.     1.    ]\n",
      " [0.     0.6309 0.6309 1.     1.     0.     0.    ]\n",
      " [0.     0.     0.     1.     1.     0.6309 0.6309]\n",
      " [0.6309 0.     0.     0.     0.     1.     1.    ]\n",
      " [0.     1.     1.     0.     0.     0.6309 0.6309]\n",
      " [1.     0.     0.     0.6309 0.6309 0.     0.    ]\n",
      " [0.6309 0.     0.     1.     1.     0.     0.    ]\n",
      " [0.6309 0.     0.     0.     0.     1.     1.    ]\n",
      " [0.     0.     0.     1.     1.     0.6309 0.6309]\n",
      " [0.6309 1.     1.     0.     0.     0.     0.    ]\n",
      " [1.     0.     0.     0.6309 0.6309 0.     0.    ]\n",
      " [1.     0.     0.     0.     0.     0.6309 0.6309]\n",
      " [0.6309 0.     0.     0.     0.     1.     1.    ]]\n"
     ]
    }
   ],
   "source": [
    "voluntary = employee[:, 1:3]\n",
    "work_type = employer[:, 0]\n",
    "work_type_satis = np.zeros((n, m))\n",
    "for i in range(n):\n",
    "    for j in range(m):\n",
    "        if work_type[j] == voluntary[i, 0]:\n",
    "            work_type_satis[i, j] = quant_score[0]\n",
    "        elif work_type[j] == voluntary[i, 1]:\n",
    "            work_type_satis[i, j] = quant_score[1]\n",
    "        else:\n",
    "            work_type_satis[i, j] = quant_score[2]\n",
    "print(np.round(work_type_satis, 4))      # 应聘者对部门工作类别的满意度（r：应聘者，c：单位）"
   ]
  },
  {
   "cell_type": "code",
   "execution_count": 19,
   "metadata": {},
   "outputs": [
    {
     "name": "stdout",
     "output_type": "stream",
     "text": [
      "[[0.     0.56   0.66   0.4038 0.429  0.     0.    ]\n",
      " [0.4669 0.     0.     0.64   0.68   0.     0.    ]\n",
      " [0.74   0.3533 0.4164 0.     0.     0.     0.    ]\n",
      " [0.     0.     0.     0.4038 0.429  0.68   0.56  ]\n",
      " [0.     0.3533 0.4164 0.64   0.68   0.     0.    ]\n",
      " [0.     0.     0.     0.64   0.68   0.429  0.3533]\n",
      " [0.4669 0.     0.     0.     0.     0.68   0.56  ]\n",
      " [0.     0.56   0.66   0.     0.     0.429  0.3533]\n",
      " [0.74   0.     0.     0.4038 0.429  0.     0.    ]\n",
      " [0.4669 0.     0.     0.64   0.68   0.     0.    ]\n",
      " [0.4669 0.     0.     0.     0.     0.68   0.56  ]\n",
      " [0.     0.     0.     0.64   0.68   0.429  0.3533]\n",
      " [0.4669 0.56   0.66   0.     0.     0.     0.    ]\n",
      " [0.74   0.     0.     0.4038 0.429  0.     0.    ]\n",
      " [0.74   0.     0.     0.     0.     0.429  0.3533]\n",
      " [0.4669 0.     0.     0.     0.     0.68   0.56  ]]\n"
     ]
    }
   ],
   "source": [
    "work_condition = employer[:, 1:6]\n",
    "satisfaction_ee = work_type_satis * work_condition.mean(axis=1)\n",
    "print(np.round(satisfaction_ee, 4))     # 应聘者对部门的满意度（以对工作类别的满意度为权重）"
   ]
  },
  {
   "cell_type": "code",
   "execution_count": 20,
   "metadata": {},
   "outputs": [
    {
     "name": "stdout",
     "output_type": "stream",
     "text": [
      "[[0.     0.5743 0.6937 0.     0.     0.     0.59   0.     0.7509 0.5177\n",
      "  0.527  0.     0.551  0.6932 0.7428 0.5747]\n",
      " [0.6858 0.     0.4866 0.     0.5259 0.     0.     0.6705 0.     0.\n",
      "  0.     0.     0.603  0.     0.     0.    ]\n",
      " [0.7445 0.     0.5283 0.     0.5709 0.     0.     0.7279 0.     0.\n",
      "  0.     0.     0.6547 0.     0.     0.    ]\n",
      " [0.5677 0.6899 0.     0.5619 0.6724 0.6908 0.     0.     0.5693 0.655\n",
      "  0.     0.6899 0.     0.5487 0.     0.    ]\n",
      " [0.5852 0.7111 0.     0.5792 0.6931 0.7121 0.     0.     0.5868 0.6751\n",
      "  0.     0.7111 0.     0.5656 0.     0.    ]\n",
      " [0.     0.     0.     0.7371 0.     0.5442 0.7198 0.5662 0.     0.\n",
      "  0.7025 0.5855 0.     0.     0.5717 0.7033]\n",
      " [0.     0.     0.     0.6689 0.     0.4938 0.6532 0.5138 0.     0.\n",
      "  0.6375 0.5313 0.     0.     0.5188 0.6382]]\n"
     ]
    }
   ],
   "source": [
    "satis = np.sqrt(satisfaction_ee.T * satisfaction_er)    # 以双方满意度的几何平均值作为综合满意度\n",
    "print(satis.round(4))"
   ]
  },
  {
   "cell_type": "code",
   "execution_count": 21,
   "metadata": {},
   "outputs": [
    {
     "name": "stdout",
     "output_type": "stream",
     "text": [
      "最优解为：[[-0. -0. -0. -0. -0. -0. -0. -0.  1. -0. -0. -0. -0. -0.  1. -0.]\n",
      " [ 0. -0. -0. -0. -0. -0. -0.  1. -0. -0. -0. -0. -0. -0. -0. -0.]\n",
      " [ 1. -0. -0. -0. -0. -0. -0.  0. -0. -0. -0. -0. -0. -0. -0. -0.]\n",
      " [-0. -0. -0. -0. -0. -0. -0. -0. -0. -0. -0.  1. -0. -0. -0. -0.]\n",
      " [-0.  0. -0. -0. -0.  1. -0. -0. -0. -0. -0.  0. -0. -0. -0. -0.]\n",
      " [-0. -0. -0.  1. -0. -0.  0. -0. -0. -0. -0. -0. -0. -0. -0. -0.]\n",
      " [-0. -0. -0.  0. -0. -0.  1. -0. -0. -0. -0. -0. -0. -0. -0. -0.]]\n",
      "\n",
      "最优值为：5.700920231576309\n"
     ]
    }
   ],
   "source": [
    "x = cp.Variable((m, n), boolean=True)\n",
    "obj = cp.Maximize(cp.sum(cp.multiply(x, satis)))\n",
    "cons = [\n",
    "    cp.sum(x) == 8,\n",
    "    cp.sum(x, axis=0) <= 1,\n",
    "    1 <= cp.sum(x, axis=1), cp.sum(x, axis=1) <= 2,\n",
    "]\n",
    "prob = cp.Problem(obj, cons)\n",
    "prob.solve(solver='GUROBI')\n",
    "print(f'最优解为：{x.value}\\n\\n最优值为：{prob.value}')"
   ]
  },
  {
   "cell_type": "code",
   "execution_count": 22,
   "metadata": {},
   "outputs": [
    {
     "name": "stdout",
     "output_type": "stream",
     "text": [
      "部门：     [1 1 2 3 4 5 6 7]\n",
      "应聘者：   [ 9 15  8  1 12  6  4  7]\n",
      "综合满意度： [0.7509 0.7428 0.6705 0.7445 0.6899 0.7121 0.7371 0.6532]\n"
     ]
    }
   ],
   "source": [
    "employer_ret, employee_ret = np.nonzero(x.value)\n",
    "\n",
    "print(\"部门：    \", employer_ret + 1)\n",
    "print(\"应聘者：  \", employee_ret + 1)\n",
    "print(\"综合满意度：\", np.round(satis[employer_ret, employee_ret], 4))"
   ]
  },
  {
   "cell_type": "markdown",
   "metadata": {},
   "source": [
    "####  4. 问题 (3)\n",
    "对于 $N$ 个应聘者和 $M$ 个用人单位的情况，上述方法仍然适用。当 $N$ 大到一定程度时，可以先“择优”，再“按需”分配"
   ]
  }
 ],
 "metadata": {
  "kernelspec": {
   "display_name": "Python 3.9.12 ('mamo')",
   "language": "python",
   "name": "python3"
  },
  "language_info": {
   "codemirror_mode": {
    "name": "ipython",
    "version": 3
   },
   "file_extension": ".py",
   "mimetype": "text/x-python",
   "name": "python",
   "nbconvert_exporter": "python",
   "pygments_lexer": "ipython3",
   "version": "3.9.12"
  },
  "orig_nbformat": 4,
  "vscode": {
   "interpreter": {
    "hash": "bc4866e053c759d6a7b6c75a6ee7f30413af3cb1408278924a32b7c27fdde7d0"
   }
  }
 },
 "nbformat": 4,
 "nbformat_minor": 2
}
