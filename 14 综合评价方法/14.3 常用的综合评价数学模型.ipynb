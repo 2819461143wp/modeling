{
 "cells": [
  {
   "cell_type": "markdown",
   "metadata": {},
   "source": [
    "---\n",
    "### 14.3.1 线性加权综合评价法\n",
    "设指标变量的权重系数向量为 ${\\boldsymbol w}=[w_1,w_2,\\cdots,w_m]$，则第 $i$ 个评价对象的加权综合评价值为\n",
    "$$\n",
    "f_i=\\sum\\limits_{j=1}^mw_jb_{ij},\\quad i=1,2,\\cdots,n\n",
    "$$\n",
    "主要特点：\n",
    "1. 权重和为 1，各指标可以线性相互补偿\n",
    "2. 权重系数对评价结果的影响明显\n",
    "3. 计算简单，可操作性强\n",
    "4. 仅适用于各指标间相互独立的情况，否则会重复作用"
   ]
  },
  {
   "cell_type": "markdown",
   "metadata": {},
   "source": [
    "### 14.3.2 TOPSIS 法\n",
    "理想解的排序方法 (**T**echnique for **O**rder **P**reference by **S**imilaritu to **I**deal **S**olution)\n",
    "\n",
    "虚构两个解：正理想解（最佳对象）和负理想解（最差对象），计算每个评价对象与两个虚构解的距离 $s_i^+, s_i^-$，以此对各评价对象进行优劣排序。相对接近度\n",
    "$$\n",
    "f_i=s_i^-/\\left(s_i^-+s_i^+\\right)\n",
    "$$\n",
    "> 若已知指标权重向量 ${\\boldsymbol w}=[w_1,w_2,\\cdots,w_m]$，则可用评价矩阵 $\\boldsymbol B=\\left(b_{ij}\\right)_{n\\times m}$ 构造加权规范评价矩阵 $\\widetilde{\\boldsymbol B}=\\left(\\widetilde b_{ij}\\right)$，其中 $\\widetilde b_{ij}=w_{ij}b_{ij}$，在上述计算步骤中以 $\\widetilde{\\boldsymbol B}$ 替代 ${\\boldsymbol B}$ 做评价"
   ]
  },
  {
   "cell_type": "markdown",
   "metadata": {},
   "source": [
    "### 14.3.3 灰色关联度分析\n",
    "构造参考数列 $\\boldsymbol b_0=\\{b_{0j}|j=1,2,\\cdots,m\\}$，这里 $b_{0j}=\\max\\limits_{1\\leq i\\leq n}b_{ij}$，相当于一个虚拟的最好评价对象。计算灰色关联系数\n",
    "$$\n",
    "\\xi_{ij}=\\dfrac{\\min\\limits_{1\\leq s\\leq n}\\min\\limits_{1\\leq k\\leq m}\\left|b_{0k}-b_{sk}\\right|+\\rho\\max\\limits_{1\\leq s\\leq n}\\max\\limits_{1\\leq k\\leq m}\\left|b_{0k}-b_{sk}\\right|}{\\left|b_{0k}-b_{sk}\\right|+\\rho\\max\\limits_{1\\leq s\\leq n}\\max\\limits_{1\\leq k\\leq m}\\left|b_{0k}-b_{sk}\\right|}\n",
    "$$\n",
    "一般来讲，分辨系数 $\\rho$ 越大，分辨率越大。计算灰色关联度\n",
    "$$\n",
    "r_i=\\sum\\limits_{j=1}^mw_j\\xi_{ij},\\quad i=1,2,\\cdots,n\n",
    "$$\n",
    "其中 $w_{ij}$ 为权重（此处可赋等权重）。根据灰色关联度的大小，对各评价对象进行排序，可建立评价对象的关联序，关联度越大评价结果越好"
   ]
  },
  {
   "cell_type": "markdown",
   "metadata": {},
   "source": [
    "### 14.3.4 熵值法\n",
    "计算特征比重\n",
    "$$\n",
    "p_{ij}=\\dfrac{b_{ij}}{\\sum\\limits_{i=1}^nb_{ij}},\\quad i=1,2,\\cdots,n,\\ j=1,2,\\cdots,m\n",
    "$$\n",
    "计算熵值\n",
    "$$\n",
    "e_j=-\\dfrac{1}{\\ln n}\\sum\\limits_{i=1}^np_{ij}\\ln p_{ij},\\quad j=1,2,\\cdots,m\n",
    "$$\n",
    "计算差异系数\n",
    "$$\n",
    "g_j=1-e_j,\\quad j=1,2,\\cdots,m\n",
    "$$\n",
    "确定权重系数\n",
    "$$\n",
    "w_j=\\dfrac{g_j}{\\sum\\limits_{k=1}^{m}g_k},\\quad j=1,2,\\cdots, m\n",
    "$$\n",
    "计算第 $i$ 个评价对象的综合评价值\n",
    "$$\n",
    "f_i=\\sum\\limits_{j=1}^mw_jp_{ij}\n",
    "$$\n",
    "评价值越大越好"
   ]
  },
  {
   "cell_type": "markdown",
   "metadata": {},
   "source": [
    "### 14.3.5 秩和比 (RSR) 法\n",
    "对数据矩阵 $\\boldsymbol A=\\left(a_{ij}\\right)_{(n\\times m)}$ 逐列编秩，得到秩矩阵 $\\boldsymbol R=\\left(R_{ij}\\right)_{(n\\times m)}$\n",
    "\n",
    "计算秩和比\n",
    "$$\n",
    "{\\rm RSR}_i=\\dfrac{1}{mn}\\sum\\limits_{j=1}^mR_{ij},\\quad i=1,2,\\cdots,n\n",
    "$$\n",
    "如果各评价指标有不同的权重，计算加权秩和比\n",
    "$$\n",
    "{\\rm RSR}_i=\\dfrac{1}{n}\\sum\\limits_{j=1}^mw_jR_{ij},\\quad i=1,2,\\cdots,n\n",
    "$$\n",
    "根据秩和比 ${\\rm RSR}_i(i=1,2,\\cdots,n)$ 对各评价对象进行排序，秩和比越大，评价结果越好"
   ]
  },
  {
   "cell_type": "markdown",
   "metadata": {},
   "source": [
    "### 14.3.6 综合评价示例"
   ]
  },
  {
   "cell_type": "code",
   "execution_count": 1,
   "metadata": {},
   "outputs": [
    {
     "name": "stdout",
     "output_type": "stream",
     "text": [
      "[[0.4671 0.3662 0.5056 0.4931 0.4811 0.7089]\n",
      " [0.5839 0.6591 0.455  0.401  0.2887 0.3544]\n",
      " [0.4204 0.4882 0.5308 0.5853 0.6736 0.4962]\n",
      " [0.5139 0.4394 0.5056 0.5392 0.4811 0.3544]]\n"
     ]
    }
   ],
   "source": [
    "import numpy as np\n",
    "\n",
    "data = np.loadtxt('../../14第14章  综合评价方法/data14_1_1.txt')\n",
    "# 向量归一化\n",
    "nrm = np.linalg.norm(data, axis=0, ord=2)\n",
    "B = data/nrm\n",
    "B[:, 3] = 1 - B[:, 3]\n",
    "print(np.round(B, 4))"
   ]
  },
  {
   "cell_type": "code",
   "execution_count": 2,
   "metadata": {},
   "outputs": [
    {
     "name": "stdout",
     "output_type": "stream",
     "text": [
      "TOPSIS 评价值：\n",
      "[0.5236 0.3747 0.5975 0.3659]\n",
      "\n",
      "TOPSIS 排名:\n",
      "[2 3 1 4]\n"
     ]
    }
   ],
   "source": [
    "# 理想解法 (TOPSIS)\n",
    "C_pos = B.max(axis=0)\n",
    "C_neg = B.min(axis=0)\n",
    "d_pos = np.linalg.norm(B - C_pos, axis=1)\n",
    "d_neg = np.linalg.norm(B - C_neg, axis=1)\n",
    "score = d_neg/(d_neg+d_pos)\n",
    "print(\"TOPSIS 评价值：\\n\", np.round(score, 4), sep='')\n",
    "\n",
    "rank = np.argsort(np.argsort(-score)) + 1\n",
    "print(\"\\nTOPSIS 排名:\\n\", rank, sep='')"
   ]
  },
  {
   "cell_type": "code",
   "execution_count": 3,
   "metadata": {},
   "outputs": [
    {
     "name": "stdout",
     "output_type": "stream",
     "text": [
      "灰色关联系数：\n",
      "[[0.6223 0.3965 0.8839 0.6762 0.5    1.    ]\n",
      " [1.     1.     0.7173 0.5108 0.3333 0.3519]\n",
      " [0.5407 0.5297 1.     1.     1.     0.4751]\n",
      " [0.7331 0.4669 0.8839 0.8068 0.5    0.3519]]\n",
      "\n",
      "灰色关联度：\n",
      "[0.6798 0.6522 0.7576 0.6238]\n",
      "\n",
      "灰色关联度排名:\n",
      "[2 3 1 4]\n"
     ]
    }
   ],
   "source": [
    "# 灰色关联度分析\n",
    "b0 = np.max(B, axis=0)\n",
    "r = 0.5                 # 分辨系数\n",
    "Bmin, Bmax = np.min(abs(B - b0)), np.max(abs(B - b0))\n",
    "co_co = (Bmin + r*Bmax) / (abs(b0 - B) + r*Bmax)\n",
    "print(\"灰色关联系数：\\n\", np.round(co_co, 4), sep='')\n",
    "score = np.sum(co_co, axis=1)/len(co_co[0])\n",
    "print(\"\\n灰色关联度：\\n\", np.round(score, 4), sep='')\n",
    "\n",
    "rank = np.argsort(np.argsort(-score)) + 1\n",
    "print(\"\\n灰色关联度排名:\\n\", rank, sep='')"
   ]
  },
  {
   "cell_type": "code",
   "execution_count": 4,
   "metadata": {},
   "outputs": [
    {
     "name": "stdout",
     "output_type": "stream",
     "text": [
      "\n",
      "熵值法评价值：\n",
      "[0.2787 0.21   0.2865 0.2248]\n",
      "\n",
      "熵值法排名:\n",
      "[2 4 1 3]\n"
     ]
    }
   ],
   "source": [
    "# 熵值法\n",
    "P = B / np.sum(B, axis=0)\n",
    "e = np.sum(P*np.log(P), axis=0)/(-np.log(len(B)))\n",
    "g = 1 - e\n",
    "w = g / sum(g)\n",
    "score = np.sum(w*P, axis=1)\n",
    "print(\"\\n熵值法评价值：\\n\", np.round(score, 4), sep='')\n",
    "\n",
    "rank = np.argsort(np.argsort(-score)) + 1\n",
    "print(\"\\n熵值法排名:\\n\", rank, sep='')"
   ]
  },
  {
   "cell_type": "code",
   "execution_count": 5,
   "metadata": {},
   "outputs": [
    {
     "name": "stdout",
     "output_type": "stream",
     "text": [
      "\n",
      "秩和比法评价值：\n",
      "[0.625  0.6458 0.6667 0.5625]\n",
      "\n",
      "秩和比法排名:\n",
      "[3 2 1 4]\n"
     ]
    }
   ],
   "source": [
    "# 秩和比法 (RSR)\n",
    "from scipy.stats import rankdata\n",
    "\n",
    "R = rankdata(data, axis=0)  # 使用原数据即可，逐列编秩\n",
    "n, m = data.shape\n",
    "RSR = np.sum(R, axis=1) / (n*m)\n",
    "print(\"\\n秩和比法评价值：\\n\", np.round(RSR, 4), sep='')\n",
    "\n",
    "rank = np.argsort(np.argsort(-RSR)) + 1\n",
    "print(\"\\n秩和比法排名:\\n\", rank, sep='')"
   ]
  }
 ],
 "metadata": {
  "kernelspec": {
   "display_name": "Python 3.9.12 ('mamo')",
   "language": "python",
   "name": "python3"
  },
  "language_info": {
   "codemirror_mode": {
    "name": "ipython",
    "version": 3
   },
   "file_extension": ".py",
   "mimetype": "text/x-python",
   "name": "python",
   "nbconvert_exporter": "python",
   "pygments_lexer": "ipython3",
   "version": "3.9.12"
  },
  "orig_nbformat": 4,
  "vscode": {
   "interpreter": {
    "hash": "bc4866e053c759d6a7b6c75a6ee7f30413af3cb1408278924a32b7c27fdde7d0"
   }
  }
 },
 "nbformat": 4,
 "nbformat_minor": 2
}
