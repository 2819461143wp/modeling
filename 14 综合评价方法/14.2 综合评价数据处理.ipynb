{
 "cells": [
  {
   "cell_type": "markdown",
   "metadata": {},
   "source": [
    "---\n",
    "#### 1.定量指标的一致化处理 \n",
    "一般的做法是将非极大型指标都转化为极大型指标（标值越大越好的指标）\n",
    "\n",
    "(1) 极小型指标化为极大型指标\n",
    "\n",
    "只需对指标 $x_j$ 取倒数 $x_j'=\\dfrac{1}{x_j}$，\n",
    "\n",
    "或做平移变换 $x_j'=M-x_j$，其中 $M=\\max\\limits_{1\\leq i\\leq n}\\{a_{ij}\\}$\n",
    "\n",
    "(2) 居中型指标化为极大型指标\n",
    "\n",
    "令 $M=\\max\\limits_{1\\leq i\\leq n}\\{a_{ij}\\},\\ N=\\min\\limits_{1\\leq i\\leq n}\\{a_{ij}\\}$，取\n",
    "$$\n",
    "x_j'=\n",
    "\\begin{cases}\n",
    "\\dfrac{2(x_j-m_j)}{M_j-m_j},\\quad &m_j\\leq x_j\\leq \\dfrac{M_j+m_j}{2}\\\\[3ex]\n",
    "\\dfrac{2(M_j-x_j)}{M_j-m_j},\\quad &\\dfrac{M_j+m_j}{2}\\leq x_j\\leq M_j\n",
    "\\end{cases}\n",
    "$$\n",
    "(3) 区间型指标化为极大型指标\n",
    "\n",
    "对区间型指标 $x_j$， $x_j$ 取值介于区间 $\\left[b_j^{(1)}, b_j^{(2)}\\right]$ 内时为最好，令 \n",
    "$$\n",
    "M=\\max\\limits_{1\\leq i\\leq n}\\{a_{ij}\\},\\ N=\\min\\limits_{1\\leq i\\leq n}\\{a_{ij}\\},\\ c_j=\\max\\left\\{b_j^{(1)}-m_j, M_j-b_j^{(2)}\\right\\}\n",
    "$$\n",
    "取\n",
    "$$\n",
    "x_j'=\n",
    "\\begin{cases}\n",
    "1-\\dfrac{b_j^{(1)}-x_j}{c_j},\\quad &x_j<b_j^{(1)}\\\\[3ex]\n",
    "1,                           \\quad &b_j^{(1)}\\leq x_j\\leq b_j^{(2)}\\\\[1ex]\n",
    "1-\\dfrac{x_j-b_j^{(2)}}{c_j},\\quad &x_j>b_j^{(2)}\n",
    "\\end{cases}\n",
    "$$"
   ]
  },
  {
   "cell_type": "markdown",
   "metadata": {},
   "source": [
    "#### 2. 定量指标值的无量纲化处理\n",
    "无量纲化也叫指标值的规范化，是通过数学变换来消除原始指标值的单位及其数值数量级影响的过程\n",
    "\n",
    "对于 $n$ 个评价对象，每个评价对象有 $m$ 个指标，其观测值分别为 \n",
    "$$a_{ij},\\ i=1,2,\\cdots,n,\\ j=1,2,\\cdots,m$$\n",
    "\n",
    "(1) 标准样本变换法\n",
    "$$\n",
    "a_{ij}^*=\\dfrac{a_{ij}-\\mu_j}{s_j},\\quad 1\\leq i\\leq n,\\ 1\\leq j\\leq m\n",
    "$$\n",
    "样本均值 $\\mu_j=\\dfrac{1}{n}\\sum\\limits_{i=1}^na_{ij}$，样本标准差 $s_j=\\sqrt{\\dfrac{1}{n-1}\\sum\\limits_{i=1}^n\\left(a_{ij}-\\mu_j\\right)^2}$，$a_{ij}^*$ 称为标准观测值\n",
    "\n",
    "> 对于要求评价指标值 $a_{ij}^*>0$ 的评价方法，如熵权法和几何加权平均法，该数据处理方法不适用\n",
    "\n",
    "(2) 比例变换法\n",
    "\n",
    "对极大型指标，令\n",
    "$$\n",
    "a_{ij}^*=\\dfrac{a_{ij}}{\\max\\limits_{1\\leq i\\leq n}a_{ij}},\\quad \\max\\limits_{1\\leq i\\leq n}a_{ij}\\neq 0,\\ 1\\leq i\\leq n,\\ 1\\leq j\\leq m\n",
    "$$\n",
    "对极小型指标，令\n",
    "$$\n",
    "a_{ij}^*=\\dfrac{\\min\\limits_{1\\leq i\\leq n}a_{ij}}{a_{ij}},\\quad 1\\leq i\\leq n,\\ 1\\leq j\\leq m\n",
    "$$\n",
    "或\n",
    "$$\n",
    "a_{ij}^*=1-\\dfrac{a_{ij}}{\\max\\limits_{1\\leq i\\leq n}a_{ij}},\\quad \\max\\limits_{1\\leq i\\leq n}a_{ij}\\neq 0,\\ 1\\leq i\\leq n,\\ 1\\leq j\\leq m\n",
    "$$\n",
    "该方法的优点是变换前后的属性值成比例，但是变换后 $a_{ij}^*=0$ 和 $a_{ij}^*=1$ 不一定同时出现"
   ]
  },
  {
   "cell_type": "markdown",
   "metadata": {},
   "source": [
    "(3) 向量归一化法\n",
    "\n",
    "对极大型指标，令\n",
    "$$\n",
    "a_{ij}^*=\\dfrac{a_{ij}}{\\sqrt{\\sum\\limits_{i=1}^na_{ij}^2}},\\quad i=1,2,\\cdots,n,\\ 1\\leq j\\leq m\n",
    "$$\n",
    "对极小型指标，令\n",
    "$$\n",
    "a_{ij}^*=1-\\dfrac{a_{ij}}{\\sqrt{\\sum\\limits_{i=1}^na_{ij}^2}},\\quad i=1,2,\\cdots,n,\\ 1\\leq j\\leq m\n",
    "$$\n",
    "(4) 极差变换法\n",
    "\n",
    "对于极大型指标，令\n",
    "$$\n",
    "a_{ij}^*=\\dfrac{a_{ij}-\\min\\limits_{1\\leq i\\leq n}a_{ij}}{\\max\\limits_{1\\leq i\\leq n}a_{ij}-\\min\\limits_{1\\leq i\\leq n}a_{ij}},\\quad 1\\leq i\\leq n,\\ 1\\leq j\\leq m\n",
    "$$\n",
    "对于极小型指标，令\n",
    "$$\n",
    "a_{ij}^*=\\dfrac{\\max\\limits_{1\\leq i\\leq n}a_{ij}-a_{ij}}{\\max\\limits_{1\\leq i\\leq n}a_{ij}-\\min\\limits_{1\\leq i\\leq n}a_{ij}},\\quad 1\\leq i\\leq n,\\ 1\\leq j\\leq m\n",
    "$$\n",
    "特点是经过极差变换后均有 $0\\leq a_{ij}^*\\leq 1$，且最优指标值 $a_{ij}=1$，最劣指标值 $a_{ij}=0$，缺点是变换前后的各指标不成比例\n",
    "\n",
    "(5) 功效系数法\n",
    "\n",
    "令\n",
    "$$\n",
    "a_{ij}^*=c+\\dfrac{a_{ij}-\\min\\limits_{1\\leq i\\leq n}a_{ij}}{\\max\\limits_{1\\leq i\\leq n}a_{ij}-\\min\\limits_{1\\leq i\\leq n}a_{ij}}\\times d,\\quad 1\\leq i\\leq n,\\ 1\\leq j\\leq m\n",
    "$$\n",
    "其中 $c$，$d$ 均为确定的常数，$c$ 表示“平移量”，即指标实际基础值，$d$ 表示“旋转量”，即放大或缩小的倍数。变换后 $a_{ij}^*\\in[c,c+d]$"
   ]
  },
  {
   "cell_type": "markdown",
   "metadata": {},
   "source": [
    "#### 3. 定性指标的定量化\n",
    "(1) 极大型定性指标量化方法\n",
    "\n",
    "| 指标等级 | 很低 | 低   | 一般 | 高   | 很高 |\n",
    "| -------- | ---- | ---- | ---- | ---- | ---- |\n",
    "| 量化值   | 0    | 0.3  | 0.5  | 0.7  | 1    |\n",
    "\n",
    "(2) 极小型定性指标量化方法\n",
    "\n",
    "| 指标等级 | 很高 | 高   | 一般 | 低   | 很低 |\n",
    "| -------- | ---- | ---- | ---- | ---- | ---- |\n",
    "| 量化值   | 0    | 0.3  | 0.5  | 0.7  | 1    |"
   ]
  },
  {
   "cell_type": "markdown",
   "metadata": {},
   "source": [
    "#### 4. 评价指标预处理示例"
   ]
  },
  {
   "cell_type": "code",
   "execution_count": 1,
   "metadata": {},
   "outputs": [
    {
     "name": "stdout",
     "output_type": "stream",
     "text": [
      "[[0.4671 0.3662 0.5056 0.4931 0.4811 0.7089]\n",
      " [0.5839 0.6591 0.455  0.401  0.2887 0.3544]\n",
      " [0.4204 0.4882 0.5308 0.5853 0.6736 0.4962]\n",
      " [0.5139 0.4394 0.5056 0.5392 0.4811 0.3544]]\n"
     ]
    }
   ],
   "source": [
    "import numpy as np\n",
    "\n",
    "data = np.loadtxt('../../14第14章  综合评价方法/data14_1_1.txt')\n",
    "nrm = np.linalg.norm(data, axis=0, ord=2)\n",
    "data_vn = data/nrm\n",
    "data_vn[:, 3] = 1 - data_vn[:, 3]\n",
    "print(np.round(data_vn, 4))     # 利用向量归一化进行标准化处理"
   ]
  },
  {
   "cell_type": "code",
   "execution_count": 2,
   "metadata": {},
   "outputs": [
    {
     "name": "stdout",
     "output_type": "stream",
     "text": [
      "[[0.8    0.5556 0.9524 0.8182 0.7143 1.    ]\n",
      " [1.     1.     0.8571 0.6923 0.4286 0.5   ]\n",
      " [0.72   0.7407 1.     1.     1.     0.7   ]\n",
      " [0.88   0.6667 0.9524 0.9    0.7143 0.5   ]]\n"
     ]
    }
   ],
   "source": [
    "x_min = data.min(axis=0)\n",
    "x_max = data.max(axis=0)\n",
    "\n",
    "data_sm = data/x_max\n",
    "data_sm[:, 3] = x_min[3]/data[:, 3]\n",
    "print(np.round(data_sm, 4))     # 利用比例变换法进行标准化处理"
   ]
  },
  {
   "cell_type": "code",
   "execution_count": 3,
   "metadata": {},
   "outputs": [
    {
     "name": "stdout",
     "output_type": "stream",
     "text": [
      "[[0.2857 0.     0.6667 0.5    0.5    1.    ]\n",
      " [1.     1.     0.     0.     0.     0.    ]\n",
      " [0.     0.4167 1.     1.     1.     0.4   ]\n",
      " [0.5714 0.25   0.6667 0.75   0.5    0.    ]]\n"
     ]
    }
   ],
   "source": [
    "data_rtm = (data - x_min) / data.ptp(axis=0)\n",
    "data_rtm[:, 3] = (x_max[3] - data[:, 3]) / data.ptp(axis=0)[3]\n",
    "print(np.round(data_rtm, 4))    # 利用极差变换法进行标准化处理"
   ]
  },
  {
   "cell_type": "markdown",
   "metadata": {},
   "source": [
    "#### *sklearn 实现*"
   ]
  },
  {
   "cell_type": "code",
   "execution_count": 4,
   "metadata": {},
   "outputs": [
    {
     "name": "stdout",
     "output_type": "stream",
     "text": [
      "[[0.2857 0.     0.6667 0.5    0.5    1.    ]\n",
      " [1.     1.     0.     0.     0.     0.    ]\n",
      " [0.     0.4167 1.     1.     1.     0.4   ]\n",
      " [0.5714 0.25   0.6667 0.75   0.5    0.    ]]\n"
     ]
    }
   ],
   "source": [
    "from sklearn import preprocessing\n",
    "scaler = preprocessing.MinMaxScaler(feature_range=(0, 1)).fit(data)\n",
    "data_scaled = scaler.transform(data)\n",
    "data_scaled[:, 3] = 1 - data_scaled[:, 3]   # 额外变换\n",
    "print(np.round(data_scaled, 4))      # 极差变换"
   ]
  },
  {
   "cell_type": "code",
   "execution_count": 5,
   "metadata": {},
   "outputs": [
    {
     "name": "stdout",
     "output_type": "stream",
     "text": [
      "[[2.0e+00 1.5e+03 2.0e+04 5.5e+06 5.0e-01 1.0e+00]\n",
      " [2.5e+00 2.7e+03 1.8e+04 6.5e+06 3.0e-01 5.0e-01]\n",
      " [1.8e+00 2.0e+03 2.1e+04 4.5e+06 7.0e-01 7.0e-01]\n",
      " [2.2e+00 1.8e+03 2.0e+04 5.0e+06 5.0e-01 5.0e-01]]\n"
     ]
    }
   ],
   "source": [
    "data_scaled[:, 3] = 1 - data_scaled[:, 3]   # 重做额外变换的逆\n",
    "data_ori = scaler.inverse_transform(data_scaled)    # 标准化数据转化为原始数据\n",
    "print(data_ori)     # data_ori == data"
   ]
  },
  {
   "cell_type": "markdown",
   "metadata": {},
   "source": [
    "> 更多 preprocessing 方法见 sklearn API guide，或\n",
    "> \n",
    ">  https://towardsdatascience.com/preprocessing-with-sklearn-a-complete-and-comprehensive-guide-670cb98fcfb9"
   ]
  }
 ],
 "metadata": {
  "kernelspec": {
   "display_name": "Python 3.9.12 ('mamo')",
   "language": "python",
   "name": "python3"
  },
  "language_info": {
   "codemirror_mode": {
    "name": "ipython",
    "version": 3
   },
   "file_extension": ".py",
   "mimetype": "text/x-python",
   "name": "python",
   "nbconvert_exporter": "python",
   "pygments_lexer": "ipython3",
   "version": "3.9.12"
  },
  "orig_nbformat": 4,
  "vscode": {
   "interpreter": {
    "hash": "bc4866e053c759d6a7b6c75a6ee7f30413af3cb1408278924a32b7c27fdde7d0"
   }
  }
 },
 "nbformat": 4,
 "nbformat_minor": 2
}
