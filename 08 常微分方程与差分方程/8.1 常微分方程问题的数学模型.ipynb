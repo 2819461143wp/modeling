{
 "cells": [
  {
   "cell_type": "markdown",
   "metadata": {},
   "source": [
    "---\n",
    "### 1. 物体冷却的数学模型\n",
    "牛顿冷却定律\n",
    "$$\n",
    "\\frac{{\\rm d}u}{{\\rm d}t}=-k\\left(u-T_0\\right)\n",
    "$$"
   ]
  },
  {
   "cell_type": "code",
   "execution_count": 1,
   "metadata": {},
   "outputs": [],
   "source": [
    "import numpy as np\n",
    "import sympy as sp\n",
    "sp.init_printing(use_latex=True)"
   ]
  },
  {
   "cell_type": "code",
   "execution_count": 2,
   "metadata": {},
   "outputs": [
    {
     "data": {
      "image/png": "[encoded data removed]",
      "text/latex": [
       "$\\displaystyle 20 + 80 e^{- \\frac{t \\log{\\left(2 \\right)}}{20}}$"
      ],
      "text/plain": [
       "         -t⋅log(2) \n",
       "         ──────────\n",
       "             20    \n",
       "20 + 80⋅ℯ          "
      ]
     },
     "execution_count": 2,
     "metadata": {},
     "output_type": "execute_result"
    }
   ],
   "source": [
    "t = sp.symbols('t')\n",
    "k = sp.symbols('k', real=True)\n",
    "u = sp.Function('u')\n",
    "eq = sp.Eq(u(t).diff(t), -k*(u(t)-20))   # 牛顿冷却定律\n",
    "utk = sp.dsolve(eq, u(t), ics={u(0):100}).rhs\n",
    "k_sol = sp.solve(utk.subs(t, 20)-60, k)[0].simplify()\n",
    "ut = utk.subs(k, k_sol)\n",
    "ut"
   ]
  },
  {
   "cell_type": "code",
   "execution_count": 3,
   "metadata": {},
   "outputs": [
    {
     "data": {
      "image/png": "[encoded data removed]",
      "text/latex": [
       "$\\displaystyle 60$"
      ],
      "text/plain": [
       "60"
      ]
     },
     "execution_count": 3,
     "metadata": {},
     "output_type": "execute_result"
    }
   ],
   "source": [
    "t1 = sp.solve(ut-30, t)[0]\n",
    "t1"
   ]
  },
  {
   "cell_type": "markdown",
   "metadata": {},
   "source": [
    "### 2. 目标跟踪问题"
   ]
  },
  {
   "cell_type": "code",
   "execution_count": 4,
   "metadata": {},
   "outputs": [
    {
     "data": {
      "image/png": "[encoded data removed]",
      "text/latex": [
       "$\\displaystyle - \\frac{5 x \\sqrt[5]{1 - x}}{12} - \\frac{5 \\left(1 - x\\right)^{\\frac{4}{5}}}{8} + \\frac{5 \\sqrt[5]{1 - x}}{12} + \\frac{5}{24}$"
      ],
      "text/plain": [
       "      5 _______            4/5     5 _______     \n",
       "  5⋅x⋅╲╱ 1 - x    5⋅(1 - x)      5⋅╲╱ 1 - x    5 \n",
       "- ───────────── - ──────────── + ─────────── + ──\n",
       "        12             8              12       24"
      ]
     },
     "execution_count": 4,
     "metadata": {},
     "output_type": "execute_result"
    }
   ],
   "source": [
    "v0 = sp.symbols('v0', nonneg=True)\n",
    "x = sp.symbols('x', nonneg=True)\n",
    "y = sp.Function('y')\n",
    "expo = sp.Rational(1, 5)\n",
    "eq = sp.Eq(sp.Derivative(y(x), x), ((1-x)**(-expo)-(1-x)**(expo))/2)\n",
    "yx = sp.dsolve(eq, y(x), ics={y(0):0}).simplify().rhs\n",
    "yx"
   ]
  },
  {
   "cell_type": "code",
   "execution_count": 5,
   "metadata": {},
   "outputs": [
    {
     "data": {
      "image/png": "[encoded data removed]",
      "text/latex": [
       "$\\displaystyle \\frac{5}{24}$"
      ],
      "text/plain": [
       "5/24"
      ]
     },
     "execution_count": 5,
     "metadata": {},
     "output_type": "execute_result"
    }
   ],
   "source": [
    "y0 = yx.subs(x, 1)\n",
    "y0"
   ]
  },
  {
   "cell_type": "code",
   "execution_count": 6,
   "metadata": {},
   "outputs": [
    {
     "data": {
      "image/png": "[encoded data removed]",
      "text/latex": [
       "$\\displaystyle \\frac{5}{24 v_{0}}$"
      ],
      "text/plain": [
       "  5  \n",
       "─────\n",
       "24⋅v₀"
      ]
     },
     "execution_count": 6,
     "metadata": {},
     "output_type": "execute_result"
    }
   ],
   "source": [
    "y0 / v0"
   ]
  }
 ],
 "metadata": {
  "kernelspec": {
   "display_name": "Python 3.9.12 ('mamo')",
   "language": "python",
   "name": "python3"
  },
  "language_info": {
   "codemirror_mode": {
    "name": "ipython",
    "version": 3
   },
   "file_extension": ".py",
   "mimetype": "text/x-python",
   "name": "python",
   "nbconvert_exporter": "python",
   "pygments_lexer": "ipython3",
   "version": "3.9.12"
  },
  "orig_nbformat": 4,
  "vscode": {
   "interpreter": {
    "hash": "bc4866e053c759d6a7b6c75a6ee7f30413af3cb1408278924a32b7c27fdde7d0"
   }
  }
 },
 "nbformat": 4,
 "nbformat_minor": 2
}
