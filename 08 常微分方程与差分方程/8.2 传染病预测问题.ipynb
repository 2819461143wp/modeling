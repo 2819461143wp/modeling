{
 "cells": [
  {
   "cell_type": "markdown",
   "metadata": {},
   "source": [
    "---\n",
    "### 1. 指数传播模型\n",
    "$$\n",
    "\\begin{cases}\n",
    "\\dfrac{{\\rm d}N(t)}{{\\rm d}t}=\\lambda N(t),\\quad t>0\\\\[2ex]\n",
    "N(0)=N_0\n",
    "\\end{cases}\n",
    "$$\n",
    "解得\n",
    "$$\n",
    "N(t)=N_0{\\rm e}^{\\lambda t}\n",
    "$$\n",
    "在传染病发病初期，没有任何预防控制措施的情况下，这一结果是正确的"
   ]
  },
  {
   "cell_type": "markdown",
   "metadata": {},
   "source": [
    "### 2. SI 模型\n",
    "人群分为易感染者 (susceptible) 和已感染者 (infective)，比例分别为 $s(t)$，$i(t)$\n",
    "$$\n",
    "\\begin{cases}\n",
    "\\dfrac{{\\rm d}i(t)}{{\\rm d}t}=\\lambda i(t)(1-i(t)),\\quad t>0\\\\[2ex]\n",
    "i(0)=i_0\n",
    "\\end{cases}\n",
    "$$\n",
    "解得\n",
    "$$\n",
    "i(t)=\\dfrac{1}{1+\\left({\\dfrac{1}{i_0} }-1 \\right){\\rm e}^{-\\lambda t}}\n",
    "$$\n",
    "称 $\\dfrac{{\\rm d}i}{{\\rm d}t}\\sim t$ 为传染病曲线，表示传染病人增加率与时间的关系\n",
    "\n",
    "当 $t\\to \\infty$ 时，$i(t)=1$，即最后所有人都染病，这是不符合实际情况的，因为假设中没有考虑病人得病后可以痊愈，以及康复后的再次染疫"
   ]
  },
  {
   "cell_type": "markdown",
   "metadata": {},
   "source": [
    "### 3. SIS 模型\n",
    "引入治愈和二次感染的概念，SI 模型可被修正为如下的 SIS 模型：\n",
    "$$\n",
    "\\begin{cases}\n",
    "\\dfrac{{\\rm d}i(t)}{{\\rm d}t}=\\lambda i(t)\\left(1-i(t)\\right)-\\mu i(t),\\quad i>0\\\\[2ex]\n",
    "i(0)=i_0\n",
    "\\end{cases}\n",
    "$$\n",
    "模型的解析解为\n",
    "$$\n",
    "i(t)=\n",
    "\\begin{cases}\n",
    "\\left[\\dfrac{\\lambda}{\\lambda-\\mu}+\\left(\\dfrac{1}{i_0}-\\dfrac{\\lambda}{\\lambda-\\mu}{\\rm e}^{-(\\lambda-\\mu)t}\\right)\\right]^{-1},\\quad &\\lambda\\neq\\mu\\\\[3ex]\n",
    "\\left(\\lambda t+\\dfrac{1}{i_0}\\right)^{-1},\\quad &\\lambda=\\mu\n",
    "\\end{cases}\n",
    "$$\n",
    "若令 $\\sigma=\\lambda /\\mu$，模型可改写为\n",
    "$$\n",
    "i(t)=\n",
    "\\begin{cases}\n",
    "\\left[\\dfrac{1}{1-\\dfrac{1}{\\sigma}}+\\left(\\dfrac{1}{i_0}-\\dfrac{1}{1-\\dfrac{1}{\\sigma}}{\\rm e}^{-\\lambda\\left(1-\\frac{1}{\\sigma}\\right)t}\\right)\\right]^{-1},\\quad &\\sigma\\neq1\\\\[5ex]\n",
    "\\left(\\lambda t+\\dfrac{1}{i_0}\\right)^{-1},\\quad &\\sigma=1\n",
    "\\end{cases}\n",
    "$$\n",
    "当 $t\\to\\infty$ 时，有\n",
    "$$\n",
    "i(\\infty)=\n",
    "\\begin{cases}\n",
    "1-\\dfrac{1}{\\sigma},\\quad &\\sigma>1\\\\\n",
    "0,\\quad &\\sigma\\leq1\n",
    "\\end{cases}\n",
    "$$\n",
    "然而，大多数传染病痊愈后均有很强的免疫力，病愈后的人既非已感染者也非易感染者，即这部分人已退出感染系统"
   ]
  },
  {
   "cell_type": "markdown",
   "metadata": {},
   "source": [
    "### 4. SIR 模型\n",
    "人群分为健康者、病人和痊愈后退出系统的移出者，比例分别为 $s(t)$，$i(t)$，$r(t)$，人口总数为 $N$，则 SIR 模型为\n",
    "$$\n",
    "\\begin{cases}\n",
    "\\dfrac{{\\rm d}i}{{\\rm d}t}=\\lambda s(t)i(t)-\\mu i(t),\\\\[2ex]\n",
    "\\dfrac{{\\rm d}s}{{\\rm d}t}=-\\lambda s(t)i(t),\\\\[2ex]\n",
    "\\dfrac{{\\rm d}r}{{\\rm d}t}=\\mu s(t),\\\\[2ex]\n",
    "i(0)=i_0,\\ s(0)=s_0,\\ r(0)=0\n",
    "\\end{cases}\n",
    "$$\n",
    "SIR 模型为一个典型的系统动力学模型，其特点是模型形式为关于多个相互关联的系统变量之间的常微分方程组。这类问题很难求得解析解，可以使用软件求数值解"
   ]
  }
 ],
 "metadata": {
  "kernelspec": {
   "display_name": "Python 3.9.12 ('mamo')",
   "language": "python",
   "name": "python3"
  },
  "language_info": {
   "name": "python",
   "version": "3.9.12"
  },
  "orig_nbformat": 4,
  "vscode": {
   "interpreter": {
    "hash": "bc4866e053c759d6a7b6c75a6ee7f30413af3cb1408278924a32b7c27fdde7d0"
   }
  }
 },
 "nbformat": 4,
 "nbformat_minor": 2
}
