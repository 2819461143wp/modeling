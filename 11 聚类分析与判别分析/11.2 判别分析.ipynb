{
 "cells": [
  {
   "cell_type": "markdown",
   "metadata": {},
   "source": [
    "---\n",
    "已知研究对象分成若干类型（或组别）并已取得各种类型的一批已知样品的观测数据，然后在此基础上根据某些准则建立判别式，并对未知类型的样品进行判别分类"
   ]
  },
  {
   "cell_type": "markdown",
   "metadata": {},
   "source": [
    "### 11.2.1 距离判别法\n",
    "分别计算各类的重心，对任意给定的一个样品，若它与第 $i$ 类的重心距离最近，就认为它来自第 $i$ 类\n",
    "> 因此，距离判别法又称为最近邻方法\n",
    "\n",
    "两个样本的情形：\n",
    "若协方差阵 $\\boldsymbol \\Sigma^{(1)}$ 与 $\\boldsymbol \\Sigma^{(2)}$ 不相等，则判别函数为\n",
    "$$\n",
    "\\begin{align*}\n",
    "W(\\boldsymbol X)&=d^2(\\boldsymbol X, G_1) - d^2(\\boldsymbol X, G_2)\\\\\n",
    "\\end{align*}\n",
    "$$\n",
    "其中距离为马氏距离[^1]。判别规则为\n",
    "$$\n",
    "\\begin{cases}\n",
    "\\boldsymbol X\\in G_1,\\quad &{\\text 若} W(\\boldsymbol X)<0\\\\\n",
    "\\boldsymbol X\\in G_2,\\quad &{\\text 若} W(\\boldsymbol X)>0\\\\\n",
    "{\\text 待判},\\quad &{\\text 若} W(\\boldsymbol X)=0 \n",
    "\\end{cases}\n",
    "$$\n",
    "多个样本的情形：\n",
    "若协方差阵 $\\boldsymbol \\Sigma^{(1)}$ 与 $\\boldsymbol \\Sigma^{(2)}$ 不相等，则判别函数为\n",
    "$$\n",
    "\\begin{align*}\n",
    "V_{ij}(\\boldsymbol X)&=d^2(\\boldsymbol X, G_i) - d^2(\\boldsymbol X, G_j),\\ i,j=1,2,\\cdots,k\\\\\n",
    "\\end{align*}\n",
    "$$\n",
    "其中距离为马氏距离[^1]。判别规则为\n",
    "$$\n",
    "\\begin{cases}\n",
    "\\boldsymbol X\\in G_i,\\quad &{\\text 若} V_{ij}(\\boldsymbol X)<0,\\forall j\\neq i\\\\\n",
    "{\\text 待判},\\quad &{\\text 若} W(\\boldsymbol X)=0 \n",
    "\\end{cases}\n",
    "$$\n",
    "> 1: 亦可为别的距离，如欧式距离\n",
    "#### 1."
   ]
  },
  {
   "cell_type": "code",
   "execution_count": 1,
   "metadata": {},
   "outputs": [],
   "source": [
    "import numpy as np\n",
    "import pandas as pd\n",
    "import sympy as sp\n",
    "sp.init_printing(use_latex=True)\n",
    "from numpy.linalg import inv\n",
    "from scipy.spatial.distance import mahalanobis"
   ]
  },
  {
   "cell_type": "code",
   "execution_count": 2,
   "metadata": {},
   "outputs": [
    {
     "data": {
      "image/png": "[encoded data removed]",
      "text/latex": [
       "$\\displaystyle \\left[ -0.518193551377919, \\  -2.03786435804227, \\  -1.51296471919892\\right]$"
      ],
      "text/plain": [
       "[-0.5181935513779194, -2.0378643580422704, -1.5129647191989193]"
      ]
     },
     "execution_count": 2,
     "metadata": {},
     "output_type": "execute_result"
    }
   ],
   "source": [
    "data = pd.read_csv('../../11第11章  聚类分析与判别分析模型/data11_9.txt', sep='\\t', header=None).values\n",
    "af_a, af_l = data[0], data[1]\n",
    "apf_a, apf_l = data[2, :-3], data[3, :-3]\n",
    "G1 = np.vstack([af_a, af_l])\n",
    "G2 = np.vstack([apf_a, apf_l])\n",
    "mu1 = G1.mean(axis=1)\n",
    "mu2 = G2.mean(axis=1)\n",
    "cov1 = np.cov(G1, ddof=1)\n",
    "cov2 = np.cov(G2, ddof=1)\n",
    "W = []\n",
    "\n",
    "x1, x2 = sp.symbols('x1, x2', nonneg=True)\n",
    "X = sp.Matrix([x1, x2])\n",
    "Mu1 = sp.Matrix([mu1]).T\n",
    "Mu2 = sp.Matrix([mu2]).T\n",
    "Cov1 = sp.Matrix(cov1)\n",
    "Cov2 = sp.Matrix(cov2)\n",
    "d1s = (X - Mu1).T @ Cov1.inv() @ (X - Mu1)\n",
    "d2s = (X - Mu2).T @ Cov2.inv() @ (X - Mu2)\n",
    "W = (d1s - d2s).expand()\n",
    "W_spf = sp.lambdify('x1, x2', W, 'numpy')\n",
    "Wf = lambda x: W_spf(x[0], x[1])[0,0]\n",
    "\n",
    "sample = np.array([[1.24, 1.80], [1.28, 1.84], [1.40, 2.04]])\n",
    "W_sample = []\n",
    "for s in sample:\n",
    "    W_sample.append(Wf(s))\n",
    "W_sample"
   ]
  },
  {
   "cell_type": "code",
   "execution_count": 3,
   "metadata": {},
   "outputs": [
    {
     "data": {
      "image/png": "[encoded data removed]",
      "text/latex": [
       "$\\displaystyle \\left[ -10.0187757538555, \\  -30.9593710136468, \\  -54.6761548402074, \\  -22.9451175212096, \\  -12.2381938128576, \\  -48.2255916048862, \\  -47.8313138896654, \\  -65.7244947782268, \\  -34.0015979687851, \\  8.74518835938301, \\  16.952094080106, \\  9.46230195796284, \\  12.5620539420441, \\  10.786486883296, \\  6.06893279805155\\right]$"
      ],
      "text/plain": [
       "[-10.018775753855493, -30.95937101364683, -54.676154840207374, -22.94511752120\n",
       "9568, -12.23819381285756, -48.225591604886176, -47.83131388966541, -65.7244947\n",
       "7822681, -34.00159796878506, 8.745188359383008, 16.95209408010595, 9.462301957\n",
       "962836, 12.562053942044088, 10.786486883295993, 6.068932798051549]"
      ]
     },
     "execution_count": 3,
     "metadata": {},
     "output_type": "execute_result"
    }
   ],
   "source": [
    "W_known_sample = []\n",
    "known_sample = np.vstack([np.hstack([af_a, apf_a]), np.hstack([af_l, apf_l])]).T\n",
    "for s in known_sample:\n",
    "    W_known_sample.append(Wf(s))\n",
    "W_known_sample"
   ]
  },
  {
   "cell_type": "markdown",
   "metadata": {},
   "source": [
    "对于已知的 $15$ 个样本点，上述判别模型的误判率为 $0$\n",
    "#### 2."
   ]
  },
  {
   "cell_type": "code",
   "execution_count": 4,
   "metadata": {},
   "outputs": [
    {
     "data": {
      "image/png": "[encoded data removed]",
      "text/latex": [
       "$\\displaystyle \\left( \\left[ -10.3873511176316, \\  -499.493169813309\\right], \\  \\left[ 1, \\  1\\right]\\right)$"
      ],
      "text/plain": [
       "([-10.387351117631624, -499.49316981330867], [1, 1])"
      ]
     },
     "execution_count": 4,
     "metadata": {},
     "output_type": "execute_result"
    }
   ],
   "source": [
    "df = pd.read_excel('../../11第11章  聚类分析与判别分析模型/data11_10.xlsx', header=None)\n",
    "df1 = df[df[5]==1]\n",
    "df2 = df[df[5]==2]\n",
    "G1 = df1.values[:, :-1].T.astype(float)     # 变量为行，样本为列\n",
    "G2 = df2.values[:, :-1].T.astype(float)\n",
    "Mu1 = sp.Matrix(G1.mean(axis=1))\n",
    "Mu2 = sp.Matrix(G2.mean(axis=1))\n",
    "Cov1 = sp.Matrix(np.cov(G1, ddof=1))\n",
    "Cov2 = sp.Matrix(np.cov(G2, ddof=1))\n",
    "\n",
    "x1, x2, x3, x4, x5 = sp.symbols('x1, x2, x3, x4, x5', nonneg=True)\n",
    "X = sp.Matrix([x1, x2, x3, x4, x5])\n",
    "d1s = (X - Mu1).T @ Cov1.inv() @ (X - Mu1)\n",
    "d2s = (X - Mu2).T @ Cov2.inv() @ (X - Mu2)\n",
    "W = (d1s - d2s).expand()\n",
    "W_spf = sp.lambdify('x1, x2, x3, x4, x5', W, 'numpy')\n",
    "Wf = lambda x: W_spf(x[0], x[1], x[2], x[3], x[4])[0,0]\n",
    "Classify_f = lambda x: 1 if Wf(x) < 0 else 2\n",
    "\n",
    "sample = df[df[5]==\"待判\"].values[:, :-1].astype(float) # 样本为行，变量为列\n",
    "W_sample = []\n",
    "classes = []\n",
    "for s in sample:\n",
    "    W_sample.append(Wf(s))\n",
    "    classes.append(Classify_f(s))\n",
    "W_sample, classes"
   ]
  },
  {
   "cell_type": "code",
   "execution_count": 5,
   "metadata": {},
   "outputs": [
    {
     "data": {
      "image/png": "[encoded data removed]",
      "text/latex": [
       "$\\displaystyle \\left[ 1, \\  1, \\  1, \\  1, \\  1, \\  1, \\  1, \\  1, \\  1, \\  1, \\  2, \\  2, \\  2, \\  2, \\  2, \\  2\\right]$"
      ],
      "text/plain": [
       "[1, 1, 1, 1, 1, 1, 1, 1, 1, 1, 2, 2, 2, 2, 2, 2]"
      ]
     },
     "execution_count": 5,
     "metadata": {},
     "output_type": "execute_result"
    }
   ],
   "source": [
    "classes_known = []\n",
    "known_sample = np.vstack([G1.T, G2.T])\n",
    "for s in known_sample:\n",
    "    classes_known.append(Classify_f(s))\n",
    "classes_known"
   ]
  },
  {
   "cell_type": "markdown",
   "metadata": {},
   "source": [
    "对于已知的 $16$ 个样本点，上述判别模型的误判率为 $0$"
   ]
  },
  {
   "cell_type": "markdown",
   "metadata": {},
   "source": [
    "### 11.2.2 Fisher 判别\n",
    "投影的思想\n",
    "\n",
    "判别函数\n",
    "$$\n",
    "\\begin{align*}\n",
    "W(\\boldsymbol X)=\\left(\\boldsymbol X-\\dfrac{1}{2}\\left(\\boldsymbol \\mu_1+\\boldsymbol\\mu_2\\right)\\right)^{\\rm T}\\boldsymbol\\Sigma^{-1}\\left(\\boldsymbol\\mu_1-\\boldsymbol\\mu_2\\right)\n",
    "\\end{align*}\n",
    "$$\n",
    "其中 $\\boldsymbol\\Sigma$ 为两类共同的协方差矩阵，判别规则\n",
    "$$\n",
    "\\begin{cases}\n",
    "\\boldsymbol X\\in G_1,\\quad &\\boldsymbol X\\geq0\\\\\n",
    "\\boldsymbol X\\in G_2,\\quad &\\boldsymbol X<0\n",
    "\\end{cases}\n",
    "$$"
   ]
  },
  {
   "cell_type": "code",
   "execution_count": 6,
   "metadata": {},
   "outputs": [
    {
     "data": {
      "text/plain": [
       "['B', 'A', 'A', 'B', 'B', 'A']"
      ]
     },
     "execution_count": 6,
     "metadata": {},
     "output_type": "execute_result"
    }
   ],
   "source": [
    "data = np.loadtxt('../../11第11章  聚类分析与判别分析模型/data11_11.txt')\n",
    "G1 = data[:5].T\n",
    "G2 = data[5:10].T\n",
    "sample = data[10:]\n",
    "Mu1 = sp.Matrix(G1.mean(axis=1))\n",
    "Mu2 = sp.Matrix(G2.mean(axis=1))\n",
    "Cov = sp.Matrix(np.cov(np.hstack([G1, G2]), ddof=1))\n",
    "\n",
    "x1, x2, x3, x4 = sp.symbols('x1, x2, x3, x4', real=True)\n",
    "X = sp.Matrix([x1, x2, x3, x4])\n",
    "W = (X - (Mu1 + Mu2)/2).T @ Cov.inv() @ (Mu1 - Mu2)\n",
    "Wf_raw = sp.lambdify('x1, x2, x3, x4', W, 'numpy')\n",
    "Wf = lambda x: Wf_raw(x[0], x[1], x[2], x[3])\n",
    "Classify_f = lambda x: 'A' if Wf(x) >= 0 else 'B'\n",
    "\n",
    "classes_pred = []\n",
    "for s in sample:\n",
    "    classes_pred.append(Classify_f(s))\n",
    "classes_pred"
   ]
  },
  {
   "cell_type": "code",
   "execution_count": 7,
   "metadata": {},
   "outputs": [
    {
     "data": {
      "text/plain": [
       "['A', 'A', 'A', 'A', 'A', 'B', 'B', 'B', 'B', 'B']"
      ]
     },
     "execution_count": 7,
     "metadata": {},
     "output_type": "execute_result"
    }
   ],
   "source": [
    "classes_known = []\n",
    "known_sample = np.vstack([G1.T, G2.T])\n",
    "for s in known_sample:\n",
    "    classes_known.append(Classify_f(s))\n",
    "classes_known"
   ]
  },
  {
   "cell_type": "markdown",
   "metadata": {},
   "source": [
    "误判率 $0\\%$"
   ]
  },
  {
   "cell_type": "markdown",
   "metadata": {},
   "source": [
    "### 11.2.3 判别标准的评价\n",
    "设属于 $G_1$ 而被误判为属于 $G_2$ 的个数为 $N_1$，属于 $G_2$ 而被误判为属于 $G_1$ 的个数为 $N_2$，两类总体的样本总数为 $N$，则误判率的估计为 $$\\hat P=\\dfrac{N_1+N_2}{N}$$\n",
    "#### 1. 回代误判率\n",
    "前面所使用的误判率的估计方法的就是回代法，直接回代判断，易于计算。但是 $\\hat P$ 是由建立判别函数的数据回代判别函数而得到的，因此其往往比真实误判率小\n",
    "#### 2. 交叉误判率\n",
    "每次删除一个样品，利用其余的样品建立判别函数对被删样品进行判别。对训练样品中的所有样品都做如上分析，以其误判的比例作为误判率\n",
    "> - 用交叉法估计误判率是较为合理的\n",
    "> \n",
    "> - 当训练的样品足够多时，可以留出一些已知类别的样品不参加建立判别函数而是作为检验集，并把误判的比率作为误判率的估计\n",
    "\n",
    "sklearn 库中 `sklearn.model_selection` 模块的 `cross_val_score` 函数可以计算交叉检验的精度\n",
    "```python\n",
    "cross_val_score(model, x0, y0, cv=k)\n",
    "```\n",
    "- `model`：所建立的模型\n",
    "- `x0`：已知样本点的数据\n",
    "- `y0`：样本的标号值\n",
    "- `cv`：把已知样本点分为 `k` 组，其中 `k-1` 组被训练用作数据集，剩下一组被用作检验集。这样一共可以对分类器 (model) 进行 $k$ 次训练，得到 $k$ 个训练结果\n",
    "- `RETURN`：返回值为每组评估数据分类的准确率"
   ]
  },
  {
   "cell_type": "code",
   "execution_count": 8,
   "metadata": {},
   "outputs": [
    {
     "name": "stdout",
     "output_type": "stream",
     "text": [
      "[0.875 0.75 ]\n"
     ]
    }
   ],
   "source": [
    "from sklearn.discriminant_analysis import LinearDiscriminantAnalysis as LDA\n",
    "from sklearn.model_selection import cross_val_score\n",
    "\n",
    "data = pd.read_excel('../../11第11章  聚类分析与判别分析模型/data11_10.xlsx', header=None).values\n",
    "x0 = data[:-2, :-1].astype(float)\n",
    "y0 = data[:-2, -1].astype(float)\n",
    "md = LDA()\n",
    "print(cross_val_score(md, x0, y0, cv=2))"
   ]
  }
 ],
 "metadata": {
  "kernelspec": {
   "display_name": "Python 3.9.12 ('mamo')",
   "language": "python",
   "name": "python3"
  },
  "language_info": {
   "codemirror_mode": {
    "name": "ipython",
    "version": 3
   },
   "file_extension": ".py",
   "mimetype": "text/x-python",
   "name": "python",
   "nbconvert_exporter": "python",
   "pygments_lexer": "ipython3",
   "version": "3.9.12"
  },
  "orig_nbformat": 4,
  "vscode": {
   "interpreter": {
    "hash": "bc4866e053c759d6a7b6c75a6ee7f30413af3cb1408278924a32b7c27fdde7d0"
   }
  }
 },
 "nbformat": 4,
 "nbformat_minor": 2
}
